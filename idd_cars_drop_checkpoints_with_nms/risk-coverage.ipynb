{
 "cells": [
  {
   "cell_type": "markdown",
   "metadata": {},
   "source": [
    "A central motivation for our approach is accurately identifying when the classifier ‘does not know’\n",
    "the correct class. This problem, typically explored in the context of discriminative classification, is\n",
    "known as selective classification [Geifman and El-Yaniv, 2017].\n",
    "\n",
    "Suppose we have a classifier f which takes as input an image and outputs a predicted class along\n",
    "with a measure of confidence in its prediction. For example, f could be a CNN with the maximum\n",
    "softmax output as its confidence. Selective classifiers abstain from prediction if the confidence score\n",
    "is below a certain threshold θ.\n",
    "\n",
    "The threshold parameter thus offers a balance between the proportion of the data classified and the\n",
    "accuracy on this portion of the dataset. \n",
    "\n",
    "The coverage of a selective classifier with threshold θ is\n",
    "defined as the proportion of test observations that are classified with confidence greater than θ [ElYaniv and Wiener, 2010]. \n",
    "\n",
    "The empirical risk given θ is then defined as the error rate on the subset\n",
    "of the test set that was classified with confidence greater than θ. \n",
    "\n",
    "A principled method for comparing\n",
    "selective classifiers is to examine their risk-coverage plots, as exemplified in Figure 1. Classifiers\n",
    "with meaningful measures of confidence should predict difficult or out of distribution images with\n",
    "lower confidence, and thus, as the coverage is decreased, the risk should shrink to zero.\n",
    "Recently, Geifman and El-Yaniv [2017] showed that for discriminatively-trained CNNs, thresholding the softmax output provides state-of-the-art selective classification, surpassing alternative confidence measures such as MC-Dropout [Gal and Ghahramani, 2016]."
   ]
  },
  {
   "cell_type": "code",
   "execution_count": 107,
   "metadata": {},
   "outputs": [
    {
     "data": {
      "image/png": "[encoded data removed]",
      "text/plain": [
       "<Figure size 432x288 with 1 Axes>"
      ]
     },
     "metadata": {
      "needs_background": "light"
     },
     "output_type": "display_data"
    }
   ],
   "source": [
    "%matplotlib inline\n",
    "import matplotlib.pyplot as plt\n",
    "import numpy as np\n",
    "\n",
    "def risk_coverage(scores, pred_labels, gt_labels):\n",
    "    scores_ = np.array(scores)\n",
    "    pred_labels_ = np.array(pred_labels)\n",
    "    gt_labels_ = np.array(gt_labels)\n",
    "     \n",
    "    coverage = []\n",
    "    risk = []\n",
    "    for theta in scores_:\n",
    "        mask = scores_ >= theta  # TODO: >= or > ? Doing >= so that risk is defined when coverage == 0\n",
    "        \n",
    "        coverage.append(len(scores_[mask]) / len(scores_))\n",
    "    \n",
    "        pl = pred_labels_[mask]\n",
    "        gl = gt_labels_[mask]\n",
    "        risk.append(sum(pl != gl) / len(gl))\n",
    "            \n",
    "    return coverage, risk\n",
    "  \n",
    "    \n",
    "def plot_risk_coverage(*args):\n",
    "    c, r = risk_coverage(*args)\n",
    "    \n",
    "    plt.figure()\n",
    "    plt.plot(c, r)\n",
    "    plt.ylabel(\"Risk\")\n",
    "    plt.xlabel(\"Coverage\")\n",
    "    plt.show()\n",
    "    \n",
    "plot_risk_coverage(scores, pred_labels, gt_labels)"
   ]
  },
  {
   "cell_type": "code",
   "execution_count": null,
   "metadata": {},
   "outputs": [],
   "source": []
  },
  {
   "cell_type": "code",
   "execution_count": 97,
   "metadata": {},
   "outputs": [],
   "source": [
    "scores = [x/10 for x in range(11)]\n",
    "gt_labels = [1 for x in range(11)]\n",
    "pred_labels = [1 for x in range(11)]\n",
    "pred_labels[1] = 0\n",
    "pred_labels[2] = 0"
   ]
  },
  {
   "cell_type": "code",
   "execution_count": 98,
   "metadata": {},
   "outputs": [
    {
     "data": {
      "text/plain": [
       "[0.0, 0.1, 0.2, 0.3, 0.4, 0.5, 0.6, 0.7, 0.8, 0.9, 1.0]"
      ]
     },
     "execution_count": 98,
     "metadata": {},
     "output_type": "execute_result"
    }
   ],
   "source": [
    "scores"
   ]
  },
  {
   "cell_type": "code",
   "execution_count": 99,
   "metadata": {},
   "outputs": [
    {
     "data": {
      "text/plain": [
       "[1, 1, 1, 1, 1, 1, 1, 1, 1, 1, 1]"
      ]
     },
     "execution_count": 99,
     "metadata": {},
     "output_type": "execute_result"
    }
   ],
   "source": [
    "gt_labels"
   ]
  },
  {
   "cell_type": "code",
   "execution_count": 100,
   "metadata": {},
   "outputs": [
    {
     "data": {
      "text/plain": [
       "[1, 0, 0, 1, 1, 1, 1, 1, 1, 1, 1]"
      ]
     },
     "execution_count": 100,
     "metadata": {},
     "output_type": "execute_result"
    }
   ],
   "source": [
    "pred_labels"
   ]
  }
 ],
 "metadata": {
  "kernelspec": {
   "display_name": "Python 3",
   "language": "python",
   "name": "python3"
  },
  "language_info": {
   "codemirror_mode": {
    "name": "ipython",
    "version": 3
   },
   "file_extension": ".py",
   "mimetype": "text/x-python",
   "name": "python",
   "nbconvert_exporter": "python",
   "pygments_lexer": "ipython3",
   "version": "3.7.5"
  }
 },
 "nbformat": 4,
 "nbformat_minor": 2
}
