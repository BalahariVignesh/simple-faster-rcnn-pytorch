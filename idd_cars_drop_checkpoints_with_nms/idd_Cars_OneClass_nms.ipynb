{
 "cells": [
  {
   "cell_type": "code",
   "execution_count": 2,
   "metadata": {},
   "outputs": [
    {
     "name": "stdout",
     "output_type": "stream",
     "text": [
      "/home/tadenoud/Git/simple-faster-rcnn-pytorch\n"
     ]
    }
   ],
   "source": [
    "%cd ../"
   ]
  },
  {
   "cell_type": "code",
   "execution_count": 3,
   "metadata": {},
   "outputs": [],
   "source": [
    "RANDOM_SEED = 42\n",
    "SUBSET_SAMPLE_DATA_PERCENTAGE = 0.1\n",
    "MIN_IOU_REQUIRED = 0.7  # The minimum IOU required to be a good detection (ie higher is more strict)\n",
    "NUM_PROPOSALS = 300\n",
    "CHECKPOINT_DIR = './idd_cars_drop_checkpoints_with_nms'\n",
    "\n",
    "%matplotlib inline\n",
    "\n",
    "%load_ext autoreload\n",
    "%autoreload 2\n",
    "\n",
    "import os\n",
    "import torch as t\n",
    "from model import FasterRCNNVGG16\n",
    "from trainer import FasterRCNNTrainer\n",
    "import numpy as np\n",
    "import pickle\n",
    "import h5py\n",
    "from tqdm.auto import tqdm, trange\n",
    "import matplotlib.pyplot as plt\n",
    "\n",
    "from data.util import  read_image\n",
    "from utils.vis_tool import vis_bbox\n",
    "from utils import array_tool as at\n",
    "from utils.config import opt\n",
    "from utils.idd_utils import get_annotations\n",
    "from model.utils.bbox_tools import bbox_iou\n",
    "\n",
    "from data.dataset import Dataset, TestDataset, KittiDataset\n",
    "from torch.utils.data import DataLoader\n",
    "from utils.vis_tool import vis_bbox, vis_image\n",
    "from utils.idd_utils import IndiaDrivingDataset\n",
    "from ood_metrics import auroc, plot_roc, calc_metrics\n",
    "from sklearn import svm\n",
    "import pickle\n",
    "import itertools\n",
    "import torch\n",
    "from model.faster_rcnn import nograd\n",
    "from data.dataset import preprocess\n",
    "from utils.mahalanobis import Mahal_Dist\n",
    "\n",
    "\n",
    "import warnings\n",
    "warnings.filterwarnings(action='once')\n",
    "\n",
    "np.random.seed(RANDOM_SEED)"
   ]
  },
  {
   "cell_type": "code",
   "execution_count": 4,
   "metadata": {},
   "outputs": [],
   "source": [
    "opt.voc_data_dir = \"/media/tadenoud/DATADisk/datasets/kitti_2d/VOC2012/\"\n",
    "idd_data_dir = \"/media/tadenoud/DATADisk/datasets/idd_detection/IDD_Detection/\"\n",
    "\n",
    "kitti_train_dataset = KittiDataset(opt, split='train')\n",
    "kitti_val_dataset = KittiDataset(opt, split='val')\n",
    "idd_val_dataset = IndiaDrivingDataset(idd_data_dir, split='val')\n",
    "\n",
    "# Full datasets samples\n",
    "kitti_train_samples = len(kitti_train_dataset)\n",
    "kitti_val_samples = len(kitti_val_dataset)\n",
    "idd_val_samples = len(idd_val_dataset)\n",
    "\n",
    "# Subset Datasets\n",
    "subset_kitti_train_samples = round(len(kitti_train_dataset) * SUBSET_SAMPLE_DATA_PERCENTAGE)\n",
    "subset_kitti_val_samples = round(len(kitti_val_dataset) * SUBSET_SAMPLE_DATA_PERCENTAGE)\n",
    "subset_idd_val_samples = round(len(idd_val_dataset) * SUBSET_SAMPLE_DATA_PERCENTAGE)\n",
    "\n",
    "SUBSET_KITTI_TRAIN_TO_USE = np.random.choice(subset_kitti_train_samples, subset_kitti_train_samples, replace=False)\n",
    "SUBSET_KITTI_VAL_TO_USE = np.random.choice(subset_kitti_val_samples, subset_kitti_val_samples, replace=False)\n",
    "SUBSET_IDD_VAL_TO_USE = np.random.choice(subset_idd_val_samples, subset_idd_val_samples, replace=False)\n",
    "\n",
    "# Subset of full datasets\n",
    "subset_kitti_train_dataset = torch.utils.data.Subset(kitti_train_dataset, SUBSET_KITTI_TRAIN_TO_USE)\n",
    "subset_kitti_val_dataset = torch.utils.data.Subset(kitti_val_dataset, SUBSET_KITTI_VAL_TO_USE)\n",
    "subset_idd_val_dataset = torch.utils.data.Subset(idd_val_dataset, SUBSET_IDD_VAL_TO_USE)"
   ]
  },
  {
   "cell_type": "code",
   "execution_count": 5,
   "metadata": {},
   "outputs": [],
   "source": [
    "faster_rcnn = FasterRCNNVGG16()\n",
    "trainer = FasterRCNNTrainer(faster_rcnn, visdom=False).cuda()"
   ]
  },
  {
   "cell_type": "markdown",
   "metadata": {},
   "source": [
    "# Load model trained with caffe pretrained model"
   ]
  },
  {
   "cell_type": "code",
   "execution_count": 6,
   "metadata": {},
   "outputs": [
    {
     "name": "stdout",
     "output_type": "stream",
     "text": [
      "fasterrcnn_11060017_0.7454640828611436  fasterrcnn_11061638_0.7497252402944325\r\n",
      "fasterrcnn_11061427_0.7282598515502949  fasterrcnn_11061705_0.7526206908232453\r\n",
      "fasterrcnn_11061454_0.733123502219126   fasterrcnn_11062316_0.7550167879591324\r\n",
      "fasterrcnn_11061507_0.7394557961451338\r\n"
     ]
    }
   ],
   "source": [
    "%ls ./checkpoints/cars_drop/"
   ]
  },
  {
   "cell_type": "code",
   "execution_count": 7,
   "metadata": {
    "scrolled": false
   },
   "outputs": [
    {
     "data": {
      "text/plain": [
       "FasterRCNNVGG16(\n",
       "  (extractor): Sequential(\n",
       "    (0): Conv2d(3, 64, kernel_size=(3, 3), stride=(1, 1), padding=(1, 1))\n",
       "    (1): ReLU(inplace=True)\n",
       "    (2): Conv2d(64, 64, kernel_size=(3, 3), stride=(1, 1), padding=(1, 1))\n",
       "    (3): ReLU(inplace=True)\n",
       "    (4): MaxPool2d(kernel_size=2, stride=2, padding=0, dilation=1, ceil_mode=False)\n",
       "    (5): Conv2d(64, 128, kernel_size=(3, 3), stride=(1, 1), padding=(1, 1))\n",
       "    (6): ReLU(inplace=True)\n",
       "    (7): Conv2d(128, 128, kernel_size=(3, 3), stride=(1, 1), padding=(1, 1))\n",
       "    (8): ReLU(inplace=True)\n",
       "    (9): MaxPool2d(kernel_size=2, stride=2, padding=0, dilation=1, ceil_mode=False)\n",
       "    (10): Conv2d(128, 256, kernel_size=(3, 3), stride=(1, 1), padding=(1, 1))\n",
       "    (11): ReLU(inplace=True)\n",
       "    (12): Conv2d(256, 256, kernel_size=(3, 3), stride=(1, 1), padding=(1, 1))\n",
       "    (13): ReLU(inplace=True)\n",
       "    (14): Conv2d(256, 256, kernel_size=(3, 3), stride=(1, 1), padding=(1, 1))\n",
       "    (15): ReLU(inplace=True)\n",
       "    (16): MaxPool2d(kernel_size=2, stride=2, padding=0, dilation=1, ceil_mode=False)\n",
       "    (17): Conv2d(256, 512, kernel_size=(3, 3), stride=(1, 1), padding=(1, 1))\n",
       "    (18): ReLU(inplace=True)\n",
       "    (19): Conv2d(512, 512, kernel_size=(3, 3), stride=(1, 1), padding=(1, 1))\n",
       "    (20): ReLU(inplace=True)\n",
       "    (21): Conv2d(512, 512, kernel_size=(3, 3), stride=(1, 1), padding=(1, 1))\n",
       "    (22): ReLU(inplace=True)\n",
       "    (23): MaxPool2d(kernel_size=2, stride=2, padding=0, dilation=1, ceil_mode=False)\n",
       "    (24): Conv2d(512, 512, kernel_size=(3, 3), stride=(1, 1), padding=(1, 1))\n",
       "    (25): ReLU(inplace=True)\n",
       "    (26): Conv2d(512, 512, kernel_size=(3, 3), stride=(1, 1), padding=(1, 1))\n",
       "    (27): ReLU(inplace=True)\n",
       "    (28): Conv2d(512, 512, kernel_size=(3, 3), stride=(1, 1), padding=(1, 1))\n",
       "    (29): ReLU(inplace=True)\n",
       "  )\n",
       "  (rpn): RegionProposalNetwork(\n",
       "    (conv1): Conv2d(512, 512, kernel_size=(3, 3), stride=(1, 1), padding=(1, 1))\n",
       "    (score): Conv2d(512, 18, kernel_size=(1, 1), stride=(1, 1))\n",
       "    (loc): Conv2d(512, 36, kernel_size=(1, 1), stride=(1, 1))\n",
       "  )\n",
       "  (head): VGG16RoIHead(\n",
       "    (classifier): Sequential(\n",
       "      (0): Linear(in_features=25088, out_features=4096, bias=True)\n",
       "      (1): ReLU(inplace=True)\n",
       "      (2): Dropout(p=0.5, inplace=False)\n",
       "      (3): Linear(in_features=4096, out_features=4096, bias=True)\n",
       "      (4): ReLU(inplace=True)\n",
       "      (5): Dropout(p=0.5, inplace=False)\n",
       "    )\n",
       "    (cls_loc): Linear(in_features=4096, out_features=8, bias=True)\n",
       "    (score): Linear(in_features=4096, out_features=2, bias=True)\n",
       "    (roi): RoIPooling2D()\n",
       "  )\n",
       ")"
      ]
     },
     "execution_count": 7,
     "metadata": {},
     "output_type": "execute_result"
    }
   ],
   "source": [
    "save_dir = './checkpoints/cars_drop'\n",
    "trainer.load(os.path.join(save_dir, 'fasterrcnn_11062316_0.7550167879591324'))\n",
    "trainer.faster_rcnn.eval()"
   ]
  },
  {
   "cell_type": "markdown",
   "metadata": {},
   "source": [
    "# Extract classifier features"
   ]
  },
  {
   "cell_type": "code",
   "execution_count": 8,
   "metadata": {},
   "outputs": [],
   "source": [
    "string_dt = h5py.string_dtype(encoding='utf-8')\n",
    "feature_layer_sizes = (512, 4096, 4096)"
   ]
  },
  {
   "cell_type": "code",
   "execution_count": 9,
   "metadata": {},
   "outputs": [],
   "source": [
    "def extract_kitti_features(dataset, model, save_file, perturbation=0, temperature=1):\n",
    "    \"\"\"\n",
    "    Given a Kitti dataset, generate a file of all model outputs including upper layer classifier features\n",
    "    and save them to HD5F save_file for future use.\n",
    "    \"\"\"\n",
    "    dataloader = DataLoader(dataset,\n",
    "                            batch_size=1,\n",
    "                            shuffle=False,\n",
    "                            pin_memory=True,\n",
    "                            num_workers=opt.num_workers)\n",
    "    \n",
    "    with h5py.File(save_file, \"w\") as f:\n",
    "        for i, (imgs, sizes, gt_bboxes, gt_labels, _) in tqdm(enumerate(dataloader), total=len(dataset)):\n",
    "            d = f.create_group(str(i))\n",
    "\n",
    "            sizes = [sizes[0][0].item(), sizes[1][0].item()]\n",
    "            gt_bboxes = gt_bboxes.squeeze(dim=0)\n",
    "            gt_labels = gt_labels.squeeze(dim=0)\n",
    "\n",
    "            # Get predictions and all classifier features\n",
    "            res = model.predict_with_features(imgs, visualize=True, perturbation=perturbation, temperature=temperature)\n",
    "            pred_bboxes, pred_labels, pred_scores, pred_features = res\n",
    "            pred_bboxes, pred_labels, pred_scores, pred_features = \\\n",
    "                    pred_bboxes[0], pred_labels[0], pred_scores[0], pred_features[0]\n",
    "\n",
    "            ious = bbox_iou(pred_bboxes, np.concatenate((gt_bboxes, np.zeros((1,4)))))\n",
    "            max_ious = np.nan_to_num(ious.max(axis=1))\n",
    "            \n",
    "            max_aligned_gt_label = ious.argmax(axis=1)\n",
    "            true_label_per_pred = np.array([gt_labels[j] for j in max_aligned_gt_label])\n",
    "            pred_label_correct = true_label_per_pred == pred_labels\n",
    "\n",
    "            # Write true_class, pred_class, pred_bboxes, pred_scores, num_detections, image_path, label_path\n",
    "            #       to file\n",
    "            d.create_dataset(\"pred_boxes\", data=pred_bboxes)\n",
    "            d.create_dataset(\"pred_scores\", data=pred_scores)\n",
    "            d.create_dataset(\"pred_labels\", data=pred_labels)\n",
    "            d.create_dataset(\"pred_num_detections\", data=len(pred_bboxes))\n",
    "            d.create_dataset(\"pred_max_ious\", data=max_ious) \n",
    "            d.create_dataset(\"pred_label_correct\", data=pred_label_correct) \n",
    "\n",
    "            for j, feats in enumerate(pred_features):\n",
    "                d.create_dataset(\"pred_features_\" + str(j), data=feats)\n",
    "                \n",
    "                \n",
    "def extract_idd_features(dataset, model, save_file, perturbation=0, temperature=1):\n",
    "    \"\"\"\n",
    "    Given a Kitti dataset, generate a file of all model outputs including upper layer classifier features\n",
    "    and save them to HD5F save_file for future use.\n",
    "    \"\"\"\n",
    "    dataloader = DataLoader(dataset,\n",
    "                            batch_size=1,\n",
    "                            shuffle=False,\n",
    "                            pin_memory=True,\n",
    "                            num_workers=opt.num_workers)\n",
    "\n",
    "    with h5py.File(save_file, \"w\") as f:\n",
    "        for i, (imgs, gt_bboxes, gt_labels) in tqdm(enumerate(dataloader), total=len(dataset)):\n",
    "            d = f.create_group(str(i))\n",
    "            \n",
    "            gt_bboxes = gt_bboxes.squeeze(dim=0)\n",
    "            gt_labels = gt_labels.squeeze(dim=0)\n",
    "\n",
    "            # Get predictions and all classifier features\n",
    "            res = model.predict_with_features(imgs, visualize=True, perturbation=perturbation, temperature=temperature)\n",
    "            pred_bboxes, pred_labels, pred_scores, pred_features = res\n",
    "            pred_bboxes, pred_labels, pred_scores, pred_features = \\\n",
    "                    pred_bboxes[0], pred_labels[0], pred_scores[0], pred_features[0]\n",
    "\n",
    "            ious = bbox_iou(pred_bboxes, np.concatenate((gt_bboxes, np.zeros((1,4)))))\n",
    "            max_ious = np.nan_to_num(ious.max(axis=1))\n",
    "\n",
    "            max_aligned_gt_label = ious.argmax(axis=1)\n",
    "            true_label_per_pred = np.array([gt_labels[j] for j in max_aligned_gt_label])\n",
    "            pred_label_correct = true_label_per_pred == pred_labels\n",
    "\n",
    "            # Write true_class, pred_class, pred_bboxes, pred_scores, num_detections, image_path, label_path\n",
    "            #       to file\n",
    "            d.create_dataset(\"pred_boxes\", data=pred_bboxes)\n",
    "            d.create_dataset(\"pred_scores\", data=pred_scores)\n",
    "            d.create_dataset(\"pred_labels\", data=pred_labels)\n",
    "            d.create_dataset(\"pred_num_detections\", data=len(pred_bboxes))\n",
    "            d.create_dataset(\"pred_max_ious\", data=max_ious) \n",
    "            d.create_dataset(\"pred_label_correct\", data=pred_label_correct) \n",
    "\n",
    "            for j, feats in enumerate(pred_features):\n",
    "                d.create_dataset(\"pred_features_\" + str(j), data=feats)\n",
    "                \n",
    "\n",
    "def show_max_ious_dist(data_file):\n",
    "    \"\"\"\n",
    "    Given a data file generated by one of the feature_extractor functions, show the distribution \n",
    "    of IOUs with the gt data.\n",
    "    \"\"\"\n",
    "    total_false_positives = 0\n",
    "    all_max_ious = np.array([])\n",
    "\n",
    "    with h5py.File(data_file, \"r\") as f:\n",
    "        dset_length = len(f)\n",
    "        for i in range(dset_length):\n",
    "            max_ious = f[str(i)][\"pred_max_ious\"][()]\n",
    "\n",
    "            false_positives = (max_ious < MIN_IOU_REQUIRED)\n",
    "            total_false_positives += sum(false_positives)\n",
    "\n",
    "            all_max_ious = np.concatenate((all_max_ious, max_ious), axis=0)\n",
    "\n",
    "    plt.hist(all_max_ious, bins=50)\n",
    "    plt.ylabel(\"Count\")\n",
    "    plt.xlabel(\"Max IOUS\")\n",
    "    plt.show()\n",
    "\n",
    "    total_detections = len(all_max_ious)\n",
    "    print(\"Total false positives (< %.2f) IoU: %d\" % (MIN_IOU_REQUIRED, total_false_positives))\n",
    "    print(\"Total detections: %d\" % (total_detections))\n",
    "    print(\"Total false positives (< %.2f) IoU: %f%%\" % (MIN_IOU_REQUIRED, float(total_false_positives)/float(total_detections)*100))\n",
    "    \n",
    "\n",
    "def read_features(save_file, feature_idx, start=0, end=None):\n",
    "    \"\"\"\n",
    "    Read the features from the extracted HD5F feature file and return them as a numpy array\n",
    "    along with a label array y describing if the features correspond to a high IOU gt box with\n",
    "    the same classification as the prediction.\n",
    "    \"\"\"\n",
    "    with h5py.File(save_file, \"r\") as f:       \n",
    "        X = None\n",
    "        y = np.empty((0,))\n",
    "        \n",
    "        if end is None or end > len(f):\n",
    "            end = len(f)\n",
    "        \n",
    "        for i in trange(start, end):\n",
    "            d = f[str(i)]\n",
    "            features = d[\"pred_features_%d\" % feature_idx][()]\n",
    "            \n",
    "            if X is None:\n",
    "                # Initialize X array to correct size\n",
    "                X = np.copy(features)\n",
    "            else:\n",
    "                X = np.concatenate((X, features), axis=0)\n",
    "            \n",
    "            label_is_car = d[\"pred_labels\"][()] == 0\n",
    "            iou_is_high_enough = d[\"pred_max_ious\"][()] >= MIN_IOU_REQUIRED\n",
    "            classification_is_correct = d[\"pred_label_correct\"][()] == 1\n",
    "\n",
    "            # Determine if each bbox is a high accuracy, correct class case\n",
    "            label = label_is_car & iou_is_high_enough & classification_is_correct\n",
    "            y = np.concatenate((y, label.astype(np.int)), axis=0)\n",
    "            \n",
    "    return X, y\n",
    "\n",
    "\n",
    "def read_scores(save_file, start=0, end=None):\n",
    "    \"\"\"\n",
    "    Read the max_softmax scores from the extracted HD5F feature file and return them as a numpy array\n",
    "    along with a label array y describing if the features correspond to a high IOU gt box with\n",
    "    the same classification as the prediction.\n",
    "    \"\"\"\n",
    "    with h5py.File(save_file, \"r\") as f:       \n",
    "        X = None\n",
    "        y = np.empty((0,))\n",
    "        \n",
    "        if end is None or end > len(f):\n",
    "            end = len(f)\n",
    "            \n",
    "        for i in trange(start, end):\n",
    "            d = f[str(i)]\n",
    "            features = d[\"pred_scores\"][()]\n",
    "            \n",
    "            if X is None:\n",
    "                # Initialize X array to correct size\n",
    "                X = np.copy(features)\n",
    "            else:\n",
    "                X = np.concatenate((X, features), axis=0)\n",
    "            \n",
    "            label_is_car = d[\"pred_labels\"][()] == 0\n",
    "            iou_is_high_enough = d[\"pred_max_ious\"][()] >= MIN_IOU_REQUIRED\n",
    "            classification_is_correct = d[\"pred_label_correct\"][()] == 1\n",
    "\n",
    "            # Determine if each bbox is a high accuracy, correct class case\n",
    "            label = label_is_car & iou_is_high_enough & classification_is_correct\n",
    "            y = np.concatenate((y, label.astype(np.int)), axis=0)\n",
    "            \n",
    "    return X, y"
   ]
  },
  {
   "cell_type": "markdown",
   "metadata": {},
   "source": [
    "# Extract classifier features"
   ]
  },
  {
   "cell_type": "markdown",
   "metadata": {},
   "source": [
    "#### Kitti Train"
   ]
  },
  {
   "cell_type": "code",
   "execution_count": 9,
   "metadata": {},
   "outputs": [
    {
     "data": {
      "application/vnd.jupyter.widget-view+json": {
       "model_id": "0856147ebbab49f0b2c54ecfbf527309",
       "version_major": 2,
       "version_minor": 0
      },
      "text/plain": [
       "HBox(children=(IntProgress(value=0, max=3260), HTML(value='')))"
      ]
     },
     "metadata": {},
     "output_type": "display_data"
    },
    {
     "name": "stderr",
     "output_type": "stream",
     "text": [
      "/opt/conda/conda-bld/pytorch_1565272271120/work/torch/csrc/autograd/python_function.cpp:638: UserWarning: Legacy autograd function with non-static forward method is deprecated and will be removed in 1.3. Please use new-style autograd function with static forward method. (Example: https://pytorch.org/docs/stable/autograd.html#torch.autograd.Function)\n"
     ]
    },
    {
     "name": "stdout",
     "output_type": "stream",
     "text": [
      "\n"
     ]
    },
    {
     "data": {
      "image/png": "[encoded data removed]",
      "text/plain": [
       "<Figure size 432x288 with 1 Axes>"
      ]
     },
     "metadata": {
      "needs_background": "light"
     },
     "output_type": "display_data"
    },
    {
     "name": "stdout",
     "output_type": "stream",
     "text": [
      "Total false positives (< 0.70) IoU: 30097\n",
      "Total detections: 100161\n",
      "Total false positives (< 0.70) IoU: 30.048622%\n"
     ]
    }
   ],
   "source": [
    "save_path = os.path.join(CHECKPOINT_DIR, \"kitti_cars_detections_train.hdf5\")\n",
    "\n",
    "if False:\n",
    "    extract_kitti_features(kitti_train_dataset, trainer.faster_rcnn, save_path)\n",
    "\n",
    "show_max_ious_dist(save_path)"
   ]
  },
  {
   "cell_type": "markdown",
   "metadata": {},
   "source": [
    "#### Kitti Val"
   ]
  },
  {
   "cell_type": "code",
   "execution_count": 10,
   "metadata": {
    "scrolled": false
   },
   "outputs": [
    {
     "data": {
      "application/vnd.jupyter.widget-view+json": {
       "model_id": "64496872035a43b0bf81a6b340cde1af",
       "version_major": 2,
       "version_minor": 0
      },
      "text/plain": [
       "HBox(children=(IntProgress(value=0, max=3424), HTML(value='')))"
      ]
     },
     "metadata": {},
     "output_type": "display_data"
    },
    {
     "name": "stdout",
     "output_type": "stream",
     "text": [
      "\n"
     ]
    },
    {
     "data": {
      "image/png": "[encoded data removed]",
      "text/plain": [
       "<Figure size 432x288 with 1 Axes>"
      ]
     },
     "metadata": {
      "needs_background": "light"
     },
     "output_type": "display_data"
    },
    {
     "name": "stdout",
     "output_type": "stream",
     "text": [
      "Total false positives (< 0.70) IoU: 44992\n",
      "Total detections: 109653\n",
      "Total false positives (< 0.70) IoU: 41.031253%\n"
     ]
    }
   ],
   "source": [
    "save_path = os.path.join(CHECKPOINT_DIR, \"kitti_cars_detections_val.hdf5\")\n",
    "\n",
    "if False:\n",
    "    extract_kitti_features(kitti_val_dataset, trainer.faster_rcnn, save_path)\n",
    "\n",
    "show_max_ious_dist(save_path)"
   ]
  },
  {
   "cell_type": "markdown",
   "metadata": {},
   "source": [
    "#### IDD Val"
   ]
  },
  {
   "cell_type": "code",
   "execution_count": 79,
   "metadata": {
    "scrolled": false
   },
   "outputs": [
    {
     "data": {
      "application/vnd.jupyter.widget-view+json": {
       "model_id": "c18cc1ba99104c43be55939f8e593c25",
       "version_major": 2,
       "version_minor": 0
      },
      "text/plain": [
       "HBox(children=(IntProgress(value=0, max=10225), HTML(value='')))"
      ]
     },
     "metadata": {},
     "output_type": "display_data"
    },
    {
     "name": "stderr",
     "output_type": "stream",
     "text": [
      "/opt/conda/conda-bld/pytorch_1565272271120/work/torch/csrc/autograd/python_function.cpp:638: UserWarning: Legacy autograd function with non-static forward method is deprecated and will be removed in 1.3. Please use new-style autograd function with static forward method. (Example: https://pytorch.org/docs/stable/autograd.html#torch.autograd.Function)\n"
     ]
    },
    {
     "name": "stdout",
     "output_type": "stream",
     "text": [
      "\n"
     ]
    },
    {
     "data": {
      "image/png": "[encoded data removed]",
      "text/plain": [
       "<Figure size 432x288 with 1 Axes>"
      ]
     },
     "metadata": {
      "needs_background": "light"
     },
     "output_type": "display_data"
    },
    {
     "name": "stdout",
     "output_type": "stream",
     "text": [
      "Total false positives (< 0.70) IoU: 26910\n",
      "Total detections: 47814\n",
      "Total false positives (< 0.70) IoU: 56.280587%\n"
     ]
    }
   ],
   "source": [
    "save_path = os.path.join(CHECKPOINT_DIR, \"idd_cars_detections_val.hdf5\")\n",
    "\n",
    "if False:\n",
    "    extract_idd_features(idd_val_dataset, trainer.faster_rcnn, save_path)\n",
    "\n",
    "show_max_ious_dist(save_path)"
   ]
  },
  {
   "cell_type": "markdown",
   "metadata": {},
   "source": [
    "# Max Softmax"
   ]
  },
  {
   "cell_type": "markdown",
   "metadata": {},
   "source": [
    "#### Kitti train"
   ]
  },
  {
   "cell_type": "code",
   "execution_count": 11,
   "metadata": {
    "scrolled": false
   },
   "outputs": [
    {
     "data": {
      "application/vnd.jupyter.widget-view+json": {
       "model_id": "3dca589d364341d789bf119725b9ecf1",
       "version_major": 2,
       "version_minor": 0
      },
      "text/plain": [
       "HBox(children=(IntProgress(value=0, max=3260), HTML(value='')))"
      ]
     },
     "metadata": {},
     "output_type": "display_data"
    },
    {
     "name": "stdout",
     "output_type": "stream",
     "text": [
      "\n"
     ]
    },
    {
     "data": {
      "image/png": "[encoded data removed]",
      "text/plain": [
       "<Figure size 432x288 with 1 Axes>"
      ]
     },
     "metadata": {
      "needs_background": "light"
     },
     "output_type": "display_data"
    },
    {
     "name": "stdout",
     "output_type": "stream",
     "text": [
      "{'fpr_at_95_tpr': 0.6959027896811792, 'detection_error': 0.37288797038543037, 'auroc': 0.7155497132415031, 'aupr_in': 0.46662854772554396, 'aupr_out': 0.8635484557437986}\n"
     ]
    }
   ],
   "source": [
    "save_path = os.path.join(CHECKPOINT_DIR, \"kitti_cars_detections_train.hdf5\")\n",
    "kitti_train_X, kitti_train_y = read_scores(save_path)\n",
    "\n",
    "kitti_train_novelty_scores = -kitti_train_X\n",
    "plot_roc(kitti_train_novelty_scores, 1 - kitti_train_y, title=\"Max Softmax Kitti Train\")\n",
    "print(calc_metrics(kitti_train_novelty_scores, 1 - kitti_train_y))"
   ]
  },
  {
   "cell_type": "markdown",
   "metadata": {},
   "source": [
    "#### Kitti val"
   ]
  },
  {
   "cell_type": "code",
   "execution_count": 12,
   "metadata": {
    "scrolled": false
   },
   "outputs": [
    {
     "data": {
      "application/vnd.jupyter.widget-view+json": {
       "model_id": "373d7d656fd74e42a8fbb9eb1267e8b5",
       "version_major": 2,
       "version_minor": 0
      },
      "text/plain": [
       "HBox(children=(IntProgress(value=0, max=3424), HTML(value='')))"
      ]
     },
     "metadata": {},
     "output_type": "display_data"
    },
    {
     "name": "stdout",
     "output_type": "stream",
     "text": [
      "\n"
     ]
    },
    {
     "data": {
      "image/png": "[encoded data removed]",
      "text/plain": [
       "<Figure size 432x288 with 1 Axes>"
      ]
     },
     "metadata": {
      "needs_background": "light"
     },
     "output_type": "display_data"
    },
    {
     "name": "stdout",
     "output_type": "stream",
     "text": [
      "{'fpr_at_95_tpr': 0.7218035747649001, 'detection_error': 0.3858990355937874, 'auroc': 0.7048852459398478, 'aupr_in': 0.5775993174825218, 'aupr_out': 0.7873338031605592}\n"
     ]
    }
   ],
   "source": [
    "save_path = os.path.join(CHECKPOINT_DIR, \"kitti_cars_detections_val.hdf5\")\n",
    "kitti_val_X, kitti_val_y = read_scores(save_path)\n",
    "\n",
    "kitti_val_novelty_scores = -kitti_val_X\n",
    "plot_roc(kitti_val_novelty_scores, 1 - kitti_val_y, title=\"Max Softmax Kitti Val\")\n",
    "print(calc_metrics(kitti_val_novelty_scores, 1 - kitti_val_y))"
   ]
  },
  {
   "cell_type": "markdown",
   "metadata": {},
   "source": [
    "#### IDD val"
   ]
  },
  {
   "cell_type": "code",
   "execution_count": 80,
   "metadata": {
    "scrolled": false
   },
   "outputs": [
    {
     "data": {
      "application/vnd.jupyter.widget-view+json": {
       "model_id": "abb4f72d6e604663b22f93981796cb93",
       "version_major": 2,
       "version_minor": 0
      },
      "text/plain": [
       "HBox(children=(IntProgress(value=0, max=10225), HTML(value='')))"
      ]
     },
     "metadata": {},
     "output_type": "display_data"
    },
    {
     "name": "stdout",
     "output_type": "stream",
     "text": [
      "\n"
     ]
    },
    {
     "data": {
      "image/png": "[encoded data removed]",
      "text/plain": [
       "<Figure size 432x288 with 1 Axes>"
      ]
     },
     "metadata": {
      "needs_background": "light"
     },
     "output_type": "display_data"
    },
    {
     "name": "stdout",
     "output_type": "stream",
     "text": [
      "{'fpr_at_95_tpr': 0.721027098544617, 'detection_error': 0.38549517840997616, 'auroc': 0.7208639591329257, 'aupr_in': 0.7362681725421387, 'aupr_out': 0.6900093004139481}\n"
     ]
    }
   ],
   "source": [
    "save_path = os.path.join(CHECKPOINT_DIR, \"idd_cars_detections_val.hdf5\")\n",
    "idd_val_X, idd_val_y = read_scores(save_path)\n",
    "\n",
    "idd_val_novelty_scores = -idd_val_X\n",
    "plot_roc(idd_val_novelty_scores, 1 - idd_val_y, title=\"Max Softmax IDD Val\")\n",
    "print(calc_metrics(idd_val_novelty_scores, 1 - idd_val_y))"
   ]
  },
  {
   "cell_type": "markdown",
   "metadata": {},
   "source": [
    "## One-Class SVM on Kitti features (Conv-512 layer)"
   ]
  },
  {
   "cell_type": "code",
   "execution_count": 13,
   "metadata": {
    "scrolled": true
   },
   "outputs": [
    {
     "data": {
      "application/vnd.jupyter.widget-view+json": {
       "model_id": "9372afbb06434a53a13b96689a3851ca",
       "version_major": 2,
       "version_minor": 0
      },
      "text/plain": [
       "HBox(children=(IntProgress(value=0, max=3260), HTML(value='')))"
      ]
     },
     "metadata": {},
     "output_type": "display_data"
    },
    {
     "name": "stdout",
     "output_type": "stream",
     "text": [
      "\n"
     ]
    }
   ],
   "source": [
    "save_path = os.path.join(CHECKPOINT_DIR, \"kitti_cars_detections_train.hdf5\")\n",
    "kitti_train_X, kitti_train_y = read_features(save_path, 0)"
   ]
  },
  {
   "cell_type": "code",
   "execution_count": 14,
   "metadata": {},
   "outputs": [
    {
     "data": {
      "text/plain": [
       "(100161, 512)"
      ]
     },
     "execution_count": 14,
     "metadata": {},
     "output_type": "execute_result"
    }
   ],
   "source": [
    "kitti_train_X.shape"
   ]
  },
  {
   "cell_type": "code",
   "execution_count": 83,
   "metadata": {},
   "outputs": [],
   "source": [
    "# Train a one-class SVM networks with those features\n",
    "ONE_CLASS_SAVE_PATH = os.path.join(CHECKPOINT_DIR, \"kitti-conv-512-one-class.pickle\")\n",
    "    \n",
    "if False:\n",
    "    training_mask = kitti_train_y.astype(np.bool)\n",
    "\n",
    "    print(\"Collected %d train samples of size %d\" % kitti_train_X[training_mask].shape)\n",
    "\n",
    "    clf = svm.OneClassSVM(nu=0.001, kernel=\"rbf\")\n",
    "\n",
    "    # Use only correct detections for training\n",
    "    clf.fit(kitti_train_X[training_mask])\n",
    "\n",
    "    y_pred_train = clf.predict(kitti_train_X[training_mask])\n",
    "    n_error_train = y_pred_train[y_pred_train == -1].size\n",
    "    print(n_error_train)\n",
    "    \n",
    "    with open(ONE_CLASS_SAVE_PATH, 'wb') as f:\n",
    "        pickle.dump(clf, f)\n",
    "else:\n",
    "    with open(ONE_CLASS_SAVE_PATH, 'rb') as f:\n",
    "        clf = pickle.load(f)"
   ]
  },
  {
   "cell_type": "markdown",
   "metadata": {},
   "source": [
    "#### Kitti Train"
   ]
  },
  {
   "cell_type": "code",
   "execution_count": 16,
   "metadata": {
    "scrolled": false
   },
   "outputs": [
    {
     "data": {
      "image/png": "[encoded data removed]",
      "text/plain": [
       "<Figure size 432x288 with 1 Axes>"
      ]
     },
     "metadata": {
      "needs_background": "light"
     },
     "output_type": "display_data"
    },
    {
     "name": "stdout",
     "output_type": "stream",
     "text": [
      "{'fpr_at_95_tpr': 0.9011242662421649, 'detection_error': 0.4755342989867207, 'auroc': 0.6170847806382096, 'aupr_in': 0.7812818050201896, 'aupr_out': 0.39620990765567105}\n"
     ]
    }
   ],
   "source": [
    "kitti_train_novelty_scores = clf.decision_function(kitti_train_X)\n",
    "plot_roc(kitti_train_novelty_scores, kitti_train_y)\n",
    "print(calc_metrics(kitti_train_novelty_scores, kitti_train_y))"
   ]
  },
  {
   "cell_type": "markdown",
   "metadata": {},
   "source": [
    "#### Kitti Val"
   ]
  },
  {
   "cell_type": "code",
   "execution_count": 17,
   "metadata": {},
   "outputs": [
    {
     "data": {
      "application/vnd.jupyter.widget-view+json": {
       "model_id": "0b7b8f0c349640d486e872ed24ecf1cf",
       "version_major": 2,
       "version_minor": 0
      },
      "text/plain": [
       "HBox(children=(IntProgress(value=0, max=3424), HTML(value='')))"
      ]
     },
     "metadata": {},
     "output_type": "display_data"
    },
    {
     "name": "stdout",
     "output_type": "stream",
     "text": [
      "\n"
     ]
    }
   ],
   "source": [
    "save_path = os.path.join(CHECKPOINT_DIR, \"kitti_cars_detections_val.hdf5\")\n",
    "kitti_val_X, kitti_val_y = read_features(save_path, 0)"
   ]
  },
  {
   "cell_type": "code",
   "execution_count": 18,
   "metadata": {},
   "outputs": [
    {
     "data": {
      "image/png": "[encoded data removed]",
      "text/plain": [
       "<Figure size 432x288 with 1 Axes>"
      ]
     },
     "metadata": {
      "needs_background": "light"
     },
     "output_type": "display_data"
    },
    {
     "name": "stdout",
     "output_type": "stream",
     "text": [
      "{'fpr_at_95_tpr': 0.9557644468904787, 'detection_error': 0.499755130568319, 'auroc': 0.5653726136412283, 'aupr_in': 0.6494756767528453, 'aupr_out': 0.4459515783092815}\n"
     ]
    }
   ],
   "source": [
    "kitti_val_novelty_scores = clf.decision_function(kitti_val_X)\n",
    "plot_roc(kitti_val_novelty_scores, kitti_val_y)\n",
    "print(calc_metrics(kitti_val_novelty_scores, kitti_val_y))"
   ]
  },
  {
   "cell_type": "markdown",
   "metadata": {},
   "source": [
    "#### IDD Val"
   ]
  },
  {
   "cell_type": "code",
   "execution_count": 84,
   "metadata": {},
   "outputs": [
    {
     "data": {
      "application/vnd.jupyter.widget-view+json": {
       "model_id": "07ff9eb6dd534979ae8553fe750ec1c0",
       "version_major": 2,
       "version_minor": 0
      },
      "text/plain": [
       "HBox(children=(IntProgress(value=0, max=10225), HTML(value='')))"
      ]
     },
     "metadata": {},
     "output_type": "display_data"
    },
    {
     "name": "stdout",
     "output_type": "stream",
     "text": [
      "\n"
     ]
    }
   ],
   "source": [
    "save_path = os.path.join(CHECKPOINT_DIR, \"idd_cars_detections_val.hdf5\")\n",
    "idd_val_X, idd_val_y = read_features(save_path, 0)"
   ]
  },
  {
   "cell_type": "code",
   "execution_count": 85,
   "metadata": {},
   "outputs": [
    {
     "data": {
      "image/png": "[encoded data removed]",
      "text/plain": [
       "<Figure size 432x288 with 1 Axes>"
      ]
     },
     "metadata": {
      "needs_background": "light"
     },
     "output_type": "display_data"
    },
    {
     "name": "stdout",
     "output_type": "stream",
     "text": [
      "{'fpr_at_95_tpr': 0.9319516911737877, 'detection_error': 0.49093651081936246, 'auroc': 0.5840621094517212, 'aupr_in': 0.5133740475918346, 'aupr_out': 0.6292337929445481}\n"
     ]
    }
   ],
   "source": [
    "idd_val_novelty_scores = clf.decision_function(idd_val_X)\n",
    "plot_roc(idd_val_novelty_scores, idd_val_y)\n",
    "print(calc_metrics(idd_val_novelty_scores, idd_val_y))"
   ]
  },
  {
   "cell_type": "markdown",
   "metadata": {},
   "source": [
    "## One-Class SVM on Kitti features (FC-4096 (#1) layer) "
   ]
  },
  {
   "cell_type": "code",
   "execution_count": 19,
   "metadata": {},
   "outputs": [
    {
     "data": {
      "application/vnd.jupyter.widget-view+json": {
       "model_id": "f442f307cc4d4ad7b05cbe6a943b3c01",
       "version_major": 2,
       "version_minor": 0
      },
      "text/plain": [
       "HBox(children=(IntProgress(value=0, max=3260), HTML(value='')))"
      ]
     },
     "metadata": {},
     "output_type": "display_data"
    },
    {
     "name": "stdout",
     "output_type": "stream",
     "text": [
      "\n"
     ]
    }
   ],
   "source": [
    "save_path = os.path.join(CHECKPOINT_DIR, \"kitti_cars_detections_train.hdf5\")\n",
    "kitti_train_X, kitti_train_y = read_features(save_path, 1)"
   ]
  },
  {
   "cell_type": "code",
   "execution_count": 20,
   "metadata": {},
   "outputs": [
    {
     "data": {
      "text/plain": [
       "(100161, 4096)"
      ]
     },
     "execution_count": 20,
     "metadata": {},
     "output_type": "execute_result"
    }
   ],
   "source": [
    "kitti_train_X.shape"
   ]
  },
  {
   "cell_type": "code",
   "execution_count": 86,
   "metadata": {},
   "outputs": [],
   "source": [
    "# Train a one-class SVM networks with those features\n",
    "ONE_CLASS_SAVE_PATH = os.path.join(CHECKPOINT_DIR, \"kitti-fc-4096-1-one-class.pickle\")\n",
    "    \n",
    "if False:\n",
    "    training_mask = kitti_train_y.astype(np.bool)\n",
    "    print(\"Collected %d train samples of size %d\" % kitti_train_X[training_mask].shape)\n",
    "    \n",
    "    clf = svm.OneClassSVM(nu=0.001, kernel=\"rbf\")\n",
    "\n",
    "    # Use only correct detections for training\n",
    "    clf.fit(kitti_train_X[training_mask])\n",
    "\n",
    "    y_pred_train = clf.predict(kitti_train_X[training_mask])\n",
    "\n",
    "    n_error_train = y_pred_train[y_pred_train == -1].size\n",
    "    print(n_error_train)\n",
    "    \n",
    "    with open(ONE_CLASS_SAVE_PATH, 'wb') as f:\n",
    "        pickle.dump(clf, f)\n",
    "else:\n",
    "    with open(ONE_CLASS_SAVE_PATH, 'rb') as f:\n",
    "        clf = pickle.load(f)"
   ]
  },
  {
   "cell_type": "markdown",
   "metadata": {},
   "source": [
    "#### Kitti Train"
   ]
  },
  {
   "cell_type": "code",
   "execution_count": 22,
   "metadata": {},
   "outputs": [
    {
     "data": {
      "image/png": "[encoded data removed]",
      "text/plain": [
       "<Figure size 432x288 with 1 Axes>"
      ]
     },
     "metadata": {
      "needs_background": "light"
     },
     "output_type": "display_data"
    },
    {
     "name": "stdout",
     "output_type": "stream",
     "text": [
      "{'fpr_at_95_tpr': 0.96186117467582, 'detection_error': 0.49968462606220787, 'auroc': 0.4069216423543474, 'aupr_in': 0.6416756424670366, 'aupr_out': 0.25622354101787664}\n"
     ]
    }
   ],
   "source": [
    "kitti_train_novelty_scores = clf.decision_function(kitti_train_X)\n",
    "plot_roc(kitti_train_novelty_scores, kitti_train_y)\n",
    "print(calc_metrics(kitti_train_novelty_scores, kitti_train_y))"
   ]
  },
  {
   "cell_type": "markdown",
   "metadata": {},
   "source": [
    "#### Kitti Val"
   ]
  },
  {
   "cell_type": "code",
   "execution_count": 23,
   "metadata": {},
   "outputs": [
    {
     "data": {
      "application/vnd.jupyter.widget-view+json": {
       "model_id": "ff95d6a2fb774bb3832123bb6125fb24",
       "version_major": 2,
       "version_minor": 0
      },
      "text/plain": [
       "HBox(children=(IntProgress(value=0, max=3424), HTML(value='')))"
      ]
     },
     "metadata": {},
     "output_type": "display_data"
    },
    {
     "name": "stdout",
     "output_type": "stream",
     "text": [
      "\n"
     ]
    }
   ],
   "source": [
    "save_path = os.path.join(CHECKPOINT_DIR, \"kitti_cars_detections_val.hdf5\")\n",
    "kitti_val_X, kitti_val_y = read_features(save_path, 1)"
   ]
  },
  {
   "cell_type": "code",
   "execution_count": 24,
   "metadata": {},
   "outputs": [
    {
     "data": {
      "image/png": "[encoded data removed]",
      "text/plain": [
       "<Figure size 432x288 with 1 Axes>"
      ]
     },
     "metadata": {
      "needs_background": "light"
     },
     "output_type": "display_data"
    },
    {
     "name": "stdout",
     "output_type": "stream",
     "text": [
      "{'fpr_at_95_tpr': 0.9843258117776554, 'detection_error': 0.5, 'auroc': 0.3217025851321015, 'aupr_in': 0.47916317227232347, 'aupr_out': 0.31202778397609443}\n"
     ]
    }
   ],
   "source": [
    "kitti_val_novelty_scores = clf.decision_function(kitti_val_X)\n",
    "plot_roc(kitti_val_novelty_scores, kitti_val_y)\n",
    "print(calc_metrics(kitti_val_novelty_scores, kitti_val_y))"
   ]
  },
  {
   "cell_type": "markdown",
   "metadata": {},
   "source": [
    "#### IDD Val"
   ]
  },
  {
   "cell_type": "code",
   "execution_count": 87,
   "metadata": {},
   "outputs": [
    {
     "data": {
      "application/vnd.jupyter.widget-view+json": {
       "model_id": "b10f34d33af54f09a49e456090f8c7fe",
       "version_major": 2,
       "version_minor": 0
      },
      "text/plain": [
       "HBox(children=(IntProgress(value=0, max=10225), HTML(value='')))"
      ]
     },
     "metadata": {},
     "output_type": "display_data"
    },
    {
     "name": "stdout",
     "output_type": "stream",
     "text": [
      "\n"
     ]
    }
   ],
   "source": [
    "save_path = os.path.join(CHECKPOINT_DIR, \"idd_cars_detections_val.hdf5\")\n",
    "idd_val_X, idd_val_y = read_features(save_path, 1)"
   ]
  },
  {
   "cell_type": "code",
   "execution_count": 88,
   "metadata": {
    "scrolled": true
   },
   "outputs": [
    {
     "data": {
      "image/png": "[encoded data removed]",
      "text/plain": [
       "<Figure size 432x288 with 1 Axes>"
      ]
     },
     "metadata": {
      "needs_background": "light"
     },
     "output_type": "display_data"
    },
    {
     "name": "stdout",
     "output_type": "stream",
     "text": [
      "{'fpr_at_95_tpr': 0.9770131718174189, 'detection_error': 0.4999515273388571, 'auroc': 0.4216396901376398, 'aupr_in': 0.38509323898259884, 'aupr_out': 0.5113847049741483}\n"
     ]
    }
   ],
   "source": [
    "idd_val_novelty_scores = clf.decision_function(idd_val_X)\n",
    "plot_roc(idd_val_novelty_scores, idd_val_y)\n",
    "print(calc_metrics(idd_val_novelty_scores, idd_val_y))"
   ]
  },
  {
   "cell_type": "markdown",
   "metadata": {},
   "source": [
    "# Mahalanobis"
   ]
  },
  {
   "cell_type": "markdown",
   "metadata": {},
   "source": [
    "#### Kitti train"
   ]
  },
  {
   "cell_type": "code",
   "execution_count": 25,
   "metadata": {},
   "outputs": [
    {
     "data": {
      "application/vnd.jupyter.widget-view+json": {
       "model_id": "9ec60eb7f4f648fc98661f710e0f9eaf",
       "version_major": 2,
       "version_minor": 0
      },
      "text/plain": [
       "HBox(children=(IntProgress(value=0, max=3260), HTML(value='')))"
      ]
     },
     "metadata": {},
     "output_type": "display_data"
    },
    {
     "name": "stdout",
     "output_type": "stream",
     "text": [
      "\n"
     ]
    }
   ],
   "source": [
    "save_path = os.path.join(CHECKPOINT_DIR, \"kitti_cars_detections_train.hdf5\")\n",
    "kitti_train_X, kitti_train_y = read_features(save_path, 4)"
   ]
  },
  {
   "cell_type": "code",
   "execution_count": 26,
   "metadata": {},
   "outputs": [
    {
     "data": {
      "text/plain": [
       "(100161, 4096)"
      ]
     },
     "execution_count": 26,
     "metadata": {},
     "output_type": "execute_result"
    }
   ],
   "source": [
    "kitti_train_X.shape"
   ]
  },
  {
   "cell_type": "code",
   "execution_count": 89,
   "metadata": {},
   "outputs": [],
   "source": [
    "mahal_model_name = os.path.join(CHECKPOINT_DIR, \"kitti-cars-fc-4096-4-mahalanobis.h5\")\n",
    "\n",
    "if False:\n",
    "    # Take features from good detections only\n",
    "    kitti_mahalanobis_features = kitti_train_X[kitti_train_y.astype(np.bool)]\n",
    "    \n",
    "    # Everything is labelled 0 because we're just doing single class detection\n",
    "    kitti_mahalanobis_labels = np.zeros((len(kitti_mahalanobis_features)))\n",
    "    \n",
    "    md = Mahal_Dist(kitti_mahalanobis_features, kitti_mahalanobis_labels)\n",
    "    md.save(mahal_model_name)\n",
    "    \n",
    "else:\n",
    "    md = Mahal_Dist.load(mahal_model_name)"
   ]
  },
  {
   "cell_type": "code",
   "execution_count": 57,
   "metadata": {
    "scrolled": true
   },
   "outputs": [
    {
     "data": {
      "image/png": "[encoded data removed]",
      "text/plain": [
       "<Figure size 432x288 with 1 Axes>"
      ]
     },
     "metadata": {
      "needs_background": "light"
     },
     "output_type": "display_data"
    },
    {
     "name": "stdout",
     "output_type": "stream",
     "text": [
      "{'fpr_at_95_tpr': 0.9467716189578333, 'detection_error': 0.4975451545535095, 'auroc': 0.6522653587850024, 'aupr_in': 0.5511250858798082, 'aupr_out': 0.7638600021742583}\n"
     ]
    }
   ],
   "source": [
    "# Chunked MD calc\n",
    "l = len(kitti_train_X)\n",
    "chunk = 10000\n",
    "kitti_train_novelty_scores = [md(kitti_train_X[i:i+chunk]) for i in range(0,l,chunk_size)]\n",
    "kitti_train_novelty_scores = np.concatenate(kitti_train_novelty_scores, axis=0)\n",
    "\n",
    "# Non-chunked version for smaller datasets\n",
    "# kitti_train_novelty_scores = md(kitti_train_X)\n",
    "\n",
    "plot_roc(kitti_train_novelty_scores, 1 - kitti_train_y, title=\"Mahalanobis Kitti Train\")\n",
    "print(calc_metrics(kitti_train_novelty_scores, 1 - kitti_train_y))"
   ]
  },
  {
   "cell_type": "markdown",
   "metadata": {},
   "source": [
    "#### Kitti val"
   ]
  },
  {
   "cell_type": "code",
   "execution_count": null,
   "metadata": {
    "scrolled": true
   },
   "outputs": [
    {
     "data": {
      "application/vnd.jupyter.widget-view+json": {
       "model_id": "0a8ae01e3af44af38eefc4e9e4db99e1",
       "version_major": 2,
       "version_minor": 0
      },
      "text/plain": [
       "HBox(children=(IntProgress(value=0, max=3424), HTML(value='')))"
      ]
     },
     "metadata": {},
     "output_type": "display_data"
    },
    {
     "name": "stderr",
     "output_type": "stream",
     "text": [
      "IOPub message rate exceeded.\n",
      "The notebook server will temporarily stop sending output\n",
      "to the client in order to avoid crashing it.\n",
      "To change this limit, set the config variable\n",
      "`--NotebookApp.iopub_msg_rate_limit`.\n",
      "\n",
      "Current values:\n",
      "NotebookApp.iopub_msg_rate_limit=1000.0 (msgs/sec)\n",
      "NotebookApp.rate_limit_window=3.0 (secs)\n",
      "\n"
     ]
    }
   ],
   "source": [
    "save_path = os.path.join(CHECKPOINT_DIR, \"kitti_cars_detections_val.hdf5\")\n",
    "kitti_val_X, kitti_val_y = read_features(save_path, 4)"
   ]
  },
  {
   "cell_type": "code",
   "execution_count": 60,
   "metadata": {
    "scrolled": false
   },
   "outputs": [
    {
     "data": {
      "image/png": "[encoded data removed]",
      "text/plain": [
       "<Figure size 432x288 with 1 Axes>"
      ]
     },
     "metadata": {
      "needs_background": "light"
     },
     "output_type": "display_data"
    },
    {
     "name": "stdout",
     "output_type": "stream",
     "text": [
      "{'fpr_at_95_tpr': 0.9418010836395342, 'detection_error': 0.49588624047058005, 'auroc': 0.6767289933574218, 'aupr_in': 0.6487890462019605, 'aupr_out': 0.6844329841073483}\n"
     ]
    }
   ],
   "source": [
    "# Chunked MD calc\n",
    "l = len(kitti_val_X)\n",
    "chunk = 10000\n",
    "kitti_val_novelty_scores = [md(kitti_val_X[i:i+chunk]) for i in range(0,l,chunk_size)]\n",
    "kitti_val_novelty_scores = np.concatenate(kitti_val_novelty_scores, axis=0)\n",
    "\n",
    "# Non-chunked version for smaller datasets\n",
    "# kitti_val_novelty_scores = md(kitti_val_X)\n",
    "\n",
    "plot_roc(kitti_val_novelty_scores, 1 - kitti_val_y, title=\"Mahalanobis Kitti Val\")\n",
    "print(calc_metrics(kitti_val_novelty_scores, 1 - kitti_val_y))"
   ]
  },
  {
   "cell_type": "markdown",
   "metadata": {},
   "source": [
    "#### IDD val"
   ]
  },
  {
   "cell_type": "code",
   "execution_count": 23,
   "metadata": {
    "scrolled": false
   },
   "outputs": [
    {
     "data": {
      "application/vnd.jupyter.widget-view+json": {
       "model_id": "3f98c71d9db84e1da2e8792f1abf7c8f",
       "version_major": 2,
       "version_minor": 0
      },
      "text/plain": [
       "HBox(children=(IntProgress(value=0, max=1000), HTML(value='')))"
      ]
     },
     "metadata": {},
     "output_type": "display_data"
    },
    {
     "name": "stdout",
     "output_type": "stream",
     "text": [
      "\n"
     ]
    },
    {
     "data": {
      "application/vnd.jupyter.widget-view+json": {
       "model_id": "18874b5f65e94515b4ec2069cf0457ae",
       "version_major": 2,
       "version_minor": 0
      },
      "text/plain": [
       "HBox(children=(IntProgress(value=0, max=1000), HTML(value='')))"
      ]
     },
     "metadata": {},
     "output_type": "display_data"
    },
    {
     "name": "stdout",
     "output_type": "stream",
     "text": [
      "\n"
     ]
    },
    {
     "data": {
      "application/vnd.jupyter.widget-view+json": {
       "model_id": "cd1c64a7a1cc4bb0bf47287b7e74284a",
       "version_major": 2,
       "version_minor": 0
      },
      "text/plain": [
       "HBox(children=(IntProgress(value=0, max=1000), HTML(value='')))"
      ]
     },
     "metadata": {},
     "output_type": "display_data"
    },
    {
     "name": "stdout",
     "output_type": "stream",
     "text": [
      "\n"
     ]
    },
    {
     "data": {
      "application/vnd.jupyter.widget-view+json": {
       "model_id": "b4e5178ef7ed4b7dab3796693cb5e55b",
       "version_major": 2,
       "version_minor": 0
      },
      "text/plain": [
       "HBox(children=(IntProgress(value=0, max=1000), HTML(value='')))"
      ]
     },
     "metadata": {},
     "output_type": "display_data"
    },
    {
     "name": "stdout",
     "output_type": "stream",
     "text": [
      "\n"
     ]
    },
    {
     "data": {
      "application/vnd.jupyter.widget-view+json": {
       "model_id": "031e51674ccb4a028ad282257febdf43",
       "version_major": 2,
       "version_minor": 0
      },
      "text/plain": [
       "HBox(children=(IntProgress(value=0, max=1000), HTML(value='')))"
      ]
     },
     "metadata": {},
     "output_type": "display_data"
    },
    {
     "name": "stdout",
     "output_type": "stream",
     "text": [
      "\n"
     ]
    },
    {
     "data": {
      "application/vnd.jupyter.widget-view+json": {
       "model_id": "0614515adc454ebe9871d74d37cfc075",
       "version_major": 2,
       "version_minor": 0
      },
      "text/plain": [
       "HBox(children=(IntProgress(value=0, max=1000), HTML(value='')))"
      ]
     },
     "metadata": {},
     "output_type": "display_data"
    },
    {
     "name": "stdout",
     "output_type": "stream",
     "text": [
      "\n"
     ]
    },
    {
     "data": {
      "application/vnd.jupyter.widget-view+json": {
       "model_id": "fa4e1a4966e048b7a147422cbdd3575d",
       "version_major": 2,
       "version_minor": 0
      },
      "text/plain": [
       "HBox(children=(IntProgress(value=0, max=1000), HTML(value='')))"
      ]
     },
     "metadata": {},
     "output_type": "display_data"
    },
    {
     "name": "stdout",
     "output_type": "stream",
     "text": [
      "\n"
     ]
    },
    {
     "data": {
      "application/vnd.jupyter.widget-view+json": {
       "model_id": "b23e357297084b5191698482767ef018",
       "version_major": 2,
       "version_minor": 0
      },
      "text/plain": [
       "HBox(children=(IntProgress(value=0, max=1000), HTML(value='')))"
      ]
     },
     "metadata": {},
     "output_type": "display_data"
    },
    {
     "name": "stdout",
     "output_type": "stream",
     "text": [
      "\n"
     ]
    },
    {
     "data": {
      "application/vnd.jupyter.widget-view+json": {
       "model_id": "994579f4497b4133b11d3041a347a7be",
       "version_major": 2,
       "version_minor": 0
      },
      "text/plain": [
       "HBox(children=(IntProgress(value=0, max=1000), HTML(value='')))"
      ]
     },
     "metadata": {},
     "output_type": "display_data"
    },
    {
     "name": "stdout",
     "output_type": "stream",
     "text": [
      "\n"
     ]
    },
    {
     "data": {
      "application/vnd.jupyter.widget-view+json": {
       "model_id": "1fba67cdc46e4a9da220650a75785f01",
       "version_major": 2,
       "version_minor": 0
      },
      "text/plain": [
       "HBox(children=(IntProgress(value=0, max=1000), HTML(value='')))"
      ]
     },
     "metadata": {},
     "output_type": "display_data"
    },
    {
     "name": "stdout",
     "output_type": "stream",
     "text": [
      "\n"
     ]
    },
    {
     "data": {
      "application/vnd.jupyter.widget-view+json": {
       "model_id": "cefad1b6583540aeb86b10619de48507",
       "version_major": 2,
       "version_minor": 0
      },
      "text/plain": [
       "HBox(children=(IntProgress(value=0, max=225), HTML(value='')))"
      ]
     },
     "metadata": {},
     "output_type": "display_data"
    },
    {
     "name": "stdout",
     "output_type": "stream",
     "text": [
      "\n"
     ]
    },
    {
     "data": {
      "image/png": "[encoded data removed]",
      "text/plain": [
       "<Figure size 432x288 with 1 Axes>"
      ]
     },
     "metadata": {
      "needs_background": "light"
     },
     "output_type": "display_data"
    },
    {
     "name": "stdout",
     "output_type": "stream",
     "text": [
      "{'fpr_at_95_tpr': 0.8094771401969912, 'detection_error': 0.4297321848684449, 'auroc': 0.7485611890772801, 'aupr_in': 0.7894466596396695, 'aupr_out': 0.661384498437345}\n"
     ]
    }
   ],
   "source": [
    "save_path = os.path.join(CHECKPOINT_DIR, \"idd_cars_detections_val.hdf5\")\n",
    "idd_val_y = []\n",
    "\n",
    "# Chunked MD calc\n",
    "with h5py.File(save_path, 'r') as f:\n",
    "    l = (len(f))\n",
    "\n",
    "chunk = 1000\n",
    "\n",
    "idd_val_novelty_scores = []\n",
    "for i in range(0, l, chunk):\n",
    "    X, y = read_features(save_path, 4, i, i+chunk)\n",
    "    idd_val_novelty_scores.append(md(X))\n",
    "    idd_val_y.append(y)\n",
    "\n",
    "idd_val_novelty_scores = np.concatenate(idd_val_novelty_scores, axis=0)\n",
    "idd_val_y = np.concatenate(idd_val_y, axis=0)\n",
    "\n",
    "# Non-chunked version for smaller datasets\n",
    "# idd_val_novelty_scores = md(idd_val_X)\n",
    "\n",
    "plot_roc(idd_val_novelty_scores, 1 - idd_val_y, title=\"Mahalanobis IDD Val\")\n",
    "print(calc_metrics(idd_val_novelty_scores, 1 - idd_val_y))"
   ]
  },
  {
   "cell_type": "markdown",
   "metadata": {},
   "source": [
    "## ODIN"
   ]
  },
  {
   "cell_type": "markdown",
   "metadata": {},
   "source": [
    "### Find best params"
   ]
  },
  {
   "cell_type": "code",
   "execution_count": 93,
   "metadata": {},
   "outputs": [],
   "source": [
    "# for T 1, 2, 5, 10,20, 50, 100, 200, 500, 1000; and for perturbation magnitude\n",
    "# ε we choose from 21 evenly spaced numbers starting from 0\n",
    "# and ending at 0.004.\n",
    "\n",
    "# temperatures = np.array([1, 2, 5, 10, 20, 50, 100, 200, 500, 1000])\n",
    "# temperatures = np.array([1])\n",
    "temperatures = np.array([1000])\n",
    "\n",
    "epsilons = np.linspace(0, 0.004, 21)\n",
    "# epsilons = np.linspace(0, 0.004, 5)\n",
    "# epsilons = np.array([0.0034])\n",
    "\n",
    "odin_params = list(itertools.product(epsilons, temperatures))"
   ]
  },
  {
   "cell_type": "code",
   "execution_count": 94,
   "metadata": {
    "scrolled": true
   },
   "outputs": [
    {
     "data": {
      "application/vnd.jupyter.widget-view+json": {
       "model_id": "44fffe8137844499926590b1aab2cc7e",
       "version_major": 2,
       "version_minor": 0
      },
      "text/plain": [
       "HBox(children=(IntProgress(value=0, max=21), HTML(value='')))"
      ]
     },
     "metadata": {},
     "output_type": "display_data"
    },
    {
     "name": "stdout",
     "output_type": "stream",
     "text": [
      "ODIN Kitti Val e=0.000000, T=1000\n"
     ]
    },
    {
     "data": {
      "application/vnd.jupyter.widget-view+json": {
       "model_id": "7e4eb135d7f04add829e1a72b615f331",
       "version_major": 2,
       "version_minor": 0
      },
      "text/plain": [
       "HBox(children=(IntProgress(value=0, max=342), HTML(value='')))"
      ]
     },
     "metadata": {},
     "output_type": "display_data"
    },
    {
     "name": "stdout",
     "output_type": "stream",
     "text": [
      "\n",
      "ODIN Kitti Val e=0.000200, T=1000\n"
     ]
    },
    {
     "data": {
      "application/vnd.jupyter.widget-view+json": {
       "model_id": "541118d49e164b8c8b46ebb7b7dc4676",
       "version_major": 2,
       "version_minor": 0
      },
      "text/plain": [
       "HBox(children=(IntProgress(value=0, max=342), HTML(value='')))"
      ]
     },
     "metadata": {},
     "output_type": "display_data"
    },
    {
     "name": "stdout",
     "output_type": "stream",
     "text": [
      "\n",
      "ODIN Kitti Val e=0.000400, T=1000\n"
     ]
    },
    {
     "data": {
      "application/vnd.jupyter.widget-view+json": {
       "model_id": "46402d483d8648fab78999c1ffec541b",
       "version_major": 2,
       "version_minor": 0
      },
      "text/plain": [
       "HBox(children=(IntProgress(value=0, max=342), HTML(value='')))"
      ]
     },
     "metadata": {},
     "output_type": "display_data"
    },
    {
     "name": "stdout",
     "output_type": "stream",
     "text": [
      "\n",
      "ODIN Kitti Val e=0.000600, T=1000\n"
     ]
    },
    {
     "data": {
      "application/vnd.jupyter.widget-view+json": {
       "model_id": "b57b2f60eda84757a947c353c4c444a1",
       "version_major": 2,
       "version_minor": 0
      },
      "text/plain": [
       "HBox(children=(IntProgress(value=0, max=342), HTML(value='')))"
      ]
     },
     "metadata": {},
     "output_type": "display_data"
    },
    {
     "name": "stdout",
     "output_type": "stream",
     "text": [
      "\n",
      "ODIN Kitti Val e=0.000800, T=1000\n"
     ]
    },
    {
     "data": {
      "application/vnd.jupyter.widget-view+json": {
       "model_id": "9edc2865bbde48d0be890b2484033c63",
       "version_major": 2,
       "version_minor": 0
      },
      "text/plain": [
       "HBox(children=(IntProgress(value=0, max=342), HTML(value='')))"
      ]
     },
     "metadata": {},
     "output_type": "display_data"
    },
    {
     "name": "stdout",
     "output_type": "stream",
     "text": [
      "\n",
      "ODIN Kitti Val e=0.001000, T=1000\n"
     ]
    },
    {
     "data": {
      "application/vnd.jupyter.widget-view+json": {
       "model_id": "3eff2eefab27452ab76e37e545e2eb65",
       "version_major": 2,
       "version_minor": 0
      },
      "text/plain": [
       "HBox(children=(IntProgress(value=0, max=342), HTML(value='')))"
      ]
     },
     "metadata": {},
     "output_type": "display_data"
    },
    {
     "name": "stdout",
     "output_type": "stream",
     "text": [
      "\n",
      "ODIN Kitti Val e=0.001200, T=1000\n"
     ]
    },
    {
     "data": {
      "application/vnd.jupyter.widget-view+json": {
       "model_id": "600ee1630ebf42a0a5b4638e9f840302",
       "version_major": 2,
       "version_minor": 0
      },
      "text/plain": [
       "HBox(children=(IntProgress(value=0, max=342), HTML(value='')))"
      ]
     },
     "metadata": {},
     "output_type": "display_data"
    },
    {
     "name": "stdout",
     "output_type": "stream",
     "text": [
      "\n",
      "ODIN Kitti Val e=0.001400, T=1000\n"
     ]
    },
    {
     "data": {
      "application/vnd.jupyter.widget-view+json": {
       "model_id": "f74a9665ff3d469c8bd12e197491c380",
       "version_major": 2,
       "version_minor": 0
      },
      "text/plain": [
       "HBox(children=(IntProgress(value=0, max=342), HTML(value='')))"
      ]
     },
     "metadata": {},
     "output_type": "display_data"
    },
    {
     "name": "stdout",
     "output_type": "stream",
     "text": [
      "\n",
      "ODIN Kitti Val e=0.001600, T=1000\n"
     ]
    },
    {
     "data": {
      "application/vnd.jupyter.widget-view+json": {
       "model_id": "3c9ab2a32a9a4bd8bbbafe7b4ae8b661",
       "version_major": 2,
       "version_minor": 0
      },
      "text/plain": [
       "HBox(children=(IntProgress(value=0, max=342), HTML(value='')))"
      ]
     },
     "metadata": {},
     "output_type": "display_data"
    },
    {
     "name": "stdout",
     "output_type": "stream",
     "text": [
      "\n",
      "ODIN Kitti Val e=0.001800, T=1000\n"
     ]
    },
    {
     "data": {
      "application/vnd.jupyter.widget-view+json": {
       "model_id": "4f30a63d3d18470ba9c70ae71c2ee4bf",
       "version_major": 2,
       "version_minor": 0
      },
      "text/plain": [
       "HBox(children=(IntProgress(value=0, max=342), HTML(value='')))"
      ]
     },
     "metadata": {},
     "output_type": "display_data"
    },
    {
     "name": "stdout",
     "output_type": "stream",
     "text": [
      "\n",
      "ODIN Kitti Val e=0.002000, T=1000\n"
     ]
    },
    {
     "data": {
      "application/vnd.jupyter.widget-view+json": {
       "model_id": "a603c22e4ae84a9ba4e1af8606407a03",
       "version_major": 2,
       "version_minor": 0
      },
      "text/plain": [
       "HBox(children=(IntProgress(value=0, max=342), HTML(value='')))"
      ]
     },
     "metadata": {},
     "output_type": "display_data"
    },
    {
     "name": "stdout",
     "output_type": "stream",
     "text": [
      "\n",
      "ODIN Kitti Val e=0.002200, T=1000\n"
     ]
    },
    {
     "data": {
      "application/vnd.jupyter.widget-view+json": {
       "model_id": "9c609704563240e9b764d0b9297d4aa9",
       "version_major": 2,
       "version_minor": 0
      },
      "text/plain": [
       "HBox(children=(IntProgress(value=0, max=342), HTML(value='')))"
      ]
     },
     "metadata": {},
     "output_type": "display_data"
    },
    {
     "name": "stdout",
     "output_type": "stream",
     "text": [
      "\n",
      "ODIN Kitti Val e=0.002400, T=1000\n"
     ]
    },
    {
     "data": {
      "application/vnd.jupyter.widget-view+json": {
       "model_id": "d317245e2ca541d99432667fd4fa0cee",
       "version_major": 2,
       "version_minor": 0
      },
      "text/plain": [
       "HBox(children=(IntProgress(value=0, max=342), HTML(value='')))"
      ]
     },
     "metadata": {},
     "output_type": "display_data"
    },
    {
     "name": "stdout",
     "output_type": "stream",
     "text": [
      "\n",
      "ODIN Kitti Val e=0.002600, T=1000\n"
     ]
    },
    {
     "data": {
      "application/vnd.jupyter.widget-view+json": {
       "model_id": "9e2091b3a62747b2bd9dccbdfaeea792",
       "version_major": 2,
       "version_minor": 0
      },
      "text/plain": [
       "HBox(children=(IntProgress(value=0, max=342), HTML(value='')))"
      ]
     },
     "metadata": {},
     "output_type": "display_data"
    },
    {
     "name": "stdout",
     "output_type": "stream",
     "text": [
      "\n",
      "ODIN Kitti Val e=0.002800, T=1000\n"
     ]
    },
    {
     "data": {
      "application/vnd.jupyter.widget-view+json": {
       "model_id": "98654e3c18cf483cb5d3025e1141a3f2",
       "version_major": 2,
       "version_minor": 0
      },
      "text/plain": [
       "HBox(children=(IntProgress(value=0, max=342), HTML(value='')))"
      ]
     },
     "metadata": {},
     "output_type": "display_data"
    },
    {
     "name": "stdout",
     "output_type": "stream",
     "text": [
      "\n",
      "ODIN Kitti Val e=0.003000, T=1000\n"
     ]
    },
    {
     "data": {
      "application/vnd.jupyter.widget-view+json": {
       "model_id": "13e5b6dad650447c9e3494b5c18930e6",
       "version_major": 2,
       "version_minor": 0
      },
      "text/plain": [
       "HBox(children=(IntProgress(value=0, max=342), HTML(value='')))"
      ]
     },
     "metadata": {},
     "output_type": "display_data"
    },
    {
     "name": "stdout",
     "output_type": "stream",
     "text": [
      "\n",
      "ODIN Kitti Val e=0.003200, T=1000\n"
     ]
    },
    {
     "data": {
      "application/vnd.jupyter.widget-view+json": {
       "model_id": "d72dc166dbb944298c2e787a5e0eca6e",
       "version_major": 2,
       "version_minor": 0
      },
      "text/plain": [
       "HBox(children=(IntProgress(value=0, max=342), HTML(value='')))"
      ]
     },
     "metadata": {},
     "output_type": "display_data"
    },
    {
     "name": "stdout",
     "output_type": "stream",
     "text": [
      "\n",
      "ODIN Kitti Val e=0.003400, T=1000\n"
     ]
    },
    {
     "data": {
      "application/vnd.jupyter.widget-view+json": {
       "model_id": "2eca36e78ce44239aa3901cfa6b73f47",
       "version_major": 2,
       "version_minor": 0
      },
      "text/plain": [
       "HBox(children=(IntProgress(value=0, max=342), HTML(value='')))"
      ]
     },
     "metadata": {},
     "output_type": "display_data"
    },
    {
     "name": "stdout",
     "output_type": "stream",
     "text": [
      "\n",
      "ODIN Kitti Val e=0.003600, T=1000\n"
     ]
    },
    {
     "data": {
      "application/vnd.jupyter.widget-view+json": {
       "model_id": "20f2109c2bf44a5fb24d721bbdcde30c",
       "version_major": 2,
       "version_minor": 0
      },
      "text/plain": [
       "HBox(children=(IntProgress(value=0, max=342), HTML(value='')))"
      ]
     },
     "metadata": {},
     "output_type": "display_data"
    },
    {
     "name": "stdout",
     "output_type": "stream",
     "text": [
      "\n",
      "ODIN Kitti Val e=0.003800, T=1000\n"
     ]
    },
    {
     "data": {
      "application/vnd.jupyter.widget-view+json": {
       "model_id": "81da976ef1db464fa93c7144d73a3483",
       "version_major": 2,
       "version_minor": 0
      },
      "text/plain": [
       "HBox(children=(IntProgress(value=0, max=342), HTML(value='')))"
      ]
     },
     "metadata": {},
     "output_type": "display_data"
    },
    {
     "name": "stdout",
     "output_type": "stream",
     "text": [
      "\n",
      "ODIN Kitti Val e=0.004000, T=1000\n"
     ]
    },
    {
     "data": {
      "application/vnd.jupyter.widget-view+json": {
       "model_id": "60789995253247f1a628ec3e7a9cd9ec",
       "version_major": 2,
       "version_minor": 0
      },
      "text/plain": [
       "HBox(children=(IntProgress(value=0, max=342), HTML(value='')))"
      ]
     },
     "metadata": {},
     "output_type": "display_data"
    },
    {
     "name": "stdout",
     "output_type": "stream",
     "text": [
      "\n",
      "\n"
     ]
    }
   ],
   "source": [
    "results = []\n",
    "\n",
    "trainer.faster_rcnn.eval()\n",
    "for eps, temp in tqdm(odin_params, total=len(odin_params)):\n",
    "    save_file = os.path.join(CHECKPOINT_DIR, \"subset_kitti_cars_detections_val_pert_%f_temp_%d.hdf5\" % (eps, temp))\n",
    "\n",
    "    if False:# and not os.path.exists(save_file):\n",
    "        extract_kitti_features(subset_kitti_val_dataset, trainer.faster_rcnn, save_file, eps, temp)\n",
    "\n",
    "    print(\"ODIN Kitti Val e=%f, T=%d\" % (eps, temp))\n",
    "    kitti_val_X, kitti_val_y = read_scores(save_file)\n",
    "    kitti_val_novelty_scores = -kitti_val_X\n",
    "    results.append(calc_metrics(kitti_val_novelty_scores, 1 - kitti_val_y))"
   ]
  },
  {
   "cell_type": "code",
   "execution_count": 95,
   "metadata": {},
   "outputs": [
    {
     "name": "stdout",
     "output_type": "stream",
     "text": [
      "Best params: (0.0022, 1000)\n"
     ]
    }
   ],
   "source": [
    "best_params = np.argmin([x['fpr_at_95_tpr'] for x in results[1:]])\n",
    "print(\"Best params:\", odin_params[1:][best_params])\n",
    "\n",
    "eps, temp = odin_params[1:][best_params]"
   ]
  },
  {
   "cell_type": "markdown",
   "metadata": {},
   "source": [
    "### Calc results for data using found params"
   ]
  },
  {
   "cell_type": "markdown",
   "metadata": {},
   "source": [
    "#### Kitti train"
   ]
  },
  {
   "cell_type": "code",
   "execution_count": 68,
   "metadata": {
    "scrolled": true
   },
   "outputs": [
    {
     "name": "stderr",
     "output_type": "stream",
     "text": [
      "--- Logging error ---\n",
      "Traceback (most recent call last):\n",
      "--- Logging error ---\n",
      "  File \"/home/tadenoud/anaconda3/envs/nn/lib/python3.7/logging/__init__.py\", line 1029, in emit\n",
      "    self.flush()\n",
      "  File \"/home/tadenoud/anaconda3/envs/nn/lib/python3.7/logging/__init__.py\", line 1009, in flush\n",
      "    self.stream.flush()\n",
      "Traceback (most recent call last):\n",
      "BrokenPipeError: [Errno 32] Broken pipe\n",
      "  File \"/home/tadenoud/anaconda3/envs/nn/lib/python3.7/logging/__init__.py\", line 1029, in emit\n",
      "    self.flush()\n",
      "Call stack:\n",
      "  File \"/home/tadenoud/anaconda3/envs/nn/lib/python3.7/logging/__init__.py\", line 1009, in flush\n",
      "    self.stream.flush()\n",
      "BrokenPipeError: [Errno 32] Broken pipe\n",
      "Call stack:\n",
      "  File \"/home/tadenoud/anaconda3/envs/nn/lib/python3.7/runpy.py\", line 193, in _run_module_as_main\n",
      "    \"__main__\", mod_spec)\n",
      "--- Logging error ---\n",
      "  File \"/home/tadenoud/anaconda3/envs/nn/lib/python3.7/runpy.py\", line 85, in _run_code\n",
      "    exec(code, run_globals)\n",
      "  File \"/home/tadenoud/anaconda3/envs/nn/lib/python3.7/site-packages/ipykernel_launcher.py\", line 16, in <module>\n",
      "    app.launch_new_instance()\n",
      "Traceback (most recent call last):\n",
      "  File \"/home/tadenoud/anaconda3/envs/nn/lib/python3.7/site-packages/traitlets/config/application.py\", line 658, in launch_instance\n",
      "    app.start()\n"
     ]
    },
    {
     "data": {
      "application/vnd.jupyter.widget-view+json": {
       "model_id": "b1db431a9dc74044ac8ec4729828ff93",
       "version_major": 2,
       "version_minor": 0
      },
      "text/plain": [
       "HBox(children=(IntProgress(value=0, max=3260), HTML(value='')))"
      ]
     },
     "metadata": {},
     "output_type": "display_data"
    },
    {
     "name": "stderr",
     "output_type": "stream",
     "text": [
      "  File \"/home/tadenoud/anaconda3/envs/nn/lib/python3.7/runpy.py\", line 193, in _run_module_as_main\n",
      "    \"__main__\", mod_spec)\n",
      "  File \"/home/tadenoud/anaconda3/envs/nn/lib/python3.7/logging/__init__.py\", line 1029, in emit\n",
      "    self.flush()\n",
      "  File \"/home/tadenoud/anaconda3/envs/nn/lib/python3.7/runpy.py\", line 85, in _run_code\n",
      "    exec(code, run_globals)\n",
      "  File \"/home/tadenoud/anaconda3/envs/nn/lib/python3.7/logging/__init__.py\", line 1009, in flush\n",
      "    self.stream.flush()\n",
      "BrokenPipeError: [Errno 32] Broken pipe\n",
      "  File \"/home/tadenoud/anaconda3/envs/nn/lib/python3.7/site-packages/ipykernel_launcher.py\", line 16, in <module>\n",
      "    app.launch_new_instance()\n",
      "  File \"/home/tadenoud/anaconda3/envs/nn/lib/python3.7/site-packages/traitlets/config/application.py\", line 658, in launch_instance\n",
      "    app.start()\n",
      "Call stack:\n",
      "  File \"/home/tadenoud/anaconda3/envs/nn/lib/python3.7/site-packages/ipykernel/kernelapp.py\", line 563, in start\n",
      "    self.io_loop.start()\n",
      "  File \"/home/tadenoud/anaconda3/envs/nn/lib/python3.7/site-packages/ipykernel/kernelapp.py\", line 563, in start\n",
      "    self.io_loop.start()\n",
      "  File \"/home/tadenoud/anaconda3/envs/nn/lib/python3.7/site-packages/tornado/platform/asyncio.py\", line 148, in start\n",
      "    self.asyncio_loop.run_forever()\n",
      "  File \"/home/tadenoud/anaconda3/envs/nn/lib/python3.7/runpy.py\", line 193, in _run_module_as_main\n",
      "    \"__main__\", mod_spec)\n",
      "  File \"/home/tadenoud/anaconda3/envs/nn/lib/python3.7/runpy.py\", line 85, in _run_code\n",
      "    exec(code, run_globals)\n",
      "  File \"/home/tadenoud/anaconda3/envs/nn/lib/python3.7/site-packages/tornado/platform/asyncio.py\", line 148, in start\n",
      "    self.asyncio_loop.run_forever()\n",
      "  File \"/home/tadenoud/anaconda3/envs/nn/lib/python3.7/site-packages/ipykernel_launcher.py\", line 16, in <module>\n",
      "    app.launch_new_instance()\n",
      "  File \"/home/tadenoud/anaconda3/envs/nn/lib/python3.7/asyncio/base_events.py\", line 534, in run_forever\n",
      "    self._run_once()\n",
      "  File \"/home/tadenoud/anaconda3/envs/nn/lib/python3.7/asyncio/base_events.py\", line 534, in run_forever\n",
      "    self._run_once()\n",
      "  File \"/home/tadenoud/anaconda3/envs/nn/lib/python3.7/site-packages/traitlets/config/application.py\", line 658, in launch_instance\n",
      "    app.start()\n",
      "  File \"/home/tadenoud/anaconda3/envs/nn/lib/python3.7/asyncio/base_events.py\", line 1771, in _run_once\n",
      "    handle._run()\n",
      "  File \"/home/tadenoud/anaconda3/envs/nn/lib/python3.7/site-packages/ipykernel/kernelapp.py\", line 563, in start\n",
      "    self.io_loop.start()\n",
      "  File \"/home/tadenoud/anaconda3/envs/nn/lib/python3.7/asyncio/base_events.py\", line 1771, in _run_once\n",
      "    handle._run()\n",
      "  File \"/home/tadenoud/anaconda3/envs/nn/lib/python3.7/site-packages/tornado/platform/asyncio.py\", line 148, in start\n",
      "    self.asyncio_loop.run_forever()\n",
      "  File \"/home/tadenoud/anaconda3/envs/nn/lib/python3.7/asyncio/events.py\", line 88, in _run\n",
      "    self._context.run(self._callback, *self._args)\n",
      "  File \"/home/tadenoud/anaconda3/envs/nn/lib/python3.7/asyncio/events.py\", line 88, in _run\n",
      "    self._context.run(self._callback, *self._args)\n",
      "  File \"/home/tadenoud/anaconda3/envs/nn/lib/python3.7/asyncio/base_events.py\", line 534, in run_forever\n",
      "    self._run_once()\n",
      "  File \"/home/tadenoud/anaconda3/envs/nn/lib/python3.7/site-packages/tornado/ioloop.py\", line 690, in <lambda>\n",
      "    lambda f: self._run_callback(functools.partial(callback, future))\n",
      "  File \"/home/tadenoud/anaconda3/envs/nn/lib/python3.7/site-packages/tornado/ioloop.py\", line 690, in <lambda>\n",
      "    lambda f: self._run_callback(functools.partial(callback, future))\n",
      "  File \"/home/tadenoud/anaconda3/envs/nn/lib/python3.7/asyncio/base_events.py\", line 1771, in _run_once\n",
      "    handle._run()\n",
      "  File \"/home/tadenoud/anaconda3/envs/nn/lib/python3.7/site-packages/tornado/ioloop.py\", line 743, in _run_callback\n",
      "    ret = callback()\n",
      "  File \"/home/tadenoud/anaconda3/envs/nn/lib/python3.7/site-packages/tornado/ioloop.py\", line 743, in _run_callback\n",
      "    ret = callback()\n",
      "  File \"/home/tadenoud/anaconda3/envs/nn/lib/python3.7/site-packages/tornado/gen.py\", line 787, in inner\n",
      "    self.run()\n",
      "  File \"/home/tadenoud/anaconda3/envs/nn/lib/python3.7/asyncio/events.py\", line 88, in _run\n",
      "    self._context.run(self._callback, *self._args)\n",
      "  File \"/home/tadenoud/anaconda3/envs/nn/lib/python3.7/site-packages/tornado/gen.py\", line 748, in run\n",
      "    yielded = self.gen.send(value)\n",
      "  File \"/home/tadenoud/anaconda3/envs/nn/lib/python3.7/site-packages/tornado/gen.py\", line 787, in inner\n",
      "    self.run()\n",
      "  File \"/home/tadenoud/anaconda3/envs/nn/lib/python3.7/site-packages/tornado/ioloop.py\", line 690, in <lambda>\n",
      "    lambda f: self._run_callback(functools.partial(callback, future))\n",
      "  File \"/home/tadenoud/anaconda3/envs/nn/lib/python3.7/site-packages/ipykernel/kernelbase.py\", line 378, in dispatch_queue\n",
      "    yield self.process_one()\n",
      "  File \"/home/tadenoud/anaconda3/envs/nn/lib/python3.7/site-packages/tornado/gen.py\", line 748, in run\n",
      "    yielded = self.gen.send(value)\n",
      "  File \"/home/tadenoud/anaconda3/envs/nn/lib/python3.7/site-packages/tornado/gen.py\", line 225, in wrapper\n",
      "    runner = Runner(result, future, yielded)\n",
      "  File \"/home/tadenoud/anaconda3/envs/nn/lib/python3.7/site-packages/ipykernel/kernelbase.py\", line 378, in dispatch_queue\n",
      "    yield self.process_one()\n",
      "  File \"/home/tadenoud/anaconda3/envs/nn/lib/python3.7/site-packages/tornado/ioloop.py\", line 743, in _run_callback\n",
      "    ret = callback()\n",
      "  File \"/home/tadenoud/anaconda3/envs/nn/lib/python3.7/site-packages/tornado/gen.py\", line 714, in __init__\n",
      "    self.run()\n",
      "  File \"/home/tadenoud/anaconda3/envs/nn/lib/python3.7/site-packages/tornado/gen.py\", line 225, in wrapper\n",
      "    runner = Runner(result, future, yielded)\n",
      "  File \"/home/tadenoud/anaconda3/envs/nn/lib/python3.7/site-packages/tornado/gen.py\", line 748, in run\n",
      "    yielded = self.gen.send(value)\n",
      "  File \"/home/tadenoud/anaconda3/envs/nn/lib/python3.7/site-packages/tornado/gen.py\", line 714, in __init__\n",
      "    self.run()\n",
      "  File \"/home/tadenoud/anaconda3/envs/nn/lib/python3.7/site-packages/ipykernel/kernelbase.py\", line 365, in process_one\n",
      "    yield gen.maybe_future(dispatch(*args))\n",
      "  File \"/home/tadenoud/anaconda3/envs/nn/lib/python3.7/site-packages/tornado/gen.py\", line 748, in run\n",
      "    yielded = self.gen.send(value)\n",
      "  File \"/home/tadenoud/anaconda3/envs/nn/lib/python3.7/site-packages/tornado/gen.py\", line 209, in wrapper\n",
      "    yielded = next(result)\n",
      "  File \"/home/tadenoud/anaconda3/envs/nn/lib/python3.7/site-packages/tornado/gen.py\", line 787, in inner\n",
      "    self.run()\n",
      "  File \"/home/tadenoud/anaconda3/envs/nn/lib/python3.7/site-packages/ipykernel/kernelbase.py\", line 365, in process_one\n",
      "    yield gen.maybe_future(dispatch(*args))\n",
      "  File \"/home/tadenoud/anaconda3/envs/nn/lib/python3.7/site-packages/ipykernel/kernelbase.py\", line 272, in dispatch_shell\n",
      "    yield gen.maybe_future(handler(stream, idents, msg))\n",
      "  File \"/home/tadenoud/anaconda3/envs/nn/lib/python3.7/site-packages/tornado/gen.py\", line 748, in run\n",
      "    yielded = self.gen.send(value)\n",
      "  File \"/home/tadenoud/anaconda3/envs/nn/lib/python3.7/site-packages/tornado/gen.py\", line 209, in wrapper\n",
      "    yielded = next(result)\n",
      "  File \"/home/tadenoud/anaconda3/envs/nn/lib/python3.7/site-packages/tornado/gen.py\", line 209, in wrapper\n",
      "    yielded = next(result)\n",
      "  File \"/home/tadenoud/anaconda3/envs/nn/lib/python3.7/site-packages/ipykernel/kernelbase.py\", line 378, in dispatch_queue\n",
      "    yield self.process_one()\n",
      "  File \"/home/tadenoud/anaconda3/envs/nn/lib/python3.7/site-packages/ipykernel/kernelbase.py\", line 542, in execute_request\n",
      "    user_expressions, allow_stdin,\n",
      "  File \"/home/tadenoud/anaconda3/envs/nn/lib/python3.7/site-packages/ipykernel/kernelbase.py\", line 272, in dispatch_shell\n",
      "    yield gen.maybe_future(handler(stream, idents, msg))\n",
      "  File \"/home/tadenoud/anaconda3/envs/nn/lib/python3.7/site-packages/tornado/gen.py\", line 225, in wrapper\n",
      "    runner = Runner(result, future, yielded)\n",
      "  File \"/home/tadenoud/anaconda3/envs/nn/lib/python3.7/site-packages/tornado/gen.py\", line 209, in wrapper\n",
      "    yielded = next(result)\n",
      "  File \"/home/tadenoud/anaconda3/envs/nn/lib/python3.7/site-packages/tornado/gen.py\", line 209, in wrapper\n",
      "    yielded = next(result)\n",
      "  File \"/home/tadenoud/anaconda3/envs/nn/lib/python3.7/site-packages/tornado/gen.py\", line 714, in __init__\n",
      "    self.run()\n"
     ]
    },
    {
     "name": "stderr",
     "output_type": "stream",
     "text": [
      "  File \"/home/tadenoud/anaconda3/envs/nn/lib/python3.7/site-packages/ipykernel/kernelbase.py\", line 542, in execute_request\n",
      "    user_expressions, allow_stdin,\n",
      "  File \"/home/tadenoud/anaconda3/envs/nn/lib/python3.7/site-packages/tornado/gen.py\", line 748, in run\n",
      "    yielded = self.gen.send(value)\n",
      "  File \"/home/tadenoud/anaconda3/envs/nn/lib/python3.7/site-packages/tornado/gen.py\", line 209, in wrapper\n",
      "    yielded = next(result)\n",
      "  File \"/home/tadenoud/anaconda3/envs/nn/lib/python3.7/site-packages/ipykernel/kernelbase.py\", line 365, in process_one\n",
      "    yield gen.maybe_future(dispatch(*args))\n",
      "  File \"/home/tadenoud/anaconda3/envs/nn/lib/python3.7/site-packages/ipykernel/ipkernel.py\", line 294, in do_execute\n",
      "    res = shell.run_cell(code, store_history=store_history, silent=silent)\n",
      "  File \"/home/tadenoud/anaconda3/envs/nn/lib/python3.7/site-packages/ipykernel/ipkernel.py\", line 294, in do_execute\n",
      "    res = shell.run_cell(code, store_history=store_history, silent=silent)\n",
      "  File \"/home/tadenoud/anaconda3/envs/nn/lib/python3.7/site-packages/tornado/gen.py\", line 209, in wrapper\n",
      "    yielded = next(result)\n",
      "  File \"/home/tadenoud/anaconda3/envs/nn/lib/python3.7/site-packages/ipykernel/zmqshell.py\", line 536, in run_cell\n",
      "    return super(ZMQInteractiveShell, self).run_cell(*args, **kwargs)\n",
      "  File \"/home/tadenoud/anaconda3/envs/nn/lib/python3.7/site-packages/ipykernel/zmqshell.py\", line 536, in run_cell\n",
      "    return super(ZMQInteractiveShell, self).run_cell(*args, **kwargs)\n",
      "  File \"/home/tadenoud/anaconda3/envs/nn/lib/python3.7/site-packages/ipykernel/kernelbase.py\", line 272, in dispatch_shell\n",
      "    yield gen.maybe_future(handler(stream, idents, msg))\n",
      "  File \"/home/tadenoud/anaconda3/envs/nn/lib/python3.7/site-packages/IPython/core/interactiveshell.py\", line 2855, in run_cell\n",
      "    raw_cell, store_history, silent, shell_futures)\n",
      "  File \"/home/tadenoud/anaconda3/envs/nn/lib/python3.7/site-packages/IPython/core/interactiveshell.py\", line 2855, in run_cell\n",
      "    raw_cell, store_history, silent, shell_futures)\n",
      "  File \"/home/tadenoud/anaconda3/envs/nn/lib/python3.7/site-packages/tornado/gen.py\", line 209, in wrapper\n",
      "    yielded = next(result)\n",
      "  File \"/home/tadenoud/anaconda3/envs/nn/lib/python3.7/site-packages/IPython/core/interactiveshell.py\", line 2881, in _run_cell\n",
      "    return runner(coro)\n",
      "  File \"/home/tadenoud/anaconda3/envs/nn/lib/python3.7/site-packages/ipykernel/kernelbase.py\", line 542, in execute_request\n",
      "    user_expressions, allow_stdin,\n",
      "  File \"/home/tadenoud/anaconda3/envs/nn/lib/python3.7/site-packages/IPython/core/async_helpers.py\", line 68, in _pseudo_sync_runner\n",
      "    coro.send(None)\n",
      "  File \"/home/tadenoud/anaconda3/envs/nn/lib/python3.7/site-packages/tornado/gen.py\", line 209, in wrapper\n",
      "    yielded = next(result)\n",
      "  File \"/home/tadenoud/anaconda3/envs/nn/lib/python3.7/site-packages/IPython/core/interactiveshell.py\", line 3058, in run_cell_async\n",
      "    interactivity=interactivity, compiler=compiler, result=result)\n",
      "  File \"/home/tadenoud/anaconda3/envs/nn/lib/python3.7/site-packages/ipykernel/ipkernel.py\", line 294, in do_execute\n",
      "    res = shell.run_cell(code, store_history=store_history, silent=silent)\n",
      "  File \"/home/tadenoud/anaconda3/envs/nn/lib/python3.7/site-packages/IPython/core/interactiveshell.py\", line 2881, in _run_cell\n",
      "    return runner(coro)\n",
      "  File \"/home/tadenoud/anaconda3/envs/nn/lib/python3.7/site-packages/ipykernel/zmqshell.py\", line 536, in run_cell\n",
      "    return super(ZMQInteractiveShell, self).run_cell(*args, **kwargs)\n",
      "  File \"/home/tadenoud/anaconda3/envs/nn/lib/python3.7/site-packages/IPython/core/async_helpers.py\", line 68, in _pseudo_sync_runner\n",
      "    coro.send(None)\n",
      "  File \"/home/tadenoud/anaconda3/envs/nn/lib/python3.7/site-packages/IPython/core/interactiveshell.py\", line 2855, in run_cell\n",
      "    raw_cell, store_history, silent, shell_futures)\n",
      "  File \"/home/tadenoud/anaconda3/envs/nn/lib/python3.7/site-packages/IPython/core/interactiveshell.py\", line 3058, in run_cell_async\n",
      "    interactivity=interactivity, compiler=compiler, result=result)\n",
      "  File \"/home/tadenoud/anaconda3/envs/nn/lib/python3.7/site-packages/IPython/core/interactiveshell.py\", line 2881, in _run_cell\n",
      "    return runner(coro)\n",
      "  File \"/home/tadenoud/anaconda3/envs/nn/lib/python3.7/site-packages/IPython/core/interactiveshell.py\", line 3249, in run_ast_nodes\n",
      "    if (await self.run_code(code, result,  async_=asy)):\n",
      "  File \"/home/tadenoud/anaconda3/envs/nn/lib/python3.7/site-packages/IPython/core/interactiveshell.py\", line 3326, in run_code\n",
      "    exec(code_obj, self.user_global_ns, self.user_ns)\n",
      "  File \"/home/tadenoud/anaconda3/envs/nn/lib/python3.7/site-packages/IPython/core/async_helpers.py\", line 68, in _pseudo_sync_runner\n",
      "    coro.send(None)\n",
      "  File \"<ipython-input-68-4ed923ebcb74>\", line 4, in <module>\n",
      "    extract_kitti_features(kitti_train_dataset, trainer.faster_rcnn, save_file, eps, temp)\n",
      "  File \"/home/tadenoud/anaconda3/envs/nn/lib/python3.7/site-packages/IPython/core/interactiveshell.py\", line 3058, in run_cell_async\n",
      "    interactivity=interactivity, compiler=compiler, result=result)\n",
      "  File \"/home/tadenoud/anaconda3/envs/nn/lib/python3.7/site-packages/IPython/core/interactiveshell.py\", line 3249, in run_ast_nodes\n",
      "    if (await self.run_code(code, result,  async_=asy)):\n",
      "  File \"/home/tadenoud/anaconda3/envs/nn/lib/python3.7/site-packages/IPython/core/interactiveshell.py\", line 3249, in run_ast_nodes\n",
      "    if (await self.run_code(code, result,  async_=asy)):\n",
      "  File \"<ipython-input-8-ef4a010a3feb>\", line 13, in extract_kitti_features\n",
      "    for i, (imgs, sizes, gt_bboxes, gt_labels, _) in tqdm(enumerate(dataloader), total=len(dataset)):\n",
      "  File \"/home/tadenoud/anaconda3/envs/nn/lib/python3.7/site-packages/IPython/core/interactiveshell.py\", line 3326, in run_code\n",
      "    exec(code_obj, self.user_global_ns, self.user_ns)\n",
      "  File \"/home/tadenoud/anaconda3/envs/nn/lib/python3.7/site-packages/torch/utils/data/dataloader.py\", line 278, in __iter__\n",
      "    return _MultiProcessingDataLoaderIter(self)\n",
      "  File \"/home/tadenoud/anaconda3/envs/nn/lib/python3.7/site-packages/IPython/core/interactiveshell.py\", line 3326, in run_code\n",
      "    exec(code_obj, self.user_global_ns, self.user_ns)\n",
      "  File \"<ipython-input-68-4ed923ebcb74>\", line 4, in <module>\n",
      "    extract_kitti_features(kitti_train_dataset, trainer.faster_rcnn, save_file, eps, temp)\n",
      "  File \"/home/tadenoud/anaconda3/envs/nn/lib/python3.7/site-packages/torch/utils/data/dataloader.py\", line 682, in __init__\n",
      "    w.start()\n",
      "  File \"<ipython-input-8-ef4a010a3feb>\", line 13, in extract_kitti_features\n",
      "    for i, (imgs, sizes, gt_bboxes, gt_labels, _) in tqdm(enumerate(dataloader), total=len(dataset)):\n",
      "  File \"<ipython-input-68-4ed923ebcb74>\", line 4, in <module>\n",
      "    extract_kitti_features(kitti_train_dataset, trainer.faster_rcnn, save_file, eps, temp)\n",
      "  File \"/home/tadenoud/anaconda3/envs/nn/lib/python3.7/multiprocessing/process.py\", line 112, in start\n",
      "    self._popen = self._Popen(self)\n",
      "  File \"/home/tadenoud/anaconda3/envs/nn/lib/python3.7/site-packages/torch/utils/data/dataloader.py\", line 278, in __iter__\n",
      "    return _MultiProcessingDataLoaderIter(self)\n",
      "  File \"<ipython-input-8-ef4a010a3feb>\", line 13, in extract_kitti_features\n",
      "    for i, (imgs, sizes, gt_bboxes, gt_labels, _) in tqdm(enumerate(dataloader), total=len(dataset)):\n",
      "  File \"/home/tadenoud/anaconda3/envs/nn/lib/python3.7/multiprocessing/context.py\", line 223, in _Popen\n",
      "    return _default_context.get_context().Process._Popen(process_obj)\n",
      "  File \"/home/tadenoud/anaconda3/envs/nn/lib/python3.7/site-packages/torch/utils/data/dataloader.py\", line 278, in __iter__\n",
      "    return _MultiProcessingDataLoaderIter(self)\n",
      "  File \"/home/tadenoud/anaconda3/envs/nn/lib/python3.7/multiprocessing/context.py\", line 277, in _Popen\n",
      "    return Popen(process_obj)\n",
      "  File \"/home/tadenoud/anaconda3/envs/nn/lib/python3.7/site-packages/torch/utils/data/dataloader.py\", line 682, in __init__\n",
      "    w.start()\n",
      "  File \"/home/tadenoud/anaconda3/envs/nn/lib/python3.7/site-packages/torch/utils/data/dataloader.py\", line 682, in __init__\n",
      "    w.start()\n",
      "  File \"/home/tadenoud/anaconda3/envs/nn/lib/python3.7/multiprocessing/popen_fork.py\", line 20, in __init__\n",
      "    self._launch(process_obj)\n",
      "  File \"/home/tadenoud/anaconda3/envs/nn/lib/python3.7/multiprocessing/process.py\", line 112, in start\n",
      "    self._popen = self._Popen(self)\n"
     ]
    },
    {
     "name": "stderr",
     "output_type": "stream",
     "text": [
      "  File \"/home/tadenoud/anaconda3/envs/nn/lib/python3.7/multiprocessing/process.py\", line 112, in start\n",
      "    self._popen = self._Popen(self)\n",
      "  File \"/home/tadenoud/anaconda3/envs/nn/lib/python3.7/multiprocessing/context.py\", line 223, in _Popen\n",
      "    return _default_context.get_context().Process._Popen(process_obj)\n",
      "  File \"/home/tadenoud/anaconda3/envs/nn/lib/python3.7/multiprocessing/popen_fork.py\", line 74, in _launch\n",
      "    code = process_obj._bootstrap()\n",
      "  File \"/home/tadenoud/anaconda3/envs/nn/lib/python3.7/multiprocessing/process.py\", line 290, in _bootstrap\n",
      "    util._run_after_forkers()\n",
      "  File \"/home/tadenoud/anaconda3/envs/nn/lib/python3.7/multiprocessing/context.py\", line 277, in _Popen\n",
      "    return Popen(process_obj)\n",
      "  File \"/home/tadenoud/anaconda3/envs/nn/lib/python3.7/multiprocessing/util.py\", line 128, in _run_after_forkers\n",
      "    items = list(_afterfork_registry.items())\n",
      "  File \"/home/tadenoud/anaconda3/envs/nn/lib/python3.7/weakref.py\", line 217, in items\n",
      "    yield k, v\n",
      "  File \"/home/tadenoud/anaconda3/envs/nn/lib/python3.7/site-packages/tqdm/std.py\", line 1039, in __del__\n",
      "    self.close()\n",
      "  File \"/home/tadenoud/anaconda3/envs/nn/lib/python3.7/site-packages/tqdm/notebook.py\", line 249, in close\n",
      "    self.sp(bar_style='success')\n",
      "  File \"/home/tadenoud/anaconda3/envs/nn/lib/python3.7/multiprocessing/context.py\", line 223, in _Popen\n",
      "    return _default_context.get_context().Process._Popen(process_obj)\n",
      "  File \"/home/tadenoud/anaconda3/envs/nn/lib/python3.7/multiprocessing/popen_fork.py\", line 20, in __init__\n",
      "    self._launch(process_obj)\n",
      "  File \"/home/tadenoud/anaconda3/envs/nn/lib/python3.7/site-packages/tqdm/notebook.py\", line 176, in display\n",
      "    ptext.value = right\n",
      "  File \"/home/tadenoud/anaconda3/envs/nn/lib/python3.7/multiprocessing/context.py\", line 277, in _Popen\n",
      "    return Popen(process_obj)\n",
      "  File \"/home/tadenoud/anaconda3/envs/nn/lib/python3.7/multiprocessing/popen_fork.py\", line 74, in _launch\n",
      "    code = process_obj._bootstrap()\n",
      "  File \"/home/tadenoud/anaconda3/envs/nn/lib/python3.7/site-packages/traitlets/traitlets.py\", line 585, in __set__\n",
      "    self.set(obj, value)\n",
      "  File \"/home/tadenoud/anaconda3/envs/nn/lib/python3.7/multiprocessing/popen_fork.py\", line 20, in __init__\n",
      "    self._launch(process_obj)\n",
      "  File \"/home/tadenoud/anaconda3/envs/nn/lib/python3.7/site-packages/traitlets/traitlets.py\", line 574, in set\n",
      "    obj._notify_trait(self.name, old_value, new_value)\n",
      "  File \"/home/tadenoud/anaconda3/envs/nn/lib/python3.7/multiprocessing/process.py\", line 290, in _bootstrap\n",
      "    util._run_after_forkers()\n",
      "  File \"/home/tadenoud/anaconda3/envs/nn/lib/python3.7/multiprocessing/popen_fork.py\", line 74, in _launch\n",
      "    code = process_obj._bootstrap()\n",
      "  File \"/home/tadenoud/anaconda3/envs/nn/lib/python3.7/multiprocessing/util.py\", line 128, in _run_after_forkers\n",
      "    items = list(_afterfork_registry.items())\n",
      "  File \"/home/tadenoud/anaconda3/envs/nn/lib/python3.7/multiprocessing/process.py\", line 290, in _bootstrap\n",
      "    util._run_after_forkers()\n",
      "  File \"/home/tadenoud/anaconda3/envs/nn/lib/python3.7/multiprocessing/util.py\", line 128, in _run_after_forkers\n",
      "    items = list(_afterfork_registry.items())\n",
      "  File \"/home/tadenoud/anaconda3/envs/nn/lib/python3.7/site-packages/traitlets/traitlets.py\", line 1139, in _notify_trait\n",
      "    type='change',\n",
      "  File \"/home/tadenoud/anaconda3/envs/nn/lib/python3.7/weakref.py\", line 217, in items\n",
      "    yield k, v\n",
      "  File \"/home/tadenoud/anaconda3/envs/nn/lib/python3.7/site-packages/ipywidgets/widgets/widget.py\", line 605, in notify_change\n",
      "    self.send_state(key=name)\n",
      "  File \"/home/tadenoud/anaconda3/envs/nn/lib/python3.7/weakref.py\", line 217, in items\n",
      "    yield k, v\n",
      "  File \"/home/tadenoud/anaconda3/envs/nn/lib/python3.7/site-packages/tqdm/std.py\", line 1039, in __del__\n",
      "    self.close()\n",
      "  File \"/home/tadenoud/anaconda3/envs/nn/lib/python3.7/site-packages/tqdm/std.py\", line 1039, in __del__\n",
      "    self.close()\n",
      "  File \"/home/tadenoud/anaconda3/envs/nn/lib/python3.7/site-packages/ipywidgets/widgets/widget.py\", line 489, in send_state\n",
      "    self._send(msg, buffers=buffers)\n",
      "  File \"/home/tadenoud/anaconda3/envs/nn/lib/python3.7/site-packages/tqdm/notebook.py\", line 249, in close\n",
      "    self.sp(bar_style='success')\n",
      "  File \"/home/tadenoud/anaconda3/envs/nn/lib/python3.7/site-packages/tqdm/notebook.py\", line 249, in close\n",
      "    self.sp(bar_style='success')\n",
      "  File \"/home/tadenoud/anaconda3/envs/nn/lib/python3.7/site-packages/ipywidgets/widgets/widget.py\", line 737, in _send\n",
      "    self.comm.send(data=msg, buffers=buffers)\n",
      "  File \"/home/tadenoud/anaconda3/envs/nn/lib/python3.7/site-packages/tqdm/notebook.py\", line 176, in display\n",
      "    ptext.value = right\n",
      "  File \"/home/tadenoud/anaconda3/envs/nn/lib/python3.7/site-packages/tqdm/notebook.py\", line 176, in display\n",
      "    ptext.value = right\n",
      "  File \"/home/tadenoud/anaconda3/envs/nn/lib/python3.7/site-packages/ipykernel/comm/comm.py\", line 121, in send\n",
      "    data=data, metadata=metadata, buffers=buffers,\n",
      "  File \"/home/tadenoud/anaconda3/envs/nn/lib/python3.7/site-packages/traitlets/traitlets.py\", line 585, in __set__\n",
      "    self.set(obj, value)\n",
      "  File \"/home/tadenoud/anaconda3/envs/nn/lib/python3.7/site-packages/traitlets/traitlets.py\", line 585, in __set__\n",
      "    self.set(obj, value)\n",
      "  File \"/home/tadenoud/anaconda3/envs/nn/lib/python3.7/site-packages/ipykernel/comm/comm.py\", line 71, in _publish_msg\n",
      "    buffers=buffers,\n",
      "  File \"/home/tadenoud/anaconda3/envs/nn/lib/python3.7/site-packages/traitlets/traitlets.py\", line 574, in set\n",
      "    obj._notify_trait(self.name, old_value, new_value)\n",
      "  File \"/home/tadenoud/anaconda3/envs/nn/lib/python3.7/site-packages/traitlets/traitlets.py\", line 574, in set\n",
      "    obj._notify_trait(self.name, old_value, new_value)\n",
      "  File \"/home/tadenoud/anaconda3/envs/nn/lib/python3.7/site-packages/traitlets/traitlets.py\", line 1139, in _notify_trait\n",
      "    type='change',\n",
      "  File \"/home/tadenoud/anaconda3/envs/nn/lib/python3.7/site-packages/jupyter_client/session.py\", line 716, in send\n",
      "    msg\n",
      "  File \"/home/tadenoud/anaconda3/envs/nn/lib/python3.7/site-packages/ipywidgets/widgets/widget.py\", line 605, in notify_change\n",
      "    self.send_state(key=name)\n",
      "  File \"/home/tadenoud/anaconda3/envs/nn/lib/python3.7/site-packages/traitlets/traitlets.py\", line 1139, in _notify_trait\n",
      "    type='change',\n",
      "  File \"/home/tadenoud/anaconda3/envs/nn/lib/python3.7/site-packages/ipywidgets/widgets/widget.py\", line 489, in send_state\n",
      "    self._send(msg, buffers=buffers)\n",
      "Message: 'WARNING: attempted to send message from fork\\n%s'\n",
      "Arguments: {'header': {'msg_id': '172550b5-881f5dd0e890519f5ba5221b', 'msg_type': 'comm_msg', 'username': 'tadenoud', 'session': '39c835b6-82e0315468f162e7be673a61', 'date': datetime.datetime(2019, 12, 16, 22, 4, 26, 694910, tzinfo=datetime.timezone.utc), 'version': '5.3'}, 'msg_id': '172550b5-881f5dd0e890519f5ba5221b', 'msg_type': 'comm_msg', 'parent_header': {'msg_id': '63b00a9efe94480a836cd80e6b9357a8', 'username': 'username', 'session': 'da51fafc1b914aaa850e650961655943', 'msg_type': 'execute_request', 'version': '5.2', 'date': datetime.datetime(2019, 12, 16, 22, 4, 26, 358301, tzinfo=datetime.timezone.utc)}, 'content': {'data': {'method': 'update', 'state': {'value': ' 342/342 [00:00&lt;00:00, 394.71it/s]'}, 'buffer_paths': []}, 'comm_id': 'cbbee77bd74946409553b69372681d37'}, 'metadata': {}}\n",
      "  File \"/home/tadenoud/anaconda3/envs/nn/lib/python3.7/site-packages/ipywidgets/widgets/widget.py\", line 737, in _send\n",
      "    self.comm.send(data=msg, buffers=buffers)\n",
      "  File \"/home/tadenoud/anaconda3/envs/nn/lib/python3.7/site-packages/ipywidgets/widgets/widget.py\", line 605, in notify_change\n",
      "    self.send_state(key=name)\n",
      "  File \"/home/tadenoud/anaconda3/envs/nn/lib/python3.7/site-packages/ipywidgets/widgets/widget.py\", line 489, in send_state\n",
      "    self._send(msg, buffers=buffers)\n",
      "  File \"/home/tadenoud/anaconda3/envs/nn/lib/python3.7/site-packages/ipywidgets/widgets/widget.py\", line 737, in _send\n",
      "    self.comm.send(data=msg, buffers=buffers)\n",
      "  File \"/home/tadenoud/anaconda3/envs/nn/lib/python3.7/site-packages/ipykernel/comm/comm.py\", line 121, in send\n",
      "    data=data, metadata=metadata, buffers=buffers,\n",
      "  File \"/home/tadenoud/anaconda3/envs/nn/lib/python3.7/site-packages/ipykernel/comm/comm.py\", line 71, in _publish_msg\n",
      "    buffers=buffers,\n"
     ]
    },
    {
     "name": "stderr",
     "output_type": "stream",
     "text": [
      "  File \"/home/tadenoud/anaconda3/envs/nn/lib/python3.7/site-packages/jupyter_client/session.py\", line 716, in send\n",
      "    msg\n",
      "  File \"/home/tadenoud/anaconda3/envs/nn/lib/python3.7/site-packages/ipykernel/comm/comm.py\", line 121, in send\n",
      "    data=data, metadata=metadata, buffers=buffers,\n",
      "Message: 'WARNING: attempted to send message from fork\\n%s'\n",
      "Arguments: {'header': {'msg_id': '9baea56c-7a9aea9f746e6c6f94adcfe9', 'msg_type': 'comm_msg', 'username': 'tadenoud', 'session': '39c835b6-82e0315468f162e7be673a61', 'date': datetime.datetime(2019, 12, 16, 22, 4, 26, 658248, tzinfo=datetime.timezone.utc), 'version': '5.3'}, 'msg_id': '9baea56c-7a9aea9f746e6c6f94adcfe9', 'msg_type': 'comm_msg', 'parent_header': {'msg_id': '63b00a9efe94480a836cd80e6b9357a8', 'username': 'username', 'session': 'da51fafc1b914aaa850e650961655943', 'msg_type': 'execute_request', 'version': '5.2', 'date': datetime.datetime(2019, 12, 16, 22, 4, 26, 358301, tzinfo=datetime.timezone.utc)}, 'content': {'data': {'method': 'update', 'state': {'value': ' 342/342 [00:00&lt;00:00, 412.16it/s]'}, 'buffer_paths': []}, 'comm_id': 'cbbee77bd74946409553b69372681d37'}, 'metadata': {}}\n",
      "  File \"/home/tadenoud/anaconda3/envs/nn/lib/python3.7/site-packages/ipykernel/comm/comm.py\", line 71, in _publish_msg\n",
      "    buffers=buffers,\n",
      "  File \"/home/tadenoud/anaconda3/envs/nn/lib/python3.7/site-packages/jupyter_client/session.py\", line 716, in send\n",
      "    msg\n",
      "Message: 'WARNING: attempted to send message from fork\\n%s'\n",
      "Arguments: {'header': {'msg_id': '2a7658bf-3ddcdf6629ac38b0cfe43cab', 'msg_type': 'comm_msg', 'username': 'tadenoud', 'session': '39c835b6-82e0315468f162e7be673a61', 'date': datetime.datetime(2019, 12, 16, 22, 4, 26, 731947, tzinfo=datetime.timezone.utc), 'version': '5.3'}, 'msg_id': '2a7658bf-3ddcdf6629ac38b0cfe43cab', 'msg_type': 'comm_msg', 'parent_header': {'msg_id': '63b00a9efe94480a836cd80e6b9357a8', 'username': 'username', 'session': 'da51fafc1b914aaa850e650961655943', 'msg_type': 'execute_request', 'version': '5.2', 'date': datetime.datetime(2019, 12, 16, 22, 4, 26, 358301, tzinfo=datetime.timezone.utc)}, 'content': {'data': {'method': 'update', 'state': {'value': ' 342/342 [00:00&lt;00:00, 378.52it/s]'}, 'buffer_paths': []}, 'comm_id': 'cbbee77bd74946409553b69372681d37'}, 'metadata': {}}\n",
      "--- Logging error ---\n",
      "Traceback (most recent call last):\n",
      "  File \"/home/tadenoud/anaconda3/envs/nn/lib/python3.7/logging/__init__.py\", line 1029, in emit\n",
      "    self.flush()\n",
      "  File \"/home/tadenoud/anaconda3/envs/nn/lib/python3.7/logging/__init__.py\", line 1009, in flush\n",
      "    self.stream.flush()\n",
      "BrokenPipeError: [Errno 32] Broken pipe\n",
      "Call stack:\n",
      "  File \"/home/tadenoud/anaconda3/envs/nn/lib/python3.7/runpy.py\", line 193, in _run_module_as_main\n",
      "    \"__main__\", mod_spec)\n",
      "  File \"/home/tadenoud/anaconda3/envs/nn/lib/python3.7/runpy.py\", line 85, in _run_code\n",
      "    exec(code, run_globals)\n",
      "  File \"/home/tadenoud/anaconda3/envs/nn/lib/python3.7/site-packages/ipykernel_launcher.py\", line 16, in <module>\n",
      "    app.launch_new_instance()\n",
      "  File \"/home/tadenoud/anaconda3/envs/nn/lib/python3.7/site-packages/traitlets/config/application.py\", line 658, in launch_instance\n",
      "    app.start()\n",
      "  File \"/home/tadenoud/anaconda3/envs/nn/lib/python3.7/site-packages/ipykernel/kernelapp.py\", line 563, in start\n",
      "    self.io_loop.start()\n",
      "--- Logging error ---\n",
      "  File \"/home/tadenoud/anaconda3/envs/nn/lib/python3.7/site-packages/tornado/platform/asyncio.py\", line 148, in start\n",
      "    self.asyncio_loop.run_forever()\n",
      "  File \"/home/tadenoud/anaconda3/envs/nn/lib/python3.7/asyncio/base_events.py\", line 534, in run_forever\n",
      "    self._run_once()\n",
      "Traceback (most recent call last):\n",
      "  File \"/home/tadenoud/anaconda3/envs/nn/lib/python3.7/logging/__init__.py\", line 1029, in emit\n",
      "    self.flush()\n",
      "  File \"/home/tadenoud/anaconda3/envs/nn/lib/python3.7/logging/__init__.py\", line 1009, in flush\n",
      "    self.stream.flush()\n",
      "BrokenPipeError: [Errno 32] Broken pipe\n",
      "Call stack:\n",
      "  File \"/home/tadenoud/anaconda3/envs/nn/lib/python3.7/asyncio/base_events.py\", line 1771, in _run_once\n",
      "    handle._run()\n",
      "  File \"/home/tadenoud/anaconda3/envs/nn/lib/python3.7/runpy.py\", line 193, in _run_module_as_main\n",
      "    \"__main__\", mod_spec)\n",
      "  File \"/home/tadenoud/anaconda3/envs/nn/lib/python3.7/asyncio/events.py\", line 88, in _run\n",
      "    self._context.run(self._callback, *self._args)\n",
      "--- Logging error ---\n",
      "  File \"/home/tadenoud/anaconda3/envs/nn/lib/python3.7/runpy.py\", line 85, in _run_code\n",
      "    exec(code, run_globals)\n",
      "  File \"/home/tadenoud/anaconda3/envs/nn/lib/python3.7/site-packages/tornado/ioloop.py\", line 690, in <lambda>\n",
      "    lambda f: self._run_callback(functools.partial(callback, future))\n",
      "  File \"/home/tadenoud/anaconda3/envs/nn/lib/python3.7/site-packages/ipykernel_launcher.py\", line 16, in <module>\n",
      "    app.launch_new_instance()\n",
      "Traceback (most recent call last):\n",
      "  File \"/home/tadenoud/anaconda3/envs/nn/lib/python3.7/site-packages/traitlets/config/application.py\", line 658, in launch_instance\n",
      "    app.start()\n",
      "  File \"/home/tadenoud/anaconda3/envs/nn/lib/python3.7/logging/__init__.py\", line 1029, in emit\n",
      "    self.flush()\n",
      "  File \"/home/tadenoud/anaconda3/envs/nn/lib/python3.7/site-packages/ipykernel/kernelapp.py\", line 563, in start\n",
      "    self.io_loop.start()\n",
      "  File \"/home/tadenoud/anaconda3/envs/nn/lib/python3.7/logging/__init__.py\", line 1009, in flush\n",
      "    self.stream.flush()\n",
      "  File \"/home/tadenoud/anaconda3/envs/nn/lib/python3.7/site-packages/tornado/platform/asyncio.py\", line 148, in start\n",
      "    self.asyncio_loop.run_forever()\n",
      "BrokenPipeError: [Errno 32] Broken pipe\n",
      "Call stack:\n",
      "  File \"/home/tadenoud/anaconda3/envs/nn/lib/python3.7/asyncio/base_events.py\", line 534, in run_forever\n",
      "    self._run_once()\n",
      "  File \"/home/tadenoud/anaconda3/envs/nn/lib/python3.7/asyncio/base_events.py\", line 1771, in _run_once\n",
      "    handle._run()\n",
      "  File \"/home/tadenoud/anaconda3/envs/nn/lib/python3.7/site-packages/tornado/ioloop.py\", line 743, in _run_callback\n",
      "    ret = callback()\n",
      "  File \"/home/tadenoud/anaconda3/envs/nn/lib/python3.7/site-packages/tornado/gen.py\", line 787, in inner\n",
      "    self.run()\n",
      "  File \"/home/tadenoud/anaconda3/envs/nn/lib/python3.7/site-packages/tornado/gen.py\", line 748, in run\n",
      "    yielded = self.gen.send(value)\n",
      "  File \"/home/tadenoud/anaconda3/envs/nn/lib/python3.7/site-packages/ipykernel/kernelbase.py\", line 378, in dispatch_queue\n",
      "    yield self.process_one()\n",
      "  File \"/home/tadenoud/anaconda3/envs/nn/lib/python3.7/site-packages/tornado/gen.py\", line 225, in wrapper\n",
      "    runner = Runner(result, future, yielded)\n",
      "  File \"/home/tadenoud/anaconda3/envs/nn/lib/python3.7/site-packages/tornado/gen.py\", line 714, in __init__\n",
      "    self.run()\n",
      "  File \"/home/tadenoud/anaconda3/envs/nn/lib/python3.7/site-packages/tornado/gen.py\", line 748, in run\n",
      "    yielded = self.gen.send(value)\n",
      "  File \"/home/tadenoud/anaconda3/envs/nn/lib/python3.7/runpy.py\", line 193, in _run_module_as_main\n",
      "    \"__main__\", mod_spec)\n",
      "  File \"/home/tadenoud/anaconda3/envs/nn/lib/python3.7/asyncio/events.py\", line 88, in _run\n",
      "    self._context.run(self._callback, *self._args)\n",
      "  File \"/home/tadenoud/anaconda3/envs/nn/lib/python3.7/site-packages/tornado/ioloop.py\", line 690, in <lambda>\n",
      "    lambda f: self._run_callback(functools.partial(callback, future))\n",
      "  File \"/home/tadenoud/anaconda3/envs/nn/lib/python3.7/runpy.py\", line 85, in _run_code\n",
      "    exec(code, run_globals)\n",
      "  File \"/home/tadenoud/anaconda3/envs/nn/lib/python3.7/site-packages/tornado/ioloop.py\", line 743, in _run_callback\n",
      "    ret = callback()\n",
      "  File \"/home/tadenoud/anaconda3/envs/nn/lib/python3.7/site-packages/ipykernel_launcher.py\", line 16, in <module>\n",
      "    app.launch_new_instance()\n",
      "  File \"/home/tadenoud/anaconda3/envs/nn/lib/python3.7/site-packages/traitlets/config/application.py\", line 658, in launch_instance\n",
      "    app.start()\n",
      "  File \"/home/tadenoud/anaconda3/envs/nn/lib/python3.7/site-packages/tornado/gen.py\", line 787, in inner\n",
      "    self.run()\n",
      "  File \"/home/tadenoud/anaconda3/envs/nn/lib/python3.7/site-packages/ipykernel/kernelapp.py\", line 563, in start\n",
      "    self.io_loop.start()\n",
      "  File \"/home/tadenoud/anaconda3/envs/nn/lib/python3.7/site-packages/tornado/gen.py\", line 748, in run\n",
      "    yielded = self.gen.send(value)\n",
      "--- Logging error ---\n",
      "  File \"/home/tadenoud/anaconda3/envs/nn/lib/python3.7/site-packages/tornado/platform/asyncio.py\", line 148, in start\n",
      "    self.asyncio_loop.run_forever()\n"
     ]
    },
    {
     "name": "stderr",
     "output_type": "stream",
     "text": [
      "  File \"/home/tadenoud/anaconda3/envs/nn/lib/python3.7/site-packages/ipykernel/kernelbase.py\", line 378, in dispatch_queue\n",
      "    yield self.process_one()\n",
      "  File \"/home/tadenoud/anaconda3/envs/nn/lib/python3.7/site-packages/ipykernel/kernelbase.py\", line 365, in process_one\n",
      "    yield gen.maybe_future(dispatch(*args))\n",
      "  File \"/home/tadenoud/anaconda3/envs/nn/lib/python3.7/asyncio/base_events.py\", line 534, in run_forever\n",
      "    self._run_once()\n",
      "  File \"/home/tadenoud/anaconda3/envs/nn/lib/python3.7/asyncio/base_events.py\", line 1771, in _run_once\n",
      "    handle._run()\n",
      "Traceback (most recent call last):\n",
      "  File \"/home/tadenoud/anaconda3/envs/nn/lib/python3.7/asyncio/events.py\", line 88, in _run\n",
      "    self._context.run(self._callback, *self._args)\n",
      "  File \"/home/tadenoud/anaconda3/envs/nn/lib/python3.7/logging/__init__.py\", line 1029, in emit\n",
      "    self.flush()\n",
      "  File \"/home/tadenoud/anaconda3/envs/nn/lib/python3.7/site-packages/tornado/gen.py\", line 225, in wrapper\n",
      "    runner = Runner(result, future, yielded)\n",
      "  File \"/home/tadenoud/anaconda3/envs/nn/lib/python3.7/site-packages/tornado/ioloop.py\", line 690, in <lambda>\n",
      "    lambda f: self._run_callback(functools.partial(callback, future))\n",
      "  File \"/home/tadenoud/anaconda3/envs/nn/lib/python3.7/logging/__init__.py\", line 1009, in flush\n",
      "    self.stream.flush()\n",
      "  File \"/home/tadenoud/anaconda3/envs/nn/lib/python3.7/site-packages/tornado/gen.py\", line 714, in __init__\n",
      "    self.run()\n",
      "  File \"/home/tadenoud/anaconda3/envs/nn/lib/python3.7/site-packages/tornado/ioloop.py\", line 743, in _run_callback\n",
      "    ret = callback()\n",
      "BrokenPipeError: [Errno 32] Broken pipe\n",
      "  File \"/home/tadenoud/anaconda3/envs/nn/lib/python3.7/site-packages/tornado/gen.py\", line 748, in run\n",
      "    yielded = self.gen.send(value)\n",
      "Call stack:\n",
      "  File \"/home/tadenoud/anaconda3/envs/nn/lib/python3.7/site-packages/tornado/gen.py\", line 209, in wrapper\n",
      "    yielded = next(result)\n",
      "  File \"/home/tadenoud/anaconda3/envs/nn/lib/python3.7/site-packages/tornado/gen.py\", line 787, in inner\n",
      "    self.run()\n",
      "  File \"/home/tadenoud/anaconda3/envs/nn/lib/python3.7/site-packages/ipykernel/kernelbase.py\", line 365, in process_one\n",
      "    yield gen.maybe_future(dispatch(*args))\n",
      "  File \"/home/tadenoud/anaconda3/envs/nn/lib/python3.7/site-packages/tornado/gen.py\", line 748, in run\n",
      "    yielded = self.gen.send(value)\n",
      "  File \"/home/tadenoud/anaconda3/envs/nn/lib/python3.7/site-packages/ipykernel/kernelbase.py\", line 272, in dispatch_shell\n",
      "    yield gen.maybe_future(handler(stream, idents, msg))\n",
      "  File \"/home/tadenoud/anaconda3/envs/nn/lib/python3.7/site-packages/ipykernel/kernelbase.py\", line 378, in dispatch_queue\n",
      "    yield self.process_one()\n",
      "  File \"/home/tadenoud/anaconda3/envs/nn/lib/python3.7/site-packages/tornado/gen.py\", line 209, in wrapper\n",
      "    yielded = next(result)\n",
      "  File \"/home/tadenoud/anaconda3/envs/nn/lib/python3.7/site-packages/tornado/gen.py\", line 225, in wrapper\n",
      "    runner = Runner(result, future, yielded)\n",
      "  File \"/home/tadenoud/anaconda3/envs/nn/lib/python3.7/site-packages/ipykernel/kernelbase.py\", line 542, in execute_request\n",
      "    user_expressions, allow_stdin,\n",
      "  File \"/home/tadenoud/anaconda3/envs/nn/lib/python3.7/site-packages/tornado/gen.py\", line 714, in __init__\n",
      "    self.run()\n",
      "  File \"/home/tadenoud/anaconda3/envs/nn/lib/python3.7/site-packages/tornado/gen.py\", line 748, in run\n",
      "    yielded = self.gen.send(value)\n",
      "  File \"/home/tadenoud/anaconda3/envs/nn/lib/python3.7/site-packages/tornado/gen.py\", line 209, in wrapper\n",
      "    yielded = next(result)\n",
      "  File \"/home/tadenoud/anaconda3/envs/nn/lib/python3.7/site-packages/ipykernel/kernelbase.py\", line 365, in process_one\n",
      "    yield gen.maybe_future(dispatch(*args))\n",
      "  File \"/home/tadenoud/anaconda3/envs/nn/lib/python3.7/site-packages/tornado/gen.py\", line 209, in wrapper\n",
      "    yielded = next(result)\n",
      "  File \"/home/tadenoud/anaconda3/envs/nn/lib/python3.7/site-packages/tornado/gen.py\", line 209, in wrapper\n",
      "    yielded = next(result)\n",
      "  File \"/home/tadenoud/anaconda3/envs/nn/lib/python3.7/runpy.py\", line 193, in _run_module_as_main\n",
      "    \"__main__\", mod_spec)\n",
      "  File \"/home/tadenoud/anaconda3/envs/nn/lib/python3.7/site-packages/ipykernel/ipkernel.py\", line 294, in do_execute\n",
      "    res = shell.run_cell(code, store_history=store_history, silent=silent)\n",
      "  File \"/home/tadenoud/anaconda3/envs/nn/lib/python3.7/site-packages/ipykernel/kernelbase.py\", line 272, in dispatch_shell\n",
      "    yield gen.maybe_future(handler(stream, idents, msg))\n",
      "  File \"/home/tadenoud/anaconda3/envs/nn/lib/python3.7/site-packages/ipykernel/kernelbase.py\", line 272, in dispatch_shell\n",
      "    yield gen.maybe_future(handler(stream, idents, msg))\n",
      "  File \"/home/tadenoud/anaconda3/envs/nn/lib/python3.7/site-packages/tornado/gen.py\", line 209, in wrapper\n",
      "    yielded = next(result)\n",
      "  File \"/home/tadenoud/anaconda3/envs/nn/lib/python3.7/site-packages/tornado/gen.py\", line 209, in wrapper\n",
      "    yielded = next(result)\n",
      "  File \"/home/tadenoud/anaconda3/envs/nn/lib/python3.7/site-packages/ipykernel/kernelbase.py\", line 542, in execute_request\n",
      "    user_expressions, allow_stdin,\n",
      "  File \"/home/tadenoud/anaconda3/envs/nn/lib/python3.7/site-packages/ipykernel/kernelbase.py\", line 542, in execute_request\n",
      "    user_expressions, allow_stdin,\n",
      "  File \"/home/tadenoud/anaconda3/envs/nn/lib/python3.7/runpy.py\", line 85, in _run_code\n",
      "    exec(code, run_globals)\n",
      "  File \"/home/tadenoud/anaconda3/envs/nn/lib/python3.7/site-packages/tornado/gen.py\", line 209, in wrapper\n",
      "    yielded = next(result)\n",
      "  File \"/home/tadenoud/anaconda3/envs/nn/lib/python3.7/site-packages/tornado/gen.py\", line 209, in wrapper\n",
      "    yielded = next(result)\n",
      "  File \"/home/tadenoud/anaconda3/envs/nn/lib/python3.7/site-packages/ipykernel_launcher.py\", line 16, in <module>\n",
      "    app.launch_new_instance()\n",
      "  File \"/home/tadenoud/anaconda3/envs/nn/lib/python3.7/site-packages/ipykernel/ipkernel.py\", line 294, in do_execute\n",
      "    res = shell.run_cell(code, store_history=store_history, silent=silent)\n",
      "  File \"/home/tadenoud/anaconda3/envs/nn/lib/python3.7/site-packages/ipykernel/ipkernel.py\", line 294, in do_execute\n",
      "    res = shell.run_cell(code, store_history=store_history, silent=silent)\n",
      "  File \"/home/tadenoud/anaconda3/envs/nn/lib/python3.7/site-packages/ipykernel/zmqshell.py\", line 536, in run_cell\n",
      "    return super(ZMQInteractiveShell, self).run_cell(*args, **kwargs)\n",
      "  File \"/home/tadenoud/anaconda3/envs/nn/lib/python3.7/site-packages/traitlets/config/application.py\", line 658, in launch_instance\n",
      "    app.start()\n",
      "  File \"/home/tadenoud/anaconda3/envs/nn/lib/python3.7/site-packages/ipykernel/zmqshell.py\", line 536, in run_cell\n",
      "    return super(ZMQInteractiveShell, self).run_cell(*args, **kwargs)\n",
      "  File \"/home/tadenoud/anaconda3/envs/nn/lib/python3.7/site-packages/ipykernel/zmqshell.py\", line 536, in run_cell\n",
      "    return super(ZMQInteractiveShell, self).run_cell(*args, **kwargs)\n",
      "  File \"/home/tadenoud/anaconda3/envs/nn/lib/python3.7/site-packages/IPython/core/interactiveshell.py\", line 2855, in run_cell\n",
      "    raw_cell, store_history, silent, shell_futures)\n",
      "  File \"/home/tadenoud/anaconda3/envs/nn/lib/python3.7/site-packages/IPython/core/interactiveshell.py\", line 2855, in run_cell\n",
      "    raw_cell, store_history, silent, shell_futures)\n",
      "  File \"/home/tadenoud/anaconda3/envs/nn/lib/python3.7/site-packages/ipykernel/kernelapp.py\", line 563, in start\n",
      "    self.io_loop.start()\n",
      "  File \"/home/tadenoud/anaconda3/envs/nn/lib/python3.7/site-packages/IPython/core/interactiveshell.py\", line 2881, in _run_cell\n",
      "    return runner(coro)\n",
      "  File \"/home/tadenoud/anaconda3/envs/nn/lib/python3.7/site-packages/IPython/core/interactiveshell.py\", line 2881, in _run_cell\n",
      "    return runner(coro)\n",
      "  File \"/home/tadenoud/anaconda3/envs/nn/lib/python3.7/site-packages/IPython/core/interactiveshell.py\", line 2855, in run_cell\n",
      "    raw_cell, store_history, silent, shell_futures)\n",
      "  File \"/home/tadenoud/anaconda3/envs/nn/lib/python3.7/site-packages/tornado/platform/asyncio.py\", line 148, in start\n",
      "    self.asyncio_loop.run_forever()\n",
      "  File \"/home/tadenoud/anaconda3/envs/nn/lib/python3.7/site-packages/IPython/core/async_helpers.py\", line 68, in _pseudo_sync_runner\n",
      "    coro.send(None)\n",
      "  File \"/home/tadenoud/anaconda3/envs/nn/lib/python3.7/site-packages/IPython/core/async_helpers.py\", line 68, in _pseudo_sync_runner\n",
      "    coro.send(None)\n"
     ]
    },
    {
     "name": "stderr",
     "output_type": "stream",
     "text": [
      "  File \"/home/tadenoud/anaconda3/envs/nn/lib/python3.7/site-packages/IPython/core/interactiveshell.py\", line 2881, in _run_cell\n",
      "    return runner(coro)\n",
      "  File \"/home/tadenoud/anaconda3/envs/nn/lib/python3.7/site-packages/IPython/core/interactiveshell.py\", line 3058, in run_cell_async\n",
      "    interactivity=interactivity, compiler=compiler, result=result)\n",
      "  File \"/home/tadenoud/anaconda3/envs/nn/lib/python3.7/asyncio/base_events.py\", line 534, in run_forever\n",
      "    self._run_once()\n",
      "  File \"/home/tadenoud/anaconda3/envs/nn/lib/python3.7/site-packages/IPython/core/async_helpers.py\", line 68, in _pseudo_sync_runner\n",
      "    coro.send(None)\n",
      "  File \"/home/tadenoud/anaconda3/envs/nn/lib/python3.7/site-packages/IPython/core/interactiveshell.py\", line 3058, in run_cell_async\n",
      "    interactivity=interactivity, compiler=compiler, result=result)\n",
      "  File \"/home/tadenoud/anaconda3/envs/nn/lib/python3.7/site-packages/IPython/core/interactiveshell.py\", line 3249, in run_ast_nodes\n",
      "    if (await self.run_code(code, result,  async_=asy)):\n",
      "  File \"/home/tadenoud/anaconda3/envs/nn/lib/python3.7/asyncio/base_events.py\", line 1771, in _run_once\n",
      "    handle._run()\n",
      "  File \"/home/tadenoud/anaconda3/envs/nn/lib/python3.7/site-packages/IPython/core/interactiveshell.py\", line 3058, in run_cell_async\n",
      "    interactivity=interactivity, compiler=compiler, result=result)\n",
      "  File \"/home/tadenoud/anaconda3/envs/nn/lib/python3.7/site-packages/IPython/core/interactiveshell.py\", line 3326, in run_code\n",
      "    exec(code_obj, self.user_global_ns, self.user_ns)\n",
      "  File \"/home/tadenoud/anaconda3/envs/nn/lib/python3.7/asyncio/events.py\", line 88, in _run\n",
      "    self._context.run(self._callback, *self._args)\n",
      "  File \"/home/tadenoud/anaconda3/envs/nn/lib/python3.7/site-packages/IPython/core/interactiveshell.py\", line 3249, in run_ast_nodes\n",
      "    if (await self.run_code(code, result,  async_=asy)):\n",
      "  File \"<ipython-input-68-4ed923ebcb74>\", line 4, in <module>\n",
      "    extract_kitti_features(kitti_train_dataset, trainer.faster_rcnn, save_file, eps, temp)\n",
      "  File \"/home/tadenoud/anaconda3/envs/nn/lib/python3.7/site-packages/tornado/ioloop.py\", line 690, in <lambda>\n",
      "    lambda f: self._run_callback(functools.partial(callback, future))\n",
      "  File \"<ipython-input-8-ef4a010a3feb>\", line 13, in extract_kitti_features\n",
      "    for i, (imgs, sizes, gt_bboxes, gt_labels, _) in tqdm(enumerate(dataloader), total=len(dataset)):\n",
      "  File \"/home/tadenoud/anaconda3/envs/nn/lib/python3.7/site-packages/IPython/core/interactiveshell.py\", line 3326, in run_code\n",
      "    exec(code_obj, self.user_global_ns, self.user_ns)\n",
      "  File \"/home/tadenoud/anaconda3/envs/nn/lib/python3.7/site-packages/tornado/ioloop.py\", line 743, in _run_callback\n",
      "    ret = callback()\n",
      "  File \"/home/tadenoud/anaconda3/envs/nn/lib/python3.7/site-packages/torch/utils/data/dataloader.py\", line 278, in __iter__\n",
      "    return _MultiProcessingDataLoaderIter(self)\n",
      "  File \"/home/tadenoud/anaconda3/envs/nn/lib/python3.7/site-packages/tornado/gen.py\", line 787, in inner\n",
      "    self.run()\n",
      "  File \"<ipython-input-68-4ed923ebcb74>\", line 4, in <module>\n",
      "    extract_kitti_features(kitti_train_dataset, trainer.faster_rcnn, save_file, eps, temp)\n",
      "  File \"<ipython-input-8-ef4a010a3feb>\", line 13, in extract_kitti_features\n",
      "    for i, (imgs, sizes, gt_bboxes, gt_labels, _) in tqdm(enumerate(dataloader), total=len(dataset)):\n",
      "  File \"/home/tadenoud/anaconda3/envs/nn/lib/python3.7/site-packages/torch/utils/data/dataloader.py\", line 682, in __init__\n",
      "    w.start()\n",
      "  File \"/home/tadenoud/anaconda3/envs/nn/lib/python3.7/site-packages/tornado/gen.py\", line 748, in run\n",
      "    yielded = self.gen.send(value)\n",
      "  File \"/home/tadenoud/anaconda3/envs/nn/lib/python3.7/site-packages/torch/utils/data/dataloader.py\", line 278, in __iter__\n",
      "    return _MultiProcessingDataLoaderIter(self)\n",
      "  File \"/home/tadenoud/anaconda3/envs/nn/lib/python3.7/multiprocessing/process.py\", line 112, in start\n",
      "    self._popen = self._Popen(self)\n",
      "  File \"/home/tadenoud/anaconda3/envs/nn/lib/python3.7/site-packages/ipykernel/kernelbase.py\", line 378, in dispatch_queue\n",
      "    yield self.process_one()\n",
      "  File \"/home/tadenoud/anaconda3/envs/nn/lib/python3.7/multiprocessing/context.py\", line 223, in _Popen\n",
      "    return _default_context.get_context().Process._Popen(process_obj)\n",
      "  File \"/home/tadenoud/anaconda3/envs/nn/lib/python3.7/site-packages/tornado/gen.py\", line 225, in wrapper\n",
      "    runner = Runner(result, future, yielded)\n",
      "  File \"/home/tadenoud/anaconda3/envs/nn/lib/python3.7/site-packages/torch/utils/data/dataloader.py\", line 682, in __init__\n",
      "    w.start()\n",
      "  File \"/home/tadenoud/anaconda3/envs/nn/lib/python3.7/site-packages/tornado/gen.py\", line 714, in __init__\n",
      "    self.run()\n",
      "  File \"/home/tadenoud/anaconda3/envs/nn/lib/python3.7/multiprocessing/process.py\", line 112, in start\n",
      "    self._popen = self._Popen(self)\n",
      "  File \"/home/tadenoud/anaconda3/envs/nn/lib/python3.7/multiprocessing/context.py\", line 277, in _Popen\n",
      "    return Popen(process_obj)\n",
      "  File \"/home/tadenoud/anaconda3/envs/nn/lib/python3.7/site-packages/tornado/gen.py\", line 748, in run\n",
      "    yielded = self.gen.send(value)\n",
      "  File \"/home/tadenoud/anaconda3/envs/nn/lib/python3.7/multiprocessing/context.py\", line 223, in _Popen\n",
      "    return _default_context.get_context().Process._Popen(process_obj)\n",
      "  File \"/home/tadenoud/anaconda3/envs/nn/lib/python3.7/site-packages/ipykernel/kernelbase.py\", line 365, in process_one\n",
      "    yield gen.maybe_future(dispatch(*args))\n",
      "  File \"/home/tadenoud/anaconda3/envs/nn/lib/python3.7/multiprocessing/popen_fork.py\", line 20, in __init__\n",
      "    self._launch(process_obj)\n",
      "  File \"/home/tadenoud/anaconda3/envs/nn/lib/python3.7/multiprocessing/context.py\", line 277, in _Popen\n",
      "    return Popen(process_obj)\n",
      "  File \"/home/tadenoud/anaconda3/envs/nn/lib/python3.7/site-packages/tornado/gen.py\", line 209, in wrapper\n",
      "    yielded = next(result)\n",
      "  File \"/home/tadenoud/anaconda3/envs/nn/lib/python3.7/multiprocessing/popen_fork.py\", line 74, in _launch\n",
      "    code = process_obj._bootstrap()\n",
      "  File \"/home/tadenoud/anaconda3/envs/nn/lib/python3.7/multiprocessing/popen_fork.py\", line 20, in __init__\n",
      "    self._launch(process_obj)\n",
      "  File \"/home/tadenoud/anaconda3/envs/nn/lib/python3.7/site-packages/ipykernel/kernelbase.py\", line 272, in dispatch_shell\n",
      "    yield gen.maybe_future(handler(stream, idents, msg))\n",
      "  File \"/home/tadenoud/anaconda3/envs/nn/lib/python3.7/multiprocessing/process.py\", line 297, in _bootstrap\n",
      "    self.run()\n",
      "  File \"/home/tadenoud/anaconda3/envs/nn/lib/python3.7/multiprocessing/popen_fork.py\", line 74, in _launch\n",
      "    code = process_obj._bootstrap()\n",
      "  File \"/home/tadenoud/anaconda3/envs/nn/lib/python3.7/site-packages/tornado/gen.py\", line 209, in wrapper\n",
      "    yielded = next(result)\n",
      "  File \"/home/tadenoud/anaconda3/envs/nn/lib/python3.7/multiprocessing/process.py\", line 99, in run\n",
      "    self._target(*self._args, **self._kwargs)\n",
      "  File \"/home/tadenoud/anaconda3/envs/nn/lib/python3.7/site-packages/ipykernel/kernelbase.py\", line 542, in execute_request\n",
      "    user_expressions, allow_stdin,\n",
      "  File \"/home/tadenoud/anaconda3/envs/nn/lib/python3.7/site-packages/torch/utils/data/_utils/worker.py\", line 178, in _worker_loop\n",
      "    data = fetcher.fetch(index)\n",
      "  File \"/home/tadenoud/anaconda3/envs/nn/lib/python3.7/multiprocessing/process.py\", line 297, in _bootstrap\n",
      "    self.run()\n",
      "  File \"/home/tadenoud/anaconda3/envs/nn/lib/python3.7/site-packages/tornado/gen.py\", line 209, in wrapper\n",
      "    yielded = next(result)\n",
      "  File \"/home/tadenoud/anaconda3/envs/nn/lib/python3.7/multiprocessing/process.py\", line 99, in run\n",
      "    self._target(*self._args, **self._kwargs)\n",
      "  File \"/home/tadenoud/anaconda3/envs/nn/lib/python3.7/site-packages/ipykernel/ipkernel.py\", line 294, in do_execute\n",
      "    res = shell.run_cell(code, store_history=store_history, silent=silent)\n",
      "  File \"/home/tadenoud/anaconda3/envs/nn/lib/python3.7/site-packages/torch/utils/data/_utils/worker.py\", line 178, in _worker_loop\n",
      "    data = fetcher.fetch(index)\n",
      "  File \"/home/tadenoud/anaconda3/envs/nn/lib/python3.7/site-packages/torch/utils/data/_utils/fetch.py\", line 44, in fetch\n",
      "    data = [self.dataset[idx] for idx in possibly_batched_index]\n",
      "  File \"/home/tadenoud/anaconda3/envs/nn/lib/python3.7/site-packages/ipykernel/zmqshell.py\", line 536, in run_cell\n",
      "    return super(ZMQInteractiveShell, self).run_cell(*args, **kwargs)\n"
     ]
    },
    {
     "name": "stderr",
     "output_type": "stream",
     "text": [
      "  File \"/home/tadenoud/anaconda3/envs/nn/lib/python3.7/site-packages/torch/utils/data/_utils/fetch.py\", line 44, in <listcomp>\n",
      "    data = [self.dataset[idx] for idx in possibly_batched_index]\n",
      "  File \"/home/tadenoud/anaconda3/envs/nn/lib/python3.7/site-packages/torch/utils/data/_utils/fetch.py\", line 44, in fetch\n",
      "    data = [self.dataset[idx] for idx in possibly_batched_index]\n",
      "  File \"/home/tadenoud/anaconda3/envs/nn/lib/python3.7/site-packages/IPython/core/interactiveshell.py\", line 2855, in run_cell\n",
      "    raw_cell, store_history, silent, shell_futures)\n",
      "  File \"/home/tadenoud/Git/simple-faster-rcnn-pytorch/data/dataset.py\", line 138, in __getitem__\n",
      "    ori_img, bbox, label, difficult = self.db.get_example(idx)\n",
      "  File \"/home/tadenoud/anaconda3/envs/nn/lib/python3.7/site-packages/IPython/core/interactiveshell.py\", line 3249, in run_ast_nodes\n",
      "    if (await self.run_code(code, result,  async_=asy)):\n",
      "  File \"/home/tadenoud/anaconda3/envs/nn/lib/python3.7/site-packages/IPython/core/interactiveshell.py\", line 2881, in _run_cell\n",
      "    return runner(coro)\n",
      "  File \"/home/tadenoud/Git/simple-faster-rcnn-pytorch/data/voc_dataset.py\", line 169, in get_example\n",
      "    img = read_image(img_file, color=True)\n",
      "  File \"/home/tadenoud/anaconda3/envs/nn/lib/python3.7/site-packages/torch/utils/data/_utils/fetch.py\", line 44, in <listcomp>\n",
      "    data = [self.dataset[idx] for idx in possibly_batched_index]\n",
      "  File \"/home/tadenoud/anaconda3/envs/nn/lib/python3.7/site-packages/IPython/core/async_helpers.py\", line 68, in _pseudo_sync_runner\n",
      "    coro.send(None)\n",
      "  File \"/home/tadenoud/anaconda3/envs/nn/lib/python3.7/site-packages/IPython/core/interactiveshell.py\", line 3326, in run_code\n",
      "    exec(code_obj, self.user_global_ns, self.user_ns)\n",
      "  File \"/home/tadenoud/Git/simple-faster-rcnn-pytorch/data/dataset.py\", line 138, in __getitem__\n",
      "    ori_img, bbox, label, difficult = self.db.get_example(idx)\n",
      "  File \"/home/tadenoud/anaconda3/envs/nn/lib/python3.7/site-packages/IPython/core/interactiveshell.py\", line 3058, in run_cell_async\n",
      "    interactivity=interactivity, compiler=compiler, result=result)\n",
      "  File \"/home/tadenoud/Git/simple-faster-rcnn-pytorch/data/voc_dataset.py\", line 169, in get_example\n",
      "    img = read_image(img_file, color=True)\n",
      "  File \"/home/tadenoud/anaconda3/envs/nn/lib/python3.7/site-packages/IPython/core/interactiveshell.py\", line 3249, in run_ast_nodes\n",
      "    if (await self.run_code(code, result,  async_=asy)):\n",
      "  File \"/home/tadenoud/Git/simple-faster-rcnn-pytorch/data/util.py\", line 26, in read_image\n",
      "    f = Image.open(path)\n",
      "  File \"/home/tadenoud/anaconda3/envs/nn/lib/python3.7/site-packages/IPython/core/interactiveshell.py\", line 3326, in run_code\n",
      "    exec(code_obj, self.user_global_ns, self.user_ns)\n",
      "  File \"/home/tadenoud/Git/simple-faster-rcnn-pytorch/data/util.py\", line 26, in read_image\n",
      "    f = Image.open(path)\n",
      "  File \"<ipython-input-68-4ed923ebcb74>\", line 4, in <module>\n",
      "    extract_kitti_features(kitti_train_dataset, trainer.faster_rcnn, save_file, eps, temp)\n",
      "  File \"/home/tadenoud/anaconda3/envs/nn/lib/python3.7/site-packages/PIL/Image.py\", line 2781, in open\n",
      "    preinit()\n",
      "  File \"<ipython-input-68-4ed923ebcb74>\", line 4, in <module>\n",
      "    extract_kitti_features(kitti_train_dataset, trainer.faster_rcnn, save_file, eps, temp)\n",
      "  File \"<ipython-input-8-ef4a010a3feb>\", line 13, in extract_kitti_features\n",
      "    for i, (imgs, sizes, gt_bboxes, gt_labels, _) in tqdm(enumerate(dataloader), total=len(dataset)):\n",
      "  File \"<ipython-input-8-ef4a010a3feb>\", line 13, in extract_kitti_features\n",
      "    for i, (imgs, sizes, gt_bboxes, gt_labels, _) in tqdm(enumerate(dataloader), total=len(dataset)):\n",
      "  File \"/home/tadenoud/anaconda3/envs/nn/lib/python3.7/site-packages/PIL/Image.py\", line 2781, in open\n",
      "    preinit()\n",
      "  File \"/home/tadenoud/anaconda3/envs/nn/lib/python3.7/site-packages/torch/utils/data/dataloader.py\", line 278, in __iter__\n",
      "    return _MultiProcessingDataLoaderIter(self)\n",
      "  File \"/home/tadenoud/anaconda3/envs/nn/lib/python3.7/site-packages/PIL/Image.py\", line 393, in preinit\n",
      "    from . import JpegImagePlugin\n",
      "  File \"/home/tadenoud/anaconda3/envs/nn/lib/python3.7/site-packages/PIL/Image.py\", line 393, in preinit\n",
      "    from . import JpegImagePlugin\n",
      "  File \"/home/tadenoud/anaconda3/envs/nn/lib/python3.7/site-packages/torch/utils/data/dataloader.py\", line 278, in __iter__\n",
      "    return _MultiProcessingDataLoaderIter(self)\n",
      "  File \"/home/tadenoud/anaconda3/envs/nn/lib/python3.7/site-packages/torch/utils/data/dataloader.py\", line 682, in __init__\n",
      "    w.start()\n",
      "  File \"/home/tadenoud/anaconda3/envs/nn/lib/python3.7/site-packages/torch/utils/data/dataloader.py\", line 682, in __init__\n",
      "    w.start()\n",
      "  File \"<frozen importlib._bootstrap>\", line 1035, in _handle_fromlist\n",
      "  File \"/home/tadenoud/anaconda3/envs/nn/lib/python3.7/multiprocessing/process.py\", line 112, in start\n",
      "    self._popen = self._Popen(self)\n",
      "  File \"/home/tadenoud/anaconda3/envs/nn/lib/python3.7/multiprocessing/process.py\", line 112, in start\n",
      "    self._popen = self._Popen(self)\n",
      "  File \"<frozen importlib._bootstrap>\", line 219, in _call_with_frames_removed\n",
      "  File \"/home/tadenoud/anaconda3/envs/nn/lib/python3.7/multiprocessing/context.py\", line 223, in _Popen\n",
      "    return _default_context.get_context().Process._Popen(process_obj)\n",
      "  File \"/home/tadenoud/anaconda3/envs/nn/lib/python3.7/multiprocessing/context.py\", line 223, in _Popen\n",
      "    return _default_context.get_context().Process._Popen(process_obj)\n",
      "  File \"<frozen importlib._bootstrap>\", line 983, in _find_and_load\n",
      "  File \"/home/tadenoud/anaconda3/envs/nn/lib/python3.7/multiprocessing/context.py\", line 277, in _Popen\n",
      "    return Popen(process_obj)\n",
      "  File \"/home/tadenoud/anaconda3/envs/nn/lib/python3.7/multiprocessing/context.py\", line 277, in _Popen\n",
      "    return Popen(process_obj)\n",
      "  File \"<frozen importlib._bootstrap>\", line 967, in _find_and_load_unlocked\n",
      "  File \"/home/tadenoud/anaconda3/envs/nn/lib/python3.7/multiprocessing/popen_fork.py\", line 20, in __init__\n",
      "    self._launch(process_obj)\n",
      "  File \"/home/tadenoud/anaconda3/envs/nn/lib/python3.7/multiprocessing/popen_fork.py\", line 20, in __init__\n",
      "    self._launch(process_obj)\n",
      "  File \"<frozen importlib._bootstrap>\", line 677, in _load_unlocked\n",
      "  File \"/home/tadenoud/anaconda3/envs/nn/lib/python3.7/multiprocessing/popen_fork.py\", line 74, in _launch\n",
      "    code = process_obj._bootstrap()\n",
      "  File \"/home/tadenoud/anaconda3/envs/nn/lib/python3.7/multiprocessing/popen_fork.py\", line 74, in _launch\n",
      "    code = process_obj._bootstrap()\n",
      "  File \"<frozen importlib._bootstrap>\", line 1035, in _handle_fromlist\n",
      "  File \"<frozen importlib._bootstrap_external>\", line 728, in exec_module\n",
      "  File \"/home/tadenoud/anaconda3/envs/nn/lib/python3.7/multiprocessing/process.py\", line 297, in _bootstrap\n",
      "    self.run()\n",
      "  File \"/home/tadenoud/anaconda3/envs/nn/lib/python3.7/multiprocessing/process.py\", line 297, in _bootstrap\n",
      "    self.run()\n",
      "  File \"<frozen importlib._bootstrap>\", line 219, in _call_with_frames_removed\n",
      "  File \"<frozen importlib._bootstrap>\", line 219, in _call_with_frames_removed\n",
      "  File \"/home/tadenoud/anaconda3/envs/nn/lib/python3.7/multiprocessing/process.py\", line 99, in run\n",
      "    self._target(*self._args, **self._kwargs)\n",
      "  File \"/home/tadenoud/anaconda3/envs/nn/lib/python3.7/multiprocessing/process.py\", line 99, in run\n",
      "    self._target(*self._args, **self._kwargs)\n",
      "  File \"/home/tadenoud/anaconda3/envs/nn/lib/python3.7/site-packages/PIL/JpegImagePlugin.py\", line 41, in <module>\n",
      "    from . import Image, ImageFile, TiffImagePlugin\n",
      "  File \"/home/tadenoud/anaconda3/envs/nn/lib/python3.7/site-packages/torch/utils/data/_utils/worker.py\", line 178, in _worker_loop\n",
      "    data = fetcher.fetch(index)\n",
      "  File \"/home/tadenoud/anaconda3/envs/nn/lib/python3.7/site-packages/torch/utils/data/_utils/worker.py\", line 178, in _worker_loop\n",
      "    data = fetcher.fetch(index)\n",
      "  File \"<frozen importlib._bootstrap>\", line 983, in _find_and_load\n",
      "  File \"<frozen importlib._bootstrap>\", line 1035, in _handle_fromlist\n",
      "  File \"<frozen importlib._bootstrap>\", line 967, in _find_and_load_unlocked\n",
      "  File \"/home/tadenoud/anaconda3/envs/nn/lib/python3.7/site-packages/torch/utils/data/_utils/fetch.py\", line 44, in fetch\n",
      "    data = [self.dataset[idx] for idx in possibly_batched_index]\n",
      "  File \"<frozen importlib._bootstrap>\", line 677, in _load_unlocked\n"
     ]
    },
    {
     "name": "stderr",
     "output_type": "stream",
     "text": [
      "  File \"/home/tadenoud/anaconda3/envs/nn/lib/python3.7/site-packages/torch/utils/data/_utils/fetch.py\", line 44, in <listcomp>\n",
      "    data = [self.dataset[idx] for idx in possibly_batched_index]\n",
      "  File \"/home/tadenoud/anaconda3/envs/nn/lib/python3.7/site-packages/torch/utils/data/_utils/fetch.py\", line 44, in fetch\n",
      "    data = [self.dataset[idx] for idx in possibly_batched_index]\n",
      "  File \"<frozen importlib._bootstrap_external>\", line 728, in exec_module\n",
      "  File \"<frozen importlib._bootstrap>\", line 219, in _call_with_frames_removed\n",
      "  File \"/home/tadenoud/anaconda3/envs/nn/lib/python3.7/site-packages/torch/utils/data/_utils/fetch.py\", line 44, in <listcomp>\n",
      "    data = [self.dataset[idx] for idx in possibly_batched_index]\n",
      "  File \"/home/tadenoud/anaconda3/envs/nn/lib/python3.7/site-packages/PIL/JpegImagePlugin.py\", line 41, in <module>\n",
      "    from . import Image, ImageFile, TiffImagePlugin\n",
      "  File \"/home/tadenoud/Git/simple-faster-rcnn-pytorch/data/dataset.py\", line 138, in __getitem__\n",
      "    ori_img, bbox, label, difficult = self.db.get_example(idx)\n",
      "  File \"<frozen importlib._bootstrap>\", line 1035, in _handle_fromlist\n",
      "  File \"/home/tadenoud/Git/simple-faster-rcnn-pytorch/data/voc_dataset.py\", line 169, in get_example\n",
      "    img = read_image(img_file, color=True)\n",
      "  File \"<frozen importlib._bootstrap>\", line 219, in _call_with_frames_removed\n",
      "  File \"<frozen importlib._bootstrap>\", line 219, in _call_with_frames_removed\n",
      "  File \"/home/tadenoud/Git/simple-faster-rcnn-pytorch/data/util.py\", line 26, in read_image\n",
      "    f = Image.open(path)\n",
      "  File \"<frozen importlib._bootstrap>\", line 983, in _find_and_load\n",
      "  File \"/home/tadenoud/anaconda3/envs/nn/lib/python3.7/site-packages/PIL/Image.py\", line 2781, in open\n",
      "    preinit()\n",
      "  File \"<frozen importlib._bootstrap>\", line 983, in _find_and_load\n",
      "  File \"<frozen importlib._bootstrap>\", line 967, in _find_and_load_unlocked\n",
      "  File \"/home/tadenoud/anaconda3/envs/nn/lib/python3.7/site-packages/PIL/Image.py\", line 393, in preinit\n",
      "    from . import JpegImagePlugin\n",
      "  File \"<frozen importlib._bootstrap>\", line 967, in _find_and_load_unlocked\n",
      "  File \"<frozen importlib._bootstrap>\", line 677, in _load_unlocked\n",
      "  File \"<frozen importlib._bootstrap>\", line 1035, in _handle_fromlist\n",
      "  File \"<frozen importlib._bootstrap>\", line 677, in _load_unlocked\n",
      "  File \"<frozen importlib._bootstrap_external>\", line 728, in exec_module\n",
      "  File \"<frozen importlib._bootstrap>\", line 219, in _call_with_frames_removed\n",
      "  File \"/home/tadenoud/Git/simple-faster-rcnn-pytorch/data/dataset.py\", line 138, in __getitem__\n",
      "    ori_img, bbox, label, difficult = self.db.get_example(idx)\n",
      "  File \"<frozen importlib._bootstrap_external>\", line 724, in exec_module\n",
      "  File \"<frozen importlib._bootstrap>\", line 219, in _call_with_frames_removed\n",
      "  File \"<frozen importlib._bootstrap>\", line 983, in _find_and_load\n",
      "  File \"/home/tadenoud/Git/simple-faster-rcnn-pytorch/data/voc_dataset.py\", line 169, in get_example\n",
      "    img = read_image(img_file, color=True)\n",
      "  File \"<frozen importlib._bootstrap_external>\", line 857, in get_code\n",
      "  File \"/home/tadenoud/anaconda3/envs/nn/lib/python3.7/site-packages/PIL/TiffImagePlugin.py\", line 164, in <module>\n",
      "    (MM, 1, (1,), 1, (2,), ()): (\"L\", \"L;2\"),\n",
      "  File \"/home/tadenoud/Git/simple-faster-rcnn-pytorch/data/util.py\", line 26, in read_image\n",
      "    f = Image.open(path)\n",
      "  File \"/home/tadenoud/anaconda3/envs/nn/lib/python3.7/site-packages/tqdm/std.py\", line 1039, in __del__\n",
      "    self.close()\n",
      "  File \"<frozen importlib._bootstrap>\", line 967, in _find_and_load_unlocked\n",
      "  File \"/home/tadenoud/anaconda3/envs/nn/lib/python3.7/site-packages/PIL/Image.py\", line 2781, in open\n",
      "    preinit()\n",
      "  File \"<frozen importlib._bootstrap_external>\", line 525, in _compile_bytecode\n",
      "  File \"/home/tadenoud/anaconda3/envs/nn/lib/python3.7/site-packages/tqdm/notebook.py\", line 249, in close\n",
      "    self.sp(bar_style='success')\n",
      "  File \"/home/tadenoud/anaconda3/envs/nn/lib/python3.7/site-packages/tqdm/std.py\", line 1039, in __del__\n",
      "    self.close()\n",
      "  File \"<frozen importlib._bootstrap>\", line 677, in _load_unlocked\n",
      "  File \"/home/tadenoud/anaconda3/envs/nn/lib/python3.7/site-packages/tqdm/notebook.py\", line 176, in display\n",
      "    ptext.value = right\n",
      "  File \"/home/tadenoud/anaconda3/envs/nn/lib/python3.7/site-packages/PIL/Image.py\", line 393, in preinit\n",
      "    from . import JpegImagePlugin\n",
      "  File \"/home/tadenoud/anaconda3/envs/nn/lib/python3.7/site-packages/tqdm/notebook.py\", line 249, in close\n",
      "    self.sp(bar_style='success')\n",
      "  File \"<frozen importlib._bootstrap>\", line 1035, in _handle_fromlist\n",
      "  File \"/home/tadenoud/anaconda3/envs/nn/lib/python3.7/site-packages/tqdm/notebook.py\", line 176, in display\n",
      "    ptext.value = right\n",
      "  File \"<frozen importlib._bootstrap_external>\", line 728, in exec_module\n",
      "  File \"<frozen importlib._bootstrap>\", line 219, in _call_with_frames_removed\n",
      "  File \"/home/tadenoud/anaconda3/envs/nn/lib/python3.7/site-packages/traitlets/traitlets.py\", line 585, in __set__\n",
      "    self.set(obj, value)\n",
      "  File \"<frozen importlib._bootstrap>\", line 219, in _call_with_frames_removed\n",
      "  File \"<frozen importlib._bootstrap>\", line 983, in _find_and_load\n",
      "  File \"/home/tadenoud/anaconda3/envs/nn/lib/python3.7/site-packages/traitlets/traitlets.py\", line 574, in set\n",
      "    obj._notify_trait(self.name, old_value, new_value)\n",
      "  File \"<frozen importlib._bootstrap>\", line 967, in _find_and_load_unlocked\n",
      "  File \"/home/tadenoud/anaconda3/envs/nn/lib/python3.7/site-packages/traitlets/traitlets.py\", line 1139, in _notify_trait\n",
      "    type='change',\n",
      "  File \"/home/tadenoud/anaconda3/envs/nn/lib/python3.7/site-packages/PIL/JpegImagePlugin.py\", line 41, in <module>\n",
      "    from . import Image, ImageFile, TiffImagePlugin\n",
      "  File \"<frozen importlib._bootstrap>\", line 677, in _load_unlocked\n",
      "  File \"/home/tadenoud/anaconda3/envs/nn/lib/python3.7/site-packages/traitlets/traitlets.py\", line 585, in __set__\n",
      "    self.set(obj, value)\n",
      "  File \"<frozen importlib._bootstrap_external>\", line 728, in exec_module\n",
      "  File \"/home/tadenoud/anaconda3/envs/nn/lib/python3.7/site-packages/ipywidgets/widgets/widget.py\", line 605, in notify_change\n",
      "    self.send_state(key=name)\n",
      "  File \"<frozen importlib._bootstrap>\", line 1035, in _handle_fromlist\n",
      "  File \"/home/tadenoud/anaconda3/envs/nn/lib/python3.7/site-packages/traitlets/traitlets.py\", line 574, in set\n",
      "    obj._notify_trait(self.name, old_value, new_value)\n",
      "  File \"/home/tadenoud/anaconda3/envs/nn/lib/python3.7/site-packages/ipywidgets/widgets/widget.py\", line 489, in send_state\n",
      "    self._send(msg, buffers=buffers)\n",
      "  File \"/home/tadenoud/anaconda3/envs/nn/lib/python3.7/site-packages/traitlets/traitlets.py\", line 1139, in _notify_trait\n",
      "    type='change',\n",
      "  File \"/home/tadenoud/anaconda3/envs/nn/lib/python3.7/site-packages/ipywidgets/widgets/widget.py\", line 737, in _send\n",
      "    self.comm.send(data=msg, buffers=buffers)\n",
      "  File \"/home/tadenoud/anaconda3/envs/nn/lib/python3.7/site-packages/ipywidgets/widgets/widget.py\", line 605, in notify_change\n",
      "    self.send_state(key=name)\n",
      "  File \"/home/tadenoud/anaconda3/envs/nn/lib/python3.7/site-packages/ipykernel/comm/comm.py\", line 121, in send\n",
      "    data=data, metadata=metadata, buffers=buffers,\n",
      "  File \"/home/tadenoud/anaconda3/envs/nn/lib/python3.7/site-packages/ipywidgets/widgets/widget.py\", line 489, in send_state\n",
      "    self._send(msg, buffers=buffers)\n",
      "  File \"/home/tadenoud/anaconda3/envs/nn/lib/python3.7/site-packages/ipykernel/comm/comm.py\", line 71, in _publish_msg\n",
      "    buffers=buffers,\n",
      "  File \"/home/tadenoud/anaconda3/envs/nn/lib/python3.7/site-packages/jupyter_client/session.py\", line 716, in send\n",
      "    msg\n",
      "  File \"/home/tadenoud/anaconda3/envs/nn/lib/python3.7/site-packages/ipywidgets/widgets/widget.py\", line 737, in _send\n",
      "    self.comm.send(data=msg, buffers=buffers)\n",
      "Message: 'WARNING: attempted to send message from fork\\n%s'\n",
      "Arguments: {'header': {'msg_id': 'b81818aa-60d618d0b47b9b474b402793', 'msg_type': 'comm_msg', 'username': 'tadenoud', 'session': '39c835b6-82e0315468f162e7be673a61', 'date': datetime.datetime(2019, 12, 16, 22, 4, 26, 841342, tzinfo=datetime.timezone.utc), 'version': '5.3'}, 'msg_id': 'b81818aa-60d618d0b47b9b474b402793', 'msg_type': 'comm_msg', 'parent_header': {'msg_id': '63b00a9efe94480a836cd80e6b9357a8', 'username': 'username', 'session': 'da51fafc1b914aaa850e650961655943', 'msg_type': 'execute_request', 'version': '5.2', 'date': datetime.datetime(2019, 12, 16, 22, 4, 26, 358301, tzinfo=datetime.timezone.utc)}, 'content': {'data': {'method': 'update', 'state': {'value': ' 342/342 [00:01&lt;00:00, 337.68it/s]'}, 'buffer_paths': []}, 'comm_id': 'cbbee77bd74946409553b69372681d37'}, 'metadata': {}}\n"
     ]
    },
    {
     "name": "stderr",
     "output_type": "stream",
     "text": [
      "  File \"/home/tadenoud/anaconda3/envs/nn/lib/python3.7/site-packages/ipykernel/comm/comm.py\", line 121, in send\n",
      "    data=data, metadata=metadata, buffers=buffers,\n",
      "  File \"<frozen importlib._bootstrap>\", line 219, in _call_with_frames_removed\n",
      "  File \"/home/tadenoud/anaconda3/envs/nn/lib/python3.7/site-packages/PIL/JpegImagePlugin.py\", line 41, in <module>\n",
      "    from . import Image, ImageFile, TiffImagePlugin\n",
      "  File \"<frozen importlib._bootstrap>\", line 1035, in _handle_fromlist\n",
      "  File \"<frozen importlib._bootstrap>\", line 219, in _call_with_frames_removed\n",
      "  File \"<frozen importlib._bootstrap>\", line 219, in _call_with_frames_removed\n",
      "  File \"<frozen importlib._bootstrap>\", line 983, in _find_and_load\n",
      "  File \"<frozen importlib._bootstrap>\", line 967, in _find_and_load_unlocked\n",
      "  File \"<frozen importlib._bootstrap>\", line 677, in _load_unlocked\n",
      "  File \"<frozen importlib._bootstrap_external>\", line 724, in exec_module\n",
      "  File \"<frozen importlib._bootstrap>\", line 983, in _find_and_load\n",
      "  File \"<frozen importlib._bootstrap_external>\", line 857, in get_code\n",
      "  File \"<frozen importlib._bootstrap>\", line 967, in _find_and_load_unlocked\n",
      "  File \"/home/tadenoud/anaconda3/envs/nn/lib/python3.7/site-packages/ipykernel/comm/comm.py\", line 71, in _publish_msg\n",
      "    buffers=buffers,\n",
      "  File \"<frozen importlib._bootstrap_external>\", line 525, in _compile_bytecode\n",
      "  File \"/home/tadenoud/anaconda3/envs/nn/lib/python3.7/site-packages/jupyter_client/session.py\", line 716, in send\n",
      "    msg\n",
      "  File \"/home/tadenoud/anaconda3/envs/nn/lib/python3.7/site-packages/tqdm/std.py\", line 1039, in __del__\n",
      "    self.close()\n",
      "  File \"<frozen importlib._bootstrap>\", line 677, in _load_unlocked\n",
      "  File \"/home/tadenoud/anaconda3/envs/nn/lib/python3.7/site-packages/tqdm/notebook.py\", line 249, in close\n",
      "    self.sp(bar_style='success')\n",
      "  File \"<frozen importlib._bootstrap_external>\", line 728, in exec_module\n",
      "  File \"/home/tadenoud/anaconda3/envs/nn/lib/python3.7/site-packages/tqdm/notebook.py\", line 176, in display\n",
      "    ptext.value = right\n",
      "  File \"<frozen importlib._bootstrap>\", line 219, in _call_with_frames_removed\n",
      "  File \"/home/tadenoud/anaconda3/envs/nn/lib/python3.7/site-packages/traitlets/traitlets.py\", line 585, in __set__\n",
      "    self.set(obj, value)\n",
      "  File \"/home/tadenoud/anaconda3/envs/nn/lib/python3.7/site-packages/PIL/TiffImagePlugin.py\", line 238, in <module>\n",
      "    (MM, 3, (1,), 1, (2,), ()): (\"P\", \"P;2\"),\n",
      "  File \"/home/tadenoud/anaconda3/envs/nn/lib/python3.7/site-packages/traitlets/traitlets.py\", line 574, in set\n",
      "    obj._notify_trait(self.name, old_value, new_value)\n",
      "  File \"/home/tadenoud/anaconda3/envs/nn/lib/python3.7/site-packages/traitlets/traitlets.py\", line 1139, in _notify_trait\n",
      "    type='change',\n",
      "Message: 'WARNING: attempted to send message from fork\\n%s'\n",
      "Arguments: {'header': {'msg_id': '85dec071-19b0ac7baa386f5c5487f7d1', 'msg_type': 'comm_msg', 'username': 'tadenoud', 'session': '39c835b6-82e0315468f162e7be673a61', 'date': datetime.datetime(2019, 12, 16, 22, 4, 26, 851343, tzinfo=datetime.timezone.utc), 'version': '5.3'}, 'msg_id': '85dec071-19b0ac7baa386f5c5487f7d1', 'msg_type': 'comm_msg', 'parent_header': {'msg_id': '63b00a9efe94480a836cd80e6b9357a8', 'username': 'username', 'session': 'da51fafc1b914aaa850e650961655943', 'msg_type': 'execute_request', 'version': '5.2', 'date': datetime.datetime(2019, 12, 16, 22, 4, 26, 358301, tzinfo=datetime.timezone.utc)}, 'content': {'data': {'method': 'update', 'state': {'value': ' 342/342 [00:01&lt;00:00, 334.39it/s]'}, 'buffer_paths': []}, 'comm_id': 'cbbee77bd74946409553b69372681d37'}, 'metadata': {}}\n",
      "  File \"/home/tadenoud/anaconda3/envs/nn/lib/python3.7/site-packages/tqdm/std.py\", line 1039, in __del__\n",
      "    self.close()\n",
      "  File \"/home/tadenoud/anaconda3/envs/nn/lib/python3.7/site-packages/ipywidgets/widgets/widget.py\", line 605, in notify_change\n",
      "    self.send_state(key=name)\n",
      "  File \"/home/tadenoud/anaconda3/envs/nn/lib/python3.7/site-packages/ipywidgets/widgets/widget.py\", line 489, in send_state\n",
      "    self._send(msg, buffers=buffers)\n",
      "  File \"/home/tadenoud/anaconda3/envs/nn/lib/python3.7/site-packages/ipywidgets/widgets/widget.py\", line 737, in _send\n",
      "    self.comm.send(data=msg, buffers=buffers)\n",
      "  File \"/home/tadenoud/anaconda3/envs/nn/lib/python3.7/site-packages/ipykernel/comm/comm.py\", line 121, in send\n",
      "    data=data, metadata=metadata, buffers=buffers,\n",
      "  File \"/home/tadenoud/anaconda3/envs/nn/lib/python3.7/site-packages/ipykernel/comm/comm.py\", line 71, in _publish_msg\n",
      "    buffers=buffers,\n",
      "  File \"/home/tadenoud/anaconda3/envs/nn/lib/python3.7/site-packages/tqdm/notebook.py\", line 249, in close\n",
      "    self.sp(bar_style='success')\n",
      "  File \"/home/tadenoud/anaconda3/envs/nn/lib/python3.7/site-packages/jupyter_client/session.py\", line 716, in send\n",
      "    msg\n",
      "  File \"/home/tadenoud/anaconda3/envs/nn/lib/python3.7/site-packages/tqdm/notebook.py\", line 176, in display\n",
      "    ptext.value = right\n",
      "Message: 'WARNING: attempted to send message from fork\\n%s'\n",
      "Arguments: {'header': {'msg_id': 'fd1af8e5-dba9dd9ee62b04ba8a33df78', 'msg_type': 'comm_msg', 'username': 'tadenoud', 'session': '39c835b6-82e0315468f162e7be673a61', 'date': datetime.datetime(2019, 12, 16, 22, 4, 26, 864142, tzinfo=datetime.timezone.utc), 'version': '5.3'}, 'msg_id': 'fd1af8e5-dba9dd9ee62b04ba8a33df78', 'msg_type': 'comm_msg', 'parent_header': {'msg_id': '63b00a9efe94480a836cd80e6b9357a8', 'username': 'username', 'session': 'da51fafc1b914aaa850e650961655943', 'msg_type': 'execute_request', 'version': '5.2', 'date': datetime.datetime(2019, 12, 16, 22, 4, 26, 358301, tzinfo=datetime.timezone.utc)}, 'content': {'data': {'method': 'update', 'state': {'value': ' 342/342 [00:01&lt;00:00, 330.17it/s]'}, 'buffer_paths': []}, 'comm_id': 'cbbee77bd74946409553b69372681d37'}, 'metadata': {}}\n",
      "  File \"/home/tadenoud/anaconda3/envs/nn/lib/python3.7/site-packages/traitlets/traitlets.py\", line 585, in __set__\n",
      "    self.set(obj, value)\n",
      "  File \"/home/tadenoud/anaconda3/envs/nn/lib/python3.7/site-packages/traitlets/traitlets.py\", line 574, in set\n",
      "    obj._notify_trait(self.name, old_value, new_value)\n",
      "  File \"/home/tadenoud/anaconda3/envs/nn/lib/python3.7/site-packages/traitlets/traitlets.py\", line 1139, in _notify_trait\n",
      "    type='change',\n",
      "  File \"/home/tadenoud/anaconda3/envs/nn/lib/python3.7/site-packages/ipywidgets/widgets/widget.py\", line 605, in notify_change\n",
      "    self.send_state(key=name)\n",
      "  File \"/home/tadenoud/anaconda3/envs/nn/lib/python3.7/site-packages/ipywidgets/widgets/widget.py\", line 489, in send_state\n",
      "    self._send(msg, buffers=buffers)\n",
      "  File \"/home/tadenoud/anaconda3/envs/nn/lib/python3.7/site-packages/ipywidgets/widgets/widget.py\", line 737, in _send\n",
      "    self.comm.send(data=msg, buffers=buffers)\n",
      "  File \"/home/tadenoud/anaconda3/envs/nn/lib/python3.7/site-packages/ipykernel/comm/comm.py\", line 121, in send\n",
      "    data=data, metadata=metadata, buffers=buffers,\n",
      "  File \"/home/tadenoud/anaconda3/envs/nn/lib/python3.7/site-packages/ipykernel/comm/comm.py\", line 71, in _publish_msg\n",
      "    buffers=buffers,\n",
      "  File \"/home/tadenoud/anaconda3/envs/nn/lib/python3.7/site-packages/jupyter_client/session.py\", line 716, in send\n",
      "    msg\n",
      "Message: 'WARNING: attempted to send message from fork\\n%s'\n",
      "Arguments: {'header': {'msg_id': '1451b5d5-e003989cbc06b054882c6c32', 'msg_type': 'comm_msg', 'username': 'tadenoud', 'session': '39c835b6-82e0315468f162e7be673a61', 'date': datetime.datetime(2019, 12, 16, 22, 4, 26, 825972, tzinfo=datetime.timezone.utc), 'version': '5.3'}, 'msg_id': '1451b5d5-e003989cbc06b054882c6c32', 'msg_type': 'comm_msg', 'parent_header': {'msg_id': '63b00a9efe94480a836cd80e6b9357a8', 'username': 'username', 'session': 'da51fafc1b914aaa850e650961655943', 'msg_type': 'execute_request', 'version': '5.2', 'date': datetime.datetime(2019, 12, 16, 22, 4, 26, 358301, tzinfo=datetime.timezone.utc)}, 'content': {'data': {'method': 'update', 'state': {'value': ' 342/342 [00:00&lt;00:00, 342.81it/s]'}, 'buffer_paths': []}, 'comm_id': 'cbbee77bd74946409553b69372681d37'}, 'metadata': {}}\n"
     ]
    },
    {
     "name": "stdout",
     "output_type": "stream",
     "text": [
      "\n"
     ]
    },
    {
     "data": {
      "application/vnd.jupyter.widget-view+json": {
       "model_id": "504b5dd120494aa3988c7d4b880d0a9b",
       "version_major": 2,
       "version_minor": 0
      },
      "text/plain": [
       "HBox(children=(IntProgress(value=0, max=3260), HTML(value='')))"
      ]
     },
     "metadata": {},
     "output_type": "display_data"
    },
    {
     "name": "stdout",
     "output_type": "stream",
     "text": [
      "\n"
     ]
    },
    {
     "data": {
      "image/png": "[encoded data removed]",
      "text/plain": [
       "<Figure size 432x288 with 1 Axes>"
      ]
     },
     "metadata": {
      "needs_background": "light"
     },
     "output_type": "display_data"
    },
    {
     "name": "stdout",
     "output_type": "stream",
     "text": [
      "{'fpr_at_95_tpr': 0.6959498730390126, 'detection_error': 0.37295348697938335, 'auroc': 0.7155589856238814, 'aupr_in': 0.46701642982010577, 'aupr_out': 0.8636162597192281}\n"
     ]
    }
   ],
   "source": [
    "save_file = os.path.join(CHECKPOINT_DIR, \"kitti_cars_detections_train_pert_%f_temp_%d.hdf5\" % (eps, temp))\n",
    "\n",
    "if False:# and not os.path.exists(save_file):\n",
    "    extract_kitti_features(kitti_train_dataset, trainer.faster_rcnn, save_file, eps, temp)\n",
    "\n",
    "kitti_train_X, kitti_train_y = read_scores(save_file)\n",
    "kitti_train_novelty_scores = -kitti_train_X\n",
    "plot_roc(kitti_train_novelty_scores, 1 - kitti_train_y, title=\"ODIN KITTI Train e=%f, T=%d\" %(eps, temp))\n",
    "print(calc_metrics(kitti_train_novelty_scores, 1 - kitti_train_y))"
   ]
  },
  {
   "cell_type": "markdown",
   "metadata": {},
   "source": [
    "#### Kitti val"
   ]
  },
  {
   "cell_type": "code",
   "execution_count": 69,
   "metadata": {
    "scrolled": true
   },
   "outputs": [
    {
     "data": {
      "application/vnd.jupyter.widget-view+json": {
       "model_id": "d4d4ab425a4c48d9a26390dca9f96a11",
       "version_major": 2,
       "version_minor": 0
      },
      "text/plain": [
       "HBox(children=(IntProgress(value=0, max=3424), HTML(value='')))"
      ]
     },
     "metadata": {},
     "output_type": "display_data"
    },
    {
     "name": "stdout",
     "output_type": "stream",
     "text": [
      "\n",
      "ODIN Kitti Val e=0.002200, T=1000\n"
     ]
    },
    {
     "data": {
      "application/vnd.jupyter.widget-view+json": {
       "model_id": "d1b28f58cb3d4aebb8c98295395d4065",
       "version_major": 2,
       "version_minor": 0
      },
      "text/plain": [
       "HBox(children=(IntProgress(value=0, max=3424), HTML(value='')))"
      ]
     },
     "metadata": {},
     "output_type": "display_data"
    },
    {
     "name": "stdout",
     "output_type": "stream",
     "text": [
      "\n"
     ]
    },
    {
     "data": {
      "image/png": "[encoded data removed]",
      "text/plain": [
       "<Figure size 432x288 with 1 Axes>"
      ]
     },
     "metadata": {
      "needs_background": "light"
     },
     "output_type": "display_data"
    },
    {
     "name": "stdout",
     "output_type": "stream",
     "text": [
      "{'fpr_at_95_tpr': 0.7221980710201156, 'detection_error': 0.3860885521145636, 'auroc': 0.7044166218627668, 'aupr_in': 0.5760209970505181, 'aupr_out': 0.7874982594339509}\n"
     ]
    }
   ],
   "source": [
    "save_file = os.path.join(CHECKPOINT_DIR, \"kitti_cars_detections_val_pert_%f_temp_%d.hdf5\" % (eps, temp))\n",
    "\n",
    "if False:# and not os.path.exists(save_file):\n",
    "    extract_kitti_features(kitti_val_dataset, trainer.faster_rcnn, save_file, eps, temp)\n",
    "\n",
    "print(\"ODIN Kitti Val e=%f, T=%d\" % (eps, temp))\n",
    "kitti_val_X, kitti_val_y = read_scores(save_file)\n",
    "kitti_val_novelty_scores = -kitti_val_X\n",
    "plot_roc(kitti_val_novelty_scores, 1 - kitti_val_y, title=\"ODIN KITTI Val e=%f, T=%d\" %(eps, temp))\n",
    "print(calc_metrics(kitti_val_novelty_scores, 1 - kitti_val_y))"
   ]
  },
  {
   "cell_type": "markdown",
   "metadata": {},
   "source": [
    "#### IDD val"
   ]
  },
  {
   "cell_type": "code",
   "execution_count": 96,
   "metadata": {
    "scrolled": true
   },
   "outputs": [
    {
     "name": "stderr",
     "output_type": "stream",
     "text": [
      "--- Logging error ---\n",
      "Traceback (most recent call last):\n",
      "  File \"/home/tadenoud/anaconda3/envs/nn/lib/python3.7/logging/__init__.py\", line 1029, in emit\n",
      "    self.flush()\n",
      "  File \"/home/tadenoud/anaconda3/envs/nn/lib/python3.7/logging/__init__.py\", line 1009, in flush\n",
      "    self.stream.flush()\n",
      "BrokenPipeError: [Errno 32] Broken pipe\n",
      "Call stack:\n"
     ]
    },
    {
     "data": {
      "application/vnd.jupyter.widget-view+json": {
       "model_id": "8c9f618860fd4990b0ad7a93b988ccc7",
       "version_major": 2,
       "version_minor": 0
      },
      "text/plain": [
       "HBox(children=(IntProgress(value=0, max=10225), HTML(value='')))"
      ]
     },
     "metadata": {},
     "output_type": "display_data"
    },
    {
     "name": "stderr",
     "output_type": "stream",
     "text": [
      "--- Logging error ---\n",
      "Traceback (most recent call last):\n",
      "  File \"/home/tadenoud/anaconda3/envs/nn/lib/python3.7/logging/__init__.py\", line 1029, in emit\n",
      "    self.flush()\n",
      "  File \"/home/tadenoud/anaconda3/envs/nn/lib/python3.7/logging/__init__.py\", line 1009, in flush\n",
      "    self.stream.flush()\n",
      "BrokenPipeError: [Errno 32] Broken pipe\n",
      "Call stack:\n",
      "  File \"/home/tadenoud/anaconda3/envs/nn/lib/python3.7/runpy.py\", line 193, in _run_module_as_main\n",
      "    \"__main__\", mod_spec)\n",
      "  File \"/home/tadenoud/anaconda3/envs/nn/lib/python3.7/runpy.py\", line 85, in _run_code\n",
      "    exec(code, run_globals)\n",
      "  File \"/home/tadenoud/anaconda3/envs/nn/lib/python3.7/site-packages/ipykernel_launcher.py\", line 16, in <module>\n",
      "    app.launch_new_instance()\n",
      "  File \"/home/tadenoud/anaconda3/envs/nn/lib/python3.7/site-packages/traitlets/config/application.py\", line 658, in launch_instance\n",
      "    app.start()\n",
      "  File \"/home/tadenoud/anaconda3/envs/nn/lib/python3.7/site-packages/ipykernel/kernelapp.py\", line 563, in start\n",
      "    self.io_loop.start()\n",
      "  File \"/home/tadenoud/anaconda3/envs/nn/lib/python3.7/site-packages/tornado/platform/asyncio.py\", line 148, in start\n",
      "    self.asyncio_loop.run_forever()\n",
      "  File \"/home/tadenoud/anaconda3/envs/nn/lib/python3.7/asyncio/base_events.py\", line 534, in run_forever\n",
      "    self._run_once()\n",
      "  File \"/home/tadenoud/anaconda3/envs/nn/lib/python3.7/asyncio/base_events.py\", line 1771, in _run_once\n",
      "    handle._run()\n",
      "  File \"/home/tadenoud/anaconda3/envs/nn/lib/python3.7/asyncio/events.py\", line 88, in _run\n",
      "    self._context.run(self._callback, *self._args)\n",
      "  File \"/home/tadenoud/anaconda3/envs/nn/lib/python3.7/site-packages/tornado/ioloop.py\", line 690, in <lambda>\n",
      "    lambda f: self._run_callback(functools.partial(callback, future))\n",
      "  File \"/home/tadenoud/anaconda3/envs/nn/lib/python3.7/site-packages/tornado/ioloop.py\", line 743, in _run_callback\n",
      "    ret = callback()\n",
      "  File \"/home/tadenoud/anaconda3/envs/nn/lib/python3.7/site-packages/tornado/gen.py\", line 787, in inner\n",
      "    self.run()\n",
      "  File \"/home/tadenoud/anaconda3/envs/nn/lib/python3.7/site-packages/tornado/gen.py\", line 748, in run\n",
      "    yielded = self.gen.send(value)\n",
      "  File \"/home/tadenoud/anaconda3/envs/nn/lib/python3.7/site-packages/ipykernel/kernelbase.py\", line 378, in dispatch_queue\n",
      "    yield self.process_one()\n",
      "  File \"/home/tadenoud/anaconda3/envs/nn/lib/python3.7/site-packages/tornado/gen.py\", line 225, in wrapper\n",
      "    runner = Runner(result, future, yielded)\n",
      "  File \"/home/tadenoud/anaconda3/envs/nn/lib/python3.7/site-packages/tornado/gen.py\", line 714, in __init__\n",
      "    self.run()\n",
      "  File \"/home/tadenoud/anaconda3/envs/nn/lib/python3.7/site-packages/tornado/gen.py\", line 748, in run\n",
      "    yielded = self.gen.send(value)\n",
      "  File \"/home/tadenoud/anaconda3/envs/nn/lib/python3.7/site-packages/ipykernel/kernelbase.py\", line 365, in process_one\n",
      "    yield gen.maybe_future(dispatch(*args))\n",
      "  File \"/home/tadenoud/anaconda3/envs/nn/lib/python3.7/site-packages/tornado/gen.py\", line 209, in wrapper\n",
      "    yielded = next(result)\n",
      "  File \"/home/tadenoud/anaconda3/envs/nn/lib/python3.7/site-packages/ipykernel/kernelbase.py\", line 272, in dispatch_shell\n",
      "    yield gen.maybe_future(handler(stream, idents, msg))\n",
      "  File \"/home/tadenoud/anaconda3/envs/nn/lib/python3.7/site-packages/tornado/gen.py\", line 209, in wrapper\n",
      "    yielded = next(result)\n",
      "  File \"/home/tadenoud/anaconda3/envs/nn/lib/python3.7/site-packages/ipykernel/kernelbase.py\", line 542, in execute_request\n",
      "    user_expressions, allow_stdin,\n",
      "  File \"/home/tadenoud/anaconda3/envs/nn/lib/python3.7/site-packages/tornado/gen.py\", line 209, in wrapper\n",
      "    yielded = next(result)\n",
      "  File \"/home/tadenoud/anaconda3/envs/nn/lib/python3.7/site-packages/ipykernel/ipkernel.py\", line 294, in do_execute\n",
      "    res = shell.run_cell(code, store_history=store_history, silent=silent)\n",
      "  File \"/home/tadenoud/anaconda3/envs/nn/lib/python3.7/site-packages/ipykernel/zmqshell.py\", line 536, in run_cell\n",
      "    return super(ZMQInteractiveShell, self).run_cell(*args, **kwargs)\n",
      "  File \"/home/tadenoud/anaconda3/envs/nn/lib/python3.7/site-packages/IPython/core/interactiveshell.py\", line 2855, in run_cell\n",
      "    raw_cell, store_history, silent, shell_futures)\n",
      "  File \"/home/tadenoud/anaconda3/envs/nn/lib/python3.7/site-packages/IPython/core/interactiveshell.py\", line 2881, in _run_cell\n",
      "    return runner(coro)\n",
      "  File \"/home/tadenoud/anaconda3/envs/nn/lib/python3.7/site-packages/IPython/core/async_helpers.py\", line 68, in _pseudo_sync_runner\n",
      "    coro.send(None)\n",
      "  File \"/home/tadenoud/anaconda3/envs/nn/lib/python3.7/site-packages/IPython/core/interactiveshell.py\", line 3058, in run_cell_async\n",
      "    interactivity=interactivity, compiler=compiler, result=result)\n",
      "  File \"/home/tadenoud/anaconda3/envs/nn/lib/python3.7/site-packages/IPython/core/interactiveshell.py\", line 3249, in run_ast_nodes\n",
      "    if (await self.run_code(code, result,  async_=asy)):\n",
      "  File \"/home/tadenoud/anaconda3/envs/nn/lib/python3.7/site-packages/IPython/core/interactiveshell.py\", line 3326, in run_code\n",
      "    exec(code_obj, self.user_global_ns, self.user_ns)\n",
      "  File \"<ipython-input-96-f531642981ab>\", line 4, in <module>\n",
      "    extract_idd_features(idd_val_dataset, trainer.faster_rcnn, save_file, eps, temp)\n",
      "  File \"<ipython-input-8-ef4a010a3feb>\", line 58, in extract_idd_features\n",
      "    for i, (imgs, gt_bboxes, gt_labels) in tqdm(enumerate(dataloader), total=len(dataset)):\n",
      "  File \"/home/tadenoud/anaconda3/envs/nn/lib/python3.7/site-packages/torch/utils/data/dataloader.py\", line 278, in __iter__\n",
      "    return _MultiProcessingDataLoaderIter(self)\n",
      "  File \"/home/tadenoud/anaconda3/envs/nn/lib/python3.7/site-packages/torch/utils/data/dataloader.py\", line 682, in __init__\n",
      "    w.start()\n",
      "  File \"/home/tadenoud/anaconda3/envs/nn/lib/python3.7/multiprocessing/process.py\", line 112, in start\n",
      "    self._popen = self._Popen(self)\n",
      "  File \"/home/tadenoud/anaconda3/envs/nn/lib/python3.7/multiprocessing/context.py\", line 223, in _Popen\n",
      "    return _default_context.get_context().Process._Popen(process_obj)\n",
      "  File \"/home/tadenoud/anaconda3/envs/nn/lib/python3.7/multiprocessing/context.py\", line 277, in _Popen\n",
      "    return Popen(process_obj)\n",
      "  File \"/home/tadenoud/anaconda3/envs/nn/lib/python3.7/multiprocessing/popen_fork.py\", line 20, in __init__\n",
      "    self._launch(process_obj)\n",
      "  File \"/home/tadenoud/anaconda3/envs/nn/lib/python3.7/multiprocessing/popen_fork.py\", line 74, in _launch\n",
      "    code = process_obj._bootstrap()\n",
      "  File \"/home/tadenoud/anaconda3/envs/nn/lib/python3.7/multiprocessing/process.py\", line 290, in _bootstrap\n",
      "    util._run_after_forkers()\n",
      "  File \"/home/tadenoud/anaconda3/envs/nn/lib/python3.7/multiprocessing/util.py\", line 132, in _run_after_forkers\n",
      "    func(obj)\n",
      "  File \"/home/tadenoud/anaconda3/envs/nn/lib/python3.7/multiprocessing/queues.py\", line 69, in _after_fork\n",
      "    self._notempty = threading.Condition(threading.Lock())\n",
      "  File \"/home/tadenoud/anaconda3/envs/nn/lib/python3.7/threading.py\", line 227, in __init__\n",
      "    self._release_save = lock._release_save\n",
      "  File \"/home/tadenoud/anaconda3/envs/nn/lib/python3.7/site-packages/tqdm/std.py\", line 1039, in __del__\n",
      "    self.close()\n",
      "  File \"/home/tadenoud/anaconda3/envs/nn/lib/python3.7/site-packages/tqdm/notebook.py\", line 249, in close\n",
      "    self.sp(bar_style='success')\n",
      "  File \"/home/tadenoud/anaconda3/envs/nn/lib/python3.7/runpy.py\", line 193, in _run_module_as_main\n",
      "    \"__main__\", mod_spec)\n",
      "  File \"/home/tadenoud/anaconda3/envs/nn/lib/python3.7/site-packages/tqdm/notebook.py\", line 176, in display\n",
      "    ptext.value = right\n",
      "  File \"/home/tadenoud/anaconda3/envs/nn/lib/python3.7/site-packages/traitlets/traitlets.py\", line 585, in __set__\n",
      "    self.set(obj, value)\n",
      "  File \"/home/tadenoud/anaconda3/envs/nn/lib/python3.7/runpy.py\", line 85, in _run_code\n",
      "    exec(code, run_globals)\n",
      "  File \"/home/tadenoud/anaconda3/envs/nn/lib/python3.7/site-packages/traitlets/traitlets.py\", line 574, in set\n",
      "    obj._notify_trait(self.name, old_value, new_value)\n",
      "  File \"/home/tadenoud/anaconda3/envs/nn/lib/python3.7/site-packages/ipykernel_launcher.py\", line 16, in <module>\n",
      "    app.launch_new_instance()\n",
      "  File \"/home/tadenoud/anaconda3/envs/nn/lib/python3.7/site-packages/traitlets/traitlets.py\", line 1139, in _notify_trait\n",
      "    type='change',\n",
      "  File \"/home/tadenoud/anaconda3/envs/nn/lib/python3.7/site-packages/ipywidgets/widgets/widget.py\", line 605, in notify_change\n",
      "    self.send_state(key=name)\n"
     ]
    },
    {
     "name": "stderr",
     "output_type": "stream",
     "text": [
      "  File \"/home/tadenoud/anaconda3/envs/nn/lib/python3.7/site-packages/traitlets/config/application.py\", line 658, in launch_instance\n",
      "    app.start()\n",
      "  File \"/home/tadenoud/anaconda3/envs/nn/lib/python3.7/site-packages/ipywidgets/widgets/widget.py\", line 489, in send_state\n",
      "    self._send(msg, buffers=buffers)\n",
      "  File \"/home/tadenoud/anaconda3/envs/nn/lib/python3.7/site-packages/ipywidgets/widgets/widget.py\", line 737, in _send\n",
      "    self.comm.send(data=msg, buffers=buffers)\n",
      "  File \"/home/tadenoud/anaconda3/envs/nn/lib/python3.7/site-packages/ipykernel/comm/comm.py\", line 121, in send\n",
      "    data=data, metadata=metadata, buffers=buffers,\n",
      "  File \"/home/tadenoud/anaconda3/envs/nn/lib/python3.7/site-packages/ipykernel/kernelapp.py\", line 563, in start\n",
      "    self.io_loop.start()\n",
      "  File \"/home/tadenoud/anaconda3/envs/nn/lib/python3.7/site-packages/ipykernel/comm/comm.py\", line 71, in _publish_msg\n",
      "    buffers=buffers,\n",
      "  File \"/home/tadenoud/anaconda3/envs/nn/lib/python3.7/site-packages/tornado/platform/asyncio.py\", line 148, in start\n",
      "    self.asyncio_loop.run_forever()\n",
      "  File \"/home/tadenoud/anaconda3/envs/nn/lib/python3.7/asyncio/base_events.py\", line 534, in run_forever\n",
      "    self._run_once()\n",
      "  File \"/home/tadenoud/anaconda3/envs/nn/lib/python3.7/site-packages/jupyter_client/session.py\", line 716, in send\n",
      "    msg\n",
      "Message: 'WARNING: attempted to send message from fork\\n%s'\n",
      "Arguments: {'header': {'msg_id': '0d969df3-ebd454fd4223ce14ceb997a0', 'msg_type': 'comm_msg', 'username': 'tadenoud', 'session': '39c835b6-82e0315468f162e7be673a61', 'date': datetime.datetime(2019, 12, 17, 14, 55, 8, 337724, tzinfo=datetime.timezone.utc), 'version': '5.3'}, 'msg_id': '0d969df3-ebd454fd4223ce14ceb997a0', 'msg_type': 'comm_msg', 'parent_header': {'msg_id': 'e72b2fc9de5049c0866af40906c33c24', 'username': 'username', 'session': '3d0a25ebf4e84a479ba2e1b145d7cc22', 'msg_type': 'execute_request', 'version': '5.2', 'date': datetime.datetime(2019, 12, 17, 14, 54, 55, 703319, tzinfo=datetime.timezone.utc)}, 'content': {'data': {'method': 'update', 'state': {'value': ' 342/342 [00:21&lt;00:00, 16.08it/s]'}, 'buffer_paths': []}, 'comm_id': '534828d2d1c148be936a0ed58cb9829b'}, 'metadata': {}}\n",
      "  File \"/home/tadenoud/anaconda3/envs/nn/lib/python3.7/asyncio/base_events.py\", line 1771, in _run_once\n",
      "    handle._run()\n",
      "  File \"/home/tadenoud/anaconda3/envs/nn/lib/python3.7/asyncio/events.py\", line 88, in _run\n",
      "    self._context.run(self._callback, *self._args)\n",
      "  File \"/home/tadenoud/anaconda3/envs/nn/lib/python3.7/site-packages/tornado/ioloop.py\", line 690, in <lambda>\n",
      "    lambda f: self._run_callback(functools.partial(callback, future))\n",
      "  File \"/home/tadenoud/anaconda3/envs/nn/lib/python3.7/site-packages/tornado/ioloop.py\", line 743, in _run_callback\n",
      "    ret = callback()\n",
      "  File \"/home/tadenoud/anaconda3/envs/nn/lib/python3.7/site-packages/tornado/gen.py\", line 787, in inner\n",
      "    self.run()\n",
      "  File \"/home/tadenoud/anaconda3/envs/nn/lib/python3.7/site-packages/tornado/gen.py\", line 748, in run\n",
      "    yielded = self.gen.send(value)\n",
      "  File \"/home/tadenoud/anaconda3/envs/nn/lib/python3.7/site-packages/ipykernel/kernelbase.py\", line 378, in dispatch_queue\n",
      "    yield self.process_one()\n",
      "  File \"/home/tadenoud/anaconda3/envs/nn/lib/python3.7/site-packages/tornado/gen.py\", line 225, in wrapper\n",
      "    runner = Runner(result, future, yielded)\n",
      "  File \"/home/tadenoud/anaconda3/envs/nn/lib/python3.7/site-packages/tornado/gen.py\", line 714, in __init__\n",
      "    self.run()\n",
      "  File \"/home/tadenoud/anaconda3/envs/nn/lib/python3.7/site-packages/tornado/gen.py\", line 748, in run\n",
      "    yielded = self.gen.send(value)\n",
      "  File \"/home/tadenoud/anaconda3/envs/nn/lib/python3.7/site-packages/ipykernel/kernelbase.py\", line 365, in process_one\n",
      "    yield gen.maybe_future(dispatch(*args))\n",
      "  File \"/home/tadenoud/anaconda3/envs/nn/lib/python3.7/site-packages/tornado/gen.py\", line 209, in wrapper\n",
      "    yielded = next(result)\n",
      "  File \"/home/tadenoud/anaconda3/envs/nn/lib/python3.7/site-packages/ipykernel/kernelbase.py\", line 272, in dispatch_shell\n",
      "    yield gen.maybe_future(handler(stream, idents, msg))\n",
      "  File \"/home/tadenoud/anaconda3/envs/nn/lib/python3.7/site-packages/tornado/gen.py\", line 209, in wrapper\n",
      "    yielded = next(result)\n",
      "  File \"/home/tadenoud/anaconda3/envs/nn/lib/python3.7/site-packages/ipykernel/kernelbase.py\", line 542, in execute_request\n",
      "    user_expressions, allow_stdin,\n",
      "  File \"/home/tadenoud/anaconda3/envs/nn/lib/python3.7/site-packages/tornado/gen.py\", line 209, in wrapper\n",
      "    yielded = next(result)\n",
      "  File \"/home/tadenoud/anaconda3/envs/nn/lib/python3.7/site-packages/ipykernel/ipkernel.py\", line 294, in do_execute\n",
      "    res = shell.run_cell(code, store_history=store_history, silent=silent)\n",
      "  File \"/home/tadenoud/anaconda3/envs/nn/lib/python3.7/site-packages/ipykernel/zmqshell.py\", line 536, in run_cell\n",
      "    return super(ZMQInteractiveShell, self).run_cell(*args, **kwargs)\n",
      "  File \"/home/tadenoud/anaconda3/envs/nn/lib/python3.7/site-packages/IPython/core/interactiveshell.py\", line 2855, in run_cell\n",
      "    raw_cell, store_history, silent, shell_futures)\n",
      "  File \"/home/tadenoud/anaconda3/envs/nn/lib/python3.7/site-packages/IPython/core/interactiveshell.py\", line 2881, in _run_cell\n",
      "    return runner(coro)\n",
      "  File \"/home/tadenoud/anaconda3/envs/nn/lib/python3.7/site-packages/IPython/core/async_helpers.py\", line 68, in _pseudo_sync_runner\n",
      "    coro.send(None)\n",
      "  File \"/home/tadenoud/anaconda3/envs/nn/lib/python3.7/site-packages/IPython/core/interactiveshell.py\", line 3058, in run_cell_async\n",
      "    interactivity=interactivity, compiler=compiler, result=result)\n",
      "  File \"/home/tadenoud/anaconda3/envs/nn/lib/python3.7/site-packages/IPython/core/interactiveshell.py\", line 3249, in run_ast_nodes\n",
      "    if (await self.run_code(code, result,  async_=asy)):\n",
      "  File \"/home/tadenoud/anaconda3/envs/nn/lib/python3.7/site-packages/IPython/core/interactiveshell.py\", line 3326, in run_code\n",
      "    exec(code_obj, self.user_global_ns, self.user_ns)\n",
      "  File \"<ipython-input-96-f531642981ab>\", line 4, in <module>\n",
      "    extract_idd_features(idd_val_dataset, trainer.faster_rcnn, save_file, eps, temp)\n",
      "  File \"<ipython-input-8-ef4a010a3feb>\", line 58, in extract_idd_features\n",
      "    for i, (imgs, gt_bboxes, gt_labels) in tqdm(enumerate(dataloader), total=len(dataset)):\n",
      "  File \"/home/tadenoud/anaconda3/envs/nn/lib/python3.7/site-packages/torch/utils/data/dataloader.py\", line 278, in __iter__\n",
      "    return _MultiProcessingDataLoaderIter(self)\n",
      "  File \"/home/tadenoud/anaconda3/envs/nn/lib/python3.7/site-packages/torch/utils/data/dataloader.py\", line 682, in __init__\n",
      "    w.start()\n",
      "  File \"/home/tadenoud/anaconda3/envs/nn/lib/python3.7/multiprocessing/process.py\", line 112, in start\n",
      "    self._popen = self._Popen(self)\n",
      "  File \"/home/tadenoud/anaconda3/envs/nn/lib/python3.7/multiprocessing/context.py\", line 223, in _Popen\n",
      "    return _default_context.get_context().Process._Popen(process_obj)\n",
      "  File \"/home/tadenoud/anaconda3/envs/nn/lib/python3.7/multiprocessing/context.py\", line 277, in _Popen\n",
      "    return Popen(process_obj)\n",
      "  File \"/home/tadenoud/anaconda3/envs/nn/lib/python3.7/multiprocessing/popen_fork.py\", line 20, in __init__\n",
      "    self._launch(process_obj)\n",
      "  File \"/home/tadenoud/anaconda3/envs/nn/lib/python3.7/multiprocessing/popen_fork.py\", line 74, in _launch\n",
      "    code = process_obj._bootstrap()\n",
      "  File \"/home/tadenoud/anaconda3/envs/nn/lib/python3.7/multiprocessing/process.py\", line 297, in _bootstrap\n",
      "    self.run()\n",
      "  File \"/home/tadenoud/anaconda3/envs/nn/lib/python3.7/multiprocessing/process.py\", line 99, in run\n",
      "    self._target(*self._args, **self._kwargs)\n",
      "  File \"/home/tadenoud/anaconda3/envs/nn/lib/python3.7/site-packages/torch/utils/data/_utils/worker.py\", line 178, in _worker_loop\n",
      "    data = fetcher.fetch(index)\n",
      "  File \"/home/tadenoud/anaconda3/envs/nn/lib/python3.7/site-packages/torch/utils/data/_utils/fetch.py\", line 44, in fetch\n",
      "    data = [self.dataset[idx] for idx in possibly_batched_index]\n",
      "  File \"/home/tadenoud/anaconda3/envs/nn/lib/python3.7/site-packages/torch/utils/data/_utils/fetch.py\", line 44, in <listcomp>\n",
      "    data = [self.dataset[idx] for idx in possibly_batched_index]\n",
      "  File \"/home/tadenoud/Git/simple-faster-rcnn-pytorch/utils/idd_utils.py\", line 148, in __getitem__\n",
      "    img = read_image(img_name)\n"
     ]
    },
    {
     "name": "stderr",
     "output_type": "stream",
     "text": [
      "--- Logging error ---\n",
      "--- Logging error ---\n",
      "Traceback (most recent call last):\n",
      "  File \"/home/tadenoud/Git/simple-faster-rcnn-pytorch/utils/idd_utils.py\", line 112, in read_image\n",
      "    f = Image.open(path)\n",
      "  File \"/home/tadenoud/anaconda3/envs/nn/lib/python3.7/logging/__init__.py\", line 1029, in emit\n",
      "    self.flush()\n",
      "--- Logging error ---\n",
      "  File \"/home/tadenoud/anaconda3/envs/nn/lib/python3.7/site-packages/PIL/Image.py\", line 2781, in open\n",
      "    preinit()\n",
      "Traceback (most recent call last):\n",
      "Traceback (most recent call last):\n",
      "  File \"/home/tadenoud/anaconda3/envs/nn/lib/python3.7/logging/__init__.py\", line 1029, in emit\n",
      "    self.flush()\n",
      "  File \"/home/tadenoud/anaconda3/envs/nn/lib/python3.7/site-packages/PIL/Image.py\", line 381, in preinit\n",
      "    from . import BmpImagePlugin\n",
      "  File \"/home/tadenoud/anaconda3/envs/nn/lib/python3.7/logging/__init__.py\", line 1029, in emit\n",
      "    self.flush()\n",
      "  File \"<frozen importlib._bootstrap>\", line 1035, in _handle_fromlist\n",
      "  File \"/home/tadenoud/anaconda3/envs/nn/lib/python3.7/logging/__init__.py\", line 1009, in flush\n",
      "    self.stream.flush()\n",
      "  File \"/home/tadenoud/anaconda3/envs/nn/lib/python3.7/logging/__init__.py\", line 1009, in flush\n",
      "    self.stream.flush()\n",
      "  File \"/home/tadenoud/anaconda3/envs/nn/lib/python3.7/logging/__init__.py\", line 1009, in flush\n",
      "    self.stream.flush()\n",
      "BrokenPipeError: [Errno 32] Broken pipe\n",
      "  File \"<frozen importlib._bootstrap>\", line 219, in _call_with_frames_removed\n",
      "BrokenPipeError: [Errno 32] Broken pipe\n",
      "Call stack:\n",
      "BrokenPipeError: [Errno 32] Broken pipe\n",
      "  File \"<frozen importlib._bootstrap>\", line 983, in _find_and_load\n",
      "Call stack:\n",
      "  File \"/home/tadenoud/anaconda3/envs/nn/lib/python3.7/runpy.py\", line 193, in _run_module_as_main\n",
      "    \"__main__\", mod_spec)\n",
      "Call stack:\n",
      "  File \"/home/tadenoud/anaconda3/envs/nn/lib/python3.7/runpy.py\", line 193, in _run_module_as_main\n",
      "    \"__main__\", mod_spec)\n",
      "  File \"<frozen importlib._bootstrap>\", line 963, in _find_and_load_unlocked\n",
      "  File \"/home/tadenoud/anaconda3/envs/nn/lib/python3.7/runpy.py\", line 85, in _run_code\n",
      "    exec(code, run_globals)\n",
      "  File \"<frozen importlib._bootstrap>\", line 898, in _find_spec\n",
      "  File \"/home/tadenoud/anaconda3/envs/nn/lib/python3.7/runpy.py\", line 193, in _run_module_as_main\n",
      "    \"__main__\", mod_spec)\n",
      "  File \"/home/tadenoud/anaconda3/envs/nn/lib/python3.7/site-packages/tqdm/std.py\", line 1039, in __del__\n",
      "    self.close()\n",
      "  File \"/home/tadenoud/anaconda3/envs/nn/lib/python3.7/runpy.py\", line 85, in _run_code\n",
      "    exec(code, run_globals)\n",
      "  File \"/home/tadenoud/anaconda3/envs/nn/lib/python3.7/site-packages/ipykernel_launcher.py\", line 16, in <module>\n",
      "    app.launch_new_instance()\n",
      "  File \"/home/tadenoud/anaconda3/envs/nn/lib/python3.7/site-packages/ipykernel_launcher.py\", line 16, in <module>\n",
      "    app.launch_new_instance()\n",
      "  File \"/home/tadenoud/anaconda3/envs/nn/lib/python3.7/runpy.py\", line 85, in _run_code\n",
      "    exec(code, run_globals)\n",
      "  File \"/home/tadenoud/anaconda3/envs/nn/lib/python3.7/site-packages/traitlets/config/application.py\", line 658, in launch_instance\n",
      "    app.start()\n",
      "  File \"/home/tadenoud/anaconda3/envs/nn/lib/python3.7/site-packages/ipykernel/kernelapp.py\", line 563, in start\n",
      "    self.io_loop.start()\n",
      "  File \"/home/tadenoud/anaconda3/envs/nn/lib/python3.7/site-packages/ipykernel_launcher.py\", line 16, in <module>\n",
      "    app.launch_new_instance()\n",
      "  File \"/home/tadenoud/anaconda3/envs/nn/lib/python3.7/site-packages/tqdm/notebook.py\", line 249, in close\n",
      "    self.sp(bar_style='success')\n",
      "  File \"/home/tadenoud/anaconda3/envs/nn/lib/python3.7/site-packages/traitlets/config/application.py\", line 658, in launch_instance\n",
      "    app.start()\n",
      "  File \"/home/tadenoud/anaconda3/envs/nn/lib/python3.7/site-packages/tqdm/notebook.py\", line 176, in display\n",
      "    ptext.value = right\n",
      "  File \"/home/tadenoud/anaconda3/envs/nn/lib/python3.7/site-packages/traitlets/traitlets.py\", line 585, in __set__\n",
      "    self.set(obj, value)\n",
      "--- Logging error ---\n",
      "  File \"/home/tadenoud/anaconda3/envs/nn/lib/python3.7/site-packages/ipykernel/kernelapp.py\", line 563, in start\n",
      "    self.io_loop.start()\n",
      "  File \"/home/tadenoud/anaconda3/envs/nn/lib/python3.7/site-packages/tornado/platform/asyncio.py\", line 148, in start\n",
      "    self.asyncio_loop.run_forever()\n",
      "  File \"/home/tadenoud/anaconda3/envs/nn/lib/python3.7/site-packages/traitlets/config/application.py\", line 658, in launch_instance\n",
      "    app.start()\n",
      "  File \"/home/tadenoud/anaconda3/envs/nn/lib/python3.7/asyncio/base_events.py\", line 534, in run_forever\n",
      "    self._run_once()\n",
      "  File \"/home/tadenoud/anaconda3/envs/nn/lib/python3.7/site-packages/ipykernel/kernelapp.py\", line 563, in start\n",
      "    self.io_loop.start()\n",
      "--- Logging error ---\n",
      "  File \"/home/tadenoud/anaconda3/envs/nn/lib/python3.7/site-packages/tornado/platform/asyncio.py\", line 148, in start\n",
      "    self.asyncio_loop.run_forever()\n",
      "Traceback (most recent call last):\n",
      "  File \"/home/tadenoud/anaconda3/envs/nn/lib/python3.7/site-packages/tornado/platform/asyncio.py\", line 148, in start\n",
      "    self.asyncio_loop.run_forever()\n",
      "  File \"/home/tadenoud/anaconda3/envs/nn/lib/python3.7/site-packages/traitlets/traitlets.py\", line 574, in set\n",
      "    obj._notify_trait(self.name, old_value, new_value)\n",
      "  File \"/home/tadenoud/anaconda3/envs/nn/lib/python3.7/site-packages/traitlets/traitlets.py\", line 1139, in _notify_trait\n",
      "    type='change',\n",
      "  File \"/home/tadenoud/anaconda3/envs/nn/lib/python3.7/site-packages/ipywidgets/widgets/widget.py\", line 605, in notify_change\n",
      "    self.send_state(key=name)\n",
      "  File \"/home/tadenoud/anaconda3/envs/nn/lib/python3.7/site-packages/ipywidgets/widgets/widget.py\", line 489, in send_state\n",
      "    self._send(msg, buffers=buffers)\n",
      "  File \"/home/tadenoud/anaconda3/envs/nn/lib/python3.7/site-packages/ipywidgets/widgets/widget.py\", line 737, in _send\n",
      "    self.comm.send(data=msg, buffers=buffers)\n",
      "  File \"/home/tadenoud/anaconda3/envs/nn/lib/python3.7/site-packages/ipykernel/comm/comm.py\", line 121, in send\n",
      "    data=data, metadata=metadata, buffers=buffers,\n",
      "  File \"/home/tadenoud/anaconda3/envs/nn/lib/python3.7/asyncio/base_events.py\", line 1771, in _run_once\n",
      "    handle._run()\n",
      "  File \"/home/tadenoud/anaconda3/envs/nn/lib/python3.7/asyncio/base_events.py\", line 534, in run_forever\n",
      "    self._run_once()\n",
      "  File \"/home/tadenoud/anaconda3/envs/nn/lib/python3.7/site-packages/ipykernel/comm/comm.py\", line 71, in _publish_msg\n",
      "    buffers=buffers,\n",
      "  File \"/home/tadenoud/anaconda3/envs/nn/lib/python3.7/asyncio/base_events.py\", line 534, in run_forever\n",
      "    self._run_once()\n",
      "  File \"/home/tadenoud/anaconda3/envs/nn/lib/python3.7/asyncio/events.py\", line 88, in _run\n",
      "    self._context.run(self._callback, *self._args)\n",
      "  File \"/home/tadenoud/anaconda3/envs/nn/lib/python3.7/asyncio/base_events.py\", line 1771, in _run_once\n",
      "    handle._run()\n",
      "  File \"/home/tadenoud/anaconda3/envs/nn/lib/python3.7/site-packages/jupyter_client/session.py\", line 716, in send\n",
      "    msg\n",
      "  File \"/home/tadenoud/anaconda3/envs/nn/lib/python3.7/asyncio/base_events.py\", line 1771, in _run_once\n",
      "    handle._run()\n",
      "  File \"/home/tadenoud/anaconda3/envs/nn/lib/python3.7/asyncio/events.py\", line 88, in _run\n",
      "    self._context.run(self._callback, *self._args)\n",
      "Message: 'WARNING: attempted to send message from fork\\n%s'\n",
      "Arguments: {'header': {'msg_id': '81f7aac9-a8b546cdd52bde0b018df10f', 'msg_type': 'comm_msg', 'username': 'tadenoud', 'session': '39c835b6-82e0315468f162e7be673a61', 'date': datetime.datetime(2019, 12, 17, 14, 55, 10, 78446, tzinfo=datetime.timezone.utc), 'version': '5.3'}, 'msg_id': '81f7aac9-a8b546cdd52bde0b018df10f', 'msg_type': 'comm_msg', 'parent_header': {'msg_id': 'e72b2fc9de5049c0866af40906c33c24', 'username': 'username', 'session': '3d0a25ebf4e84a479ba2e1b145d7cc22', 'msg_type': 'execute_request', 'version': '5.2', 'date': datetime.datetime(2019, 12, 17, 14, 54, 55, 703319, tzinfo=datetime.timezone.utc)}, 'content': {'data': {'method': 'update', 'state': {'value': ' 342/342 [00:24&lt;00:00, 13.95it/s]'}, 'buffer_paths': []}, 'comm_id': '534828d2d1c148be936a0ed58cb9829b'}, 'metadata': {}}\n",
      "  File \"/home/tadenoud/anaconda3/envs/nn/lib/python3.7/site-packages/tornado/ioloop.py\", line 690, in <lambda>\n",
      "    lambda f: self._run_callback(functools.partial(callback, future))\n",
      "  File \"/home/tadenoud/anaconda3/envs/nn/lib/python3.7/asyncio/events.py\", line 88, in _run\n",
      "    self._context.run(self._callback, *self._args)\n"
     ]
    },
    {
     "name": "stderr",
     "output_type": "stream",
     "text": [
      "  File \"/home/tadenoud/anaconda3/envs/nn/lib/python3.7/site-packages/tornado/ioloop.py\", line 690, in <lambda>\n",
      "    lambda f: self._run_callback(functools.partial(callback, future))\n",
      "  File \"/home/tadenoud/anaconda3/envs/nn/lib/python3.7/site-packages/tornado/ioloop.py\", line 690, in <lambda>\n",
      "    lambda f: self._run_callback(functools.partial(callback, future))\n",
      "  File \"/home/tadenoud/anaconda3/envs/nn/lib/python3.7/site-packages/tornado/gen.py\", line 787, in inner\n",
      "    self.run()\n",
      "  File \"/home/tadenoud/anaconda3/envs/nn/lib/python3.7/site-packages/tornado/ioloop.py\", line 743, in _run_callback\n",
      "    ret = callback()\n",
      "  File \"/home/tadenoud/anaconda3/envs/nn/lib/python3.7/site-packages/tornado/ioloop.py\", line 743, in _run_callback\n",
      "    ret = callback()\n",
      "  File \"/home/tadenoud/anaconda3/envs/nn/lib/python3.7/site-packages/tornado/gen.py\", line 787, in inner\n",
      "    self.run()\n",
      "  File \"/home/tadenoud/anaconda3/envs/nn/lib/python3.7/site-packages/tornado/gen.py\", line 787, in inner\n",
      "    self.run()\n",
      "  File \"/home/tadenoud/anaconda3/envs/nn/lib/python3.7/site-packages/tornado/ioloop.py\", line 743, in _run_callback\n",
      "    ret = callback()\n",
      "  File \"/home/tadenoud/anaconda3/envs/nn/lib/python3.7/site-packages/tornado/gen.py\", line 748, in run\n",
      "    yielded = self.gen.send(value)\n",
      "  File \"/home/tadenoud/anaconda3/envs/nn/lib/python3.7/site-packages/ipykernel/kernelbase.py\", line 378, in dispatch_queue\n",
      "    yield self.process_one()\n",
      "  File \"/home/tadenoud/anaconda3/envs/nn/lib/python3.7/site-packages/tornado/gen.py\", line 748, in run\n",
      "    yielded = self.gen.send(value)\n",
      "  File \"/home/tadenoud/anaconda3/envs/nn/lib/python3.7/site-packages/tornado/gen.py\", line 748, in run\n",
      "    yielded = self.gen.send(value)\n",
      "  File \"/home/tadenoud/anaconda3/envs/nn/lib/python3.7/site-packages/ipykernel/kernelbase.py\", line 378, in dispatch_queue\n",
      "    yield self.process_one()\n",
      "  File \"/home/tadenoud/anaconda3/envs/nn/lib/python3.7/site-packages/ipykernel/kernelbase.py\", line 378, in dispatch_queue\n",
      "    yield self.process_one()\n",
      "  File \"/home/tadenoud/anaconda3/envs/nn/lib/python3.7/site-packages/tornado/gen.py\", line 225, in wrapper\n",
      "    runner = Runner(result, future, yielded)\n",
      "  File \"/home/tadenoud/anaconda3/envs/nn/lib/python3.7/site-packages/tornado/gen.py\", line 225, in wrapper\n",
      "    runner = Runner(result, future, yielded)\n",
      "  File \"/home/tadenoud/anaconda3/envs/nn/lib/python3.7/site-packages/tornado/gen.py\", line 225, in wrapper\n",
      "    runner = Runner(result, future, yielded)\n",
      "  File \"/home/tadenoud/anaconda3/envs/nn/lib/python3.7/site-packages/tornado/gen.py\", line 714, in __init__\n",
      "    self.run()\n",
      "  File \"/home/tadenoud/anaconda3/envs/nn/lib/python3.7/site-packages/tornado/gen.py\", line 714, in __init__\n",
      "    self.run()\n",
      "  File \"/home/tadenoud/anaconda3/envs/nn/lib/python3.7/site-packages/tornado/gen.py\", line 714, in __init__\n",
      "    self.run()\n",
      "--- Logging error ---\n",
      "  File \"/home/tadenoud/anaconda3/envs/nn/lib/python3.7/logging/__init__.py\", line 1029, in emit\n",
      "    self.flush()\n",
      "  File \"/home/tadenoud/anaconda3/envs/nn/lib/python3.7/site-packages/tornado/gen.py\", line 748, in run\n",
      "    yielded = self.gen.send(value)\n",
      "  File \"/home/tadenoud/anaconda3/envs/nn/lib/python3.7/site-packages/tornado/gen.py\", line 748, in run\n",
      "    yielded = self.gen.send(value)\n",
      "  File \"/home/tadenoud/anaconda3/envs/nn/lib/python3.7/logging/__init__.py\", line 1009, in flush\n",
      "    self.stream.flush()\n",
      "Traceback (most recent call last):\n",
      "  File \"/home/tadenoud/anaconda3/envs/nn/lib/python3.7/site-packages/ipykernel/kernelbase.py\", line 365, in process_one\n",
      "    yield gen.maybe_future(dispatch(*args))\n",
      "  File \"/home/tadenoud/anaconda3/envs/nn/lib/python3.7/site-packages/ipykernel/kernelbase.py\", line 365, in process_one\n",
      "    yield gen.maybe_future(dispatch(*args))\n",
      "  File \"/home/tadenoud/anaconda3/envs/nn/lib/python3.7/site-packages/tornado/gen.py\", line 209, in wrapper\n",
      "    yielded = next(result)\n",
      "  File \"/home/tadenoud/anaconda3/envs/nn/lib/python3.7/site-packages/tornado/gen.py\", line 209, in wrapper\n",
      "    yielded = next(result)\n",
      "  File \"/home/tadenoud/anaconda3/envs/nn/lib/python3.7/site-packages/tornado/gen.py\", line 748, in run\n",
      "    yielded = self.gen.send(value)\n",
      "  File \"/home/tadenoud/anaconda3/envs/nn/lib/python3.7/site-packages/ipykernel/kernelbase.py\", line 272, in dispatch_shell\n",
      "    yield gen.maybe_future(handler(stream, idents, msg))\n",
      "  File \"/home/tadenoud/anaconda3/envs/nn/lib/python3.7/site-packages/ipykernel/kernelbase.py\", line 365, in process_one\n",
      "    yield gen.maybe_future(dispatch(*args))\n",
      "  File \"/home/tadenoud/anaconda3/envs/nn/lib/python3.7/site-packages/tornado/gen.py\", line 209, in wrapper\n",
      "    yielded = next(result)\n",
      "BrokenPipeError: [Errno 32] Broken pipe\n",
      "  File \"/home/tadenoud/anaconda3/envs/nn/lib/python3.7/site-packages/tornado/gen.py\", line 209, in wrapper\n",
      "    yielded = next(result)\n",
      "  File \"/home/tadenoud/anaconda3/envs/nn/lib/python3.7/site-packages/ipykernel/kernelbase.py\", line 272, in dispatch_shell\n",
      "    yield gen.maybe_future(handler(stream, idents, msg))\n",
      "Call stack:\n",
      "  File \"/home/tadenoud/anaconda3/envs/nn/lib/python3.7/site-packages/ipykernel/kernelbase.py\", line 542, in execute_request\n",
      "    user_expressions, allow_stdin,\n",
      "  File \"/home/tadenoud/anaconda3/envs/nn/lib/python3.7/site-packages/ipykernel/kernelbase.py\", line 272, in dispatch_shell\n",
      "    yield gen.maybe_future(handler(stream, idents, msg))\n",
      "Traceback (most recent call last):\n",
      "  File \"/home/tadenoud/anaconda3/envs/nn/lib/python3.7/site-packages/tornado/gen.py\", line 209, in wrapper\n",
      "    yielded = next(result)\n",
      "  File \"/home/tadenoud/anaconda3/envs/nn/lib/python3.7/site-packages/tornado/gen.py\", line 209, in wrapper\n",
      "    yielded = next(result)\n",
      "  File \"/home/tadenoud/anaconda3/envs/nn/lib/python3.7/runpy.py\", line 193, in _run_module_as_main\n",
      "    \"__main__\", mod_spec)\n",
      "  File \"/home/tadenoud/anaconda3/envs/nn/lib/python3.7/runpy.py\", line 85, in _run_code\n",
      "    exec(code, run_globals)\n",
      "  File \"/home/tadenoud/anaconda3/envs/nn/lib/python3.7/site-packages/ipykernel_launcher.py\", line 16, in <module>\n",
      "    app.launch_new_instance()\n",
      "  File \"/home/tadenoud/anaconda3/envs/nn/lib/python3.7/site-packages/ipykernel/kernelbase.py\", line 542, in execute_request\n",
      "    user_expressions, allow_stdin,\n",
      "  File \"/home/tadenoud/anaconda3/envs/nn/lib/python3.7/logging/__init__.py\", line 1029, in emit\n",
      "    self.flush()\n",
      "  File \"/home/tadenoud/anaconda3/envs/nn/lib/python3.7/site-packages/tornado/gen.py\", line 209, in wrapper\n",
      "    yielded = next(result)\n",
      "  File \"/home/tadenoud/anaconda3/envs/nn/lib/python3.7/logging/__init__.py\", line 1009, in flush\n",
      "    self.stream.flush()\n",
      "  File \"/home/tadenoud/anaconda3/envs/nn/lib/python3.7/site-packages/ipykernel/ipkernel.py\", line 294, in do_execute\n",
      "    res = shell.run_cell(code, store_history=store_history, silent=silent)\n",
      "  File \"/home/tadenoud/anaconda3/envs/nn/lib/python3.7/site-packages/ipykernel/kernelbase.py\", line 542, in execute_request\n",
      "    user_expressions, allow_stdin,\n",
      "  File \"/home/tadenoud/anaconda3/envs/nn/lib/python3.7/site-packages/ipykernel/zmqshell.py\", line 536, in run_cell\n",
      "    return super(ZMQInteractiveShell, self).run_cell(*args, **kwargs)\n",
      "BrokenPipeError: [Errno 32] Broken pipe\n",
      "  File \"/home/tadenoud/anaconda3/envs/nn/lib/python3.7/site-packages/tornado/gen.py\", line 209, in wrapper\n",
      "    yielded = next(result)\n",
      "  File \"/home/tadenoud/anaconda3/envs/nn/lib/python3.7/site-packages/tornado/gen.py\", line 209, in wrapper\n",
      "    yielded = next(result)\n",
      "  File \"/home/tadenoud/anaconda3/envs/nn/lib/python3.7/site-packages/ipykernel/ipkernel.py\", line 294, in do_execute\n",
      "    res = shell.run_cell(code, store_history=store_history, silent=silent)\n",
      "  File \"/home/tadenoud/anaconda3/envs/nn/lib/python3.7/site-packages/IPython/core/interactiveshell.py\", line 2855, in run_cell\n",
      "    raw_cell, store_history, silent, shell_futures)\n",
      "  File \"/home/tadenoud/anaconda3/envs/nn/lib/python3.7/site-packages/ipykernel/ipkernel.py\", line 294, in do_execute\n",
      "    res = shell.run_cell(code, store_history=store_history, silent=silent)\n",
      "  File \"/home/tadenoud/anaconda3/envs/nn/lib/python3.7/site-packages/traitlets/config/application.py\", line 658, in launch_instance\n",
      "    app.start()\n",
      "  File \"/home/tadenoud/anaconda3/envs/nn/lib/python3.7/site-packages/ipykernel/zmqshell.py\", line 536, in run_cell\n",
      "    return super(ZMQInteractiveShell, self).run_cell(*args, **kwargs)\n"
     ]
    },
    {
     "name": "stderr",
     "output_type": "stream",
     "text": [
      "  File \"/home/tadenoud/anaconda3/envs/nn/lib/python3.7/site-packages/ipykernel/kernelapp.py\", line 563, in start\n",
      "    self.io_loop.start()\n",
      "  File \"/home/tadenoud/anaconda3/envs/nn/lib/python3.7/site-packages/IPython/core/interactiveshell.py\", line 2881, in _run_cell\n",
      "    return runner(coro)\n",
      "Call stack:\n",
      "  File \"/home/tadenoud/anaconda3/envs/nn/lib/python3.7/site-packages/tornado/platform/asyncio.py\", line 148, in start\n",
      "    self.asyncio_loop.run_forever()\n",
      "  File \"/home/tadenoud/anaconda3/envs/nn/lib/python3.7/site-packages/IPython/core/async_helpers.py\", line 68, in _pseudo_sync_runner\n",
      "    coro.send(None)\n",
      "  File \"/home/tadenoud/anaconda3/envs/nn/lib/python3.7/asyncio/base_events.py\", line 534, in run_forever\n",
      "    self._run_once()\n",
      "  File \"/home/tadenoud/anaconda3/envs/nn/lib/python3.7/site-packages/IPython/core/interactiveshell.py\", line 3058, in run_cell_async\n",
      "    interactivity=interactivity, compiler=compiler, result=result)\n",
      "  File \"/home/tadenoud/anaconda3/envs/nn/lib/python3.7/asyncio/base_events.py\", line 1771, in _run_once\n",
      "    handle._run()\n",
      "  File \"/home/tadenoud/anaconda3/envs/nn/lib/python3.7/site-packages/IPython/core/interactiveshell.py\", line 3249, in run_ast_nodes\n",
      "    if (await self.run_code(code, result,  async_=asy)):\n",
      "  File \"/home/tadenoud/anaconda3/envs/nn/lib/python3.7/asyncio/events.py\", line 88, in _run\n",
      "    self._context.run(self._callback, *self._args)\n",
      "  File \"/home/tadenoud/anaconda3/envs/nn/lib/python3.7/runpy.py\", line 193, in _run_module_as_main\n",
      "    \"__main__\", mod_spec)\n",
      "  File \"/home/tadenoud/anaconda3/envs/nn/lib/python3.7/site-packages/tornado/ioloop.py\", line 690, in <lambda>\n",
      "    lambda f: self._run_callback(functools.partial(callback, future))\n",
      "  File \"/home/tadenoud/anaconda3/envs/nn/lib/python3.7/site-packages/ipykernel/zmqshell.py\", line 536, in run_cell\n",
      "    return super(ZMQInteractiveShell, self).run_cell(*args, **kwargs)\n",
      "  File \"/home/tadenoud/anaconda3/envs/nn/lib/python3.7/site-packages/IPython/core/interactiveshell.py\", line 3326, in run_code\n",
      "    exec(code_obj, self.user_global_ns, self.user_ns)\n",
      "  File \"<ipython-input-96-f531642981ab>\", line 4, in <module>\n",
      "    extract_idd_features(idd_val_dataset, trainer.faster_rcnn, save_file, eps, temp)\n",
      "  File \"<ipython-input-8-ef4a010a3feb>\", line 58, in extract_idd_features\n",
      "    for i, (imgs, gt_bboxes, gt_labels) in tqdm(enumerate(dataloader), total=len(dataset)):\n",
      "  File \"/home/tadenoud/anaconda3/envs/nn/lib/python3.7/site-packages/IPython/core/interactiveshell.py\", line 2855, in run_cell\n",
      "    raw_cell, store_history, silent, shell_futures)\n",
      "  File \"/home/tadenoud/anaconda3/envs/nn/lib/python3.7/site-packages/torch/utils/data/dataloader.py\", line 278, in __iter__\n",
      "    return _MultiProcessingDataLoaderIter(self)\n",
      "  File \"/home/tadenoud/anaconda3/envs/nn/lib/python3.7/site-packages/IPython/core/interactiveshell.py\", line 2881, in _run_cell\n",
      "    return runner(coro)\n",
      "  File \"/home/tadenoud/anaconda3/envs/nn/lib/python3.7/site-packages/tornado/ioloop.py\", line 743, in _run_callback\n",
      "    ret = callback()\n",
      "  File \"/home/tadenoud/anaconda3/envs/nn/lib/python3.7/site-packages/torch/utils/data/dataloader.py\", line 682, in __init__\n",
      "    w.start()\n",
      "  File \"/home/tadenoud/anaconda3/envs/nn/lib/python3.7/runpy.py\", line 85, in _run_code\n",
      "    exec(code, run_globals)\n",
      "  File \"/home/tadenoud/anaconda3/envs/nn/lib/python3.7/site-packages/IPython/core/interactiveshell.py\", line 2855, in run_cell\n",
      "    raw_cell, store_history, silent, shell_futures)\n",
      "  File \"/home/tadenoud/anaconda3/envs/nn/lib/python3.7/site-packages/tornado/gen.py\", line 787, in inner\n",
      "    self.run()\n",
      "  File \"/home/tadenoud/anaconda3/envs/nn/lib/python3.7/site-packages/ipykernel_launcher.py\", line 16, in <module>\n",
      "    app.launch_new_instance()\n",
      "  File \"/home/tadenoud/anaconda3/envs/nn/lib/python3.7/site-packages/traitlets/config/application.py\", line 658, in launch_instance\n",
      "    app.start()\n",
      "  File \"/home/tadenoud/anaconda3/envs/nn/lib/python3.7/site-packages/tornado/gen.py\", line 748, in run\n",
      "    yielded = self.gen.send(value)\n",
      "  File \"/home/tadenoud/anaconda3/envs/nn/lib/python3.7/site-packages/ipykernel/kernelapp.py\", line 563, in start\n",
      "    self.io_loop.start()\n",
      "  File \"/home/tadenoud/anaconda3/envs/nn/lib/python3.7/site-packages/ipykernel/kernelbase.py\", line 378, in dispatch_queue\n",
      "    yield self.process_one()\n",
      "  File \"/home/tadenoud/anaconda3/envs/nn/lib/python3.7/site-packages/tornado/gen.py\", line 225, in wrapper\n",
      "    runner = Runner(result, future, yielded)\n",
      "  File \"/home/tadenoud/anaconda3/envs/nn/lib/python3.7/site-packages/tornado/platform/asyncio.py\", line 148, in start\n",
      "    self.asyncio_loop.run_forever()\n",
      "  File \"/home/tadenoud/anaconda3/envs/nn/lib/python3.7/asyncio/base_events.py\", line 534, in run_forever\n",
      "    self._run_once()\n",
      "  File \"/home/tadenoud/anaconda3/envs/nn/lib/python3.7/site-packages/tornado/gen.py\", line 714, in __init__\n",
      "    self.run()\n",
      "  File \"/home/tadenoud/anaconda3/envs/nn/lib/python3.7/asyncio/base_events.py\", line 1771, in _run_once\n",
      "    handle._run()\n",
      "  File \"/home/tadenoud/anaconda3/envs/nn/lib/python3.7/site-packages/tornado/gen.py\", line 748, in run\n",
      "    yielded = self.gen.send(value)\n",
      "  File \"/home/tadenoud/anaconda3/envs/nn/lib/python3.7/asyncio/events.py\", line 88, in _run\n",
      "    self._context.run(self._callback, *self._args)\n",
      "  File \"/home/tadenoud/anaconda3/envs/nn/lib/python3.7/site-packages/tornado/ioloop.py\", line 690, in <lambda>\n",
      "    lambda f: self._run_callback(functools.partial(callback, future))\n",
      "  File \"/home/tadenoud/anaconda3/envs/nn/lib/python3.7/site-packages/tornado/ioloop.py\", line 743, in _run_callback\n",
      "    ret = callback()\n",
      "  File \"/home/tadenoud/anaconda3/envs/nn/lib/python3.7/site-packages/tornado/gen.py\", line 787, in inner\n",
      "    self.run()\n",
      "  File \"/home/tadenoud/anaconda3/envs/nn/lib/python3.7/site-packages/tornado/gen.py\", line 748, in run\n",
      "    yielded = self.gen.send(value)\n",
      "  File \"/home/tadenoud/anaconda3/envs/nn/lib/python3.7/site-packages/ipykernel/kernelbase.py\", line 378, in dispatch_queue\n",
      "    yield self.process_one()\n",
      "  File \"/home/tadenoud/anaconda3/envs/nn/lib/python3.7/site-packages/tornado/gen.py\", line 225, in wrapper\n",
      "    runner = Runner(result, future, yielded)\n",
      "  File \"/home/tadenoud/anaconda3/envs/nn/lib/python3.7/site-packages/tornado/gen.py\", line 714, in __init__\n",
      "    self.run()\n",
      "  File \"/home/tadenoud/anaconda3/envs/nn/lib/python3.7/site-packages/ipykernel/kernelbase.py\", line 365, in process_one\n",
      "    yield gen.maybe_future(dispatch(*args))\n",
      "  File \"/home/tadenoud/anaconda3/envs/nn/lib/python3.7/multiprocessing/process.py\", line 112, in start\n",
      "    self._popen = self._Popen(self)\n",
      "  File \"/home/tadenoud/anaconda3/envs/nn/lib/python3.7/site-packages/tornado/gen.py\", line 748, in run\n",
      "    yielded = self.gen.send(value)\n",
      "  File \"/home/tadenoud/anaconda3/envs/nn/lib/python3.7/site-packages/IPython/core/interactiveshell.py\", line 2881, in _run_cell\n",
      "    return runner(coro)\n",
      "  File \"/home/tadenoud/anaconda3/envs/nn/lib/python3.7/site-packages/ipykernel/kernelbase.py\", line 365, in process_one\n",
      "    yield gen.maybe_future(dispatch(*args))\n",
      "  File \"/home/tadenoud/anaconda3/envs/nn/lib/python3.7/site-packages/tornado/gen.py\", line 209, in wrapper\n",
      "    yielded = next(result)\n",
      "  File \"/home/tadenoud/anaconda3/envs/nn/lib/python3.7/multiprocessing/context.py\", line 223, in _Popen\n",
      "    return _default_context.get_context().Process._Popen(process_obj)\n",
      "  File \"/home/tadenoud/anaconda3/envs/nn/lib/python3.7/site-packages/IPython/core/async_helpers.py\", line 68, in _pseudo_sync_runner\n",
      "    coro.send(None)\n",
      "  File \"/home/tadenoud/anaconda3/envs/nn/lib/python3.7/multiprocessing/context.py\", line 277, in _Popen\n",
      "    return Popen(process_obj)\n",
      "  File \"/home/tadenoud/anaconda3/envs/nn/lib/python3.7/multiprocessing/popen_fork.py\", line 20, in __init__\n",
      "    self._launch(process_obj)\n",
      "  File \"/home/tadenoud/anaconda3/envs/nn/lib/python3.7/multiprocessing/popen_fork.py\", line 74, in _launch\n",
      "    code = process_obj._bootstrap()\n",
      "  File \"/home/tadenoud/anaconda3/envs/nn/lib/python3.7/site-packages/IPython/core/async_helpers.py\", line 68, in _pseudo_sync_runner\n",
      "    coro.send(None)\n",
      "  File \"/home/tadenoud/anaconda3/envs/nn/lib/python3.7/multiprocessing/process.py\", line 297, in _bootstrap\n",
      "    self.run()\n",
      "  File \"/home/tadenoud/anaconda3/envs/nn/lib/python3.7/site-packages/ipykernel/kernelbase.py\", line 272, in dispatch_shell\n",
      "    yield gen.maybe_future(handler(stream, idents, msg))\n"
     ]
    },
    {
     "name": "stderr",
     "output_type": "stream",
     "text": [
      "  File \"/home/tadenoud/anaconda3/envs/nn/lib/python3.7/site-packages/IPython/core/interactiveshell.py\", line 3058, in run_cell_async\n",
      "    interactivity=interactivity, compiler=compiler, result=result)\n",
      "  File \"/home/tadenoud/anaconda3/envs/nn/lib/python3.7/site-packages/tornado/gen.py\", line 209, in wrapper\n",
      "    yielded = next(result)\n",
      "  File \"/home/tadenoud/anaconda3/envs/nn/lib/python3.7/site-packages/IPython/core/interactiveshell.py\", line 3249, in run_ast_nodes\n",
      "    if (await self.run_code(code, result,  async_=asy)):\n",
      "  File \"/home/tadenoud/anaconda3/envs/nn/lib/python3.7/site-packages/IPython/core/interactiveshell.py\", line 3326, in run_code\n",
      "    exec(code_obj, self.user_global_ns, self.user_ns)\n",
      "  File \"/home/tadenoud/anaconda3/envs/nn/lib/python3.7/site-packages/ipykernel/kernelbase.py\", line 542, in execute_request\n",
      "    user_expressions, allow_stdin,\n",
      "  File \"<ipython-input-96-f531642981ab>\", line 4, in <module>\n",
      "    extract_idd_features(idd_val_dataset, trainer.faster_rcnn, save_file, eps, temp)\n",
      "  File \"/home/tadenoud/anaconda3/envs/nn/lib/python3.7/site-packages/tornado/gen.py\", line 209, in wrapper\n",
      "    yielded = next(result)\n",
      "  File \"/home/tadenoud/anaconda3/envs/nn/lib/python3.7/site-packages/ipykernel/ipkernel.py\", line 294, in do_execute\n",
      "    res = shell.run_cell(code, store_history=store_history, silent=silent)\n",
      "  File \"<ipython-input-8-ef4a010a3feb>\", line 58, in extract_idd_features\n",
      "    for i, (imgs, gt_bboxes, gt_labels) in tqdm(enumerate(dataloader), total=len(dataset)):\n",
      "  File \"/home/tadenoud/anaconda3/envs/nn/lib/python3.7/site-packages/tornado/gen.py\", line 209, in wrapper\n",
      "    yielded = next(result)\n",
      "  File \"/home/tadenoud/anaconda3/envs/nn/lib/python3.7/site-packages/torch/utils/data/dataloader.py\", line 278, in __iter__\n",
      "    return _MultiProcessingDataLoaderIter(self)\n",
      "  File \"/home/tadenoud/anaconda3/envs/nn/lib/python3.7/multiprocessing/process.py\", line 99, in run\n",
      "    self._target(*self._args, **self._kwargs)\n",
      "  File \"/home/tadenoud/anaconda3/envs/nn/lib/python3.7/site-packages/ipykernel/zmqshell.py\", line 536, in run_cell\n",
      "    return super(ZMQInteractiveShell, self).run_cell(*args, **kwargs)\n",
      "  File \"/home/tadenoud/anaconda3/envs/nn/lib/python3.7/site-packages/ipykernel/kernelbase.py\", line 272, in dispatch_shell\n",
      "    yield gen.maybe_future(handler(stream, idents, msg))\n",
      "  File \"/home/tadenoud/anaconda3/envs/nn/lib/python3.7/site-packages/torch/utils/data/dataloader.py\", line 682, in __init__\n",
      "    w.start()\n",
      "  File \"/home/tadenoud/anaconda3/envs/nn/lib/python3.7/site-packages/IPython/core/interactiveshell.py\", line 2855, in run_cell\n",
      "    raw_cell, store_history, silent, shell_futures)\n",
      "  File \"/home/tadenoud/anaconda3/envs/nn/lib/python3.7/multiprocessing/process.py\", line 112, in start\n",
      "    self._popen = self._Popen(self)\n",
      "  File \"/home/tadenoud/anaconda3/envs/nn/lib/python3.7/site-packages/tornado/gen.py\", line 209, in wrapper\n",
      "    yielded = next(result)\n",
      "  File \"/home/tadenoud/anaconda3/envs/nn/lib/python3.7/multiprocessing/context.py\", line 223, in _Popen\n",
      "    return _default_context.get_context().Process._Popen(process_obj)\n",
      "  File \"/home/tadenoud/anaconda3/envs/nn/lib/python3.7/site-packages/ipykernel/kernelbase.py\", line 542, in execute_request\n",
      "    user_expressions, allow_stdin,\n",
      "  File \"/home/tadenoud/anaconda3/envs/nn/lib/python3.7/site-packages/IPython/core/interactiveshell.py\", line 2881, in _run_cell\n",
      "    return runner(coro)\n",
      "  File \"/home/tadenoud/anaconda3/envs/nn/lib/python3.7/site-packages/tornado/gen.py\", line 209, in wrapper\n",
      "    yielded = next(result)\n",
      "  File \"/home/tadenoud/anaconda3/envs/nn/lib/python3.7/site-packages/ipykernel/ipkernel.py\", line 294, in do_execute\n",
      "    res = shell.run_cell(code, store_history=store_history, silent=silent)\n",
      "  File \"/home/tadenoud/anaconda3/envs/nn/lib/python3.7/site-packages/ipykernel/zmqshell.py\", line 536, in run_cell\n",
      "    return super(ZMQInteractiveShell, self).run_cell(*args, **kwargs)\n",
      "  File \"/home/tadenoud/anaconda3/envs/nn/lib/python3.7/site-packages/IPython/core/interactiveshell.py\", line 2855, in run_cell\n",
      "    raw_cell, store_history, silent, shell_futures)\n",
      "  File \"/home/tadenoud/anaconda3/envs/nn/lib/python3.7/site-packages/IPython/core/interactiveshell.py\", line 2881, in _run_cell\n",
      "    return runner(coro)\n",
      "  File \"/home/tadenoud/anaconda3/envs/nn/lib/python3.7/site-packages/IPython/core/async_helpers.py\", line 68, in _pseudo_sync_runner\n",
      "    coro.send(None)\n",
      "  File \"/home/tadenoud/anaconda3/envs/nn/lib/python3.7/site-packages/IPython/core/async_helpers.py\", line 68, in _pseudo_sync_runner\n",
      "    coro.send(None)\n",
      "  File \"/home/tadenoud/anaconda3/envs/nn/lib/python3.7/multiprocessing/context.py\", line 277, in _Popen\n",
      "    return Popen(process_obj)\n",
      "  File \"/home/tadenoud/anaconda3/envs/nn/lib/python3.7/site-packages/IPython/core/interactiveshell.py\", line 3058, in run_cell_async\n",
      "    interactivity=interactivity, compiler=compiler, result=result)\n",
      "  File \"/home/tadenoud/anaconda3/envs/nn/lib/python3.7/site-packages/IPython/core/interactiveshell.py\", line 3249, in run_ast_nodes\n",
      "    if (await self.run_code(code, result,  async_=asy)):\n",
      "  File \"/home/tadenoud/anaconda3/envs/nn/lib/python3.7/site-packages/IPython/core/interactiveshell.py\", line 3326, in run_code\n",
      "    exec(code_obj, self.user_global_ns, self.user_ns)\n",
      "  File \"<ipython-input-96-f531642981ab>\", line 4, in <module>\n",
      "    extract_idd_features(idd_val_dataset, trainer.faster_rcnn, save_file, eps, temp)\n",
      "  File \"<ipython-input-8-ef4a010a3feb>\", line 58, in extract_idd_features\n",
      "    for i, (imgs, gt_bboxes, gt_labels) in tqdm(enumerate(dataloader), total=len(dataset)):\n",
      "  File \"/home/tadenoud/anaconda3/envs/nn/lib/python3.7/site-packages/torch/utils/data/dataloader.py\", line 278, in __iter__\n",
      "    return _MultiProcessingDataLoaderIter(self)\n",
      "  File \"/home/tadenoud/anaconda3/envs/nn/lib/python3.7/site-packages/torch/utils/data/dataloader.py\", line 682, in __init__\n",
      "    w.start()\n",
      "  File \"/home/tadenoud/anaconda3/envs/nn/lib/python3.7/site-packages/IPython/core/interactiveshell.py\", line 3058, in run_cell_async\n",
      "    interactivity=interactivity, compiler=compiler, result=result)\n",
      "  File \"/home/tadenoud/anaconda3/envs/nn/lib/python3.7/site-packages/torch/utils/data/_utils/worker.py\", line 178, in _worker_loop\n",
      "    data = fetcher.fetch(index)\n",
      "  File \"/home/tadenoud/anaconda3/envs/nn/lib/python3.7/site-packages/torch/utils/data/_utils/fetch.py\", line 44, in fetch\n",
      "    data = [self.dataset[idx] for idx in possibly_batched_index]\n",
      "  File \"/home/tadenoud/anaconda3/envs/nn/lib/python3.7/multiprocessing/process.py\", line 112, in start\n",
      "    self._popen = self._Popen(self)\n",
      "  File \"/home/tadenoud/anaconda3/envs/nn/lib/python3.7/site-packages/torch/utils/data/_utils/fetch.py\", line 44, in <listcomp>\n",
      "    data = [self.dataset[idx] for idx in possibly_batched_index]\n",
      "  File \"/home/tadenoud/anaconda3/envs/nn/lib/python3.7/multiprocessing/context.py\", line 223, in _Popen\n",
      "    return _default_context.get_context().Process._Popen(process_obj)\n",
      "  File \"/home/tadenoud/Git/simple-faster-rcnn-pytorch/utils/idd_utils.py\", line 148, in __getitem__\n",
      "    img = read_image(img_name)\n",
      "  File \"/home/tadenoud/anaconda3/envs/nn/lib/python3.7/multiprocessing/context.py\", line 277, in _Popen\n",
      "    return Popen(process_obj)\n",
      "  File \"/home/tadenoud/Git/simple-faster-rcnn-pytorch/utils/idd_utils.py\", line 112, in read_image\n",
      "    f = Image.open(path)\n",
      "  File \"/home/tadenoud/anaconda3/envs/nn/lib/python3.7/multiprocessing/popen_fork.py\", line 20, in __init__\n",
      "    self._launch(process_obj)\n",
      "  File \"/home/tadenoud/anaconda3/envs/nn/lib/python3.7/site-packages/PIL/Image.py\", line 2781, in open\n",
      "    preinit()\n",
      "  File \"/home/tadenoud/anaconda3/envs/nn/lib/python3.7/multiprocessing/popen_fork.py\", line 74, in _launch\n",
      "    code = process_obj._bootstrap()\n",
      "  File \"/home/tadenoud/anaconda3/envs/nn/lib/python3.7/site-packages/PIL/Image.py\", line 381, in preinit\n",
      "    from . import BmpImagePlugin\n",
      "  File \"/home/tadenoud/anaconda3/envs/nn/lib/python3.7/multiprocessing/process.py\", line 297, in _bootstrap\n",
      "    self.run()\n",
      "  File \"<frozen importlib._bootstrap>\", line 1035, in _handle_fromlist\n",
      "  File \"/home/tadenoud/anaconda3/envs/nn/lib/python3.7/multiprocessing/process.py\", line 99, in run\n",
      "    self._target(*self._args, **self._kwargs)\n",
      "  File \"<frozen importlib._bootstrap>\", line 219, in _call_with_frames_removed\n"
     ]
    },
    {
     "name": "stderr",
     "output_type": "stream",
     "text": [
      "  File \"<frozen importlib._bootstrap>\", line 983, in _find_and_load\n",
      "  File \"/home/tadenoud/anaconda3/envs/nn/lib/python3.7/site-packages/torch/utils/data/_utils/worker.py\", line 178, in _worker_loop\n",
      "    data = fetcher.fetch(index)\n",
      "  File \"<frozen importlib._bootstrap>\", line 967, in _find_and_load_unlocked\n",
      "  File \"<frozen importlib._bootstrap>\", line 677, in _load_unlocked\n",
      "  File \"/home/tadenoud/anaconda3/envs/nn/lib/python3.7/site-packages/torch/utils/data/_utils/fetch.py\", line 44, in fetch\n",
      "    data = [self.dataset[idx] for idx in possibly_batched_index]\n",
      "  File \"/home/tadenoud/anaconda3/envs/nn/lib/python3.7/site-packages/IPython/core/interactiveshell.py\", line 3058, in run_cell_async\n",
      "    interactivity=interactivity, compiler=compiler, result=result)\n",
      "  File \"/home/tadenoud/anaconda3/envs/nn/lib/python3.7/site-packages/torch/utils/data/_utils/fetch.py\", line 44, in <listcomp>\n",
      "    data = [self.dataset[idx] for idx in possibly_batched_index]\n",
      "  File \"/home/tadenoud/Git/simple-faster-rcnn-pytorch/utils/idd_utils.py\", line 148, in __getitem__\n",
      "    img = read_image(img_name)\n",
      "  File \"/home/tadenoud/Git/simple-faster-rcnn-pytorch/utils/idd_utils.py\", line 112, in read_image\n",
      "    f = Image.open(path)\n",
      "  File \"/home/tadenoud/anaconda3/envs/nn/lib/python3.7/site-packages/PIL/Image.py\", line 2781, in open\n",
      "    preinit()\n",
      "  File \"/home/tadenoud/anaconda3/envs/nn/lib/python3.7/site-packages/PIL/Image.py\", line 381, in preinit\n",
      "    from . import BmpImagePlugin\n",
      "  File \"<frozen importlib._bootstrap>\", line 1035, in _handle_fromlist\n",
      "  File \"<frozen importlib._bootstrap>\", line 219, in _call_with_frames_removed\n",
      "  File \"/home/tadenoud/anaconda3/envs/nn/lib/python3.7/site-packages/IPython/core/interactiveshell.py\", line 3249, in run_ast_nodes\n",
      "    if (await self.run_code(code, result,  async_=asy)):\n",
      "  File \"/home/tadenoud/anaconda3/envs/nn/lib/python3.7/site-packages/IPython/core/interactiveshell.py\", line 3326, in run_code\n",
      "    exec(code_obj, self.user_global_ns, self.user_ns)\n",
      "  File \"<frozen importlib._bootstrap>\", line 983, in _find_and_load\n",
      "  File \"<frozen importlib._bootstrap>\", line 967, in _find_and_load_unlocked\n",
      "  File \"<frozen importlib._bootstrap>\", line 677, in _load_unlocked\n",
      "  File \"<frozen importlib._bootstrap_external>\", line 728, in exec_module\n",
      "  File \"<frozen importlib._bootstrap>\", line 219, in _call_with_frames_removed\n",
      "  File \"<frozen importlib._bootstrap_external>\", line 728, in exec_module\n",
      "  File \"/home/tadenoud/anaconda3/envs/nn/lib/python3.7/site-packages/PIL/BmpImagePlugin.py\", line 27, in <module>\n",
      "    from . import Image, ImageFile, ImagePalette\n",
      "  File \"<frozen importlib._bootstrap>\", line 219, in _call_with_frames_removed\n",
      "  File \"/home/tadenoud/anaconda3/envs/nn/lib/python3.7/site-packages/PIL/BmpImagePlugin.py\", line 27, in <module>\n",
      "    from . import Image, ImageFile, ImagePalette\n",
      "  File \"<frozen importlib._bootstrap>\", line 1035, in _handle_fromlist\n",
      "  File \"<frozen importlib._bootstrap>\", line 219, in _call_with_frames_removed\n",
      "  File \"<frozen importlib._bootstrap>\", line 983, in _find_and_load\n",
      "  File \"<frozen importlib._bootstrap>\", line 967, in _find_and_load_unlocked\n",
      "  File \"/home/tadenoud/anaconda3/envs/nn/lib/python3.7/multiprocessing/popen_fork.py\", line 20, in __init__\n",
      "    self._launch(process_obj)\n",
      "  File \"<ipython-input-96-f531642981ab>\", line 4, in <module>\n",
      "    extract_idd_features(idd_val_dataset, trainer.faster_rcnn, save_file, eps, temp)\n",
      "  File \"/home/tadenoud/anaconda3/envs/nn/lib/python3.7/site-packages/IPython/core/interactiveshell.py\", line 3249, in run_ast_nodes\n",
      "    if (await self.run_code(code, result,  async_=asy)):\n",
      "  File \"<ipython-input-8-ef4a010a3feb>\", line 58, in extract_idd_features\n",
      "    for i, (imgs, gt_bboxes, gt_labels) in tqdm(enumerate(dataloader), total=len(dataset)):\n",
      "  File \"/home/tadenoud/anaconda3/envs/nn/lib/python3.7/multiprocessing/popen_fork.py\", line 74, in _launch\n",
      "    code = process_obj._bootstrap()\n",
      "  File \"/home/tadenoud/anaconda3/envs/nn/lib/python3.7/multiprocessing/process.py\", line 297, in _bootstrap\n",
      "    self.run()\n",
      "  File \"/home/tadenoud/anaconda3/envs/nn/lib/python3.7/site-packages/torch/utils/data/dataloader.py\", line 278, in __iter__\n",
      "    return _MultiProcessingDataLoaderIter(self)\n",
      "  File \"/home/tadenoud/anaconda3/envs/nn/lib/python3.7/multiprocessing/process.py\", line 99, in run\n",
      "    self._target(*self._args, **self._kwargs)\n",
      "  File \"/home/tadenoud/anaconda3/envs/nn/lib/python3.7/site-packages/torch/utils/data/dataloader.py\", line 682, in __init__\n",
      "    w.start()\n",
      "  File \"/home/tadenoud/anaconda3/envs/nn/lib/python3.7/site-packages/torch/utils/data/_utils/worker.py\", line 178, in _worker_loop\n",
      "    data = fetcher.fetch(index)\n",
      "  File \"/home/tadenoud/anaconda3/envs/nn/lib/python3.7/multiprocessing/process.py\", line 112, in start\n",
      "    self._popen = self._Popen(self)\n",
      "  File \"/home/tadenoud/anaconda3/envs/nn/lib/python3.7/multiprocessing/context.py\", line 223, in _Popen\n",
      "    return _default_context.get_context().Process._Popen(process_obj)\n",
      "  File \"<frozen importlib._bootstrap>\", line 1035, in _handle_fromlist\n",
      "  File \"/home/tadenoud/anaconda3/envs/nn/lib/python3.7/site-packages/torch/utils/data/_utils/fetch.py\", line 44, in fetch\n",
      "    data = [self.dataset[idx] for idx in possibly_batched_index]\n",
      "  File \"<frozen importlib._bootstrap>\", line 219, in _call_with_frames_removed\n",
      "  File \"<frozen importlib._bootstrap>\", line 983, in _find_and_load\n",
      "  File \"<frozen importlib._bootstrap>\", line 967, in _find_and_load_unlocked\n",
      "  File \"<frozen importlib._bootstrap>\", line 677, in _load_unlocked\n",
      "  File \"<frozen importlib._bootstrap_external>\", line 728, in exec_module\n",
      "  File \"<frozen importlib._bootstrap>\", line 219, in _call_with_frames_removed\n",
      "  File \"<frozen importlib._bootstrap>\", line 677, in _load_unlocked\n",
      "  File \"/home/tadenoud/anaconda3/envs/nn/lib/python3.7/site-packages/IPython/core/interactiveshell.py\", line 3326, in run_code\n",
      "    exec(code_obj, self.user_global_ns, self.user_ns)\n",
      "  File \"/home/tadenoud/anaconda3/envs/nn/lib/python3.7/site-packages/PIL/ImagePalette.py\", line 20, in <module>\n",
      "    from . import ImageColor, GimpPaletteFile, GimpGradientFile, PaletteFile\n",
      "  File \"/home/tadenoud/anaconda3/envs/nn/lib/python3.7/site-packages/torch/utils/data/_utils/fetch.py\", line 44, in <listcomp>\n",
      "    data = [self.dataset[idx] for idx in possibly_batched_index]\n",
      "  File \"<ipython-input-96-f531642981ab>\", line 4, in <module>\n",
      "    extract_idd_features(idd_val_dataset, trainer.faster_rcnn, save_file, eps, temp)\n",
      "  File \"/home/tadenoud/Git/simple-faster-rcnn-pytorch/utils/idd_utils.py\", line 148, in __getitem__\n",
      "    img = read_image(img_name)\n",
      "  File \"<ipython-input-8-ef4a010a3feb>\", line 58, in extract_idd_features\n",
      "    for i, (imgs, gt_bboxes, gt_labels) in tqdm(enumerate(dataloader), total=len(dataset)):\n",
      "  File \"/home/tadenoud/Git/simple-faster-rcnn-pytorch/utils/idd_utils.py\", line 112, in read_image\n",
      "    f = Image.open(path)\n",
      "  File \"/home/tadenoud/anaconda3/envs/nn/lib/python3.7/site-packages/torch/utils/data/dataloader.py\", line 278, in __iter__\n",
      "    return _MultiProcessingDataLoaderIter(self)\n",
      "  File \"/home/tadenoud/anaconda3/envs/nn/lib/python3.7/site-packages/PIL/Image.py\", line 2781, in open\n",
      "    preinit()\n",
      "  File \"/home/tadenoud/anaconda3/envs/nn/lib/python3.7/site-packages/torch/utils/data/dataloader.py\", line 682, in __init__\n",
      "    w.start()\n",
      "  File \"/home/tadenoud/anaconda3/envs/nn/lib/python3.7/site-packages/PIL/Image.py\", line 381, in preinit\n",
      "    from . import BmpImagePlugin\n",
      "  File \"<frozen importlib._bootstrap>\", line 1035, in _handle_fromlist\n",
      "  File \"<frozen importlib._bootstrap>\", line 219, in _call_with_frames_removed\n",
      "  File \"/home/tadenoud/anaconda3/envs/nn/lib/python3.7/multiprocessing/context.py\", line 277, in _Popen\n",
      "    return Popen(process_obj)\n",
      "  File \"/home/tadenoud/anaconda3/envs/nn/lib/python3.7/logging/__init__.py\", line 1029, in emit\n",
      "    self.flush()\n",
      "  File \"<frozen importlib._bootstrap_external>\", line 724, in exec_module\n",
      "  File \"<frozen importlib._bootstrap>\", line 983, in _find_and_load\n",
      "  File \"/home/tadenoud/anaconda3/envs/nn/lib/python3.7/multiprocessing/popen_fork.py\", line 20, in __init__\n",
      "    self._launch(process_obj)\n",
      "  File \"<frozen importlib._bootstrap>\", line 1035, in _handle_fromlist\n",
      "  File \"/home/tadenoud/anaconda3/envs/nn/lib/python3.7/multiprocessing/popen_fork.py\", line 74, in _launch\n",
      "    code = process_obj._bootstrap()\n"
     ]
    },
    {
     "name": "stderr",
     "output_type": "stream",
     "text": [
      "  File \"<frozen importlib._bootstrap>\", line 219, in _call_with_frames_removed\n",
      "  File \"<frozen importlib._bootstrap_external>\", line 857, in get_code\n",
      "  File \"<frozen importlib._bootstrap>\", line 967, in _find_and_load_unlocked\n",
      "  File \"/home/tadenoud/anaconda3/envs/nn/lib/python3.7/logging/__init__.py\", line 1009, in flush\n",
      "    self.stream.flush()\n",
      "  File \"/home/tadenoud/anaconda3/envs/nn/lib/python3.7/multiprocessing/process.py\", line 297, in _bootstrap\n",
      "    self.run()\n",
      "  File \"<frozen importlib._bootstrap>\", line 983, in _find_and_load\n",
      "  File \"<frozen importlib._bootstrap>\", line 677, in _load_unlocked\n",
      "  File \"/home/tadenoud/anaconda3/envs/nn/lib/python3.7/multiprocessing/process.py\", line 112, in start\n",
      "    self._popen = self._Popen(self)\n",
      "  File \"/home/tadenoud/anaconda3/envs/nn/lib/python3.7/multiprocessing/process.py\", line 99, in run\n",
      "    self._target(*self._args, **self._kwargs)\n",
      "BrokenPipeError: [Errno 32] Broken pipe\n",
      "Call stack:\n",
      "  File \"<frozen importlib._bootstrap_external>\", line 728, in exec_module\n",
      "  File \"<frozen importlib._bootstrap>\", line 219, in _call_with_frames_removed\n",
      "  File \"<frozen importlib._bootstrap>\", line 967, in _find_and_load_unlocked\n",
      "  File \"/home/tadenoud/anaconda3/envs/nn/lib/python3.7/site-packages/PIL/BmpImagePlugin.py\", line 27, in <module>\n",
      "    from . import Image, ImageFile, ImagePalette\n",
      "  File \"<frozen importlib._bootstrap>\", line 1035, in _handle_fromlist\n",
      "  File \"<frozen importlib._bootstrap>\", line 677, in _load_unlocked\n",
      "  File \"/home/tadenoud/anaconda3/envs/nn/lib/python3.7/site-packages/torch/utils/data/_utils/worker.py\", line 178, in _worker_loop\n",
      "    data = fetcher.fetch(index)\n",
      "  File \"<frozen importlib._bootstrap>\", line 219, in _call_with_frames_removed\n",
      "  File \"<frozen importlib._bootstrap_external>\", line 724, in exec_module\n",
      "  File \"/home/tadenoud/anaconda3/envs/nn/lib/python3.7/site-packages/torch/utils/data/_utils/fetch.py\", line 44, in fetch\n",
      "    data = [self.dataset[idx] for idx in possibly_batched_index]\n",
      "  File \"<frozen importlib._bootstrap_external>\", line 857, in get_code\n",
      "  File \"/home/tadenoud/anaconda3/envs/nn/lib/python3.7/site-packages/torch/utils/data/_utils/fetch.py\", line 44, in <listcomp>\n",
      "    data = [self.dataset[idx] for idx in possibly_batched_index]\n",
      "  File \"<frozen importlib._bootstrap_external>\", line 525, in _compile_bytecode\n",
      "  File \"<frozen importlib._bootstrap>\", line 980, in _find_and_load\n",
      "  File \"/home/tadenoud/Git/simple-faster-rcnn-pytorch/utils/idd_utils.py\", line 148, in __getitem__\n",
      "    img = read_image(img_name)\n",
      "  File \"<frozen importlib._bootstrap>\", line 144, in __init__\n",
      "  File \"/home/tadenoud/Git/simple-faster-rcnn-pytorch/utils/idd_utils.py\", line 112, in read_image\n",
      "    f = Image.open(path)\n",
      "  File \"/home/tadenoud/anaconda3/envs/nn/lib/python3.7/site-packages/tqdm/std.py\", line 1039, in __del__\n",
      "    self.close()\n",
      "  File \"/home/tadenoud/anaconda3/envs/nn/lib/python3.7/site-packages/tqdm/std.py\", line 1039, in __del__\n",
      "    self.close()\n",
      "  File \"/home/tadenoud/anaconda3/envs/nn/lib/python3.7/site-packages/tqdm/notebook.py\", line 249, in close\n",
      "    self.sp(bar_style='success')\n",
      "  File \"/home/tadenoud/anaconda3/envs/nn/lib/python3.7/site-packages/PIL/Image.py\", line 2781, in open\n",
      "    preinit()\n",
      "  File \"/home/tadenoud/anaconda3/envs/nn/lib/python3.7/site-packages/tqdm/notebook.py\", line 176, in display\n",
      "    ptext.value = right\n",
      "  File \"<frozen importlib._bootstrap_external>\", line 525, in _compile_bytecode\n",
      "  File \"/home/tadenoud/anaconda3/envs/nn/lib/python3.7/multiprocessing/context.py\", line 223, in _Popen\n",
      "    return _default_context.get_context().Process._Popen(process_obj)\n",
      "  File \"/home/tadenoud/anaconda3/envs/nn/lib/python3.7/site-packages/tqdm/notebook.py\", line 249, in close\n",
      "    self.sp(bar_style='success')\n",
      "  File \"/home/tadenoud/anaconda3/envs/nn/lib/python3.7/site-packages/tqdm/notebook.py\", line 176, in display\n",
      "    ptext.value = right\n",
      "  File \"/home/tadenoud/anaconda3/envs/nn/lib/python3.7/multiprocessing/context.py\", line 277, in _Popen\n",
      "    return Popen(process_obj)\n",
      "  File \"/home/tadenoud/anaconda3/envs/nn/lib/python3.7/site-packages/PIL/Image.py\", line 381, in preinit\n",
      "    from . import BmpImagePlugin\n",
      "  File \"/home/tadenoud/anaconda3/envs/nn/lib/python3.7/site-packages/traitlets/traitlets.py\", line 585, in __set__\n",
      "    self.set(obj, value)\n",
      "  File \"/home/tadenoud/anaconda3/envs/nn/lib/python3.7/site-packages/traitlets/traitlets.py\", line 585, in __set__\n",
      "    self.set(obj, value)\n",
      "  File \"<frozen importlib._bootstrap>\", line 1035, in _handle_fromlist\n",
      "  File \"<frozen importlib._bootstrap>\", line 219, in _call_with_frames_removed\n",
      "  File \"/home/tadenoud/anaconda3/envs/nn/lib/python3.7/multiprocessing/popen_fork.py\", line 20, in __init__\n",
      "    self._launch(process_obj)\n",
      "  File \"<frozen importlib._bootstrap>\", line 983, in _find_and_load\n",
      "  File \"/home/tadenoud/anaconda3/envs/nn/lib/python3.7/multiprocessing/popen_fork.py\", line 74, in _launch\n",
      "    code = process_obj._bootstrap()\n",
      "  File \"/home/tadenoud/anaconda3/envs/nn/lib/python3.7/multiprocessing/process.py\", line 297, in _bootstrap\n",
      "    self.run()\n",
      "  File \"/home/tadenoud/anaconda3/envs/nn/lib/python3.7/site-packages/tqdm/std.py\", line 1039, in __del__\n",
      "    self.close()\n",
      "  File \"/home/tadenoud/anaconda3/envs/nn/lib/python3.7/multiprocessing/process.py\", line 99, in run\n",
      "    self._target(*self._args, **self._kwargs)\n",
      "  File \"<frozen importlib._bootstrap>\", line 967, in _find_and_load_unlocked\n",
      "  File \"<frozen importlib._bootstrap>\", line 677, in _load_unlocked\n",
      "  File \"<frozen importlib._bootstrap_external>\", line 728, in exec_module\n",
      "  File \"<frozen importlib._bootstrap>\", line 219, in _call_with_frames_removed\n",
      "  File \"/home/tadenoud/anaconda3/envs/nn/lib/python3.7/site-packages/PIL/BmpImagePlugin.py\", line 27, in <module>\n",
      "    from . import Image, ImageFile, ImagePalette\n",
      "  File \"<frozen importlib._bootstrap>\", line 1035, in _handle_fromlist\n",
      "  File \"/home/tadenoud/anaconda3/envs/nn/lib/python3.7/site-packages/traitlets/traitlets.py\", line 574, in set\n",
      "    obj._notify_trait(self.name, old_value, new_value)\n",
      "  File \"<frozen importlib._bootstrap>\", line 219, in _call_with_frames_removed\n",
      "  File \"/home/tadenoud/anaconda3/envs/nn/lib/python3.7/site-packages/traitlets/traitlets.py\", line 1139, in _notify_trait\n",
      "    type='change',\n",
      "  File \"/home/tadenoud/anaconda3/envs/nn/lib/python3.7/site-packages/traitlets/traitlets.py\", line 574, in set\n",
      "    obj._notify_trait(self.name, old_value, new_value)\n",
      "  File \"/home/tadenoud/anaconda3/envs/nn/lib/python3.7/site-packages/ipywidgets/widgets/widget.py\", line 605, in notify_change\n",
      "    self.send_state(key=name)\n",
      "  File \"<frozen importlib._bootstrap>\", line 983, in _find_and_load\n",
      "  File \"/home/tadenoud/anaconda3/envs/nn/lib/python3.7/site-packages/ipywidgets/widgets/widget.py\", line 489, in send_state\n",
      "    self._send(msg, buffers=buffers)\n",
      "  File \"/home/tadenoud/anaconda3/envs/nn/lib/python3.7/site-packages/traitlets/traitlets.py\", line 1139, in _notify_trait\n",
      "    type='change',\n",
      "  File \"<frozen importlib._bootstrap>\", line 967, in _find_and_load_unlocked\n",
      "  File \"/home/tadenoud/anaconda3/envs/nn/lib/python3.7/site-packages/ipywidgets/widgets/widget.py\", line 737, in _send\n",
      "    self.comm.send(data=msg, buffers=buffers)\n",
      "  File \"<frozen importlib._bootstrap>\", line 677, in _load_unlocked\n",
      "  File \"/home/tadenoud/anaconda3/envs/nn/lib/python3.7/site-packages/ipywidgets/widgets/widget.py\", line 605, in notify_change\n",
      "    self.send_state(key=name)\n",
      "  File \"/home/tadenoud/anaconda3/envs/nn/lib/python3.7/site-packages/ipykernel/comm/comm.py\", line 121, in send\n",
      "    data=data, metadata=metadata, buffers=buffers,\n",
      "  File \"/home/tadenoud/anaconda3/envs/nn/lib/python3.7/site-packages/ipywidgets/widgets/widget.py\", line 489, in send_state\n",
      "    self._send(msg, buffers=buffers)\n",
      "  File \"<frozen importlib._bootstrap_external>\", line 724, in exec_module\n",
      "  File \"/home/tadenoud/anaconda3/envs/nn/lib/python3.7/site-packages/tqdm/notebook.py\", line 249, in close\n",
      "    self.sp(bar_style='success')\n",
      "  File \"/home/tadenoud/anaconda3/envs/nn/lib/python3.7/site-packages/tqdm/notebook.py\", line 176, in display\n",
      "    ptext.value = right\n",
      "  File \"/home/tadenoud/anaconda3/envs/nn/lib/python3.7/site-packages/ipywidgets/widgets/widget.py\", line 737, in _send\n",
      "    self.comm.send(data=msg, buffers=buffers)\n"
     ]
    },
    {
     "name": "stderr",
     "output_type": "stream",
     "text": [
      "  File \"<frozen importlib._bootstrap_external>\", line 857, in get_code\n",
      "  File \"/home/tadenoud/anaconda3/envs/nn/lib/python3.7/site-packages/ipykernel/comm/comm.py\", line 121, in send\n",
      "    data=data, metadata=metadata, buffers=buffers,\n",
      "  File \"/home/tadenoud/anaconda3/envs/nn/lib/python3.7/site-packages/ipykernel/comm/comm.py\", line 71, in _publish_msg\n",
      "    buffers=buffers,\n",
      "  File \"/home/tadenoud/anaconda3/envs/nn/lib/python3.7/site-packages/traitlets/traitlets.py\", line 585, in __set__\n",
      "    self.set(obj, value)\n",
      "  File \"<frozen importlib._bootstrap_external>\", line 525, in _compile_bytecode\n",
      "  File \"/home/tadenoud/anaconda3/envs/nn/lib/python3.7/site-packages/jupyter_client/session.py\", line 716, in send\n",
      "    msg\n",
      "  File \"/home/tadenoud/anaconda3/envs/nn/lib/python3.7/site-packages/traitlets/traitlets.py\", line 574, in set\n",
      "    obj._notify_trait(self.name, old_value, new_value)\n",
      "  File \"/home/tadenoud/anaconda3/envs/nn/lib/python3.7/site-packages/tqdm/std.py\", line 1039, in __del__\n",
      "    self.close()\n",
      "Message: 'WARNING: attempted to send message from fork\\n%s'\n",
      "Arguments: {'header': {'msg_id': 'dc415f6f-bc757e71ca704befa4d96173', 'msg_type': 'comm_msg', 'username': 'tadenoud', 'session': '39c835b6-82e0315468f162e7be673a61', 'date': datetime.datetime(2019, 12, 17, 14, 55, 10, 909037, tzinfo=datetime.timezone.utc), 'version': '5.3'}, 'msg_id': 'dc415f6f-bc757e71ca704befa4d96173', 'msg_type': 'comm_msg', 'parent_header': {'msg_id': 'e72b2fc9de5049c0866af40906c33c24', 'username': 'username', 'session': '3d0a25ebf4e84a479ba2e1b145d7cc22', 'msg_type': 'execute_request', 'version': '5.2', 'date': datetime.datetime(2019, 12, 17, 14, 54, 55, 703319, tzinfo=datetime.timezone.utc)}, 'content': {'data': {'method': 'update', 'state': {'value': ' 342/342 [00:25&lt;00:00, 13.60it/s]'}, 'buffer_paths': []}, 'comm_id': '534828d2d1c148be936a0ed58cb9829b'}, 'metadata': {}}\n",
      "  File \"/home/tadenoud/anaconda3/envs/nn/lib/python3.7/site-packages/traitlets/traitlets.py\", line 1139, in _notify_trait\n",
      "    type='change',\n",
      "  File \"/home/tadenoud/anaconda3/envs/nn/lib/python3.7/site-packages/tqdm/notebook.py\", line 249, in close\n",
      "    self.sp(bar_style='success')\n",
      "  File \"/home/tadenoud/anaconda3/envs/nn/lib/python3.7/site-packages/ipywidgets/widgets/widget.py\", line 605, in notify_change\n",
      "    self.send_state(key=name)\n",
      "  File \"/home/tadenoud/anaconda3/envs/nn/lib/python3.7/site-packages/ipykernel/comm/comm.py\", line 71, in _publish_msg\n",
      "    buffers=buffers,\n",
      "  File \"/home/tadenoud/anaconda3/envs/nn/lib/python3.7/site-packages/ipywidgets/widgets/widget.py\", line 489, in send_state\n",
      "    self._send(msg, buffers=buffers)\n",
      "  File \"/home/tadenoud/anaconda3/envs/nn/lib/python3.7/site-packages/tqdm/notebook.py\", line 176, in display\n",
      "    ptext.value = right\n",
      "  File \"/home/tadenoud/anaconda3/envs/nn/lib/python3.7/site-packages/jupyter_client/session.py\", line 716, in send\n",
      "    msg\n",
      "  File \"/home/tadenoud/anaconda3/envs/nn/lib/python3.7/site-packages/traitlets/traitlets.py\", line 585, in __set__\n",
      "    self.set(obj, value)\n",
      "  File \"/home/tadenoud/anaconda3/envs/nn/lib/python3.7/site-packages/ipywidgets/widgets/widget.py\", line 737, in _send\n",
      "    self.comm.send(data=msg, buffers=buffers)\n",
      "Message: 'WARNING: attempted to send message from fork\\n%s'\n",
      "Arguments: {'header': {'msg_id': '8ff82197-265db8027e11d59cbd24fe46', 'msg_type': 'comm_msg', 'username': 'tadenoud', 'session': '39c835b6-82e0315468f162e7be673a61', 'date': datetime.datetime(2019, 12, 17, 14, 55, 11, 12909, tzinfo=datetime.timezone.utc), 'version': '5.3'}, 'msg_id': '8ff82197-265db8027e11d59cbd24fe46', 'msg_type': 'comm_msg', 'parent_header': {'msg_id': 'e72b2fc9de5049c0866af40906c33c24', 'username': 'username', 'session': '3d0a25ebf4e84a479ba2e1b145d7cc22', 'msg_type': 'execute_request', 'version': '5.2', 'date': datetime.datetime(2019, 12, 17, 14, 54, 55, 703319, tzinfo=datetime.timezone.utc)}, 'content': {'data': {'method': 'update', 'state': {'value': ' 342/342 [00:19&lt;00:00, 17.14it/s]'}, 'buffer_paths': []}, 'comm_id': '40251f9b93244f86b7612a1557e07bfe'}, 'metadata': {}}\n",
      "  File \"/home/tadenoud/anaconda3/envs/nn/lib/python3.7/site-packages/ipykernel/comm/comm.py\", line 121, in send\n",
      "    data=data, metadata=metadata, buffers=buffers,\n",
      "  File \"/home/tadenoud/anaconda3/envs/nn/lib/python3.7/site-packages/traitlets/traitlets.py\", line 574, in set\n",
      "    obj._notify_trait(self.name, old_value, new_value)\n",
      "  File \"/home/tadenoud/anaconda3/envs/nn/lib/python3.7/site-packages/ipykernel/comm/comm.py\", line 71, in _publish_msg\n",
      "    buffers=buffers,\n",
      "  File \"/home/tadenoud/anaconda3/envs/nn/lib/python3.7/site-packages/jupyter_client/session.py\", line 716, in send\n",
      "    msg\n",
      "Message: 'WARNING: attempted to send message from fork\\n%s'\n",
      "Arguments: {'header': {'msg_id': 'bbbe083d-34b8b05dbbf9d856f731fb47', 'msg_type': 'comm_msg', 'username': 'tadenoud', 'session': '39c835b6-82e0315468f162e7be673a61', 'date': datetime.datetime(2019, 12, 17, 14, 55, 10, 889050, tzinfo=datetime.timezone.utc), 'version': '5.3'}, 'msg_id': 'bbbe083d-34b8b05dbbf9d856f731fb47', 'msg_type': 'comm_msg', 'parent_header': {'msg_id': 'e72b2fc9de5049c0866af40906c33c24', 'username': 'username', 'session': '3d0a25ebf4e84a479ba2e1b145d7cc22', 'msg_type': 'execute_request', 'version': '5.2', 'date': datetime.datetime(2019, 12, 17, 14, 54, 55, 703319, tzinfo=datetime.timezone.utc)}, 'content': {'data': {'method': 'update', 'state': {'value': ' 342/342 [00:19&lt;00:00, 17.41it/s]'}, 'buffer_paths': []}, 'comm_id': '40251f9b93244f86b7612a1557e07bfe'}, 'metadata': {}}\n",
      "  File \"/home/tadenoud/anaconda3/envs/nn/lib/python3.7/site-packages/torch/utils/data/_utils/worker.py\", line 178, in _worker_loop\n",
      "    data = fetcher.fetch(index)\n",
      "  File \"/home/tadenoud/anaconda3/envs/nn/lib/python3.7/site-packages/traitlets/traitlets.py\", line 1139, in _notify_trait\n",
      "    type='change',\n",
      "  File \"/home/tadenoud/anaconda3/envs/nn/lib/python3.7/site-packages/ipywidgets/widgets/widget.py\", line 605, in notify_change\n",
      "    self.send_state(key=name)\n",
      "  File \"/home/tadenoud/anaconda3/envs/nn/lib/python3.7/site-packages/torch/utils/data/_utils/fetch.py\", line 44, in fetch\n",
      "    data = [self.dataset[idx] for idx in possibly_batched_index]\n",
      "  File \"/home/tadenoud/anaconda3/envs/nn/lib/python3.7/site-packages/ipywidgets/widgets/widget.py\", line 489, in send_state\n",
      "    self._send(msg, buffers=buffers)\n",
      "  File \"/home/tadenoud/anaconda3/envs/nn/lib/python3.7/site-packages/ipywidgets/widgets/widget.py\", line 737, in _send\n",
      "    self.comm.send(data=msg, buffers=buffers)\n",
      "  File \"/home/tadenoud/anaconda3/envs/nn/lib/python3.7/site-packages/ipykernel/comm/comm.py\", line 121, in send\n",
      "    data=data, metadata=metadata, buffers=buffers,\n",
      "  File \"/home/tadenoud/anaconda3/envs/nn/lib/python3.7/site-packages/torch/utils/data/_utils/fetch.py\", line 44, in <listcomp>\n",
      "    data = [self.dataset[idx] for idx in possibly_batched_index]\n",
      "  File \"/home/tadenoud/Git/simple-faster-rcnn-pytorch/utils/idd_utils.py\", line 148, in __getitem__\n",
      "    img = read_image(img_name)\n",
      "  File \"/home/tadenoud/Git/simple-faster-rcnn-pytorch/utils/idd_utils.py\", line 112, in read_image\n",
      "    f = Image.open(path)\n",
      "  File \"/home/tadenoud/anaconda3/envs/nn/lib/python3.7/site-packages/ipykernel/comm/comm.py\", line 71, in _publish_msg\n",
      "    buffers=buffers,\n",
      "  File \"/home/tadenoud/anaconda3/envs/nn/lib/python3.7/site-packages/jupyter_client/session.py\", line 716, in send\n",
      "    msg\n",
      "Message: 'WARNING: attempted to send message from fork\\n%s'\n",
      "Arguments: {'header': {'msg_id': 'e1769780-4087a70bee35eb6b0ac0abee', 'msg_type': 'comm_msg', 'username': 'tadenoud', 'session': '39c835b6-82e0315468f162e7be673a61', 'date': datetime.datetime(2019, 12, 17, 14, 55, 11, 19015, tzinfo=datetime.timezone.utc), 'version': '5.3'}, 'msg_id': 'e1769780-4087a70bee35eb6b0ac0abee', 'msg_type': 'comm_msg', 'parent_header': {'msg_id': 'e72b2fc9de5049c0866af40906c33c24', 'username': 'username', 'session': '3d0a25ebf4e84a479ba2e1b145d7cc22', 'msg_type': 'execute_request', 'version': '5.2', 'date': datetime.datetime(2019, 12, 17, 14, 54, 55, 703319, tzinfo=datetime.timezone.utc)}, 'content': {'data': {'method': 'update', 'state': {'value': ' 342/342 [00:25&lt;00:00, 13.44it/s]'}, 'buffer_paths': []}, 'comm_id': '534828d2d1c148be936a0ed58cb9829b'}, 'metadata': {}}\n"
     ]
    },
    {
     "name": "stderr",
     "output_type": "stream",
     "text": [
      "  File \"/home/tadenoud/anaconda3/envs/nn/lib/python3.7/site-packages/PIL/Image.py\", line 2781, in open\n",
      "    preinit()\n",
      "  File \"/home/tadenoud/anaconda3/envs/nn/lib/python3.7/site-packages/PIL/Image.py\", line 381, in preinit\n",
      "    from . import BmpImagePlugin\n",
      "  File \"/home/tadenoud/anaconda3/envs/nn/lib/python3.7/runpy.py\", line 193, in _run_module_as_main\n",
      "    \"__main__\", mod_spec)\n",
      "  File \"<frozen importlib._bootstrap>\", line 1035, in _handle_fromlist\n",
      "  File \"/home/tadenoud/anaconda3/envs/nn/lib/python3.7/runpy.py\", line 85, in _run_code\n",
      "    exec(code, run_globals)\n",
      "  File \"<frozen importlib._bootstrap>\", line 219, in _call_with_frames_removed\n",
      "  File \"<frozen importlib._bootstrap>\", line 983, in _find_and_load\n",
      "  File \"<frozen importlib._bootstrap>\", line 967, in _find_and_load_unlocked\n",
      "  File \"/home/tadenoud/anaconda3/envs/nn/lib/python3.7/site-packages/ipykernel_launcher.py\", line 16, in <module>\n",
      "    app.launch_new_instance()\n",
      "  File \"<frozen importlib._bootstrap>\", line 677, in _load_unlocked\n",
      "  File \"<frozen importlib._bootstrap_external>\", line 728, in exec_module\n",
      "  File \"/home/tadenoud/anaconda3/envs/nn/lib/python3.7/site-packages/traitlets/config/application.py\", line 658, in launch_instance\n",
      "    app.start()\n",
      "  File \"/home/tadenoud/anaconda3/envs/nn/lib/python3.7/site-packages/ipykernel/kernelapp.py\", line 563, in start\n",
      "    self.io_loop.start()\n",
      "  File \"/home/tadenoud/anaconda3/envs/nn/lib/python3.7/site-packages/tornado/platform/asyncio.py\", line 148, in start\n",
      "    self.asyncio_loop.run_forever()\n",
      "  File \"/home/tadenoud/anaconda3/envs/nn/lib/python3.7/asyncio/base_events.py\", line 534, in run_forever\n",
      "    self._run_once()\n",
      "  File \"/home/tadenoud/anaconda3/envs/nn/lib/python3.7/asyncio/base_events.py\", line 1771, in _run_once\n",
      "    handle._run()\n",
      "  File \"<frozen importlib._bootstrap>\", line 219, in _call_with_frames_removed\n",
      "  File \"/home/tadenoud/anaconda3/envs/nn/lib/python3.7/site-packages/PIL/BmpImagePlugin.py\", line 27, in <module>\n",
      "    from . import Image, ImageFile, ImagePalette\n",
      "  File \"<frozen importlib._bootstrap>\", line 1035, in _handle_fromlist\n",
      "  File \"<frozen importlib._bootstrap>\", line 219, in _call_with_frames_removed\n",
      "  File \"<frozen importlib._bootstrap>\", line 983, in _find_and_load\n",
      "  File \"/home/tadenoud/anaconda3/envs/nn/lib/python3.7/asyncio/events.py\", line 88, in _run\n",
      "    self._context.run(self._callback, *self._args)\n",
      "  File \"<frozen importlib._bootstrap>\", line 967, in _find_and_load_unlocked\n",
      "  File \"/home/tadenoud/anaconda3/envs/nn/lib/python3.7/site-packages/tornado/ioloop.py\", line 690, in <lambda>\n",
      "    lambda f: self._run_callback(functools.partial(callback, future))\n",
      "  File \"<frozen importlib._bootstrap>\", line 677, in _load_unlocked\n",
      "  File \"/home/tadenoud/anaconda3/envs/nn/lib/python3.7/site-packages/tornado/ioloop.py\", line 743, in _run_callback\n",
      "    ret = callback()\n",
      "  File \"<frozen importlib._bootstrap_external>\", line 728, in exec_module\n",
      "  File \"<frozen importlib._bootstrap>\", line 219, in _call_with_frames_removed\n",
      "  File \"/home/tadenoud/anaconda3/envs/nn/lib/python3.7/site-packages/tornado/gen.py\", line 787, in inner\n",
      "    self.run()\n",
      "  File \"/home/tadenoud/anaconda3/envs/nn/lib/python3.7/site-packages/PIL/ImagePalette.py\", line 20, in <module>\n",
      "    from . import ImageColor, GimpPaletteFile, GimpGradientFile, PaletteFile\n",
      "  File \"/home/tadenoud/anaconda3/envs/nn/lib/python3.7/site-packages/tornado/gen.py\", line 748, in run\n",
      "    yielded = self.gen.send(value)\n",
      "  File \"/home/tadenoud/anaconda3/envs/nn/lib/python3.7/site-packages/ipykernel/kernelbase.py\", line 378, in dispatch_queue\n",
      "    yield self.process_one()\n",
      "  File \"/home/tadenoud/anaconda3/envs/nn/lib/python3.7/site-packages/tornado/gen.py\", line 225, in wrapper\n",
      "    runner = Runner(result, future, yielded)\n",
      "  File \"/home/tadenoud/anaconda3/envs/nn/lib/python3.7/site-packages/tornado/gen.py\", line 714, in __init__\n",
      "    self.run()\n",
      "  File \"/home/tadenoud/anaconda3/envs/nn/lib/python3.7/site-packages/tornado/gen.py\", line 748, in run\n",
      "    yielded = self.gen.send(value)\n",
      "  File \"/home/tadenoud/anaconda3/envs/nn/lib/python3.7/site-packages/ipykernel/kernelbase.py\", line 365, in process_one\n",
      "    yield gen.maybe_future(dispatch(*args))\n",
      "  File \"/home/tadenoud/anaconda3/envs/nn/lib/python3.7/site-packages/tornado/gen.py\", line 209, in wrapper\n",
      "    yielded = next(result)\n",
      "  File \"/home/tadenoud/anaconda3/envs/nn/lib/python3.7/site-packages/ipykernel/kernelbase.py\", line 272, in dispatch_shell\n",
      "    yield gen.maybe_future(handler(stream, idents, msg))\n",
      "  File \"/home/tadenoud/anaconda3/envs/nn/lib/python3.7/site-packages/tornado/gen.py\", line 209, in wrapper\n",
      "    yielded = next(result)\n",
      "  File \"<frozen importlib._bootstrap>\", line 1035, in _handle_fromlist\n",
      "  File \"/home/tadenoud/anaconda3/envs/nn/lib/python3.7/site-packages/ipykernel/kernelbase.py\", line 542, in execute_request\n",
      "    user_expressions, allow_stdin,\n",
      "  File \"<frozen importlib._bootstrap>\", line 219, in _call_with_frames_removed\n",
      "  File \"/home/tadenoud/anaconda3/envs/nn/lib/python3.7/site-packages/tornado/gen.py\", line 209, in wrapper\n",
      "    yielded = next(result)\n",
      "  File \"<frozen importlib._bootstrap>\", line 983, in _find_and_load\n",
      "  File \"<frozen importlib._bootstrap>\", line 967, in _find_and_load_unlocked\n",
      "  File \"<frozen importlib._bootstrap>\", line 677, in _load_unlocked\n",
      "  File \"<frozen importlib._bootstrap_external>\", line 728, in exec_module\n",
      "  File \"<frozen importlib._bootstrap>\", line 219, in _call_with_frames_removed\n",
      "  File \"/home/tadenoud/anaconda3/envs/nn/lib/python3.7/site-packages/PIL/GimpPaletteFile.py\", line 25, in <module>\n",
      "    class GimpPaletteFile(object):\n",
      "  File \"/home/tadenoud/anaconda3/envs/nn/lib/python3.7/site-packages/tqdm/std.py\", line 1039, in __del__\n",
      "    self.close()\n",
      "  File \"/home/tadenoud/anaconda3/envs/nn/lib/python3.7/site-packages/tqdm/notebook.py\", line 249, in close\n",
      "    self.sp(bar_style='success')\n",
      "  File \"/home/tadenoud/anaconda3/envs/nn/lib/python3.7/site-packages/tqdm/notebook.py\", line 176, in display\n",
      "    ptext.value = right\n",
      "  File \"/home/tadenoud/anaconda3/envs/nn/lib/python3.7/site-packages/traitlets/traitlets.py\", line 585, in __set__\n",
      "    self.set(obj, value)\n",
      "  File \"/home/tadenoud/anaconda3/envs/nn/lib/python3.7/site-packages/traitlets/traitlets.py\", line 574, in set\n",
      "    obj._notify_trait(self.name, old_value, new_value)\n",
      "  File \"/home/tadenoud/anaconda3/envs/nn/lib/python3.7/site-packages/traitlets/traitlets.py\", line 1139, in _notify_trait\n",
      "    type='change',\n",
      "  File \"/home/tadenoud/anaconda3/envs/nn/lib/python3.7/site-packages/ipywidgets/widgets/widget.py\", line 605, in notify_change\n",
      "    self.send_state(key=name)\n",
      "  File \"/home/tadenoud/anaconda3/envs/nn/lib/python3.7/site-packages/ipywidgets/widgets/widget.py\", line 489, in send_state\n",
      "    self._send(msg, buffers=buffers)\n",
      "  File \"/home/tadenoud/anaconda3/envs/nn/lib/python3.7/site-packages/ipykernel/ipkernel.py\", line 294, in do_execute\n",
      "    res = shell.run_cell(code, store_history=store_history, silent=silent)\n",
      "  File \"/home/tadenoud/anaconda3/envs/nn/lib/python3.7/site-packages/ipywidgets/widgets/widget.py\", line 737, in _send\n",
      "    self.comm.send(data=msg, buffers=buffers)\n",
      "  File \"/home/tadenoud/anaconda3/envs/nn/lib/python3.7/site-packages/ipykernel/zmqshell.py\", line 536, in run_cell\n",
      "    return super(ZMQInteractiveShell, self).run_cell(*args, **kwargs)\n",
      "  File \"/home/tadenoud/anaconda3/envs/nn/lib/python3.7/site-packages/ipykernel/comm/comm.py\", line 121, in send\n",
      "    data=data, metadata=metadata, buffers=buffers,\n",
      "  File \"/home/tadenoud/anaconda3/envs/nn/lib/python3.7/site-packages/ipykernel/comm/comm.py\", line 71, in _publish_msg\n",
      "    buffers=buffers,\n",
      "  File \"/home/tadenoud/anaconda3/envs/nn/lib/python3.7/site-packages/IPython/core/interactiveshell.py\", line 2855, in run_cell\n",
      "    raw_cell, store_history, silent, shell_futures)\n",
      "  File \"/home/tadenoud/anaconda3/envs/nn/lib/python3.7/site-packages/jupyter_client/session.py\", line 716, in send\n",
      "    msg\n",
      "  File \"/home/tadenoud/anaconda3/envs/nn/lib/python3.7/site-packages/IPython/core/interactiveshell.py\", line 2881, in _run_cell\n",
      "    return runner(coro)\n",
      "Message: 'WARNING: attempted to send message from fork\\n%s'\n",
      "Arguments: {'header': {'msg_id': 'ac213ddd-7e61ef1086c27c9ff95780d8', 'msg_type': 'comm_msg', 'username': 'tadenoud', 'session': '39c835b6-82e0315468f162e7be673a61', 'date': datetime.datetime(2019, 12, 17, 14, 55, 10, 887202, tzinfo=datetime.timezone.utc), 'version': '5.3'}, 'msg_id': 'ac213ddd-7e61ef1086c27c9ff95780d8', 'msg_type': 'comm_msg', 'parent_header': {'msg_id': 'e72b2fc9de5049c0866af40906c33c24', 'username': 'username', 'session': '3d0a25ebf4e84a479ba2e1b145d7cc22', 'msg_type': 'execute_request', 'version': '5.2', 'date': datetime.datetime(2019, 12, 17, 14, 54, 55, 703319, tzinfo=datetime.timezone.utc)}, 'content': {'data': {'method': 'update', 'state': {'value': ' 342/342 [00:19&lt;00:00, 17.25it/s]'}, 'buffer_paths': []}, 'comm_id': '40251f9b93244f86b7612a1557e07bfe'}, 'metadata': {}}\n"
     ]
    },
    {
     "name": "stderr",
     "output_type": "stream",
     "text": [
      "  File \"/home/tadenoud/anaconda3/envs/nn/lib/python3.7/site-packages/IPython/core/async_helpers.py\", line 68, in _pseudo_sync_runner\n",
      "    coro.send(None)\n",
      "  File \"/home/tadenoud/anaconda3/envs/nn/lib/python3.7/site-packages/IPython/core/interactiveshell.py\", line 3058, in run_cell_async\n",
      "    interactivity=interactivity, compiler=compiler, result=result)\n",
      "  File \"/home/tadenoud/anaconda3/envs/nn/lib/python3.7/site-packages/IPython/core/interactiveshell.py\", line 3249, in run_ast_nodes\n",
      "    if (await self.run_code(code, result,  async_=asy)):\n",
      "  File \"/home/tadenoud/anaconda3/envs/nn/lib/python3.7/site-packages/IPython/core/interactiveshell.py\", line 3326, in run_code\n",
      "    exec(code_obj, self.user_global_ns, self.user_ns)\n",
      "  File \"<ipython-input-96-f531642981ab>\", line 4, in <module>\n",
      "    extract_idd_features(idd_val_dataset, trainer.faster_rcnn, save_file, eps, temp)\n",
      "  File \"<ipython-input-8-ef4a010a3feb>\", line 58, in extract_idd_features\n",
      "    for i, (imgs, gt_bboxes, gt_labels) in tqdm(enumerate(dataloader), total=len(dataset)):\n",
      "  File \"/home/tadenoud/anaconda3/envs/nn/lib/python3.7/site-packages/torch/utils/data/dataloader.py\", line 278, in __iter__\n",
      "    return _MultiProcessingDataLoaderIter(self)\n",
      "  File \"/home/tadenoud/anaconda3/envs/nn/lib/python3.7/site-packages/torch/utils/data/dataloader.py\", line 682, in __init__\n",
      "    w.start()\n",
      "  File \"/home/tadenoud/anaconda3/envs/nn/lib/python3.7/multiprocessing/process.py\", line 112, in start\n",
      "    self._popen = self._Popen(self)\n",
      "  File \"/home/tadenoud/anaconda3/envs/nn/lib/python3.7/multiprocessing/context.py\", line 223, in _Popen\n",
      "    return _default_context.get_context().Process._Popen(process_obj)\n",
      "  File \"/home/tadenoud/anaconda3/envs/nn/lib/python3.7/multiprocessing/context.py\", line 277, in _Popen\n",
      "    return Popen(process_obj)\n",
      "  File \"/home/tadenoud/anaconda3/envs/nn/lib/python3.7/multiprocessing/popen_fork.py\", line 20, in __init__\n",
      "    self._launch(process_obj)\n",
      "  File \"/home/tadenoud/anaconda3/envs/nn/lib/python3.7/multiprocessing/popen_fork.py\", line 74, in _launch\n",
      "    code = process_obj._bootstrap()\n",
      "  File \"/home/tadenoud/anaconda3/envs/nn/lib/python3.7/multiprocessing/process.py\", line 297, in _bootstrap\n",
      "    self.run()\n",
      "  File \"/home/tadenoud/anaconda3/envs/nn/lib/python3.7/multiprocessing/process.py\", line 99, in run\n",
      "    self._target(*self._args, **self._kwargs)\n",
      "  File \"/home/tadenoud/anaconda3/envs/nn/lib/python3.7/site-packages/torch/utils/data/_utils/worker.py\", line 178, in _worker_loop\n",
      "    data = fetcher.fetch(index)\n",
      "  File \"/home/tadenoud/anaconda3/envs/nn/lib/python3.7/site-packages/torch/utils/data/_utils/fetch.py\", line 44, in fetch\n",
      "    data = [self.dataset[idx] for idx in possibly_batched_index]\n",
      "  File \"/home/tadenoud/anaconda3/envs/nn/lib/python3.7/site-packages/torch/utils/data/_utils/fetch.py\", line 44, in <listcomp>\n",
      "    data = [self.dataset[idx] for idx in possibly_batched_index]\n",
      "  File \"/home/tadenoud/Git/simple-faster-rcnn-pytorch/utils/idd_utils.py\", line 148, in __getitem__\n",
      "    img = read_image(img_name)\n",
      "  File \"/home/tadenoud/Git/simple-faster-rcnn-pytorch/utils/idd_utils.py\", line 112, in read_image\n",
      "    f = Image.open(path)\n",
      "  File \"/home/tadenoud/anaconda3/envs/nn/lib/python3.7/site-packages/PIL/Image.py\", line 2781, in open\n",
      "    preinit()\n",
      "  File \"/home/tadenoud/anaconda3/envs/nn/lib/python3.7/site-packages/PIL/Image.py\", line 381, in preinit\n",
      "    from . import BmpImagePlugin\n",
      "  File \"<frozen importlib._bootstrap>\", line 1035, in _handle_fromlist\n",
      "  File \"<frozen importlib._bootstrap>\", line 219, in _call_with_frames_removed\n",
      "  File \"<frozen importlib._bootstrap>\", line 983, in _find_and_load\n",
      "  File \"<frozen importlib._bootstrap>\", line 967, in _find_and_load_unlocked\n",
      "  File \"<frozen importlib._bootstrap>\", line 677, in _load_unlocked\n",
      "  File \"<frozen importlib._bootstrap_external>\", line 728, in exec_module\n",
      "  File \"<frozen importlib._bootstrap>\", line 219, in _call_with_frames_removed\n",
      "  File \"/home/tadenoud/anaconda3/envs/nn/lib/python3.7/site-packages/PIL/BmpImagePlugin.py\", line 27, in <module>\n",
      "    from . import Image, ImageFile, ImagePalette\n",
      "  File \"<frozen importlib._bootstrap>\", line 1035, in _handle_fromlist\n",
      "  File \"<frozen importlib._bootstrap>\", line 219, in _call_with_frames_removed\n",
      "  File \"<frozen importlib._bootstrap>\", line 983, in _find_and_load\n",
      "  File \"<frozen importlib._bootstrap>\", line 967, in _find_and_load_unlocked\n",
      "  File \"<frozen importlib._bootstrap>\", line 677, in _load_unlocked\n",
      "  File \"<frozen importlib._bootstrap_external>\", line 728, in exec_module\n",
      "  File \"<frozen importlib._bootstrap>\", line 219, in _call_with_frames_removed\n",
      "  File \"/home/tadenoud/anaconda3/envs/nn/lib/python3.7/site-packages/PIL/ImageFile.py\", line 337, in <module>\n",
      "    class Parser(object):\n",
      "  File \"/home/tadenoud/anaconda3/envs/nn/lib/python3.7/site-packages/tqdm/std.py\", line 1039, in __del__\n",
      "    self.close()\n",
      "  File \"/home/tadenoud/anaconda3/envs/nn/lib/python3.7/site-packages/tqdm/notebook.py\", line 249, in close\n",
      "    self.sp(bar_style='success')\n",
      "  File \"/home/tadenoud/anaconda3/envs/nn/lib/python3.7/site-packages/tqdm/notebook.py\", line 176, in display\n",
      "    ptext.value = right\n",
      "  File \"/home/tadenoud/anaconda3/envs/nn/lib/python3.7/site-packages/traitlets/traitlets.py\", line 585, in __set__\n",
      "    self.set(obj, value)\n",
      "  File \"/home/tadenoud/anaconda3/envs/nn/lib/python3.7/site-packages/traitlets/traitlets.py\", line 574, in set\n",
      "    obj._notify_trait(self.name, old_value, new_value)\n",
      "  File \"/home/tadenoud/anaconda3/envs/nn/lib/python3.7/site-packages/traitlets/traitlets.py\", line 1139, in _notify_trait\n",
      "    type='change',\n",
      "  File \"/home/tadenoud/anaconda3/envs/nn/lib/python3.7/site-packages/ipywidgets/widgets/widget.py\", line 605, in notify_change\n",
      "    self.send_state(key=name)\n",
      "  File \"/home/tadenoud/anaconda3/envs/nn/lib/python3.7/site-packages/ipywidgets/widgets/widget.py\", line 489, in send_state\n",
      "    self._send(msg, buffers=buffers)\n",
      "  File \"/home/tadenoud/anaconda3/envs/nn/lib/python3.7/site-packages/ipywidgets/widgets/widget.py\", line 737, in _send\n",
      "    self.comm.send(data=msg, buffers=buffers)\n",
      "  File \"/home/tadenoud/anaconda3/envs/nn/lib/python3.7/site-packages/ipykernel/comm/comm.py\", line 121, in send\n",
      "    data=data, metadata=metadata, buffers=buffers,\n",
      "  File \"/home/tadenoud/anaconda3/envs/nn/lib/python3.7/site-packages/ipykernel/comm/comm.py\", line 71, in _publish_msg\n",
      "    buffers=buffers,\n",
      "  File \"/home/tadenoud/anaconda3/envs/nn/lib/python3.7/site-packages/jupyter_client/session.py\", line 716, in send\n",
      "    msg\n",
      "Message: 'WARNING: attempted to send message from fork\\n%s'\n",
      "Arguments: {'header': {'msg_id': 'bd55d17d-49d908bb4a70cd2245ce5bc9', 'msg_type': 'comm_msg', 'username': 'tadenoud', 'session': '39c835b6-82e0315468f162e7be673a61', 'date': datetime.datetime(2019, 12, 17, 14, 55, 11, 17372, tzinfo=datetime.timezone.utc), 'version': '5.3'}, 'msg_id': 'bd55d17d-49d908bb4a70cd2245ce5bc9', 'msg_type': 'comm_msg', 'parent_header': {'msg_id': 'e72b2fc9de5049c0866af40906c33c24', 'username': 'username', 'session': '3d0a25ebf4e84a479ba2e1b145d7cc22', 'msg_type': 'execute_request', 'version': '5.2', 'date': datetime.datetime(2019, 12, 17, 14, 54, 55, 703319, tzinfo=datetime.timezone.utc)}, 'content': {'data': {'method': 'update', 'state': {'value': ' 342/342 [00:25&lt;00:00, 13.60it/s]'}, 'buffer_paths': []}, 'comm_id': '534828d2d1c148be936a0ed58cb9829b'}, 'metadata': {}}\n",
      "/opt/conda/conda-bld/pytorch_1565272271120/work/torch/csrc/autograd/python_function.cpp:638: UserWarning: Legacy autograd function with non-static forward method is deprecated and will be removed in 1.3. Please use new-style autograd function with static forward method. (Example: https://pytorch.org/docs/stable/autograd.html#torch.autograd.Function)\n",
      "/opt/conda/conda-bld/pytorch_1565272271120/work/torch/csrc/autograd/python_function.cpp:664: UserWarning: Legacy autograd function object was called twice.  You will probably get incorrect gradients from this computation, as the saved tensors from the second invocation will clobber the saved tensors from the first invocation.  Please consider rewriting your autograd function in the modern style; for information on the new format, please see: https://pytorch.org/docs/stable/notes/extending.html#extending-torch-autograd\n"
     ]
    },
    {
     "name": "stdout",
     "output_type": "stream",
     "text": [
      "\n"
     ]
    },
    {
     "data": {
      "application/vnd.jupyter.widget-view+json": {
       "model_id": "97070bd0c38b48d09512a4aacc1fb958",
       "version_major": 2,
       "version_minor": 0
      },
      "text/plain": [
       "HBox(children=(IntProgress(value=0, max=10225), HTML(value='')))"
      ]
     },
     "metadata": {},
     "output_type": "display_data"
    },
    {
     "name": "stdout",
     "output_type": "stream",
     "text": [
      "\n"
     ]
    },
    {
     "data": {
      "image/png": "[encoded data removed]",
      "text/plain": [
       "<Figure size 432x288 with 1 Axes>"
      ]
     },
     "metadata": {
      "needs_background": "light"
     },
     "output_type": "display_data"
    },
    {
     "name": "stdout",
     "output_type": "stream",
     "text": [
      "{'fpr_at_95_tpr': 0.7217650243638332, 'detection_error': 0.38588806697711764, 'auroc': 0.7202675922784352, 'aupr_in': 0.7345070743725448, 'aupr_out': 0.6904197083866157}\n"
     ]
    }
   ],
   "source": [
    "save_file = os.path.join(CHECKPOINT_DIR, \"idd_cars_detections_val_pert_%f_temp_%d.hdf5\" % (eps, temp))\n",
    "\n",
    "if True:# and not os.path.exists(save_file):\n",
    "    extract_idd_features(idd_val_dataset, trainer.faster_rcnn, save_file, eps, temp)\n",
    "\n",
    "idd_val_X, idd_val_y = read_scores(save_file)\n",
    "idd_val_novelty_scores = -idd_val_X\n",
    "plot_roc(idd_val_novelty_scores, 1 - idd_val_y, title=\"ODIN IDD Val e=%f, T=%d\" %(eps, temp))\n",
    "print(calc_metrics(idd_val_novelty_scores, 1 - idd_val_y))"
   ]
  },
  {
   "cell_type": "markdown",
   "metadata": {},
   "source": [
    "## Entropy"
   ]
  },
  {
   "cell_type": "code",
   "execution_count": 9,
   "metadata": {},
   "outputs": [],
   "source": [
    "NUM_MC_PASSES = 10\n",
    "\n",
    "def extract_kitti_mc_softmax(dataset, model, save_file):\n",
    "    \"\"\"\n",
    "    Given a Kitti dataset, generate a file of all model outputs including upper layer classifier features\n",
    "    and save them to HD5F save_file for future use.\n",
    "    \"\"\"\n",
    "    model.train()\n",
    "    dataloader = DataLoader(dataset,\n",
    "                            batch_size=1,\n",
    "                            shuffle=False,\n",
    "                            pin_memory=True,\n",
    "                            num_workers=opt.num_workers)\n",
    "    \n",
    "    with h5py.File(save_file, \"w\") as f:\n",
    "        for i, (imgs, sizes, gt_bboxes, gt_labels, _) in tqdm(enumerate(dataloader), total=len(dataset)):\n",
    "            d = f.create_group(str(i))\n",
    "\n",
    "            gt_bboxes = gt_bboxes.squeeze(dim=0)\n",
    "            gt_labels = gt_labels.squeeze(dim=0)\n",
    "\n",
    "            # Get predictions and all classifier features\n",
    "            res = model.predict(imgs, visualize=True)\n",
    "            pred_bboxes, pred_labels, pred_scores = res\n",
    "            pred_bboxes, pred_labels, pred_scores = pred_bboxes[0], pred_labels[0], pred_scores[0]\n",
    "\n",
    "            ious = bbox_iou(pred_bboxes, np.concatenate((gt_bboxes, np.zeros((1,4)))))\n",
    "            max_ious = np.nan_to_num(ious.max(axis=1))\n",
    "            \n",
    "            max_aligned_gt_label = ious.argmax(axis=1)\n",
    "            true_label_per_pred = np.array([gt_labels[j] for j in max_aligned_gt_label])\n",
    "            pred_label_correct = true_label_per_pred == pred_labels\n",
    "            \n",
    "            # Write true_class, pred_class, pred_bboxes, pred_scores, num_detections, image_path, label_path\n",
    "            #       to file\n",
    "            d.create_dataset(\"pred_boxes\", data=pred_bboxes)\n",
    "            d.create_dataset(\"pred_labels\", data=pred_labels)\n",
    "            d.create_dataset(\"pred_num_detections\", data=len(pred_bboxes))\n",
    "            d.create_dataset(\"pred_max_ious\", data=max_ious) \n",
    "            d.create_dataset(\"pred_label_correct\", data=pred_label_correct) \n",
    "\n",
    "            # Get additional MC Dropout class predictions\n",
    "            pred_scores = [pred_scores]\n",
    "            for j in range(NUM_MC_PASSES-1):\n",
    "                res = model.predict(imgs, visualize=True)\n",
    "                _, _, pred_scores_j = res\n",
    "                pred_scores.append(pred_scores_j[0]) \n",
    "\n",
    "            d.create_dataset(\"pred_scores\", data=pred_scores)  \n",
    "    model.eval()\n",
    "      \n",
    "        \n",
    "def extract_idd_mc_softmax(dataset, model, save_file):\n",
    "    \"\"\"\n",
    "    Given a Kitti dataset, generate a file of all model outputs including upper layer classifier features\n",
    "    and save them to HD5F save_file for future use.\n",
    "    \"\"\"\n",
    "    dataloader = DataLoader(dataset,\n",
    "                            batch_size=1,\n",
    "                            shuffle=False,\n",
    "                            pin_memory=True,\n",
    "                            num_workers=opt.num_workers)\n",
    "\n",
    "    with h5py.File(save_file, \"w\") as f:\n",
    "        for i, (imgs, gt_bboxes, gt_labels) in tqdm(enumerate(dataloader), total=len(dataset)):\n",
    "            d = f.create_group(str(i))\n",
    "\n",
    "            gt_bboxes = gt_bboxes.squeeze(dim=0)\n",
    "            gt_labels = gt_labels.squeeze(dim=0)\n",
    "\n",
    "            # Get predictions and all classifier features\n",
    "            res = model.predict(imgs, visualize=True)\n",
    "            pred_bboxes, pred_labels, pred_scores = res\n",
    "            pred_bboxes, pred_labels, pred_scores = pred_bboxes[0], pred_labels[0], pred_scores[0]\n",
    "\n",
    "            ious = bbox_iou(pred_bboxes, np.concatenate((gt_bboxes, np.zeros((1,4)))))\n",
    "            max_ious = np.nan_to_num(ious.max(axis=1))\n",
    "            \n",
    "            max_aligned_gt_label = ious.argmax(axis=1)\n",
    "            true_label_per_pred = np.array([gt_labels[j] for j in max_aligned_gt_label])\n",
    "            pred_label_correct = true_label_per_pred == pred_labels\n",
    "            \n",
    "            # Write true_class, pred_class, pred_bboxes, pred_scores, num_detections, image_path, label_path\n",
    "            #       to file\n",
    "            d.create_dataset(\"pred_boxes\", data=pred_bboxes)\n",
    "            d.create_dataset(\"pred_labels\", data=pred_labels)\n",
    "            d.create_dataset(\"pred_num_detections\", data=len(pred_bboxes))\n",
    "            d.create_dataset(\"pred_max_ious\", data=max_ious) \n",
    "            d.create_dataset(\"pred_label_correct\", data=pred_label_correct) \n",
    "\n",
    "            # Get additional MC Dropout class predictions\n",
    "            pred_scores = [pred_scores]\n",
    "            for j in range(NUM_MC_PASSES-1):\n",
    "                res = model.predict(imgs, visualize=True)\n",
    "                _, _, pred_scores_j = res\n",
    "                pred_scores.append(pred_scores_j[0]) \n",
    "\n",
    "            d.create_dataset(\"pred_scores\", data=pred_scores)  \n",
    "    model.eval()"
   ]
  },
  {
   "cell_type": "markdown",
   "metadata": {},
   "source": [
    "#### Kitti Val"
   ]
  },
  {
   "cell_type": "code",
   "execution_count": 71,
   "metadata": {},
   "outputs": [
    {
     "data": {
      "application/vnd.jupyter.widget-view+json": {
       "model_id": "89246460f5f44fcd8ca153ba88bd2c0b",
       "version_major": 2,
       "version_minor": 0
      },
      "text/plain": [
       "HBox(children=(IntProgress(value=0, max=3424), HTML(value='')))"
      ]
     },
     "metadata": {},
     "output_type": "display_data"
    },
    {
     "name": "stderr",
     "output_type": "stream",
     "text": [
      "IOPub message rate exceeded.\n",
      "The notebook server will temporarily stop sending output\n",
      "to the client in order to avoid crashing it.\n",
      "To change this limit, set the config variable\n",
      "`--NotebookApp.iopub_msg_rate_limit`.\n",
      "\n",
      "Current values:\n",
      "NotebookApp.iopub_msg_rate_limit=1000.0 (msgs/sec)\n",
      "NotebookApp.rate_limit_window=3.0 (secs)\n",
      "\n"
     ]
    }
   ],
   "source": [
    "if False:\n",
    "    save_file = os.path.join(CHECKPOINT_DIR, \"kitti_cars_detections_val_mc_dropout.hdf5\")\n",
    "    extract_kitti_mc_softmax(kitti_val_dataset, trainer.faster_rcnn, save_file)"
   ]
  },
  {
   "cell_type": "code",
   "execution_count": 10,
   "metadata": {},
   "outputs": [],
   "source": [
    "import mc_uncertainty as mcu\n",
    "\n",
    "\n",
    "def read_mc_scores(save_file):\n",
    "    \"\"\"\n",
    "    Read the max_softmax scores from the extracted HD5F feature file and return them as a numpy array\n",
    "    along with a label array y describing if the features correspond to a high IOU gt box with\n",
    "    the same classification as the prediction.\n",
    "    \"\"\"\n",
    "    with h5py.File(save_file, \"r\") as f:       \n",
    "        X = None\n",
    "        y = np.empty((0,))\n",
    "        \n",
    "        for i in trange(len(f)):\n",
    "            d = f[str(i)]\n",
    "            features = d[\"pred_scores\"][()]\n",
    "\n",
    "            if X is None:\n",
    "                # Initialize X array to correct size\n",
    "                X = np.copy(features)\n",
    "            else:\n",
    "                X = np.concatenate((X, features), axis=-1)\n",
    "            \n",
    "            label_is_car = d[\"pred_labels\"][()] == 0\n",
    "            iou_is_high_enough = d[\"pred_max_ious\"][()] >= MIN_IOU_REQUIRED\n",
    "            classification_is_correct = d[\"pred_label_correct\"][()] == 1\n",
    "\n",
    "            # Determine if each bbox is a high accuracy, correct class case\n",
    "            label = label_is_car & iou_is_high_enough & classification_is_correct\n",
    "            y = np.concatenate((y, label.astype(np.int)), axis=0)\n",
    "            \n",
    "    return np.moveaxis(np.stack((X, 1-X)), 0, 2), y"
   ]
  },
  {
   "cell_type": "code",
   "execution_count": 73,
   "metadata": {},
   "outputs": [
    {
     "data": {
      "application/vnd.jupyter.widget-view+json": {
       "model_id": "b0cbf89fd96247959ff461f7e529e6ed",
       "version_major": 2,
       "version_minor": 0
      },
      "text/plain": [
       "HBox(children=(IntProgress(value=0, max=3424), HTML(value='')))"
      ]
     },
     "metadata": {},
     "output_type": "display_data"
    },
    {
     "name": "stdout",
     "output_type": "stream",
     "text": [
      "\n"
     ]
    },
    {
     "data": {
      "image/png": "[encoded data removed]",
      "text/plain": [
       "<Figure size 432x288 with 1 Axes>"
      ]
     },
     "metadata": {
      "needs_background": "light"
     },
     "output_type": "display_data"
    },
    {
     "name": "stdout",
     "output_type": "stream",
     "text": [
      "{'fpr_at_95_tpr': 0.5576923076923077, 'detection_error': 0.30383359734188464, 'auroc': 0.8628160743492235, 'aupr_in': 0.8982402214760286, 'aupr_out': 0.8072416360709921}\n"
     ]
    }
   ],
   "source": [
    "save_file = os.path.join(CHECKPOINT_DIR, \"kitti_cars_detections_val_mc_dropout.hdf5\")\n",
    "X, y = read_mc_scores(save_file)\n",
    "\n",
    "kitti_val_novelty_scores = -mcu.predicted_entropy(X)\n",
    "plot_roc(kitti_val_novelty_scores, y)\n",
    "print(calc_metrics(kitti_val_novelty_scores, y))"
   ]
  },
  {
   "cell_type": "markdown",
   "metadata": {},
   "source": [
    "#### IDD Val"
   ]
  },
  {
   "cell_type": "code",
   "execution_count": 11,
   "metadata": {},
   "outputs": [
    {
     "data": {
      "application/vnd.jupyter.widget-view+json": {
       "model_id": "db293314e25f4cf3b1eac7e8526d07f0",
       "version_major": 2,
       "version_minor": 0
      },
      "text/plain": [
       "HBox(children=(IntProgress(value=0, max=10225), HTML(value='')))"
      ]
     },
     "metadata": {},
     "output_type": "display_data"
    },
    {
     "name": "stderr",
     "output_type": "stream",
     "text": [
      "/opt/conda/conda-bld/pytorch_1565272271120/work/torch/csrc/autograd/python_function.cpp:638: UserWarning: Legacy autograd function with non-static forward method is deprecated and will be removed in 1.3. Please use new-style autograd function with static forward method. (Example: https://pytorch.org/docs/stable/autograd.html#torch.autograd.Function)\n"
     ]
    },
    {
     "name": "stdout",
     "output_type": "stream",
     "text": [
      "\n"
     ]
    }
   ],
   "source": [
    "if False:\n",
    "    save_file = os.path.join(CHECKPOINT_DIR, \"idd_cars_detections_val_mc_dropout.hdf5\")\n",
    "    extract_idd_mc_softmax(idd_val_dataset, trainer.faster_rcnn, save_file)"
   ]
  },
  {
   "cell_type": "code",
   "execution_count": 26,
   "metadata": {},
   "outputs": [
    {
     "data": {
      "application/vnd.jupyter.widget-view+json": {
       "model_id": "981bd2600c094c6fb6cca2c1ee057572",
       "version_major": 2,
       "version_minor": 0
      },
      "text/plain": [
       "HBox(children=(IntProgress(value=0, max=10225), HTML(value='')))"
      ]
     },
     "metadata": {},
     "output_type": "display_data"
    },
    {
     "name": "stdout",
     "output_type": "stream",
     "text": [
      "\n",
      "(10, 8878, 2)\n"
     ]
    },
    {
     "data": {
      "image/png": "[encoded data removed]",
      "text/plain": [
       "<Figure size 432x288 with 1 Axes>"
      ]
     },
     "metadata": {
      "needs_background": "light"
     },
     "output_type": "display_data"
    },
    {
     "name": "stdout",
     "output_type": "stream",
     "text": [
      "{'fpr_at_95_tpr': 0.6460344104070499, 'detection_error': 0.3479442480050814, 'auroc': 0.8274432905502825, 'aupr_in': 0.8198573114054868, 'aupr_out': 0.8312472708391049}\n"
     ]
    }
   ],
   "source": [
    "save_file = os.path.join(CHECKPOINT_DIR, \"idd_cars_detections_val_mc_dropout.hdf5\")\n",
    "X, y = read_mc_scores(save_file)\n",
    "print(X.shape)\n",
    "\n",
    "kitti_val_novelty_scores = -mcu.predicted_entropy(X)\n",
    "plot_roc(kitti_val_novelty_scores, y)\n",
    "print(calc_metrics(kitti_val_novelty_scores, y))"
   ]
  },
  {
   "cell_type": "markdown",
   "metadata": {},
   "source": [
    "## Mutual Information"
   ]
  },
  {
   "cell_type": "markdown",
   "metadata": {},
   "source": [
    "#### Kitti Val"
   ]
  },
  {
   "cell_type": "code",
   "execution_count": 74,
   "metadata": {},
   "outputs": [
    {
     "data": {
      "application/vnd.jupyter.widget-view+json": {
       "model_id": "b746350130544f42836788af8a21f6bd",
       "version_major": 2,
       "version_minor": 0
      },
      "text/plain": [
       "HBox(children=(IntProgress(value=0, max=3424), HTML(value='')))"
      ]
     },
     "metadata": {},
     "output_type": "display_data"
    },
    {
     "name": "stdout",
     "output_type": "stream",
     "text": [
      "\n"
     ]
    },
    {
     "data": {
      "image/png": "[encoded data removed]",
      "text/plain": [
       "<Figure size 432x288 with 1 Axes>"
      ]
     },
     "metadata": {
      "needs_background": "light"
     },
     "output_type": "display_data"
    },
    {
     "name": "stdout",
     "output_type": "stream",
     "text": [
      "{'fpr_at_95_tpr': 0.9485221978021977, 'detection_error': 0.49586550650086564, 'auroc': 0.505731308286557, 'aupr_in': 0.5977703924388346, 'aupr_out': 0.414163401580222}\n"
     ]
    }
   ],
   "source": [
    "save_file = os.path.join(CHECKPOINT_DIR, \"kitti_cars_detections_val_mc_dropout.hdf5\")\n",
    "X, y = read_mc_scores(save_file)\n",
    "\n",
    "kitti_val_novelty_scores = mcu.mutual_information(X)\n",
    "plot_roc(kitti_val_novelty_scores, y)\n",
    "print(calc_metrics(kitti_val_novelty_scores, y))"
   ]
  },
  {
   "cell_type": "markdown",
   "metadata": {},
   "source": [
    "#### IDD Val"
   ]
  },
  {
   "cell_type": "code",
   "execution_count": 11,
   "metadata": {},
   "outputs": [
    {
     "data": {
      "application/vnd.jupyter.widget-view+json": {
       "model_id": "2a9c83388a4e4feaab6c3aa15612cc97",
       "version_major": 2,
       "version_minor": 0
      },
      "text/plain": [
       "HBox(children=(IntProgress(value=0, max=10225), HTML(value='')))"
      ]
     },
     "metadata": {},
     "output_type": "display_data"
    },
    {
     "name": "stdout",
     "output_type": "stream",
     "text": [
      "\n"
     ]
    },
    {
     "data": {
      "image/png": "[encoded data removed]",
      "text/plain": [
       "<Figure size 432x288 with 1 Axes>"
      ]
     },
     "metadata": {
      "needs_background": "light"
     },
     "output_type": "display_data"
    },
    {
     "name": "stdout",
     "output_type": "stream",
     "text": [
      "{'fpr_at_95_tpr': 0.9528211192919543, 'detection_error': 0.49758227865669763, 'auroc': 0.4984662047642918, 'aupr_in': 0.4636930558967389, 'aupr_out': 0.5358700688836592}\n"
     ]
    }
   ],
   "source": [
    "save_file = os.path.join(CHECKPOINT_DIR, \"idd_cars_detections_val_mc_dropout.hdf5\")\n",
    "X, y = read_mc_scores(save_file)\n",
    "\n",
    "kitti_val_novelty_scores = mcu.mutual_information(X)\n",
    "plot_roc(kitti_val_novelty_scores, y)\n",
    "print(calc_metrics(kitti_val_novelty_scores, y))"
   ]
  },
  {
   "cell_type": "markdown",
   "metadata": {},
   "source": [
    "# Vahdats Extended Feature Extractor Set"
   ]
  },
  {
   "cell_type": "markdown",
   "metadata": {},
   "source": [
    "### Bind a feature extractor function to the model"
   ]
  },
  {
   "cell_type": "code",
   "execution_count": 10,
   "metadata": {},
   "outputs": [],
   "source": [
    "model = trainer.faster_rcnn\n",
    "\n",
    "@nograd\n",
    "def get_all_features(self, imgs, visualize=False):\n",
    "    self.eval()\n",
    "    if visualize:\n",
    "        prepared_imgs = list()\n",
    "        for img in imgs:\n",
    "            img = preprocess(at.tonumpy(img))\n",
    "            prepared_imgs.append(img)\n",
    "    else:\n",
    "         prepared_imgs = imgs \n",
    "\n",
    "    for img in prepared_imgs:\n",
    "        img = at.totensor(img[None], cuda=True).float()\n",
    "        features = [img]\n",
    "        \n",
    "        for l in self.extractor:\n",
    "            features.append(l(features[-1]))\n",
    "        \n",
    "        # Detach all features from GPU\n",
    "        features = [at.tonumpy(f) for f in features]\n",
    "        # Remove the first feature (ie the image)\n",
    "        features = features[1:]\n",
    "        # Average the features over the final two dimensions\n",
    "        features = [np.mean(f, axis=(2,3)).squeeze(axis=0) for f in features]\n",
    "        return features\n",
    "    \n",
    "model.get_all_features = get_all_features.__get__(model)"
   ]
  },
  {
   "cell_type": "markdown",
   "metadata": {},
   "source": [
    "### Get the GT features"
   ]
  },
  {
   "cell_type": "code",
   "execution_count": null,
   "metadata": {
    "scrolled": true
   },
   "outputs": [
    {
     "data": {
      "application/vnd.jupyter.widget-view+json": {
       "model_id": "4cbc984b585342c3875a84dfedd586e4",
       "version_major": 2,
       "version_minor": 0
      },
      "text/plain": [
       "HBox(children=(IntProgress(value=0, max=3260), HTML(value='')))"
      ]
     },
     "metadata": {},
     "output_type": "display_data"
    }
   ],
   "source": [
    "def extract_extended_kitti_features_gt(dataset, model, save_file):\n",
    "    \"\"\"\n",
    "    Given a Kitti dataset, generate a file of all model outputs including upper layer classifier features\n",
    "    and save them to HD5F save_file for future use.\n",
    "    \"\"\"\n",
    "    dataloader = DataLoader(dataset,\n",
    "                            batch_size=1,\n",
    "                            shuffle=False,\n",
    "                            pin_memory=True,\n",
    "                            num_workers=opt.num_workers)\n",
    "    with h5py.File(save_file, \"w\") as f:\n",
    "        for i, (imgs, sizes, gt_bboxes, gt_labels, _) in tqdm(enumerate(dataloader), total=len(dataset)):\n",
    "            d = f.create_group(str(i))\n",
    "\n",
    "            sizes = [sizes[0][0].item(), sizes[1][0].item()]\n",
    "            gt_bboxes = gt_bboxes.squeeze(dim=0)\n",
    "            gt_labels = gt_labels.squeeze(dim=0)\n",
    "            \n",
    "            cars_bboxes = gt_bboxes[gt_labels == 0]\n",
    "            \n",
    "            # Crop each image to the gt_bboxes and get features\n",
    "            for j, box in enumerate(cars_bboxes):\n",
    "                d_car = d.create_group(\"gt_bbox_\"+str(j))\n",
    "                y1, x1, y2, x2 = box.type(torch.int)\n",
    "                im = imgs[:,:,y1:y2,x1:x2]\n",
    "                \n",
    "                # Check correct sections of image are extracted\n",
    "                # plt.imshow(np.moveaxis(np.squeeze(at.tonumpy(im), axis=0), 0, 2).astype(np.int))\n",
    "                # plt.show()\n",
    "                \n",
    "                # Get predictions and all classifier features\n",
    "                features = model.get_all_features(im, visualize=True)\n",
    "                \n",
    "                for k, feats in enumerate(features):\n",
    "                    d_car.create_dataset(\"extended_feat_\"+str(k), data=feats)\n",
    "\n",
    "if True:\n",
    "    extract_extended_kitti_features_gt(kitti_train_dataset, trainer.faster_rcnn, os.path.join(CHECKPOINT_DIR, \"kitti_cars_detections_train_extended_gt.hdf5\"))"
   ]
  },
  {
   "cell_type": "code",
   "execution_count": null,
   "metadata": {
    "scrolled": false
   },
   "outputs": [
    {
     "data": {
      "application/vnd.jupyter.widget-view+json": {
       "model_id": "d8a0d4d90b8f4e57a8c137574a269901",
       "version_major": 2,
       "version_minor": 0
      },
      "text/plain": [
       "HBox(children=(IntProgress(value=0, max=342), HTML(value='')))"
      ]
     },
     "metadata": {},
     "output_type": "display_data"
    },
    {
     "name": "stderr",
     "output_type": "stream",
     "text": [
      "/opt/conda/conda-bld/pytorch_1565272271120/work/torch/csrc/autograd/python_function.cpp:638: UserWarning: Legacy autograd function with non-static forward method is deprecated and will be removed in 1.3. Please use new-style autograd function with static forward method. (Example: https://pytorch.org/docs/stable/autograd.html#torch.autograd.Function)\n"
     ]
    },
    {
     "name": "stdout",
     "output_type": "stream",
     "text": [
      "\n"
     ]
    },
    {
     "data": {
      "application/vnd.jupyter.widget-view+json": {
       "model_id": "180bbdb66622450c8a1e58b63e1811a3",
       "version_major": 2,
       "version_minor": 0
      },
      "text/plain": [
       "HBox(children=(IntProgress(value=0, max=3424), HTML(value='')))"
      ]
     },
     "metadata": {},
     "output_type": "display_data"
    }
   ],
   "source": [
    "def extract_extended_kitti_features(dataset, model, save_file):\n",
    "    \"\"\"\n",
    "    Given a Kitti dataset, generate a file of all model outputs including upper layer classifier features\n",
    "    and save them to HD5F save_file for future use.\n",
    "    \"\"\"\n",
    "    dataloader = DataLoader(dataset,\n",
    "                            batch_size=1,\n",
    "                            shuffle=False,\n",
    "                            pin_memory=True,\n",
    "                            num_workers=opt.num_workers)\n",
    "    \n",
    "    with h5py.File(save_file, \"w\") as f:\n",
    "        for i, (imgs, sizes, gt_bboxes, gt_labels, _) in tqdm(enumerate(dataloader), total=len(dataset)):\n",
    "            d = f.create_group(str(i))\n",
    "\n",
    "            sizes = [sizes[0][0].item(), sizes[1][0].item()]\n",
    "            gt_bboxes = gt_bboxes.squeeze(dim=0)\n",
    "            gt_labels = gt_labels.squeeze(dim=0)\n",
    "            \n",
    "            res = model.predict_with_features(imgs, visualize=True)\n",
    "            pred_bboxes, pred_labels, pred_scores, pred_features = res\n",
    "            pred_bboxes, pred_labels, pred_scores, pred_features = \\\n",
    "                    pred_bboxes[0], pred_labels[0], pred_scores[0], pred_features[0]\n",
    "\n",
    "            ious = bbox_iou(pred_bboxes, np.concatenate((gt_bboxes, np.zeros((1,4)))))\n",
    "            max_ious = np.nan_to_num(ious.max(axis=1))\n",
    "\n",
    "            max_aligned_gt_label = ious.argmax(axis=1)\n",
    "            true_label_per_pred = np.array([gt_labels[j] for j in max_aligned_gt_label])\n",
    "            pred_label_correct = true_label_per_pred == pred_labels\n",
    "\n",
    "            # Write true_class, pred_class, pred_bboxes, pred_scores, num_detections, image_path, label_path\n",
    "            #       to file\n",
    "            preds = d.create_group('pred')\n",
    "            preds.create_dataset(\"pred_boxes\", data=pred_bboxes)\n",
    "            preds.create_dataset(\"pred_scores\", data=pred_scores)\n",
    "            preds.create_dataset(\"pred_labels\", data=pred_labels)\n",
    "            preds.create_dataset(\"pred_num_detections\", data=len(pred_bboxes))\n",
    "            preds.create_dataset(\"pred_max_ious\", data=max_ious) \n",
    "            preds.create_dataset(\"pred_label_correct\", data=pred_label_correct) \n",
    "\n",
    "            for j, feats in enumerate(pred_features):\n",
    "                preds.create_dataset(\"pred_features_\" + str(j), data=feats)\n",
    "                \n",
    "            bboxes = d.create_group('bboxes')\n",
    "            # Get the extended feature set from the cropped bbox sections\n",
    "            # Crop each image to the gt_bboxes and get features\n",
    "            for j, box in enumerate(at.totensor(pred_bboxes)):\n",
    "                d_box = bboxes.create_group(str(j))\n",
    "                y1, x1, y2, x2 = box.round().type(torch.int)\n",
    "                im = imgs[:,:,y1:y2,x1:x2]\n",
    "\n",
    "                # Get predictions and all classifier features\n",
    "                features = model.get_all_features(im, visualize=True)\n",
    "                \n",
    "                for k, feats in enumerate(features):\n",
    "                    d_box.create_dataset(\"extended_feat_\"+str(k), data=feats)\n",
    "                    \n",
    "                    \n",
    "def extract_extended_idd_features(dataset, model, save_file):\n",
    "    \"\"\"\n",
    "    Given a Kitti dataset, generate a file of all model outputs including upper layer classifier features\n",
    "    and save them to HD5F save_file for future use.\n",
    "    \"\"\"\n",
    "    dataloader = DataLoader(dataset,\n",
    "                            batch_size=1,\n",
    "                            shuffle=False,\n",
    "                            pin_memory=True,\n",
    "                            num_workers=opt.num_workers)\n",
    "    \n",
    "    with h5py.File(save_file, \"w\") as f:\n",
    "        for i, (imgs, gt_bboxes, gt_labels) in tqdm(enumerate(dataloader), total=len(dataset)):\n",
    "            d = f.create_group(str(i))\n",
    "            \n",
    "            gt_bboxes = gt_bboxes.squeeze(dim=0)\n",
    "            gt_labels = gt_labels.squeeze(dim=0)\n",
    "\n",
    "            # Get predictions and all classifier features\n",
    "            res = model.predict_with_features(imgs, visualize=True)\n",
    "            pred_bboxes, pred_labels, pred_scores, pred_features = res\n",
    "            pred_bboxes, pred_labels, pred_scores, pred_features = \\\n",
    "                    pred_bboxes[0], pred_labels[0], pred_scores[0], pred_features[0]\n",
    "\n",
    "            ious = bbox_iou(pred_bboxes, np.concatenate((gt_bboxes, np.zeros((1,4)))))\n",
    "            max_ious = np.nan_to_num(ious.max(axis=1))\n",
    "            \n",
    "            max_aligned_gt_label = ious.argmax(axis=1)\n",
    "            true_label_per_pred = np.array([gt_labels[j] for j in max_aligned_gt_label])\n",
    "            pred_label_correct = true_label_per_pred == pred_labels\n",
    "\n",
    "            # Write true_class, pred_class, pred_bboxes, pred_scores, num_detections, image_path, label_path\n",
    "            #       to file\n",
    "            preds = d.create_group('pred')\n",
    "            preds.create_dataset(\"pred_boxes\", data=pred_bboxes)\n",
    "            preds.create_dataset(\"pred_scores\", data=pred_scores)\n",
    "            preds.create_dataset(\"pred_labels\", data=pred_labels)\n",
    "            preds.create_dataset(\"pred_num_detections\", data=len(pred_bboxes))\n",
    "            preds.create_dataset(\"pred_max_ious\", data=max_ious) \n",
    "            preds.create_dataset(\"pred_label_correct\", data=pred_label_correct) \n",
    "\n",
    "            for j, feats in enumerate(pred_features):\n",
    "                preds.create_dataset(\"pred_features_\" + str(j), data=feats)\n",
    "                \n",
    "            bboxes = d.create_group('bboxes')\n",
    "            # Get the extended feature set from the cropped bbox sections\n",
    "            # Crop each image to the gt_bboxes and get features\n",
    "            for j, box in enumerate(at.totensor(pred_bboxes)):\n",
    "                d_box = bboxes.create_group(str(j))\n",
    "                y1, x1, y2, x2 = box.round().type(torch.int)\n",
    "                im = imgs[:,:,y1:y2,x1:x2]\n",
    "\n",
    "                # Get predictions and all classifier features\n",
    "                features = model.get_all_features(im, visualize=True)\n",
    "                for k, feats in enumerate(features):\n",
    "                    d_box.create_dataset(\"extended_feat_\"+str(k), data=feats)\n",
    "                    \n",
    "if False:\n",
    "    save_path = os.path.join(CHECKPOINT_DIR, \"kitti_cars_detections_train_extended.hdf5\")\n",
    "    extract_extended_kitti_features(kitti_train_dataset, trainer.faster_rcnn, save_path)\n",
    "\n",
    "if False:\n",
    "    save_path = os.path.join(CHECKPOINT_DIR, \"subset_kitti_cars_detections_val_extended.hdf5\")\n",
    "    extract_extended_kitti_features(subset_kitti_val_dataset, trainer.faster_rcnn, save_path)\n",
    "\n",
    "if False:\n",
    "    save_path = os.path.join(CHECKPOINT_DIR, \"kitti_cars_detections_val_extended.hdf5\")\n",
    "    extract_extended_kitti_features(kitti_val_dataset, trainer.faster_rcnn, save_path)\n",
    "\n",
    "if False:\n",
    "    save_path = os.path.join(CHECKPOINT_DIR, \"idd_cars_detections_val_extended.hdf5\")\n",
    "    extract_extended_idd_features(idd_val_dataset, trainer.faster_rcnn, save_path)"
   ]
  },
  {
   "cell_type": "markdown",
   "metadata": {},
   "source": [
    "### Train SVM classifiers"
   ]
  },
  {
   "cell_type": "code",
   "execution_count": null,
   "metadata": {
    "scrolled": false
   },
   "outputs": [],
   "source": [
    "# Train a one-class SVM networks with those features\n",
    "GT_FEATURES_FILE = os.path.join(CHECKPOINT_DIR, \"kitti_cars_detections_train_extended_gt.hdf5\")\n",
    "SUBSET_KITTI_VAL_FEATURES_FILE = os.path.join(CHECKPOINT_DIR, \"subset_kitti_cars_detections_val_extended.hdf5\")\n",
    "KITTI_TRAIN_FEATURES_FILE = os.path.join(CHECKPOINT_DIR, \"kitti_cars_detections_train_extended.hdf5\")\n",
    "KITTI_VAL_FEATURES_FILE = os.path.join(CHECKPOINT_DIR, \"kitti_cars_detections_val_extended.hdf5\")\n",
    "IDD_VAL_FEATURES_FILE = os.path.join(CHECKPOINT_DIR, \"idd_cars_detections_val_extended.hdf5\")\n",
    "NUM_EXTENDED_FEATURES = 30\n",
    "\n",
    "def read_gt_extended_features(file, feature_idx):\n",
    "    features = None\n",
    "    \n",
    "    with h5py.File(file, \"r\") as f:\n",
    "        for im in tqdm(f.keys(), total=len(f), leave=False):\n",
    "            im = f[im]\n",
    "            \n",
    "            for gt_bbox in im.keys():\n",
    "                gt_bbox = im[gt_bbox]\n",
    "                feats = gt_bbox[\"extended_feat_%d\" % feature_idx]\n",
    "\n",
    "                if features is None:\n",
    "                    features = np.expand_dims(feats, axis=0)\n",
    "                else:\n",
    "                    features = np.concatenate((features, np.expand_dims(feats, axis=0)), axis=0)\n",
    "    \n",
    "    return features\n",
    "\n",
    "\n",
    "def read_extended_features(file, feature_idx):\n",
    "    features = None\n",
    "    labels = np.empty((0,))\n",
    "\n",
    "    with h5py.File(file, \"r\") as f:\n",
    "        for im in tqdm(f.keys(), total=len(f), leave=False):\n",
    "            im = f[im]\n",
    "            \n",
    "            # Get the correctness labels\n",
    "            label_is_car = im['pred'][\"pred_labels\"][()] == 0\n",
    "            iou_is_high_enough = im['pred'][\"pred_max_ious\"][()] >= MIN_IOU_REQUIRED\n",
    "            classification_is_correct = im['pred'][\"pred_label_correct\"][()] == 1\n",
    "\n",
    "            # Determine if each bbox is a high accuracy, correct class case\n",
    "            labs = 1 - (label_is_car & iou_is_high_enough & classification_is_correct)\n",
    "            labels = np.concatenate((labels, labs), axis=0)\n",
    "\n",
    "            # Get the required features\n",
    "            for j in im['bboxes'].keys():\n",
    "                gt_bbox = im['bboxes'][j]\n",
    "                feats = gt_bbox[\"extended_feat_%d\" % feature_idx]\n",
    "\n",
    "                if features is None:\n",
    "                    features = np.expand_dims(feats, axis=0)\n",
    "                else:\n",
    "                    features = np.concatenate((features, np.expand_dims(feats, axis=0)), axis=0)\n",
    "    \n",
    "    return features, labels\n",
    "\n",
    "# Train all the classifiers\n",
    "def train_osvm(nu, gamma, kernel, train_features, one_class_save_path):\n",
    "        # Train one class SVM\n",
    "        clf = svm.OneClassSVM(nu=nu, kernel=kernel, gamma=gamma)\n",
    "        clf.fit(train_features)\n",
    "\n",
    "        # Save classifier\n",
    "        with open(one_class_save_path, 'wb') as f:\n",
    "            pickle.dump(clf, f)\n",
    "\n",
    "NUS = [0.0001, 0.0003, 0.001, 0.003, 0.01, 0.03, 0.1, 0.3]\n",
    "# GAMMAS = ['auto', 'scale']\n",
    "GAMMAS = ['auto']\n",
    "# KERNELS = ['rbf', 'linear']\n",
    "KERNELS = ['rbf']\n",
    "\n",
    "train_args = list(itertools.product(NUS, GAMMAS, KERNELS))\n",
    "\n",
    "if True:\n",
    "    for i in trange(NUM_EXTENDED_FEATURES):\n",
    "        features_gt = read_gt_extended_features(GT_FEATURES_FILE, i)\n",
    "\n",
    "        for nu, gamma, kernel in tqdm(train_args, total=len(train_args), leave=False):\n",
    "            save_path = os.path.join(CHECKPOINT_DIR, \"one_class_models/kitti-one-class-extended-feat%d-nu%.4f-gamma%s-kernel%s.pickle\" % (i, nu, gamma, kernel))\n",
    "            train_osvm(nu, gamma, kernel, features_gt, save_path)"
   ]
  },
  {
   "cell_type": "markdown",
   "metadata": {},
   "source": [
    "### Determine best params/OODL"
   ]
  },
  {
   "cell_type": "code",
   "execution_count": null,
   "metadata": {},
   "outputs": [],
   "source": [
    "if True:\n",
    "    kitti_val_results = []\n",
    "\n",
    "    for i in trange(NUM_EXTENDED_FEATURES):\n",
    "\n",
    "        # Load the kitti val features\n",
    "        kitti_val_X, kitti_val_y = read_extended_features(SUBSET_KITTI_VAL_FEATURES_FILE, i)\n",
    "\n",
    "        for nu, gamma, kernel in tqdm(train_args, total=len(train_args), leave=False):\n",
    "            # Load the classifier\n",
    "            save_path = os.path.join(CHECKPOINT_DIR, \"one_class_models/subset_kitti-one-class-extended-feat%d-nu%.4f-gamma%s-kernel%s.pickle\" % (i, nu, gamma, kernel))\n",
    "            with open(save_path, 'rb') as f:\n",
    "                clf = pickle.load(f)\n",
    "\n",
    "            # Calculate performance metrics\n",
    "            kitti_val_novelty_scores = -clf.decision_function(kitti_val_X)\n",
    "            res = calc_metrics(kitti_val_novelty_scores, kitti_val_y.astype(np.int))\n",
    "\n",
    "            res['nu'] = nu\n",
    "            res['gamma'] = gamma\n",
    "            res['kernel'] = kernel\n",
    "            res['features'] = i\n",
    "            res['model'] = save_path\n",
    "\n",
    "            kitti_val_results.append(res)\n",
    "\n",
    "    with open(os.path.join(CHECKPOINT_DIR, 'one_class_models/subset_kitti_val_results.pickle'), 'wb') as f:\n",
    "        pickle.dump(kitti_val_results, f)\n",
    "\n",
    "else:\n",
    "    with open(os.path.join(CHECKPOINT_DIR, 'one_class_models/subset_kitti_val_results.pickle'), 'rb') as f:\n",
    "        kitti_val_results = pickle.load(f)"
   ]
  },
  {
   "cell_type": "code",
   "execution_count": null,
   "metadata": {},
   "outputs": [],
   "source": [
    "best_params = np.argmin([k['detection_error'] for k in kitti_val_results])\n",
    "\n",
    "print(best_params)\n",
    "print(kitti_val_results[best_params])"
   ]
  },
  {
   "cell_type": "code",
   "execution_count": null,
   "metadata": {},
   "outputs": [],
   "source": [
    "oodl, (nu, gamma, kernel) = list(itertools.product(list(range(NUM_EXTENDED_FEATURES)), train_args))[best_params]"
   ]
  },
  {
   "cell_type": "code",
   "execution_count": null,
   "metadata": {},
   "outputs": [],
   "source": [
    "# Load the best classifier\n",
    "save_path = os.path.join(CHECKPOINT_DIR, \"one_class_models/kitti-one-class-extended-feat%d-nu%.4f-gamma%s-kernel%s.pickle\" % (i, nu, gamma, kernel))\n",
    "with open(save_path, 'rb') as f:\n",
    "    clf = pickle.load(f)"
   ]
  },
  {
   "cell_type": "markdown",
   "metadata": {},
   "source": [
    "### Kitti Val"
   ]
  },
  {
   "cell_type": "code",
   "execution_count": null,
   "metadata": {},
   "outputs": [],
   "source": [
    "kitti_val_X, kitti_val_y = read_extended_features(KITTI_VAL_FEATURES_FILE, oodl)\n",
    "\n",
    "# Calculate performance metrics\n",
    "kitti_val_novelty_scores = -clf.decision_function(kitti_val_X)\n",
    "res = calc_metrics(kitti_val_novelty_scores, kitti_val_y.astype(np.int))\n",
    "\n",
    "res['nu'] = nu\n",
    "res['gamma'] = gamma\n",
    "res['kernel'] = kernel\n",
    "res['features'] = oodl\n",
    "res['model'] = save_path\n",
    "\n",
    "print(res)"
   ]
  },
  {
   "cell_type": "markdown",
   "metadata": {},
   "source": [
    "### IDD VAL"
   ]
  },
  {
   "cell_type": "code",
   "execution_count": null,
   "metadata": {},
   "outputs": [],
   "source": [
    "idd_val_X, idd_val_y = read_extended_features(IDD_VAL_FEATURES_FILE, oodl)\n",
    "\n",
    "# Calculate performance metrics\n",
    "idd_val_novelty_scores = -clf.decision_function(idd_val_X)\n",
    "res = calc_metrics(idd_val_novelty_scores, idd_val_y.astype(np.int))\n",
    "\n",
    "res['nu'] = nu\n",
    "res['gamma'] = gamma\n",
    "res['kernel'] = kernel\n",
    "res['features'] = oodl\n",
    "res['model'] = save_path\n",
    "\n",
    "print(res)"
   ]
  },
  {
   "cell_type": "markdown",
   "metadata": {},
   "source": [
    "### TODO:\n",
    "\n",
    "#### Code\n",
    "\n",
    "1. Train multiple class model\n",
    "    1. Different anchor boxes\n",
    "    - Scale == 1500?\n",
    "    - See \"A closer look at Faster R-CNN for vehicle detection\"\n",
    "1. Example images of poor detections\n",
    "\n",
    "\n",
    "1. Repeat all experiments with multiple class object detector\n",
    "\n",
    "1. Risk-Coverage plots\n",
    "1. AP with each method\n",
    "1. Runtime statistics for a single prediction for each method\n",
    "\n",
    "1. Rerun experiments for False positive detection\n",
    "\n",
    "1. More correct Mahalanobis with input perturbation?\n",
    "\n",
    "\n",
    "#### Other stuff\n",
    "\n",
    "1. Remove Steve as co-supervisor\n",
    "1. Email grad director for two-week display period\n",
    "1. Agreement to read form\n",
    "\n",
    "#### Writing\n",
    "\n",
    "1. Finish results\n",
    "1. Finish experimental setup\n",
    "1. Write conclusion/discussion\n",
    "1. Add more background on AnDet techniques\n",
    "1. Rewrite intro sections\n",
    "1. Edit edit edit"
   ]
  },
  {
   "cell_type": "code",
   "execution_count": null,
   "metadata": {},
   "outputs": [],
   "source": []
  },
  {
   "cell_type": "code",
   "execution_count": null,
   "metadata": {},
   "outputs": [],
   "source": []
  },
  {
   "cell_type": "code",
   "execution_count": null,
   "metadata": {},
   "outputs": [],
   "source": []
  },
  {
   "cell_type": "code",
   "execution_count": null,
   "metadata": {},
   "outputs": [],
   "source": []
  },
  {
   "cell_type": "markdown",
   "metadata": {},
   "source": [
    "## Mahalanobis with input perturbation"
   ]
  },
  {
   "cell_type": "code",
   "execution_count": null,
   "metadata": {},
   "outputs": [],
   "source": [
    "# for T 1, 2, 5, 10,20, 50, 100, 200, 500, 1000; and for perturbation magnitude\n",
    "# ε we choose from 21 evenly spaced numbers starting from 0\n",
    "# and ending at 0.004.\n",
    "\n",
    "# temperatures = np.array([1, 2, 5, 10, 20, 50, 100, 200, 500, 1000])\n",
    "temperatures = np.array([1000])\n",
    "\n",
    "epsilons = np.linspace(0, 0.004, 21)\n",
    "# epsilons = np.array([0.0034])\n",
    "\n",
    "odin_params = list(itertools.product(epsilons, temperatures))"
   ]
  },
  {
   "cell_type": "markdown",
   "metadata": {},
   "source": [
    "Build a Mahalanobis model for each of train eps and temp"
   ]
  },
  {
   "cell_type": "code",
   "execution_count": null,
   "metadata": {},
   "outputs": [],
   "source": [
    "if False:\n",
    "    for eps, temp in tqdm(odin_params, total=len(odin_params)):\n",
    "        save_file = os.path.join(CHECKPOINT_DIR, \"kitti_cars_detections_train_pert_%f_temp_%d.hdf5\" % (eps, temp))\n",
    "        kitti_train_X, kitti_train_y = read_features(save_file, 4)\n",
    "\n",
    "        mahal_model_name = os.path.join(CHECKPOINT_DIR, \"kitti-cars-fc-4096-4-mahalanobis_pert_%f_temp_%d.pickle\" % (eps, temp))\n",
    "    \n",
    "        # Take features from good detections only\n",
    "        kitti_mahalanobis_features = kitti_train_X[kitti_train_y.astype(np.bool)]\n",
    "\n",
    "        # Everything is labelled 0 because we're just doing single class detection\n",
    "        kitti_mahalanobis_labels = np.zeros((len(kitti_mahalanobis_features)))\n",
    "\n",
    "        md = Mahal_Dist(kitti_mahalanobis_features, kitti_mahalanobis_labels)\n",
    "        md.save(mahal_model_name)"
   ]
  },
  {
   "cell_type": "markdown",
   "metadata": {},
   "source": [
    "Get the best model based on the Kitti Val performance"
   ]
  },
  {
   "cell_type": "code",
   "execution_count": null,
   "metadata": {
    "scrolled": true
   },
   "outputs": [],
   "source": [
    "results2 = []\n",
    "for eps, temp in tqdm(odin_params, total=len(odin_params)):\n",
    "    # Get the data\n",
    "    save_path = os.path.join(CHECKPOINT_DIR, \"kitti_cars_detections_val_pert_%f_temp_%d.hdf5\" % (eps, temp))\n",
    "    kitti_val_X, kitti_val_y = read_features(save_path, 4)\n",
    "    \n",
    "    # Load the model\n",
    "    mahal_model_name = os.path.join(CHECKPOINT_DIR, \"kitti-cars-fc-4096-4-mahalanobis_pert_%f_temp_%d.pickle\" % (eps, temp))\n",
    "    md = Mahal_Dist.load(mahal_model_name)\n",
    "    \n",
    "    kitti_val_novelty_scores = md(kitti_val_X)\n",
    "    results2.append(calc_metrics(kitti_val_novelty_scores, 1 - kitti_val_y))"
   ]
  },
  {
   "cell_type": "code",
   "execution_count": null,
   "metadata": {},
   "outputs": [],
   "source": [
    "# Pick the best eps and temp\n",
    "\n",
    "idx = np.argmin(x['fpr_at_95_tpr'] for x in results2[1:])\n",
    "print(odin_params[1:][idx])\n",
    "\n",
    "eps, temp = odin_params[1:][idx]\n",
    "\n",
    "# Load the model\n",
    "mahal_model_name = os.path.join(CHECKPOINT_DIR, \"kitti-cars-fc-4096-4-mahalanobis_pert_%f_temp_%d.pickle\" % (eps, temp))\n",
    "md = Mahal_Dist.load(mahal_model_name)"
   ]
  },
  {
   "cell_type": "markdown",
   "metadata": {},
   "source": [
    "#### Kitti Val"
   ]
  },
  {
   "cell_type": "code",
   "execution_count": null,
   "metadata": {},
   "outputs": [],
   "source": [
    "# Get the data\n",
    "save_path = os.path.join(CHECKPOINT_DIR, \"kitti_cars_detections_val_pert_%f_temp_%d.hdf5\" % (eps, temp))\n",
    "kitti_val_X, kitti_val_y = read_features(save_path, 4)\n",
    "\n",
    "kitti_val_novelty_scores = md(kitti_val_X)\n",
    "plot_roc(kitti_val_novelty_scores, 1 - kitti_val_y)\n",
    "print(calc_metrics(kitti_val_novelty_scores, 1 - kitti_val_y))"
   ]
  },
  {
   "cell_type": "markdown",
   "metadata": {},
   "source": [
    "#### IDD Val"
   ]
  },
  {
   "cell_type": "code",
   "execution_count": null,
   "metadata": {},
   "outputs": [],
   "source": [
    "# Get the data\n",
    "save_path = os.path.join(CHECKPOINT_DIR, \"idd_cars_detections_val_pert_%f_temp_%d.hdf5\" % (eps, temp))\n",
    "idd_val_X, idd_val_y = read_features(save_path, 4)\n",
    "\n",
    "idd_val_novelty_scores = md(idd_val_X)\n",
    "plot_roc(idd_val_novelty_scores, 1 - idd_val_y)\n",
    "print(calc_metrics(idd_val_novelty_scores, 1 - idd_val_y))"
   ]
  },
  {
   "cell_type": "code",
   "execution_count": null,
   "metadata": {},
   "outputs": [],
   "source": []
  },
  {
   "cell_type": "code",
   "execution_count": null,
   "metadata": {},
   "outputs": [],
   "source": []
  }
 ],
 "metadata": {
  "kernelspec": {
   "display_name": "Python 3",
   "language": "python",
   "name": "python3"
  },
  "language_info": {
   "codemirror_mode": {
    "name": "ipython",
    "version": 3
   },
   "file_extension": ".py",
   "mimetype": "text/x-python",
   "name": "python",
   "nbconvert_exporter": "python",
   "pygments_lexer": "ipython3",
   "version": "3.7.4"
  }
 },
 "nbformat": 4,
 "nbformat_minor": 2
}
