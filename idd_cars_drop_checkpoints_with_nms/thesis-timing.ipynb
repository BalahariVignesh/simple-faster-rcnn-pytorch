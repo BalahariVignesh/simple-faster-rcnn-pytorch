{
 "cells": [
  {
   "cell_type": "code",
   "execution_count": 1,
   "metadata": {},
   "outputs": [],
   "source": [
    "%cd ../"
   ]
  },
  {
   "cell_type": "code",
   "execution_count": 2,
   "metadata": {},
   "outputs": [],
   "source": [
    "RANDOM_SEED = 42\n",
    "SUBSET_SAMPLE_DATA_PERCENTAGE = 0.1\n",
    "MIN_IOU_REQUIRED = 0.7  # The minimum IOU required to be a good detection (ie higher is more strict)\n",
    "NUM_PROPOSALS = 300\n",
    "CHECKPOINT_DIR = './idd_cars_drop_checkpoints_with_nms'\n",
    "\n",
    "%matplotlib inline\n",
    "\n",
    "%load_ext autoreload\n",
    "%autoreload 2\n",
    "\n",
    "import os\n",
    "import torch as t\n",
    "from model import FasterRCNNVGG16\n",
    "from trainer import FasterRCNNTrainer\n",
    "import numpy as np\n",
    "import pickle\n",
    "import h5py\n",
    "from tqdm.auto import tqdm, trange\n",
    "import matplotlib.pyplot as plt\n",
    "\n",
    "from data.util import  read_image\n",
    "from utils.vis_tool import vis_bbox\n",
    "from utils import array_tool as at\n",
    "from utils.config import opt\n",
    "from utils.idd_utils import get_annotations\n",
    "from model.utils.bbox_tools import bbox_iou\n",
    "\n",
    "from data.dataset import Dataset, TestDataset, KittiDataset\n",
    "from torch.utils.data import DataLoader\n",
    "from utils.vis_tool import vis_bbox, vis_image\n",
    "from utils.idd_utils import IndiaDrivingDataset\n",
    "from ood_metrics import auroc, plot_roc, calc_metrics\n",
    "from sklearn import svm\n",
    "import pickle\n",
    "import itertools\n",
    "import torch\n",
    "from model.faster_rcnn import nograd\n",
    "from data.dataset import preprocess\n",
    "from utils.mahalanobis import Mahal_Dist\n",
    "\n",
    "\n",
    "import warnings\n",
    "warnings.filterwarnings(action='once')\n",
    "\n",
    "np.random.seed(RANDOM_SEED)"
   ]
  },
  {
   "cell_type": "code",
   "execution_count": 3,
   "metadata": {},
   "outputs": [],
   "source": [
    "opt.voc_data_dir = \"/home/tadenoud/Documents/kitti/VOC2012/\"\n",
    "\n",
    "kitti_val_dataset = KittiDataset(opt, split='val')\n",
    "kitti_val_samples = len(kitti_val_dataset)"
   ]
  },
  {
   "cell_type": "code",
   "execution_count": 4,
   "metadata": {},
   "outputs": [],
   "source": [
    "faster_rcnn = FasterRCNNVGG16()\n",
    "trainer = FasterRCNNTrainer(faster_rcnn, visdom=False).cuda()"
   ]
  },
  {
   "cell_type": "code",
   "execution_count": 5,
   "metadata": {},
   "outputs": [
    {
     "name": "stdout",
     "output_type": "stream",
     "text": [
      "fasterrcnn_11062316_0.7550167879591324\r\n"
     ]
    }
   ],
   "source": [
    "%ls ./checkpoints/cars_drop/"
   ]
  },
  {
   "cell_type": "code",
   "execution_count": 6,
   "metadata": {},
   "outputs": [
    {
     "data": {
      "text/plain": [
       "FasterRCNNVGG16(\n",
       "  (extractor): Sequential(\n",
       "    (0): Conv2d(3, 64, kernel_size=(3, 3), stride=(1, 1), padding=(1, 1))\n",
       "    (1): ReLU(inplace=True)\n",
       "    (2): Conv2d(64, 64, kernel_size=(3, 3), stride=(1, 1), padding=(1, 1))\n",
       "    (3): ReLU(inplace=True)\n",
       "    (4): MaxPool2d(kernel_size=2, stride=2, padding=0, dilation=1, ceil_mode=False)\n",
       "    (5): Conv2d(64, 128, kernel_size=(3, 3), stride=(1, 1), padding=(1, 1))\n",
       "    (6): ReLU(inplace=True)\n",
       "    (7): Conv2d(128, 128, kernel_size=(3, 3), stride=(1, 1), padding=(1, 1))\n",
       "    (8): ReLU(inplace=True)\n",
       "    (9): MaxPool2d(kernel_size=2, stride=2, padding=0, dilation=1, ceil_mode=False)\n",
       "    (10): Conv2d(128, 256, kernel_size=(3, 3), stride=(1, 1), padding=(1, 1))\n",
       "    (11): ReLU(inplace=True)\n",
       "    (12): Conv2d(256, 256, kernel_size=(3, 3), stride=(1, 1), padding=(1, 1))\n",
       "    (13): ReLU(inplace=True)\n",
       "    (14): Conv2d(256, 256, kernel_size=(3, 3), stride=(1, 1), padding=(1, 1))\n",
       "    (15): ReLU(inplace=True)\n",
       "    (16): MaxPool2d(kernel_size=2, stride=2, padding=0, dilation=1, ceil_mode=False)\n",
       "    (17): Conv2d(256, 512, kernel_size=(3, 3), stride=(1, 1), padding=(1, 1))\n",
       "    (18): ReLU(inplace=True)\n",
       "    (19): Conv2d(512, 512, kernel_size=(3, 3), stride=(1, 1), padding=(1, 1))\n",
       "    (20): ReLU(inplace=True)\n",
       "    (21): Conv2d(512, 512, kernel_size=(3, 3), stride=(1, 1), padding=(1, 1))\n",
       "    (22): ReLU(inplace=True)\n",
       "    (23): MaxPool2d(kernel_size=2, stride=2, padding=0, dilation=1, ceil_mode=False)\n",
       "    (24): Conv2d(512, 512, kernel_size=(3, 3), stride=(1, 1), padding=(1, 1))\n",
       "    (25): ReLU(inplace=True)\n",
       "    (26): Conv2d(512, 512, kernel_size=(3, 3), stride=(1, 1), padding=(1, 1))\n",
       "    (27): ReLU(inplace=True)\n",
       "    (28): Conv2d(512, 512, kernel_size=(3, 3), stride=(1, 1), padding=(1, 1))\n",
       "    (29): ReLU(inplace=True)\n",
       "  )\n",
       "  (rpn): RegionProposalNetwork(\n",
       "    (conv1): Conv2d(512, 512, kernel_size=(3, 3), stride=(1, 1), padding=(1, 1))\n",
       "    (score): Conv2d(512, 18, kernel_size=(1, 1), stride=(1, 1))\n",
       "    (loc): Conv2d(512, 36, kernel_size=(1, 1), stride=(1, 1))\n",
       "  )\n",
       "  (head): VGG16RoIHead(\n",
       "    (classifier): Sequential(\n",
       "      (0): Linear(in_features=25088, out_features=4096, bias=True)\n",
       "      (1): ReLU(inplace=True)\n",
       "      (2): Dropout(p=0.5, inplace=False)\n",
       "      (3): Linear(in_features=4096, out_features=4096, bias=True)\n",
       "      (4): ReLU(inplace=True)\n",
       "      (5): Dropout(p=0.5, inplace=False)\n",
       "    )\n",
       "    (cls_loc): Linear(in_features=4096, out_features=8, bias=True)\n",
       "    (score): Linear(in_features=4096, out_features=2, bias=True)\n",
       "    (roi): RoIPooling2D()\n",
       "  )\n",
       ")"
      ]
     },
     "execution_count": 6,
     "metadata": {},
     "output_type": "execute_result"
    }
   ],
   "source": [
    "save_dir = './checkpoints/cars_drop'\n",
    "trainer.load(os.path.join(save_dir, 'fasterrcnn_11062316_0.7550167879591324'))\n",
    "trainer.faster_rcnn.eval()"
   ]
  },
  {
   "cell_type": "code",
   "execution_count": 7,
   "metadata": {},
   "outputs": [],
   "source": [
    "model = trainer.faster_rcnn"
   ]
  },
  {
   "cell_type": "code",
   "execution_count": 8,
   "metadata": {},
   "outputs": [],
   "source": [
    "# Get a single image\n",
    "dataloader = DataLoader(kitti_val_dataset,\n",
    "                batch_size=1,\n",
    "                shuffle=False,\n",
    "                pin_memory=True,\n",
    "                num_workers=1)\n",
    "\n",
    "imgs, sizes, gt_bboxes, gt_labels, _ = next(iter(dataloader))\n",
    "sizes = [sizes[0][0].item(), sizes[1][0].item()]\n",
    "gt_bboxes = gt_bboxes.squeeze(dim=0)\n",
    "gt_labels = gt_labels.squeeze(dim=0)\n",
    "\n",
    "\n",
    "#     # Get predictions and all classifier features\n",
    "#     res = model.predict_with_features(imgs, visualize=True, perturbation=perturbation, temperature=temperature)\n",
    "#     pred_bboxes, pred_labels, pred_scores, pred_features = res\n",
    "#     pred_bboxes, pred_labels, pred_scores, pred_features = \\\n",
    "#             pred_bboxes[0], pred_labels[0], pred_scores[0], pred_features[0]\n",
    "\n",
    "#     ious = bbox_iou(pred_bboxes, np.concatenate((gt_bboxes, np.zeros((1,4)))))\n",
    "#     max_ious = np.nan_to_num(ious.max(axis=1))\n",
    "\n",
    "#     max_aligned_gt_label = ious.argmax(axis=1)\n",
    "#     true_label_per_pred = np.array([gt_labels[j] for j in max_aligned_gt_label])\n",
    "#     pred_label_correct = true_label_per_pred == pred_labels"
   ]
  },
  {
   "cell_type": "code",
   "execution_count": 9,
   "metadata": {},
   "outputs": [],
   "source": [
    "def max_softmax():\n",
    "    res = model.predict_with_features(imgs, visualize=True)\n",
    "    return res"
   ]
  },
  {
   "cell_type": "code",
   "execution_count": 10,
   "metadata": {},
   "outputs": [
    {
     "name": "stderr",
     "output_type": "stream",
     "text": [
      "/opt/conda/conda-bld/pytorch_1565272271120/work/torch/csrc/autograd/python_function.cpp:638: UserWarning: Legacy autograd function with non-static forward method is deprecated and will be removed in 1.3. Please use new-style autograd function with static forward method. (Example: https://pytorch.org/docs/stable/autograd.html#torch.autograd.Function)\n"
     ]
    },
    {
     "name": "stdout",
     "output_type": "stream",
     "text": [
      "328 ms ± 17.4 ms per loop (mean ± std. dev. of 10 runs, 1 loop each)\n"
     ]
    }
   ],
   "source": [
    "%%timeit -r 10\n",
    "max_softmax()"
   ]
  },
  {
   "cell_type": "code",
   "execution_count": 11,
   "metadata": {},
   "outputs": [],
   "source": [
    "def odin():\n",
    "    res = model.predict_with_features(imgs, visualize=True, temperature=1000, perturbation=0.002)\n",
    "    return res"
   ]
  },
  {
   "cell_type": "code",
   "execution_count": 12,
   "metadata": {},
   "outputs": [
    {
     "name": "stderr",
     "output_type": "stream",
     "text": [
      "/opt/conda/conda-bld/pytorch_1565272271120/work/torch/csrc/autograd/python_function.cpp:664: UserWarning: Legacy autograd function object was called twice.  You will probably get incorrect gradients from this computation, as the saved tensors from the second invocation will clobber the saved tensors from the first invocation.  Please consider rewriting your autograd function in the modern style; for information on the new format, please see: https://pytorch.org/docs/stable/notes/extending.html#extending-torch-autograd\n"
     ]
    },
    {
     "name": "stdout",
     "output_type": "stream",
     "text": [
      "1.13 s ± 66.8 ms per loop (mean ± std. dev. of 10 runs, 1 loop each)\n"
     ]
    }
   ],
   "source": [
    "%%timeit -r 10\n",
    "odin()"
   ]
  },
  {
   "cell_type": "code",
   "execution_count": 13,
   "metadata": {},
   "outputs": [],
   "source": [
    "mahal_model_name = os.path.join(CHECKPOINT_DIR, \"kitti-cars-fc-4096-4-mahalanobis.h5\")\n",
    "md = Mahal_Dist.load(mahal_model_name)\n",
    "\n",
    "def mahal():\n",
    "    res = model.predict_with_features(imgs, visualize=True)\n",
    "    pred_bboxes, pred_labels, pred_scores, pred_features = res\n",
    "    pred_bboxes, pred_labels, pred_scores, pred_features = \\\n",
    "            pred_bboxes[0], pred_labels[0], pred_scores[0], pred_features[0]\n",
    "    return md(pred_features[4])"
   ]
  },
  {
   "cell_type": "code",
   "execution_count": 14,
   "metadata": {},
   "outputs": [
    {
     "name": "stdout",
     "output_type": "stream",
     "text": [
      "352 ms ± 17.6 ms per loop (mean ± std. dev. of 10 runs, 1 loop each)\n"
     ]
    }
   ],
   "source": [
    "%%timeit -r 10\n",
    "mahal()"
   ]
  },
  {
   "cell_type": "code",
   "execution_count": 15,
   "metadata": {},
   "outputs": [
    {
     "name": "stderr",
     "output_type": "stream",
     "text": [
      "/home/tadenoud/anaconda3/envs/nn/lib/python3.7/site-packages/sklearn/base.py:306: UserWarning: Trying to unpickle estimator OneClassSVM from version 0.21.3 when using version 0.21.2. This might lead to breaking code or invalid results. Use at your own risk.\n",
      "  UserWarning)\n"
     ]
    }
   ],
   "source": [
    "# Train a one-class SVM networks with those features\n",
    "ONE_CLASS_SAVE_PATH = os.path.join(CHECKPOINT_DIR, \"kitti-fc-4096-1-one-class.pickle\")    \n",
    "with open(ONE_CLASS_SAVE_PATH, 'rb') as f:\n",
    "    clf = pickle.load(f)\n",
    "\n",
    "def svm_fc():\n",
    "    res = model.predict_with_features(imgs, visualize=True)\n",
    "    pred_bboxes, pred_labels, pred_scores, pred_features = res\n",
    "    pred_bboxes, pred_labels, pred_scores, pred_features = \\\n",
    "            pred_bboxes[0], pred_labels[0], pred_scores[0], pred_features[0]\n",
    "    \n",
    "    return clf.predict(pred_features[1])"
   ]
  },
  {
   "cell_type": "code",
   "execution_count": 16,
   "metadata": {},
   "outputs": [
    {
     "name": "stderr",
     "output_type": "stream",
     "text": [
      "/opt/conda/conda-bld/pytorch_1565272271120/work/torch/csrc/autograd/python_function.cpp:638: UserWarning: Legacy autograd function with non-static forward method is deprecated and will be removed in 1.3. Please use new-style autograd function with static forward method. (Example: https://pytorch.org/docs/stable/autograd.html#torch.autograd.Function)\n",
      "/opt/conda/conda-bld/pytorch_1565272271120/work/torch/csrc/autograd/python_function.cpp:638: UserWarning: Legacy autograd function with non-static forward method is deprecated and will be removed in 1.3. Please use new-style autograd function with static forward method. (Example: https://pytorch.org/docs/stable/autograd.html#torch.autograd.Function)\n",
      "/opt/conda/conda-bld/pytorch_1565272271120/work/torch/csrc/autograd/python_function.cpp:638: UserWarning: Legacy autograd function with non-static forward method is deprecated and will be removed in 1.3. Please use new-style autograd function with static forward method. (Example: https://pytorch.org/docs/stable/autograd.html#torch.autograd.Function)\n",
      "/opt/conda/conda-bld/pytorch_1565272271120/work/torch/csrc/autograd/python_function.cpp:638: UserWarning: Legacy autograd function with non-static forward method is deprecated and will be removed in 1.3. Please use new-style autograd function with static forward method. (Example: https://pytorch.org/docs/stable/autograd.html#torch.autograd.Function)\n",
      "/opt/conda/conda-bld/pytorch_1565272271120/work/torch/csrc/autograd/python_function.cpp:638: UserWarning: Legacy autograd function with non-static forward method is deprecated and will be removed in 1.3. Please use new-style autograd function with static forward method. (Example: https://pytorch.org/docs/stable/autograd.html#torch.autograd.Function)\n",
      "/opt/conda/conda-bld/pytorch_1565272271120/work/torch/csrc/autograd/python_function.cpp:638: UserWarning: Legacy autograd function with non-static forward method is deprecated and will be removed in 1.3. Please use new-style autograd function with static forward method. (Example: https://pytorch.org/docs/stable/autograd.html#torch.autograd.Function)\n",
      "/opt/conda/conda-bld/pytorch_1565272271120/work/torch/csrc/autograd/python_function.cpp:638: UserWarning: Legacy autograd function with non-static forward method is deprecated and will be removed in 1.3. Please use new-style autograd function with static forward method. (Example: https://pytorch.org/docs/stable/autograd.html#torch.autograd.Function)\n",
      "/opt/conda/conda-bld/pytorch_1565272271120/work/torch/csrc/autograd/python_function.cpp:638: UserWarning: Legacy autograd function with non-static forward method is deprecated and will be removed in 1.3. Please use new-style autograd function with static forward method. (Example: https://pytorch.org/docs/stable/autograd.html#torch.autograd.Function)\n",
      "/opt/conda/conda-bld/pytorch_1565272271120/work/torch/csrc/autograd/python_function.cpp:638: UserWarning: Legacy autograd function with non-static forward method is deprecated and will be removed in 1.3. Please use new-style autograd function with static forward method. (Example: https://pytorch.org/docs/stable/autograd.html#torch.autograd.Function)\n",
      "/opt/conda/conda-bld/pytorch_1565272271120/work/torch/csrc/autograd/python_function.cpp:638: UserWarning: Legacy autograd function with non-static forward method is deprecated and will be removed in 1.3. Please use new-style autograd function with static forward method. (Example: https://pytorch.org/docs/stable/autograd.html#torch.autograd.Function)\n"
     ]
    },
    {
     "name": "stdout",
     "output_type": "stream",
     "text": [
      "809 ms ± 237 ms per loop (mean ± std. dev. of 10 runs, 1 loop each)\n"
     ]
    }
   ],
   "source": [
    "%%timeit -r 10\n",
    "svm_fc()"
   ]
  },
  {
   "cell_type": "code",
   "execution_count": 17,
   "metadata": {},
   "outputs": [
    {
     "name": "stderr",
     "output_type": "stream",
     "text": [
      "/home/tadenoud/anaconda3/envs/nn/lib/python3.7/site-packages/sklearn/base.py:306: UserWarning: Trying to unpickle estimator OneClassSVM from version 0.21.3 when using version 0.21.2. This might lead to breaking code or invalid results. Use at your own risk.\n",
      "  UserWarning)\n"
     ]
    }
   ],
   "source": [
    "ONE_CLASS_SAVE_PATH = os.path.join(CHECKPOINT_DIR, \"kitti-conv-512-one-class.pickle\")\n",
    "with open(ONE_CLASS_SAVE_PATH, 'rb') as f:\n",
    "    clf = pickle.load(f)\n",
    "\n",
    "def svm_conv():\n",
    "    res = model.predict_with_features(imgs, visualize=True)\n",
    "    pred_bboxes, pred_labels, pred_scores, pred_features = res\n",
    "    pred_bboxes, pred_labels, pred_scores, pred_features = \\\n",
    "            pred_bboxes[0], pred_labels[0], pred_scores[0], pred_features[0]\n",
    "    \n",
    "    return clf.predict(pred_features[0])"
   ]
  },
  {
   "cell_type": "code",
   "execution_count": 18,
   "metadata": {},
   "outputs": [
    {
     "name": "stderr",
     "output_type": "stream",
     "text": [
      "/opt/conda/conda-bld/pytorch_1565272271120/work/torch/csrc/autograd/python_function.cpp:638: UserWarning: Legacy autograd function with non-static forward method is deprecated and will be removed in 1.3. Please use new-style autograd function with static forward method. (Example: https://pytorch.org/docs/stable/autograd.html#torch.autograd.Function)\n",
      "/opt/conda/conda-bld/pytorch_1565272271120/work/torch/csrc/autograd/python_function.cpp:638: UserWarning: Legacy autograd function with non-static forward method is deprecated and will be removed in 1.3. Please use new-style autograd function with static forward method. (Example: https://pytorch.org/docs/stable/autograd.html#torch.autograd.Function)\n",
      "/opt/conda/conda-bld/pytorch_1565272271120/work/torch/csrc/autograd/python_function.cpp:638: UserWarning: Legacy autograd function with non-static forward method is deprecated and will be removed in 1.3. Please use new-style autograd function with static forward method. (Example: https://pytorch.org/docs/stable/autograd.html#torch.autograd.Function)\n",
      "/opt/conda/conda-bld/pytorch_1565272271120/work/torch/csrc/autograd/python_function.cpp:638: UserWarning: Legacy autograd function with non-static forward method is deprecated and will be removed in 1.3. Please use new-style autograd function with static forward method. (Example: https://pytorch.org/docs/stable/autograd.html#torch.autograd.Function)\n",
      "/opt/conda/conda-bld/pytorch_1565272271120/work/torch/csrc/autograd/python_function.cpp:638: UserWarning: Legacy autograd function with non-static forward method is deprecated and will be removed in 1.3. Please use new-style autograd function with static forward method. (Example: https://pytorch.org/docs/stable/autograd.html#torch.autograd.Function)\n",
      "/opt/conda/conda-bld/pytorch_1565272271120/work/torch/csrc/autograd/python_function.cpp:638: UserWarning: Legacy autograd function with non-static forward method is deprecated and will be removed in 1.3. Please use new-style autograd function with static forward method. (Example: https://pytorch.org/docs/stable/autograd.html#torch.autograd.Function)\n",
      "/opt/conda/conda-bld/pytorch_1565272271120/work/torch/csrc/autograd/python_function.cpp:638: UserWarning: Legacy autograd function with non-static forward method is deprecated and will be removed in 1.3. Please use new-style autograd function with static forward method. (Example: https://pytorch.org/docs/stable/autograd.html#torch.autograd.Function)\n",
      "/opt/conda/conda-bld/pytorch_1565272271120/work/torch/csrc/autograd/python_function.cpp:638: UserWarning: Legacy autograd function with non-static forward method is deprecated and will be removed in 1.3. Please use new-style autograd function with static forward method. (Example: https://pytorch.org/docs/stable/autograd.html#torch.autograd.Function)\n",
      "/opt/conda/conda-bld/pytorch_1565272271120/work/torch/csrc/autograd/python_function.cpp:638: UserWarning: Legacy autograd function with non-static forward method is deprecated and will be removed in 1.3. Please use new-style autograd function with static forward method. (Example: https://pytorch.org/docs/stable/autograd.html#torch.autograd.Function)\n",
      "/opt/conda/conda-bld/pytorch_1565272271120/work/torch/csrc/autograd/python_function.cpp:638: UserWarning: Legacy autograd function with non-static forward method is deprecated and will be removed in 1.3. Please use new-style autograd function with static forward method. (Example: https://pytorch.org/docs/stable/autograd.html#torch.autograd.Function)\n",
      "/opt/conda/conda-bld/pytorch_1565272271120/work/torch/csrc/autograd/python_function.cpp:638: UserWarning: Legacy autograd function with non-static forward method is deprecated and will be removed in 1.3. Please use new-style autograd function with static forward method. (Example: https://pytorch.org/docs/stable/autograd.html#torch.autograd.Function)\n"
     ]
    },
    {
     "name": "stdout",
     "output_type": "stream",
     "text": [
      "944 ms ± 56.2 ms per loop (mean ± std. dev. of 10 runs, 1 loop each)\n"
     ]
    }
   ],
   "source": [
    "%%timeit -r 10\n",
    "svm_conv()"
   ]
  },
  {
   "cell_type": "code",
   "execution_count": 19,
   "metadata": {},
   "outputs": [],
   "source": [
    "def svm_vahdat():\n",
    "    pass"
   ]
  },
  {
   "cell_type": "code",
   "execution_count": 20,
   "metadata": {},
   "outputs": [
    {
     "name": "stdout",
     "output_type": "stream",
     "text": [
      "95.2 ns ± 14.3 ns per loop (mean ± std. dev. of 10 runs, 10000000 loops each)\n"
     ]
    }
   ],
   "source": [
    "%%timeit -r 10\n",
    "svm_vahdat()"
   ]
  },
  {
   "cell_type": "code",
   "execution_count": 21,
   "metadata": {},
   "outputs": [],
   "source": [
    "import mc_uncertainty as mcu\n",
    "from model.utils.bbox_tools import loc2bbox, bbox2loc, bbox_iou\n",
    "from torch.nn import functional as F\n",
    "\n",
    "def _predict_mc(self, imgs, sizes=None, visualize=False, num_passes=1):\n",
    "    if visualize:\n",
    "        self.use_preset('visualize')\n",
    "        prepared_imgs = list()\n",
    "        sizes = list()\n",
    "        for img in imgs:\n",
    "            size = img.shape[1:]\n",
    "            img = preprocess(at.tonumpy(img))\n",
    "            prepared_imgs.append(img)\n",
    "            sizes.append(size)\n",
    "    else:\n",
    "         prepared_imgs = imgs \n",
    "    bboxes = list()\n",
    "    labels = list()\n",
    "    scores = list()\n",
    "    mc_scores = list()\n",
    "\n",
    "    for img, size in zip(prepared_imgs, sizes):\n",
    "        scale = img.shape[2] / size[1]\n",
    "\n",
    "        img = at.totensor(img[None], cuda=True).float()\n",
    "\n",
    "        h = self.extractor(img)\n",
    "        rpn_locs, rpn_scores, rois, roi_indices, anchor = self.rpn(h, img.shape[2:], scale)\n",
    "        roi_cls_locs, roi_scores = self.head(h, rois, roi_indices)\n",
    "        \n",
    "        roi_scores = [roi_scores] + [self.head(h, rois, roi_indices)[1] for _ in range(num_passes-1)]\n",
    "\n",
    "        # We are assuming that batch size is 1.\n",
    "        roi_score = [s.data for s in roi_scores]\n",
    "        roi_cls_loc = roi_cls_locs.data\n",
    "        roi = at.totensor(rois) / scale\n",
    "\n",
    "        # Convert predictions to bounding boxes in image coordinates.\n",
    "        # Bounding boxes are scaled to the scale of the input images.\n",
    "        mean = t.Tensor(self.loc_normalize_mean).cuda(). \\\n",
    "            repeat(self.n_class)[None]\n",
    "        std = t.Tensor(self.loc_normalize_std).cuda(). \\\n",
    "            repeat(self.n_class)[None]\n",
    "\n",
    "        roi_cls_loc = (roi_cls_loc * std + mean)\n",
    "        roi_cls_loc = roi_cls_loc.view(-1, self.n_class, 4)\n",
    "        roi = roi.view(-1, 1, 4).expand_as(roi_cls_loc)\n",
    "        cls_bbox = loc2bbox(at.tonumpy(roi).reshape((-1, 4)),\n",
    "                            at.tonumpy(roi_cls_loc).reshape((-1, 4)))\n",
    "        cls_bbox = at.totensor(cls_bbox)\n",
    "        cls_bbox = cls_bbox.view(-1, self.n_class * 4)\n",
    "        # clip bounding box\n",
    "        cls_bbox[:, 0::2] = (cls_bbox[:, 0::2]).clamp(min=0, max=size[0])\n",
    "        cls_bbox[:, 1::2] = (cls_bbox[:, 1::2]).clamp(min=0, max=size[1])\n",
    "\n",
    "        prob = [at.tonumpy(F.softmax(at.totensor(s), dim=1)) for s in roi_score]\n",
    "\n",
    "        raw_cls_bbox = at.tonumpy(cls_bbox)\n",
    "        raw_prob = [at.tonumpy(p) for p in prob]\n",
    "\n",
    "        bbox, label, score, mc_score = self._suppress_with_features(raw_cls_bbox, raw_prob[0], raw_prob)\n",
    "\n",
    "        bboxes.append(bbox)\n",
    "        labels.append(label)\n",
    "        scores.append(score)\n",
    "        mc_scores.append(mc_score)\n",
    "\n",
    "    # self.use_preset('evaluate')\n",
    "\n",
    "    return bboxes, labels, scores, mc_scores\n",
    "\n",
    "model.predict_mc = _predict_mc.__get__(model)"
   ]
  },
  {
   "cell_type": "code",
   "execution_count": 22,
   "metadata": {},
   "outputs": [],
   "source": [
    "def entropy():\n",
    "    model.train()\n",
    "    \n",
    "    res = model.predict_mc(imgs, visualize=True, num_passes=10)\n",
    "    pred_bboxes, pred_labels, pred_scores, pred_mc_scores = res\n",
    "    pred_bboxes, pred_labels, pred_scores, pred_mc_scores = \\\n",
    "            pred_bboxes[0], pred_labels[0], pred_scores[0], np.array(pred_mc_scores[0])\n",
    "    \n",
    "    model.eval()\n",
    "    \n",
    "    return -mcu.predicted_entropy(pred_mc_scores)"
   ]
  },
  {
   "cell_type": "code",
   "execution_count": 23,
   "metadata": {},
   "outputs": [
    {
     "name": "stderr",
     "output_type": "stream",
     "text": [
      "/opt/conda/conda-bld/pytorch_1565272271120/work/torch/csrc/autograd/python_function.cpp:638: UserWarning: Legacy autograd function with non-static forward method is deprecated and will be removed in 1.3. Please use new-style autograd function with static forward method. (Example: https://pytorch.org/docs/stable/autograd.html#torch.autograd.Function)\n",
      "/opt/conda/conda-bld/pytorch_1565272271120/work/torch/csrc/autograd/python_function.cpp:664: UserWarning: Legacy autograd function object was called twice.  You will probably get incorrect gradients from this computation, as the saved tensors from the second invocation will clobber the saved tensors from the first invocation.  Please consider rewriting your autograd function in the modern style; for information on the new format, please see: https://pytorch.org/docs/stable/notes/extending.html#extending-torch-autograd\n"
     ]
    },
    {
     "name": "stdout",
     "output_type": "stream",
     "text": [
      "1.25 s ± 94.8 ms per loop (mean ± std. dev. of 10 runs, 1 loop each)\n"
     ]
    }
   ],
   "source": [
    "%%timeit -r 10\n",
    "entropy()"
   ]
  },
  {
   "cell_type": "code",
   "execution_count": 24,
   "metadata": {},
   "outputs": [],
   "source": [
    "def mutual_information():\n",
    "    model.train()\n",
    "    \n",
    "    res = model.predict_mc(imgs, visualize=True, num_passes=10)\n",
    "    pred_bboxes, pred_labels, pred_scores, pred_mc_scores = res\n",
    "    pred_bboxes, pred_labels, pred_scores, pred_mc_scores = \\\n",
    "            pred_bboxes[0], pred_labels[0], pred_scores[0], np.array(pred_mc_scores[0])\n",
    "\n",
    "    model.eval()\n",
    "    \n",
    "    return mcu.mutual_information(pred_mc_scores)"
   ]
  },
  {
   "cell_type": "code",
   "execution_count": 25,
   "metadata": {},
   "outputs": [
    {
     "name": "stdout",
     "output_type": "stream",
     "text": [
      "1.4 s ± 150 ms per loop (mean ± std. dev. of 10 runs, 1 loop each)\n"
     ]
    }
   ],
   "source": [
    "%%timeit -r 10\n",
    "mutual_information()"
   ]
  },
  {
   "cell_type": "code",
   "execution_count": 26,
   "metadata": {},
   "outputs": [],
   "source": [
    "mahal_model_name = os.path.join(CHECKPOINT_DIR, \"kitti-cars-fc-4096-4-mahalanobis.h5\")\n",
    "md = Mahal_Dist.load(mahal_model_name)\n",
    "\n",
    "def mahal_pert():\n",
    "    res = model.predict_with_features(imgs, visualize=True, temperature=1000, perturbation=0.002)\n",
    "    pred_bboxes, pred_labels, pred_scores, pred_features = res\n",
    "    pred_bboxes, pred_labels, pred_scores, pred_features = \\\n",
    "            pred_bboxes[0], pred_labels[0], pred_scores[0], pred_features[0]\n",
    "    return md(pred_features[4])"
   ]
  },
  {
   "cell_type": "code",
   "execution_count": 27,
   "metadata": {},
   "outputs": [
    {
     "name": "stdout",
     "output_type": "stream",
     "text": [
      "1.36 s ± 130 ms per loop (mean ± std. dev. of 10 runs, 1 loop each)\n"
     ]
    }
   ],
   "source": [
    "%%timeit -r 10\n",
    "mahal_pert()"
   ]
  },
  {
   "cell_type": "code",
   "execution_count": null,
   "metadata": {},
   "outputs": [],
   "source": []
  }
 ],
 "metadata": {
  "kernelspec": {
   "display_name": "Python 3",
   "language": "python",
   "name": "python3"
  },
  "language_info": {
   "codemirror_mode": {
    "name": "ipython",
    "version": 3
   },
   "file_extension": ".py",
   "mimetype": "text/x-python",
   "name": "python",
   "nbconvert_exporter": "python",
   "pygments_lexer": "ipython3",
   "version": "3.7.5"
  }
 },
 "nbformat": 4,
 "nbformat_minor": 2
}
