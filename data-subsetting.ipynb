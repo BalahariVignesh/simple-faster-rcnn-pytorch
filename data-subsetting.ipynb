{
 "cells": [
  {
   "cell_type": "code",
   "execution_count": 1,
   "metadata": {},
   "outputs": [],
   "source": [
    "%matplotlib inline\n",
    "%load_ext autoreload\n",
    "%autoreload 2\n",
    "\n",
    "import os\n",
    "import numpy as np"
   ]
  },
  {
   "cell_type": "markdown",
   "metadata": {},
   "source": [
    "# Train mahalanobis features with entire training dataset"
   ]
  },
  {
   "cell_type": "code",
   "execution_count": 2,
   "metadata": {
    "scrolled": false
   },
   "outputs": [],
   "source": [
    "from utils.config import opt\n",
    "from data.dataset import Dataset, TestDataset\n",
    "from torch.utils.data import DataLoader\n",
    "\n",
    "opt.voc_data_dir = \"/media/tadenoud/DATADisk/datasets/kitti_2d/VOC2012/\"\n",
    "dataset = Dataset(opt)"
   ]
  },
  {
   "cell_type": "code",
   "execution_count": 3,
   "metadata": {},
   "outputs": [
    {
     "data": {
      "text/plain": [
       "<matplotlib.axes._subplots.AxesSubplot at 0x7f41b7b37048>"
      ]
     },
     "execution_count": 3,
     "metadata": {},
     "output_type": "execute_result"
    }
   ],
   "source": [
    "IMG_NUM = 18\n",
    "\n",
    "img, bbox, label, scale = dataset[IMG_NUM]\n",
    "\n",
    "from data.util import  read_image\n",
    "from utils.vis_tool import vis_bbox\n",
    "\n",
    "mean = np.array([122.7717, 115.9465, 102.9801]).reshape(3, 1, 1)\n",
    "\n",
    "def unnormalize_img(img, mean=mean):\n",
    "    return img + mean\n",
    "\n",
    "from utils.class_labels import CLASS_LABELS\n",
    "\n",
    "def filter_labels(bbox, label, keep_classes=['car', 'van']):\n",
    "    keep_classes = list(map(CLASS_LABELS.index, keep_classes))\n",
    "    mask = [l == -1 or l in keep_classes for l in label]\n",
    "    \n",
    "    return bbox[mask], label[mask]\n",
    "\n",
    "\n",
    "bbox, label = filter_labels(bbox, label)\n",
    "vis_bbox(unnormalize_img(img), bbox, label)"
   ]
  },
  {
   "cell_type": "code",
   "execution_count": 4,
   "metadata": {},
   "outputs": [],
   "source": [
    "from misc.filter_image_sets import create_filtered_img_set"
   ]
  },
  {
   "cell_type": "code",
   "execution_count": 5,
   "metadata": {},
   "outputs": [
    {
     "name": "stdout",
     "output_type": "stream",
     "text": [
      "Writing trainval\n",
      "Writing train\n",
      "Writing val\n",
      "Writing test\n"
     ]
    }
   ],
   "source": [
    "print('Writing trainval')\n",
    "create_filtered_img_set(opt.voc_data_dir, split='trainval', outfile='trainval.txt', use_difficult=False)\n",
    "print('Writing train')\n",
    "create_filtered_img_set(opt.voc_data_dir, split='train', outfile='train.txt', use_difficult=False)\n",
    "print('Writing val')\n",
    "create_filtered_img_set(opt.voc_data_dir, split='val', outfile='val.txt', use_difficult=False)\n",
    "print('Writing test')\n",
    "create_filtered_img_set(opt.voc_data_dir, split='test', outfile='test.txt', use_difficult=False)"
   ]
  },
  {
   "cell_type": "code",
   "execution_count": 6,
   "metadata": {},
   "outputs": [
    {
     "name": "stdout",
     "output_type": "stream",
     "text": [
      "train_num 3452\n",
      "test_num 3581\n"
     ]
    }
   ],
   "source": [
    "with open(\"./train.txt\", 'rb') as f:\n",
    "    print(\"train_num\", len(f.readlines()))\n",
    "    \n",
    "with open(\"./val.txt\", 'rb') as f:\n",
    "    print(\"test_num\", len(f.readlines()))"
   ]
  },
  {
   "cell_type": "code",
   "execution_count": null,
   "metadata": {},
   "outputs": [],
   "source": []
  }
 ],
 "metadata": {
  "kernelspec": {
   "display_name": "Python 3",
   "language": "python",
   "name": "python3"
  },
  "language_info": {
   "codemirror_mode": {
    "name": "ipython",
    "version": 3
   },
   "file_extension": ".py",
   "mimetype": "text/x-python",
   "name": "python",
   "nbconvert_exporter": "python",
   "pygments_lexer": "ipython3",
   "version": "3.5.2"
  }
 },
 "nbformat": 4,
 "nbformat_minor": 2
}
