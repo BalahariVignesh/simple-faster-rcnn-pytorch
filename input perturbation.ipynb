{
 "cells": [
  {
   "cell_type": "code",
   "execution_count": null,
   "metadata": {},
   "outputs": [],
   "source": [
    "%matplotlib inline\n",
    "%load_ext autoreload\n",
    "%autoreload 2\n",
    "\n",
    "import os\n",
    "import torch as t\n",
    "from utils.config import opt\n",
    "from model import FasterRCNNVGG16\n",
    "from trainer import FasterRCNNTrainer\n",
    "from data.util import  read_image\n",
    "from utils.vis_tool import vis_bbox\n",
    "from utils import array_tool as at\n",
    "import numpy as np\n",
    "import pickle"
   ]
  },
  {
   "cell_type": "code",
   "execution_count": null,
   "metadata": {},
   "outputs": [],
   "source": [
    "faster_rcnn = FasterRCNNVGG16().cuda()\n",
    "trainer = FasterRCNNTrainer(faster_rcnn).cuda()"
   ]
  },
  {
   "cell_type": "code",
   "execution_count": null,
   "metadata": {},
   "outputs": [],
   "source": [
    "%ls ./checkpoints/pedestrians_cyclists/"
   ]
  },
  {
   "cell_type": "code",
   "execution_count": null,
   "metadata": {},
   "outputs": [],
   "source": [
    "trainer.load('./checkpoints/pedestrians_cyclists/fasterrcnn_04162045_0.4105527015235588')\n",
    "trainer.faster_rcnn.load_mahalanobis_features(save_dir='./checkpoints/pedestrians_cyclists')"
   ]
  },
  {
   "cell_type": "code",
   "execution_count": null,
   "metadata": {},
   "outputs": [],
   "source": [
    "img = read_image('misc/demo.jpg')\n",
    "img = t.from_numpy(img)[None]"
   ]
  },
  {
   "cell_type": "code",
   "execution_count": null,
   "metadata": {},
   "outputs": [],
   "source": [
    "_bboxes, _labels, _scores = trainer.faster_rcnn.predict(img,visualize=True)\n",
    "\n",
    "vis_bbox(at.tonumpy(img[0]),\n",
    "         at.tonumpy(_bboxes[0]),\n",
    "         at.tonumpy(_labels[0]).reshape(-1),\n",
    "         at.tonumpy(_scores[0]).reshape(-1))"
   ]
  },
  {
   "cell_type": "code",
   "execution_count": null,
   "metadata": {
    "scrolled": true
   },
   "outputs": [],
   "source": [
    "_bboxes, _labels, _scores = trainer.faster_rcnn.predict_mahalanobis(img,visualize=True)\n",
    "\n",
    "vis_bbox(at.tonumpy(img[0]),\n",
    "         at.tonumpy(_bboxes[0]),\n",
    "         at.tonumpy(_labels[0]).reshape(-1),\n",
    "         at.tonumpy(_scores[0]).reshape(-1))"
   ]
  },
  {
   "cell_type": "markdown",
   "metadata": {},
   "source": [
    "# Forward pass, calc losses, backprop, perturb, forward pass"
   ]
  },
  {
   "cell_type": "code",
   "execution_count": null,
   "metadata": {},
   "outputs": [],
   "source": [
    "from data.dataset import Dataset, TestDataset\n",
    "from torch.utils import data as data_\n",
    "\n",
    "opt.voc_data_dir = \"/media/tadenoud/DATADisk/datasets/kitti_2d/VOC2012/\"\n",
    "testset = TestDataset(opt, split=\"val\")\n",
    "test_dataloader = data_.DataLoader(testset,\n",
    "                                   batch_size=1,\n",
    "                                   num_workers=opt.test_num_workers,\n",
    "                                   shuffle=False,\n",
    "                                   pin_memory=True\n",
    "                                   )"
   ]
  },
  {
   "cell_type": "code",
   "execution_count": null,
   "metadata": {},
   "outputs": [],
   "source": [
    "from utils.vis_tool import vis_bbox, vis_image\n",
    "from tqdm import tqdm\n",
    "import torch\n",
    "from utils import array_tool as at\n",
    "\n",
    "EPSILON=0.0005\n",
    "\n",
    "\n",
    "mean = np.array([122.7717, 115.9465, 102.9801]).reshape(3, 1, 1)\n",
    "def unnormalize_img(img, mean=mean):\n",
    "    return img + mean\n",
    "\n",
    "\n",
    "i = 0\n",
    "for imgs, sizes, _, _, difficult in tqdm(test_dataloader, total=opt.test_num):    \n",
    "    _, H, W = imgs.shape[1:]\n",
    "    o_H, o_W = sizes\n",
    "    scale = o_H / H\n",
    "    \n",
    "#     _bboxes, _labels, _scores = trainer.faster_rcnn.predict(at.totensor(imgs), [[H,W]])\n",
    "    imgs = trainer.faster_rcnn.input_perturbation(imgs, scale, epsilon=10)\n",
    "    vis_image(unnormalize_img(at.tonumpy(imgs[0])))\n",
    "    if i == 2:\n",
    "        break\n",
    "    i += 1"
   ]
  },
  {
   "cell_type": "code",
   "execution_count": null,
   "metadata": {},
   "outputs": [],
   "source": [
    "from model.utils.bbox_tools import bbox_iou\n",
    "\n",
    "def iou(bbox, label, gt_boxes, gt_labels, iou_thresh=0.5):\n",
    "    ious = bbox_iou(np.array([bbox]), gt_boxes)\n",
    "    best_iou = np.max(ious)\n",
    "    best_label = gt_labels[np.argmax(ious)]\n",
    "    \n",
    "    return best_iou, best_iou > 0 and best_label == label"
   ]
  },
  {
   "cell_type": "markdown",
   "metadata": {},
   "source": [
    "# Mahalanobis with input perturbation"
   ]
  },
  {
   "cell_type": "code",
   "execution_count": null,
   "metadata": {
    "scrolled": true
   },
   "outputs": [],
   "source": [
    "IOU_THRESH = 0.5\n",
    "scores = list()\n",
    "ious = list()\n",
    "class_corrects = list()\n",
    "\n",
    "for imgs, sizes, gt_bboxes, gt_labels, difficult in tqdm(test_dataloader, total=opt.test_num):    \n",
    "#     _, H, W = imgs.shape[1:]\n",
    "#     o_H, o_W = sizes\n",
    "    sizes = [sizes[0][0].item(), sizes[1][0].item()]\n",
    "#     scale = o_H / H\n",
    "    pred_bboxes, pred_labels, pred_scores = trainer.faster_rcnn.predict_mahalanobis(imgs, [sizes], perturbation=EPSILON)\n",
    "    \n",
    "    #calc iou and class correct\n",
    "    for pred_bbox, pred_label, pred_score in zip(pred_bboxes[0], pred_labels[0], pred_scores[0]):\n",
    "        if not len(pred_bbox):\n",
    "            print('shite')\n",
    "        best_iou, class_correct = iou(pred_bbox, \n",
    "                                      pred_label, \n",
    "                                      at.tonumpy(gt_bboxes)[0], \n",
    "                                      at.tonumpy(gt_labels)[0], \n",
    "                                      iou_thresh=IOU_THRESH)\n",
    "        scores.append(pred_score)\n",
    "        ious.append(best_iou)\n",
    "        class_corrects.append(class_correct)"
   ]
  },
  {
   "cell_type": "code",
   "execution_count": null,
   "metadata": {},
   "outputs": [],
   "source": [
    "[at.totensor(np.concatenate([s.numpy() for s in sizes]))]"
   ]
  },
  {
   "cell_type": "code",
   "execution_count": null,
   "metadata": {},
   "outputs": [],
   "source": [
    "import matplotlib.pyplot as plt\n",
    "# Softmax score vs IoU vs correct classificationplt\n",
    "plt.scatter(scores, ious, c=class_corrects, cmap='viridis', s=5)\n",
    "plt.xlabel(\"Mahalanobis Distance\")\n",
    "plt.ylabel(\"IoU with GT\")\n",
    "plt.show()"
   ]
  },
  {
   "cell_type": "code",
   "execution_count": null,
   "metadata": {},
   "outputs": [],
   "source": []
  }
 ],
 "metadata": {
  "kernelspec": {
   "display_name": "Python 3",
   "language": "python",
   "name": "python3"
  },
  "language_info": {
   "codemirror_mode": {
    "name": "ipython",
    "version": 3
   },
   "file_extension": ".py",
   "mimetype": "text/x-python",
   "name": "python",
   "nbconvert_exporter": "python",
   "pygments_lexer": "ipython3",
   "version": "3.5.2"
  }
 },
 "nbformat": 4,
 "nbformat_minor": 2
}
