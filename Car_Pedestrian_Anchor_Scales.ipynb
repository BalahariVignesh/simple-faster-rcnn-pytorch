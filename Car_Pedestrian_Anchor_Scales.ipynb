{
 "cells": [
  {
   "cell_type": "markdown",
   "metadata": {},
   "source": [
    "## Load all anchor boxes for cars and pedestrians"
   ]
  },
  {
   "cell_type": "code",
   "execution_count": 64,
   "metadata": {},
   "outputs": [
    {
     "name": "stdout",
     "output_type": "stream",
     "text": [
      "The autoreload extension is already loaded. To reload it, use:\n",
      "  %reload_ext autoreload\n"
     ]
    }
   ],
   "source": [
    "RANDOM_SEED = 42\n",
    "SAMPLE_DATA_PERCENTAGE = 1.0\n",
    "MIN_IOU_REQUIRED = 0.7  # The minimum IOU required to be a good detection (ie higher is more strict)\n",
    "NUM_PROPOSALS = 300\n",
    "CHECKPOINT_DIR = './idd_cars_drop_checkpoints_with_nms'\n",
    "\n",
    "%matplotlib inline\n",
    "\n",
    "%load_ext autoreload\n",
    "%autoreload 2\n",
    "\n",
    "import os\n",
    "import torch as t\n",
    "from model import FasterRCNNVGG16\n",
    "from trainer import FasterRCNNTrainer\n",
    "import numpy as np\n",
    "import pickle\n",
    "import h5py\n",
    "from tqdm.auto import tqdm, trange\n",
    "import matplotlib.pyplot as plt\n",
    "\n",
    "from data.util import  read_image\n",
    "from utils.vis_tool import vis_bbox\n",
    "from utils import array_tool as at\n",
    "from utils.config import opt\n",
    "from utils.idd_utils import get_annotations\n",
    "from model.utils.bbox_tools import bbox_iou\n",
    "\n",
    "from data.dataset import Dataset, TestDataset, KittiDataset\n",
    "from torch.utils.data import DataLoader\n",
    "from utils.vis_tool import vis_bbox, vis_image\n",
    "from utils.idd_utils import IndiaDrivingDataset\n",
    "from ood_metrics import auroc, plot_roc, calc_metrics\n",
    "from sklearn import svm\n",
    "import pickle\n",
    "import itertools\n",
    "import torch\n",
    "from model.faster_rcnn import nograd\n",
    "from data.dataset import preprocess\n",
    "from utils.mahalanobis import Mahal_Dist\n",
    "\n",
    "\n",
    "import warnings\n",
    "warnings.filterwarnings(action='once')\n",
    "\n",
    "np.random.seed(RANDOM_SEED)\n",
    "\n",
    "torch.multiprocessing.set_sharing_strategy('file_system')  # Fix ancdata error"
   ]
  },
  {
   "cell_type": "code",
   "execution_count": 65,
   "metadata": {},
   "outputs": [],
   "source": [
    "opt.voc_data_dir = \"/home/tadenoud/Documents/kitti/VOC2012/\"\n",
    "kitti_train_dataset = KittiDataset(opt, split='train')\n",
    "kitti_train_dataloader = DataLoader(kitti_train_dataset, batch_size=1, num_workers=4)"
   ]
  },
  {
   "cell_type": "code",
   "execution_count": 66,
   "metadata": {},
   "outputs": [
    {
     "data": {
      "application/vnd.jupyter.widget-view+json": {
       "model_id": "1ef26d64e2574f22b57f5f024403c010",
       "version_major": 2,
       "version_minor": 0
      },
      "text/plain": [
       "HBox(children=(IntProgress(value=0, max=3712), HTML(value='')))"
      ]
     },
     "metadata": {},
     "output_type": "display_data"
    },
    {
     "name": "stdout",
     "output_type": "stream",
     "text": [
      "\n"
     ]
    }
   ],
   "source": [
    "bboxes = []\n",
    "labels = []\n",
    "img_shapes = []\n",
    "\n",
    "for img, img_shape, bbox, label, difficult in tqdm(kitti_train_dataloader, total=len(kitti_train_dataloader)):\n",
    "    labels.append(at.tonumpy(label))\n",
    "    bboxes.append(at.tonumpy(bbox))\n",
    "    img_shapes.append(img_shape)"
   ]
  },
  {
   "cell_type": "code",
   "execution_count": 67,
   "metadata": {},
   "outputs": [
    {
     "name": "stdout",
     "output_type": "stream",
     "text": [
      "[tensor([370]), tensor([1224])]\n"
     ]
    }
   ],
   "source": [
    "print(img_shapes[0])"
   ]
  },
  {
   "cell_type": "code",
   "execution_count": 68,
   "metadata": {},
   "outputs": [],
   "source": [
    "labels = np.squeeze(np.concatenate(labels, axis=1))\n",
    "bboxes = np.squeeze(np.concatenate(bboxes, axis=1))\n",
    "\n",
    "ped_mask = labels == 1\n",
    "car_mask = labels == 0"
   ]
  },
  {
   "cell_type": "code",
   "execution_count": 129,
   "metadata": {},
   "outputs": [],
   "source": [
    "from sklearn.cluster import KMeans\n",
    "\n",
    "def calc_scales(boxes, num_scales=3):\n",
    "    wh = [(b[3] - b[1], b[2] - b[0]) for b in boxes]\n",
    "    area = np.prod(wh, axis=1)\n",
    "    \n",
    "    kmeans = KMeans(n_clusters=num_scales)\n",
    "    kmeans.fit(np.reshape(area, (-1, 1)))\n",
    "    \n",
    "    clusters = kmeans.cluster_centers_ / 16 / 16\n",
    "    return sorted(list(np.squeeze(np.round(clusters).astype(np.int))))"
   ]
  },
  {
   "cell_type": "markdown",
   "metadata": {},
   "source": [
    "## Cars and Pedestrian boxes"
   ]
  },
  {
   "cell_type": "code",
   "execution_count": 130,
   "metadata": {},
   "outputs": [
    {
     "name": "stdout",
     "output_type": "stream",
     "text": [
      "[9, 59, 148, 261]\n"
     ]
    }
   ],
   "source": [
    "print(calc_scales(bboxes, num_scales=4))"
   ]
  },
  {
   "cell_type": "markdown",
   "metadata": {},
   "source": [
    "## Cars detector only"
   ]
  },
  {
   "cell_type": "code",
   "execution_count": 131,
   "metadata": {
    "scrolled": true
   },
   "outputs": [
    {
     "name": "stdout",
     "output_type": "stream",
     "text": [
      "[12, 69, 162, 267]\n"
     ]
    }
   ],
   "source": [
    "print(calc_scales(bboxes[car_mask], num_scales=4))"
   ]
  },
  {
   "cell_type": "markdown",
   "metadata": {},
   "source": [
    "## Pedestrian detector only"
   ]
  },
  {
   "cell_type": "code",
   "execution_count": 132,
   "metadata": {
    "scrolled": false
   },
   "outputs": [
    {
     "name": "stdout",
     "output_type": "stream",
     "text": [
      "[7, 40, 81, 169]\n"
     ]
    }
   ],
   "source": [
    "print(calc_scales(bboxes[ped_mask], num_scales=4))"
   ]
  },
  {
   "cell_type": "code",
   "execution_count": null,
   "metadata": {},
   "outputs": [],
   "source": [
    "8, 32, 64, 128, 256"
   ]
  }
 ],
 "metadata": {
  "kernelspec": {
   "display_name": "Python 3",
   "language": "python",
   "name": "python3"
  },
  "language_info": {
   "codemirror_mode": {
    "name": "ipython",
    "version": 3
   },
   "file_extension": ".py",
   "mimetype": "text/x-python",
   "name": "python",
   "nbconvert_exporter": "python",
   "pygments_lexer": "ipython3",
   "version": "3.7.5"
  }
 },
 "nbformat": 4,
 "nbformat_minor": 2
}
