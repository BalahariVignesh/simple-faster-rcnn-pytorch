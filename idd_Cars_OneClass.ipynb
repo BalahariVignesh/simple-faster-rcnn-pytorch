{
 "cells": [
  {
   "cell_type": "code",
   "execution_count": 1,
   "metadata": {},
   "outputs": [],
   "source": [
    "%matplotlib inline\n",
    "\n",
    "%load_ext autoreload\n",
    "%autoreload 2\n",
    "\n",
    "import os\n",
    "import torch as t\n",
    "from model import FasterRCNNVGG16\n",
    "from trainer import FasterRCNNTrainer\n",
    "import numpy as np\n",
    "import pickle\n",
    "import h5py\n",
    "from tqdm.auto import tqdm\n",
    "import matplotlib.pyplot as plt\n",
    "\n",
    "from data.util import  read_image\n",
    "from utils.vis_tool import vis_bbox\n",
    "from utils import array_tool as at\n",
    "from utils.config import opt\n",
    "from utils.idd_utils import get_annotations\n",
    "from model.utils.bbox_tools import bbox_iou\n",
    "\n",
    "from data.dataset import Dataset, TestDataset, KittiDataset\n",
    "from torch.utils.data import DataLoader\n",
    "\n",
    "import warnings\n",
    "warnings.filterwarnings(action='once')"
   ]
  },
  {
   "cell_type": "code",
   "execution_count": 2,
   "metadata": {},
   "outputs": [
    {
     "name": "stderr",
     "output_type": "stream",
     "text": [
      "Setting up a new session...\n",
      "/home/tadenoud/anaconda3/envs/nn/lib/python3.7/site-packages/visdom/__init__.py:727: PendingDeprecationWarning: Visdom is eventually changing to default to raising exceptions rather than ignoring/printing. This change is expected to happen by July 2018. Please set `raise_exceptions` to False to retain current behavior.\n",
      "  PendingDeprecationWarning\n",
      "Traceback (most recent call last):\n",
      "  File \"/home/tadenoud/anaconda3/envs/nn/lib/python3.7/site-packages/urllib3/connection.py\", line 157, in _new_conn\n",
      "    (self._dns_host, self.port), self.timeout, **extra_kw\n",
      "  File \"/home/tadenoud/anaconda3/envs/nn/lib/python3.7/site-packages/urllib3/util/connection.py\", line 84, in create_connection\n",
      "    raise err\n",
      "  File \"/home/tadenoud/anaconda3/envs/nn/lib/python3.7/site-packages/urllib3/util/connection.py\", line 74, in create_connection\n",
      "    sock.connect(sa)\n",
      "ConnectionRefusedError: [Errno 111] Connection refused\n",
      "\n",
      "During handling of the above exception, another exception occurred:\n",
      "\n",
      "Traceback (most recent call last):\n",
      "  File \"/home/tadenoud/anaconda3/envs/nn/lib/python3.7/site-packages/urllib3/connectionpool.py\", line 672, in urlopen\n",
      "    chunked=chunked,\n",
      "  File \"/home/tadenoud/anaconda3/envs/nn/lib/python3.7/site-packages/urllib3/connectionpool.py\", line 387, in _make_request\n",
      "    conn.request(method, url, **httplib_request_kw)\n",
      "  File \"/home/tadenoud/anaconda3/envs/nn/lib/python3.7/http/client.py\", line 1244, in request\n",
      "    self._send_request(method, url, body, headers, encode_chunked)\n",
      "  File \"/home/tadenoud/anaconda3/envs/nn/lib/python3.7/http/client.py\", line 1290, in _send_request\n",
      "    self.endheaders(body, encode_chunked=encode_chunked)\n",
      "  File \"/home/tadenoud/anaconda3/envs/nn/lib/python3.7/http/client.py\", line 1239, in endheaders\n",
      "    self._send_output(message_body, encode_chunked=encode_chunked)\n",
      "  File \"/home/tadenoud/anaconda3/envs/nn/lib/python3.7/http/client.py\", line 1026, in _send_output\n",
      "    self.send(msg)\n",
      "  File \"/home/tadenoud/anaconda3/envs/nn/lib/python3.7/http/client.py\", line 966, in send\n",
      "    self.connect()\n",
      "  File \"/home/tadenoud/anaconda3/envs/nn/lib/python3.7/site-packages/urllib3/connection.py\", line 184, in connect\n",
      "    conn = self._new_conn()\n",
      "  File \"/home/tadenoud/anaconda3/envs/nn/lib/python3.7/site-packages/urllib3/connection.py\", line 169, in _new_conn\n",
      "    self, \"Failed to establish a new connection: %s\" % e\n",
      "urllib3.exceptions.NewConnectionError: <urllib3.connection.HTTPConnection object at 0x7f09763d8fd0>: Failed to establish a new connection: [Errno 111] Connection refused\n",
      "\n",
      "During handling of the above exception, another exception occurred:\n",
      "\n",
      "Traceback (most recent call last):\n",
      "  File \"/home/tadenoud/anaconda3/envs/nn/lib/python3.7/site-packages/requests/adapters.py\", line 449, in send\n",
      "    timeout=timeout\n",
      "  File \"/home/tadenoud/anaconda3/envs/nn/lib/python3.7/site-packages/urllib3/connectionpool.py\", line 720, in urlopen\n",
      "    method, url, error=e, _pool=self, _stacktrace=sys.exc_info()[2]\n",
      "  File \"/home/tadenoud/anaconda3/envs/nn/lib/python3.7/site-packages/urllib3/util/retry.py\", line 436, in increment\n",
      "    raise MaxRetryError(_pool, url, error or ResponseError(cause))\n",
      "urllib3.exceptions.MaxRetryError: HTTPConnectionPool(host='localhost', port=8097): Max retries exceeded with url: /env/faster-rcnn (Caused by NewConnectionError('<urllib3.connection.HTTPConnection object at 0x7f09763d8fd0>: Failed to establish a new connection: [Errno 111] Connection refused'))\n",
      "\n",
      "During handling of the above exception, another exception occurred:\n",
      "\n",
      "Traceback (most recent call last):\n",
      "  File \"/home/tadenoud/anaconda3/envs/nn/lib/python3.7/site-packages/visdom/__init__.py\", line 711, in _send\n",
      "    data=json.dumps(msg),\n",
      "  File \"/home/tadenoud/anaconda3/envs/nn/lib/python3.7/site-packages/visdom/__init__.py\", line 677, in _handle_post\n",
      "    r = self.session.post(url, data=data)\n",
      "  File \"/home/tadenoud/anaconda3/envs/nn/lib/python3.7/site-packages/requests/sessions.py\", line 581, in post\n",
      "    return self.request('POST', url, data=data, json=json, **kwargs)\n",
      "  File \"/home/tadenoud/anaconda3/envs/nn/lib/python3.7/site-packages/requests/sessions.py\", line 533, in request\n",
      "    resp = self.send(prep, **send_kwargs)\n",
      "  File \"/home/tadenoud/anaconda3/envs/nn/lib/python3.7/site-packages/requests/sessions.py\", line 646, in send\n",
      "    r = adapter.send(request, **kwargs)\n",
      "  File \"/home/tadenoud/anaconda3/envs/nn/lib/python3.7/site-packages/requests/adapters.py\", line 516, in send\n",
      "    raise ConnectionError(e, request=request)\n",
      "requests.exceptions.ConnectionError: HTTPConnectionPool(host='localhost', port=8097): Max retries exceeded with url: /env/faster-rcnn (Caused by NewConnectionError('<urllib3.connection.HTTPConnection object at 0x7f09763d8fd0>: Failed to establish a new connection: [Errno 111] Connection refused'))\n",
      "[Errno 111] Connection refused\n"
     ]
    },
    {
     "name": "stdout",
     "output_type": "stream",
     "text": [
      "Exception in user code:\n",
      "------------------------------------------------------------\n"
     ]
    }
   ],
   "source": [
    "faster_rcnn = FasterRCNNVGG16()\n",
    "trainer = FasterRCNNTrainer(faster_rcnn).cuda()"
   ]
  },
  {
   "cell_type": "markdown",
   "metadata": {},
   "source": [
    "# Load model trained with caffe pretrained model"
   ]
  },
  {
   "cell_type": "code",
   "execution_count": 3,
   "metadata": {},
   "outputs": [
    {
     "name": "stdout",
     "output_type": "stream",
     "text": [
      "\u001b[0m\u001b[01;32mbaseline_results.pickle\u001b[0m*                 \u001b[01;32mkitti_features.pickle\u001b[0m*\r\n",
      "\u001b[01;32mfasterrcnn_04151829_0.6704369972064141\u001b[0m*  \u001b[01;32mmahal_cov.pickle\u001b[0m*\r\n",
      "\u001b[01;32mfasterrcnn_04151851_0.6877679369254311\u001b[0m*  \u001b[01;32mmahal_means.pickle\u001b[0m*\r\n",
      "\u001b[01;32mfasterrcnn_04151914_0.7164561623943497\u001b[0m*  \u001b[01;32mmahal_result.pickle\u001b[0m*\r\n",
      "\u001b[01;32mfasterrcnn_04151958_0.7435728692746989\u001b[0m*  \u001b[01;32mpred_bboxes_test.pickle\u001b[0m*\r\n",
      "\u001b[01;32mfasterrcnn_04152043_0.7459420675485349\u001b[0m*  \u001b[01;32mpred_bboxes_test_softmax.pickle\u001b[0m*\r\n",
      "\u001b[01;32mfasterrcnn_04152235_0.7462277363985176\u001b[0m*  \u001b[01;32mpred_labels_test.pickle\u001b[0m*\r\n",
      "\u001b[01;32mgt_bboxes_test.pickle\u001b[0m*                   \u001b[01;32mpred_labels_test_softmax.pickle\u001b[0m*\r\n",
      "\u001b[01;32mgt_difficults_test.pickle\u001b[0m*               \u001b[01;32mpred_scores_test.pickle\u001b[0m*\r\n",
      "\u001b[01;32mgt_labels.pickle\u001b[0m*                        \u001b[01;32mpred_scores_test_softmax.pickle\u001b[0m*\r\n",
      "\u001b[01;32mgt_labels_test.pickle\u001b[0m*                   \u001b[01;32mtsne_features.pickle\u001b[0m*\r\n",
      "\u001b[01;32minv_mahal_cov.pickle\u001b[0m*\r\n"
     ]
    }
   ],
   "source": [
    "%ls ./checkpoints/cars"
   ]
  },
  {
   "cell_type": "code",
   "execution_count": 4,
   "metadata": {},
   "outputs": [
    {
     "name": "stderr",
     "output_type": "stream",
     "text": [
      "/home/tadenoud/anaconda3/envs/nn/lib/python3.7/site-packages/torch/serialization.py:118: ResourceWarning: unclosed <socket.socket fd=81, family=AddressFamily.AF_INET, type=SocketKind.SOCK_STREAM, proto=6, laddr=('0.0.0.0', 42094)>\n",
      "  for _, _, fn in _package_registry:\n",
      "ResourceWarning: Enable tracemalloc to get the object allocation traceback\n"
     ]
    },
    {
     "data": {
      "text/plain": [
       "FasterRCNNTrainer(\n",
       "  (faster_rcnn): FasterRCNNVGG16(\n",
       "    (extractor): Sequential(\n",
       "      (0): Conv2d(3, 64, kernel_size=(3, 3), stride=(1, 1), padding=(1, 1))\n",
       "      (1): ReLU(inplace=True)\n",
       "      (2): Conv2d(64, 64, kernel_size=(3, 3), stride=(1, 1), padding=(1, 1))\n",
       "      (3): ReLU(inplace=True)\n",
       "      (4): MaxPool2d(kernel_size=2, stride=2, padding=0, dilation=1, ceil_mode=False)\n",
       "      (5): Conv2d(64, 128, kernel_size=(3, 3), stride=(1, 1), padding=(1, 1))\n",
       "      (6): ReLU(inplace=True)\n",
       "      (7): Conv2d(128, 128, kernel_size=(3, 3), stride=(1, 1), padding=(1, 1))\n",
       "      (8): ReLU(inplace=True)\n",
       "      (9): MaxPool2d(kernel_size=2, stride=2, padding=0, dilation=1, ceil_mode=False)\n",
       "      (10): Conv2d(128, 256, kernel_size=(3, 3), stride=(1, 1), padding=(1, 1))\n",
       "      (11): ReLU(inplace=True)\n",
       "      (12): Conv2d(256, 256, kernel_size=(3, 3), stride=(1, 1), padding=(1, 1))\n",
       "      (13): ReLU(inplace=True)\n",
       "      (14): Conv2d(256, 256, kernel_size=(3, 3), stride=(1, 1), padding=(1, 1))\n",
       "      (15): ReLU(inplace=True)\n",
       "      (16): MaxPool2d(kernel_size=2, stride=2, padding=0, dilation=1, ceil_mode=False)\n",
       "      (17): Conv2d(256, 512, kernel_size=(3, 3), stride=(1, 1), padding=(1, 1))\n",
       "      (18): ReLU(inplace=True)\n",
       "      (19): Conv2d(512, 512, kernel_size=(3, 3), stride=(1, 1), padding=(1, 1))\n",
       "      (20): ReLU(inplace=True)\n",
       "      (21): Conv2d(512, 512, kernel_size=(3, 3), stride=(1, 1), padding=(1, 1))\n",
       "      (22): ReLU(inplace=True)\n",
       "      (23): MaxPool2d(kernel_size=2, stride=2, padding=0, dilation=1, ceil_mode=False)\n",
       "      (24): Conv2d(512, 512, kernel_size=(3, 3), stride=(1, 1), padding=(1, 1))\n",
       "      (25): ReLU(inplace=True)\n",
       "      (26): Conv2d(512, 512, kernel_size=(3, 3), stride=(1, 1), padding=(1, 1))\n",
       "      (27): ReLU(inplace=True)\n",
       "      (28): Conv2d(512, 512, kernel_size=(3, 3), stride=(1, 1), padding=(1, 1))\n",
       "      (29): ReLU(inplace=True)\n",
       "    )\n",
       "    (rpn): RegionProposalNetwork(\n",
       "      (conv1): Conv2d(512, 512, kernel_size=(3, 3), stride=(1, 1), padding=(1, 1))\n",
       "      (score): Conv2d(512, 18, kernel_size=(1, 1), stride=(1, 1))\n",
       "      (loc): Conv2d(512, 36, kernel_size=(1, 1), stride=(1, 1))\n",
       "    )\n",
       "    (head): VGG16RoIHead(\n",
       "      (classifier): Sequential(\n",
       "        (0): Linear(in_features=25088, out_features=4096, bias=True)\n",
       "        (1): ReLU(inplace=True)\n",
       "        (2): Linear(in_features=4096, out_features=4096, bias=True)\n",
       "        (3): ReLU(inplace=True)\n",
       "      )\n",
       "      (cls_loc): Linear(in_features=4096, out_features=8, bias=True)\n",
       "      (score): Linear(in_features=4096, out_features=2, bias=True)\n",
       "      (roi): RoIPooling2D()\n",
       "    )\n",
       "  )\n",
       ")"
      ]
     },
     "execution_count": 4,
     "metadata": {},
     "output_type": "execute_result"
    }
   ],
   "source": [
    "save_dir = './checkpoints/cars'\n",
    "\n",
    "trainer.load(os.path.join(save_dir, 'fasterrcnn_04152235_0.7462277363985176'))"
   ]
  },
  {
   "cell_type": "markdown",
   "metadata": {},
   "source": [
    "### Test how many Rickshaws get detected as objects out of total in test set"
   ]
  },
  {
   "cell_type": "code",
   "execution_count": 5,
   "metadata": {},
   "outputs": [
    {
     "name": "stderr",
     "output_type": "stream",
     "text": [
      "/home/tadenoud/anaconda3/envs/nn/lib/python3.7/site-packages/ipykernel_launcher.py:4: ResourceWarning: unclosed file <_io.TextIOWrapper name='/media/tadenoud/DATADisk/datasets/idd_detection/IDD_Detection/train.txt' mode='r' encoding='UTF-8'>\n",
      "  after removing the cwd from sys.path.\n",
      "ResourceWarning: Enable tracemalloc to get the object allocation traceback\n",
      "/home/tadenoud/anaconda3/envs/nn/lib/python3.7/site-packages/ipykernel_launcher.py:4: ResourceWarning: unclosed file <_io.TextIOWrapper name='/media/tadenoud/DATADisk/datasets/idd_detection/IDD_Detection/val.txt' mode='r' encoding='UTF-8'>\n",
      "  after removing the cwd from sys.path.\n",
      "ResourceWarning: Enable tracemalloc to get the object allocation traceback\n"
     ]
    }
   ],
   "source": [
    "idd_dir = '/media/tadenoud/DATADisk/datasets/idd_detection/IDD_Detection/'\n",
    "\n",
    "def get_idd_img_paths(base_dir, image_set='train'):\n",
    "    imgs = open(os.path.join(base_dir, image_set+'.txt'), 'r').readlines()\n",
    "    return [os.path.join(base_dir, 'JPEGImages', f.strip()+'.jpg') for f in imgs]\n",
    "\n",
    "def get_idd_label_paths(base_dir, image_set='train'):\n",
    "    labels = open(os.path.join(base_dir, image_set+'.txt'), 'r').readlines()\n",
    "    return [os.path.join(base_dir, 'Annotations', f.strip()+'.xml') for f in labels]\n",
    "\n",
    "IDD_TRAIN_IMG_PATHS = get_idd_img_paths(idd_dir, image_set='train')\n",
    "IDD_TRAIN_LABEL_PATHS = get_idd_label_paths(idd_dir, image_set='train')\n",
    "IDD_VAL_IMG_PATHS = get_idd_img_paths(idd_dir, image_set='val')\n",
    "IDD_VAL_LABEL_PATHS = get_idd_label_paths(idd_dir, image_set='val')"
   ]
  },
  {
   "cell_type": "code",
   "execution_count": 6,
   "metadata": {},
   "outputs": [
    {
     "name": "stdout",
     "output_type": "stream",
     "text": [
      "Total of 10225 val images in IDD\n"
     ]
    }
   ],
   "source": [
    "print(\"Total of %d val images in IDD\" % len(IDD_VAL_IMG_PATHS))\n",
    "\n",
    "dset_length = len(IDD_VAL_IMG_PATHS)"
   ]
  },
  {
   "cell_type": "markdown",
   "metadata": {},
   "source": [
    "## IDD Val"
   ]
  },
  {
   "cell_type": "code",
   "execution_count": 7,
   "metadata": {},
   "outputs": [],
   "source": [
    "MIN_IOU_REQUIRED = 0.5\n",
    "NUM_PROPOSALS = 300"
   ]
  },
  {
   "cell_type": "code",
   "execution_count": 8,
   "metadata": {
    "scrolled": false
   },
   "outputs": [],
   "source": [
    "string_dt = h5py.string_dtype(encoding='utf-8')\n",
    "from utils.vis_tool import vis_bbox, vis_image\n",
    "from utils.idd_utils import IndiaDrivingDataset\n",
    "\n",
    "feature_layer_sizes = (512, 4096, 4096)\n",
    "\n",
    "data_dir = \"/media/tadenoud/DATADisk/datasets/idd_detection/IDD_Detection/\"\n",
    "dataset = IndiaDrivingDataset(data_dir, split='val')\n",
    "dataloader = DataLoader(dataset,\n",
    "                        batch_size=1,\n",
    "                        shuffle=False,\n",
    "                        pin_memory=True,\n",
    "                        num_workers=opt.num_workers)\n",
    "\n",
    "dset_length = len(dataset)\n",
    "\n",
    "comp_type = \"lzf\"\n",
    "if False:\n",
    "    with h5py.File(\"idd_cars_detections_val.hdf5\", \"w\") as f:\n",
    "        all_bboxes = f.create_dataset(\"pred_boxes\", (dset_length,NUM_PROPOSALS,4), dtype='f', compression=comp_type)\n",
    "        all_scores = f.create_dataset(\"pred_scores\", (dset_length,NUM_PROPOSALS), dtype='f', compression=comp_type)\n",
    "        all_classes = f.create_dataset(\"pred_labels\", (dset_length,NUM_PROPOSALS), dtype='i', compression=comp_type)\n",
    "        all_num_detections = f.create_dataset(\"pred_num_detections\", (dset_length,), dtype='i', compression=comp_type)\n",
    "        all_max_ious = f.create_dataset(\"pred_max_ious\", (dset_length,NUM_PROPOSALS), dtype='f', compression=comp_type) \n",
    "        all_pred_label_corrects = f.create_dataset(\"pred_label_correct\", (dset_length,NUM_PROPOSALS), dtype='b', compression=comp_type) \n",
    "        \n",
    "        all_features = [\n",
    "            f.create_dataset(\"pred_features_\" + str(i), (dset_length,NUM_PROPOSALS, size), dtype='f') \n",
    "            for i, size in enumerate(feature_layer_sizes)\n",
    "        ]\n",
    "        \n",
    "        for i, (imgs, gt_bboxes, gt_labels) in tqdm(enumerate(dataloader), total=dset_length):\n",
    "            gt_bboxes = gt_bboxes.squeeze(dim=0)\n",
    "            gt_labels = gt_labels.squeeze(dim=0)\n",
    "\n",
    "            # Get predictions and all classifier features\n",
    "            res = trainer.faster_rcnn.predict_with_features(imgs, visualize=True)\n",
    "            pred_bboxes, pred_labels, pred_scores, pred_features = res\n",
    "            pred_bboxes, pred_labels, pred_scores, pred_features = \\\n",
    "                    pred_bboxes[0], pred_labels[0], pred_scores[0], pred_features[0]\n",
    "            \n",
    "            ious = bbox_iou(pred_bboxes, np.concatenate((gt_bboxes, np.zeros((1,4)))))\n",
    "            max_ious = np.nan_to_num(ious.max(axis=1))\n",
    "                \n",
    "            max_aligned_gt_label = ious.argmax(axis=1)\n",
    "            true_label_per_pred = np.array([gt_labels[j] for j in max_aligned_gt_label])\n",
    "            pred_label_correct = true_label_per_pred == pred_labels\n",
    "            \n",
    "            # Write true_class, pred_class, pred_bboxes, pred_scores, num_detections, image_path, label_path\n",
    "            #       to file\n",
    "            # Everything is padded out to 100 detections to make h5py happy\n",
    "            pad_needed = NUM_PROPOSALS - len(pred_bboxes)\n",
    "            all_bboxes[i] = np.pad(pred_bboxes, ((0, pad_needed),(0,0)), mode='constant')\n",
    "            all_scores[i] = np.pad(pred_scores, ((0, pad_needed)), mode='constant')\n",
    "            all_classes[i] = np.pad(pred_labels, ((0, pad_needed)), mode='constant')\n",
    "            all_num_detections[i] = len(pred_bboxes)\n",
    "            all_max_ious[i] = np.pad(max_ious, ((0, pad_needed)), mode='constant')\n",
    "            all_pred_label_corrects[i] = np.pad(pred_label_correct, ((0, pad_needed)), mode='constant')\n",
    "            \n",
    "            for j in range(len(feature_layer_sizes)):\n",
    "                all_features[j][i] = np.pad(pred_features[j], ((0, pad_needed),(0,0)), mode='constant')"
   ]
  },
  {
   "cell_type": "code",
   "execution_count": 9,
   "metadata": {},
   "outputs": [
    {
     "data": {
      "image/png": "[encoded data removed]",
      "text/plain": [
       "<Figure size 432x288 with 1 Axes>"
      ]
     },
     "metadata": {
      "needs_background": "light"
     },
     "output_type": "display_data"
    },
    {
     "name": "stdout",
     "output_type": "stream",
     "text": [
      "Total false positives (< 0.50) IoU: 3366\n"
     ]
    }
   ],
   "source": [
    "def show_max_ious_dist(data_file):\n",
    "    total_false_positives = 0\n",
    "    all_max_ious = np.array([])\n",
    "\n",
    "    with h5py.File(data_file, \"r\") as f:\n",
    "        dset_length = len(f['pred_max_ious'])\n",
    "        for i in range(dset_length):\n",
    "            max_ious = f[\"pred_max_ious\"][i]\n",
    "            num_det = f[\"pred_num_detections\"][i]\n",
    "\n",
    "            # Remove boxes with no obj\n",
    "            max_ious = max_ious[:num_det]\n",
    "\n",
    "            false_positives = (max_ious < MIN_IOU_REQUIRED)\n",
    "            total_false_positives += sum(false_positives)\n",
    "\n",
    "            all_max_ious = np.concatenate((all_max_ious, max_ious), axis=0)\n",
    "\n",
    "    plt.hist(all_max_ious, bins=50)\n",
    "    plt.ylabel(\"Count\")\n",
    "    plt.xlabel(\"Max IOUS\")\n",
    "    plt.show()\n",
    "    \n",
    "    print(\"Total false positives (< %.2f) IoU: %d\" % (MIN_IOU_REQUIRED, total_false_positives))\n",
    "    \n",
    "show_max_ious_dist(\"idd_cars_detections_val.hdf5\")"
   ]
  },
  {
   "cell_type": "markdown",
   "metadata": {},
   "source": [
    "## IDD Train"
   ]
  },
  {
   "cell_type": "code",
   "execution_count": 23,
   "metadata": {},
   "outputs": [
    {
     "data": {
      "application/vnd.jupyter.widget-view+json": {
       "model_id": "9c773fdc4cd143ff88fda63642f113ef",
       "version_major": 2,
       "version_minor": 0
      },
      "text/plain": [
       "HBox(children=(IntProgress(value=0, max=31569), HTML(value='')))"
      ]
     },
     "metadata": {},
     "output_type": "display_data"
    },
    {
     "name": "stdout",
     "output_type": "stream",
     "text": [
      "\n"
     ]
    }
   ],
   "source": [
    "feature_layer_sizes = (512, 4096, 4096)\n",
    "\n",
    "data_dir = \"/media/tadenoud/DATADisk/datasets/idd_detection/IDD_Detection/\"\n",
    "dataset = IndiaDrivingDataset(data_dir, split='train')\n",
    "dataloader = DataLoader(dataset,\n",
    "                        batch_size=1,\n",
    "                        shuffle=False,\n",
    "                        pin_memory=True,\n",
    "                        num_workers=opt.num_workers)\n",
    "\n",
    "dset_length = len(dataset)\n",
    "\n",
    "comp_type = \"lzf\"\n",
    "if False:\n",
    "    with h5py.File(\"idd_cars_detections_train.hdf5\", \"w\") as f:\n",
    "        all_bboxes = f.create_dataset(\"pred_boxes\", (dset_length,NUM_PROPOSALS,4), dtype='f', compression=comp_type)\n",
    "        all_scores = f.create_dataset(\"pred_scores\", (dset_length,NUM_PROPOSALS), dtype='f', compression=comp_type)\n",
    "        all_classes = f.create_dataset(\"pred_labels\", (dset_length,NUM_PROPOSALS), dtype='i', compression=comp_type)\n",
    "        all_num_detections = f.create_dataset(\"pred_num_detections\", (dset_length,), dtype='i', compression=comp_type)\n",
    "        all_max_ious = f.create_dataset(\"pred_max_ious\", (dset_length,NUM_PROPOSALS), dtype='f', compression=comp_type) \n",
    "        all_pred_label_corrects = f.create_dataset(\"pred_label_correct\", (dset_length,NUM_PROPOSALS), dtype='b', compression=comp_type) \n",
    "        \n",
    "        all_features = [\n",
    "            f.create_dataset(\"pred_features_\" + str(i), (dset_length,NUM_PROPOSALS, size), dtype='f') \n",
    "            for i, size in enumerate(feature_layer_sizes)\n",
    "        ]\n",
    "        \n",
    "        for i, (imgs, gt_bboxes, gt_labels) in tqdm(enumerate(dataloader), total=dset_length):\n",
    "            gt_bboxes = gt_bboxes.squeeze(dim=0)\n",
    "            gt_labels = gt_labels.squeeze(dim=0)\n",
    "\n",
    "            # Get predictions and all classifier features\n",
    "            res = trainer.faster_rcnn.predict_with_features(imgs, visualize=True)\n",
    "            pred_bboxes, pred_labels, pred_scores, pred_features = res\n",
    "            pred_bboxes, pred_labels, pred_scores, pred_features = \\\n",
    "                    pred_bboxes[0], pred_labels[0], pred_scores[0], pred_features[0]\n",
    "            \n",
    "            ious = bbox_iou(pred_bboxes, np.concatenate((gt_bboxes, np.zeros((1,4)))))\n",
    "            max_ious = np.nan_to_num(ious.max(axis=1))\n",
    "                \n",
    "            max_aligned_gt_label = ious.argmax(axis=1)\n",
    "            true_label_per_pred = np.array([gt_labels[j] for j in max_aligned_gt_label])\n",
    "            pred_label_correct = true_label_per_pred == pred_labels\n",
    "            \n",
    "            # Write true_class, pred_class, pred_bboxes, pred_scores, num_detections, image_path, label_path\n",
    "            #       to file\n",
    "            # Everything is padded out to 100 detections to make h5py happy\n",
    "            pad_needed = NUM_PROPOSALS - len(pred_bboxes)\n",
    "            all_bboxes[i] = np.pad(pred_bboxes, ((0, pad_needed),(0,0)), mode='constant')\n",
    "            all_scores[i] = np.pad(pred_scores, ((0, pad_needed)), mode='constant')\n",
    "            all_classes[i] = np.pad(pred_labels, ((0, pad_needed)), mode='constant')\n",
    "            all_num_detections[i] = len(pred_bboxes)\n",
    "            all_max_ious[i] = np.pad(max_ious, ((0, pad_needed)), mode='constant')\n",
    "            all_pred_label_corrects[i] = np.pad(pred_label_correct, ((0, pad_needed)), mode='constant')\n",
    "            \n",
    "            for j in range(len(feature_layer_sizes)):\n",
    "                all_features[j][i] = np.pad(pred_features[j], ((0, pad_needed),(0,0)), mode='constant')"
   ]
  },
  {
   "cell_type": "code",
   "execution_count": 25,
   "metadata": {},
   "outputs": [
    {
     "data": {
      "image/png": "[encoded data removed]",
      "text/plain": [
       "<Figure size 432x288 with 1 Axes>"
      ]
     },
     "metadata": {
      "needs_background": "light"
     },
     "output_type": "display_data"
    },
    {
     "name": "stdout",
     "output_type": "stream",
     "text": [
      "Total false positives (< 0.50) IoU: 9931\n"
     ]
    }
   ],
   "source": [
    "show_max_ious_dist(\"idd_cars_detections_train.hdf5\")"
   ]
  },
  {
   "cell_type": "markdown",
   "metadata": {},
   "source": [
    "## Kitti Train"
   ]
  },
  {
   "cell_type": "code",
   "execution_count": 13,
   "metadata": {
    "scrolled": false
   },
   "outputs": [
    {
     "name": "stderr",
     "output_type": "stream",
     "text": [
      "/home/tadenoud/Git/simple-faster-rcnn-pytorch/data/voc_dataset.py:83: ResourceWarning: unclosed file <_io.TextIOWrapper name='/media/tadenoud/DATADisk/datasets/kitti_2d/VOC2012/ImageSets/Main/train.txt' mode='r' encoding='UTF-8'>\n",
      "  self.ids = [id_.strip() for id_ in open(id_list_file)]\n",
      "ResourceWarning: Enable tracemalloc to get the object allocation traceback\n"
     ]
    }
   ],
   "source": [
    "# string_dt = h5py.string_dtype(encoding='utf-8')\n",
    "from utils.vis_tool import vis_bbox, vis_image\n",
    "\n",
    "feature_layer_sizes = (512, 4096, 4096)\n",
    "\n",
    "opt.voc_data_dir = \"/media/tadenoud/DATADisk/datasets/kitti_2d/VOC2012/\"\n",
    "dataset = KittiDataset(opt, split='train')\n",
    "dataloader = DataLoader(dataset,\n",
    "                        batch_size=1,\n",
    "                        shuffle=False,\n",
    "                        pin_memory=True,\n",
    "                        num_workers=opt.num_workers)\n",
    "\n",
    "dset_length = opt.train_num\n",
    "\n",
    "comp_type = \"lzf\"\n",
    "if False:\n",
    "    with h5py.File(\"kitti_cars_detections_train.hdf5\", \"w\") as f:\n",
    "        all_bboxes = f.create_dataset(\"pred_boxes\", (dset_length,NUM_PROPOSALS,4), dtype='f', compression=comp_type)\n",
    "        all_scores = f.create_dataset(\"pred_scores\", (dset_length,NUM_PROPOSALS), dtype='f', compression=comp_type)\n",
    "        all_classes = f.create_dataset(\"pred_labels\", (dset_length,NUM_PROPOSALS), dtype='i', compression=comp_type)\n",
    "        all_num_detections = f.create_dataset(\"pred_num_detections\", (dset_length,), dtype='i', compression=comp_type)\n",
    "        all_max_ious = f.create_dataset(\"pred_max_ious\", (dset_length,NUM_PROPOSALS), dtype='f', compression=comp_type) \n",
    "        all_pred_label_corrects = f.create_dataset(\"pred_label_correct\", (dset_length,NUM_PROPOSALS), dtype='b', compression=comp_type) \n",
    "        \n",
    "        all_features = [\n",
    "            f.create_dataset(\"pred_features_\" + str(i), (dset_length,NUM_PROPOSALS, size), dtype='f') \n",
    "            for i, size in enumerate(feature_layer_sizes)\n",
    "        ]\n",
    "\n",
    "        for i, (imgs, sizes, gt_bboxes, gt_labels, _) in tqdm(enumerate(dataloader), total=opt.train_num):\n",
    "            sizes = [sizes[0][0].item(), sizes[1][0].item()]\n",
    "            gt_bboxes = gt_bboxes.squeeze(dim=0)\n",
    "            gt_labels = gt_labels.squeeze(dim=0)\n",
    "\n",
    "            # Get predictions and all classifier features\n",
    "            res = trainer.faster_rcnn.predict_with_features(imgs, visualize=True)\n",
    "            pred_bboxes, pred_labels, pred_scores, pred_features = res\n",
    "            pred_bboxes, pred_labels, pred_scores, pred_features = \\\n",
    "                    pred_bboxes[0], pred_labels[0], pred_scores[0], pred_features[0]\n",
    "            \n",
    "            ious = bbox_iou(pred_bboxes, np.concatenate((gt_bboxes, np.zeros((1,4)))))\n",
    "            max_ious = np.nan_to_num(ious.max(axis=1))\n",
    "\n",
    "#             vis_bbox(at.tonumpy(imgs[0]), at.tonumpy(gt_bboxes), at.tonumpy(gt_labels))\n",
    "#             plt.show()\n",
    "#             vis_bbox(at.tonumpy(imgs[0]), at.tonumpy(pred_bboxes), at.tonumpy(pred_labels), max_ious)\n",
    "#             plt.show()\n",
    "#             if input() == \"q\":\n",
    "#                 break\n",
    "                \n",
    "            max_aligned_gt_label = ious.argmax(axis=1)\n",
    "            true_label_per_pred = np.array([gt_labels[j] for j in max_aligned_gt_label])\n",
    "            pred_label_correct = true_label_per_pred == pred_labels\n",
    "            \n",
    "            # Write true_class, pred_class, pred_bboxes, pred_scores, num_detections, image_path, label_path\n",
    "            #       to file\n",
    "            # Everything is padded out to 100 detections to make h5py happy\n",
    "            pad_needed = NUM_PROPOSALS - len(pred_bboxes)\n",
    "            all_bboxes[i] = np.pad(pred_bboxes, ((0, pad_needed),(0,0)), mode='constant')\n",
    "            all_scores[i] = np.pad(pred_scores, ((0, pad_needed)), mode='constant')\n",
    "            all_classes[i] = np.pad(pred_labels, ((0, pad_needed)), mode='constant')\n",
    "            all_num_detections[i] = len(pred_bboxes)\n",
    "            all_max_ious[i] = np.pad(max_ious, ((0, pad_needed)), mode='constant')\n",
    "            all_pred_label_corrects[i] = np.pad(pred_label_correct, ((0, pad_needed)), mode='constant')\n",
    "            \n",
    "            for j in range(len(feature_layer_sizes)):\n",
    "                all_features[j][i] = np.pad(pred_features[j], ((0, pad_needed),(0,0)), mode='constant')"
   ]
  },
  {
   "cell_type": "code",
   "execution_count": 14,
   "metadata": {
    "scrolled": true
   },
   "outputs": [
    {
     "data": {
      "image/png": "[encoded data removed]",
      "text/plain": [
       "<Figure size 432x288 with 1 Axes>"
      ]
     },
     "metadata": {
      "needs_background": "light"
     },
     "output_type": "display_data"
    },
    {
     "name": "stdout",
     "output_type": "stream",
     "text": [
      "Total false positives (< 0.50) IoU: 3289\n"
     ]
    }
   ],
   "source": [
    "show_max_ious_dist(\"kitti_cars_detections_train.hdf5\")"
   ]
  },
  {
   "cell_type": "markdown",
   "metadata": {},
   "source": [
    "## Kitti Val"
   ]
  },
  {
   "cell_type": "code",
   "execution_count": 21,
   "metadata": {
    "scrolled": false
   },
   "outputs": [
    {
     "name": "stderr",
     "output_type": "stream",
     "text": [
      "/home/tadenoud/Git/simple-faster-rcnn-pytorch/data/voc_dataset.py:83: ResourceWarning: unclosed file <_io.TextIOWrapper name='/media/tadenoud/DATADisk/datasets/kitti_2d/VOC2012/ImageSets/Main/val.txt' mode='r' encoding='UTF-8'>\n",
      "  self.ids = [id_.strip() for id_ in open(id_list_file)]\n",
      "ResourceWarning: Enable tracemalloc to get the object allocation traceback\n"
     ]
    },
    {
     "data": {
      "application/vnd.jupyter.widget-view+json": {
       "model_id": "30d5b71957cc4281b859279d283adc05",
       "version_major": 2,
       "version_minor": 0
      },
      "text/plain": [
       "HBox(children=(IntProgress(value=0, max=3578), HTML(value='')))"
      ]
     },
     "metadata": {},
     "output_type": "display_data"
    },
    {
     "name": "stderr",
     "output_type": "stream",
     "text": [
      "/opt/conda/conda-bld/pytorch_1565272271120/work/torch/csrc/autograd/python_function.cpp:638: UserWarning: Legacy autograd function with non-static forward method is deprecated and will be removed in 1.3. Please use new-style autograd function with static forward method. (Example: https://pytorch.org/docs/stable/autograd.html#torch.autograd.Function)\n"
     ]
    },
    {
     "name": "stdout",
     "output_type": "stream",
     "text": [
      "\n"
     ]
    }
   ],
   "source": [
    "# string_dt = h5py.string_dtype(encoding='utf-8')\n",
    "from utils.vis_tool import vis_bbox, vis_image\n",
    "\n",
    "feature_layer_sizes = (512, 4096, 4096)\n",
    "\n",
    "opt.voc_data_dir = \"/media/tadenoud/DATADisk/datasets/kitti_2d/VOC2012/\"\n",
    "dataset = KittiDataset(opt, split='val')\n",
    "dataloader = DataLoader(dataset,\n",
    "                        batch_size=1,\n",
    "                        shuffle=False,\n",
    "                        pin_memory=True,\n",
    "                        num_workers=opt.num_workers)\n",
    "\n",
    "dset_length = len(dataset)\n",
    "\n",
    "comp_type = \"lzf\"\n",
    "if False:\n",
    "    with h5py.File(\"kitti_cars_detections_val.hdf5\", \"w\") as f:\n",
    "        all_bboxes = f.create_dataset(\"pred_boxes\", (dset_length,NUM_PROPOSALS,4), dtype='f', compression=comp_type)\n",
    "        all_scores = f.create_dataset(\"pred_scores\", (dset_length,NUM_PROPOSALS), dtype='f', compression=comp_type)\n",
    "        all_classes = f.create_dataset(\"pred_labels\", (dset_length,NUM_PROPOSALS), dtype='i', compression=comp_type)\n",
    "        all_num_detections = f.create_dataset(\"pred_num_detections\", (dset_length,), dtype='i', compression=comp_type)\n",
    "        all_max_ious = f.create_dataset(\"pred_max_ious\", (dset_length,NUM_PROPOSALS), dtype='f', compression=comp_type) \n",
    "        all_pred_label_corrects = f.create_dataset(\"pred_label_correct\", (dset_length,NUM_PROPOSALS), dtype='b', compression=comp_type) \n",
    "        \n",
    "        all_features = [\n",
    "            f.create_dataset(\"pred_features_\" + str(i), (dset_length,NUM_PROPOSALS, size), dtype='f') \n",
    "            for i, size in enumerate(feature_layer_sizes)\n",
    "        ]\n",
    "\n",
    "        for i, (imgs, sizes, gt_bboxes, gt_labels, _) in tqdm(enumerate(dataloader), total=dset_length):\n",
    "            sizes = [sizes[0][0].item(), sizes[1][0].item()]\n",
    "            gt_bboxes = gt_bboxes.squeeze(dim=0)\n",
    "            gt_labels = gt_labels.squeeze(dim=0)\n",
    "\n",
    "            # Get predictions and all classifier features\n",
    "            res = trainer.faster_rcnn.predict_with_features(imgs, visualize=True)\n",
    "            pred_bboxes, pred_labels, pred_scores, pred_features = res\n",
    "            pred_bboxes, pred_labels, pred_scores, pred_features = \\\n",
    "                    pred_bboxes[0], pred_labels[0], pred_scores[0], pred_features[0]\n",
    "            \n",
    "            ious = bbox_iou(pred_bboxes, np.concatenate((gt_bboxes, np.zeros((1,4)))))\n",
    "            max_ious = np.nan_to_num(ious.max(axis=1))\n",
    "\n",
    "#             vis_bbox(at.tonumpy(imgs[0]), at.tonumpy(gt_bboxes), at.tonumpy(gt_labels))\n",
    "#             plt.show()\n",
    "#             vis_bbox(at.tonumpy(imgs[0]), at.tonumpy(pred_bboxes), at.tonumpy(pred_labels), max_ious)\n",
    "#             plt.show()\n",
    "#             if input() == \"q\":\n",
    "#                 break\n",
    "                \n",
    "            max_aligned_gt_label = ious.argmax(axis=1)\n",
    "            true_label_per_pred = np.array([gt_labels[j] for j in max_aligned_gt_label])\n",
    "            pred_label_correct = true_label_per_pred == pred_labels\n",
    "            \n",
    "            # Write true_class, pred_class, pred_bboxes, pred_scores, num_detections, image_path, label_path\n",
    "            #       to file\n",
    "            # Everything is padded out to 100 detections to make h5py happy\n",
    "            pad_needed = NUM_PROPOSALS - len(pred_bboxes)\n",
    "            all_bboxes[i] = np.pad(pred_bboxes, ((0, pad_needed),(0,0)), mode='constant')\n",
    "            all_scores[i] = np.pad(pred_scores, ((0, pad_needed)), mode='constant')\n",
    "            all_classes[i] = np.pad(pred_labels, ((0, pad_needed)), mode='constant')\n",
    "            all_num_detections[i] = len(pred_bboxes)\n",
    "            all_max_ious[i] = np.pad(max_ious, ((0, pad_needed)), mode='constant')\n",
    "            all_pred_label_corrects[i] = np.pad(pred_label_correct, ((0, pad_needed)), mode='constant')\n",
    "            \n",
    "            for j in range(len(feature_layer_sizes)):\n",
    "                all_features[j][i] = np.pad(pred_features[j], ((0, pad_needed),(0,0)), mode='constant')"
   ]
  },
  {
   "cell_type": "code",
   "execution_count": 22,
   "metadata": {
    "scrolled": true
   },
   "outputs": [
    {
     "data": {
      "image/png": "[encoded data removed]",
      "text/plain": [
       "<Figure size 432x288 with 1 Axes>"
      ]
     },
     "metadata": {
      "needs_background": "light"
     },
     "output_type": "display_data"
    },
    {
     "name": "stdout",
     "output_type": "stream",
     "text": [
      "Total false positives (< 0.50) IoU: 3638\n"
     ]
    }
   ],
   "source": [
    "show_max_ious_dist(\"kitti_cars_detections_val.hdf5\")"
   ]
  },
  {
   "cell_type": "markdown",
   "metadata": {},
   "source": [
    "# Train One-Class SVM on Kitti features (Conv-512 layer)"
   ]
  },
  {
   "cell_type": "code",
   "execution_count": 15,
   "metadata": {},
   "outputs": [],
   "source": [
    "# Create a test dataset from IDD val to see if the SVM can rank TP and FP correctly given one-class novelty score\n",
    "\n",
    "kitti_train_X = np.empty((0,512))\n",
    "kitti_train_y = np.empty((0,))\n",
    "\n",
    "with h5py.File(\"kitti_cars_detections_train.hdf5\", \"r\") as f:\n",
    "    all_labels = f[\"pred_labels\"]\n",
    "    all_num_detections = f[\"pred_num_detections\"]\n",
    "    all_max_ious = f[\"pred_max_ious\"]\n",
    "    all_pred_label_corrects = f[\"pred_label_correct\"]\n",
    "    all_features = f[\"pred_features_0\"]\n",
    "    # all_features = [f[\"pred_features_\" + str(i)] for i in range(len(feature_layer_sizes))]\n",
    "    \n",
    "    for i, num_detections in enumerate(all_num_detections):\n",
    "        labels = all_labels[i][:num_detections]\n",
    "        max_ious = all_max_ious[i][:num_detections]\n",
    "        correct_classification = all_pred_label_corrects[i][:num_detections]\n",
    "        features = all_features[i][:num_detections]\n",
    "        \n",
    "        label_is_car = labels == 0\n",
    "        iou_is_high_enough = max_ious >= MIN_IOU_REQUIRED\n",
    "        classification_is_correct = correct_classification == 1\n",
    "        \n",
    "        # Save the features that meet the high quality criteria\n",
    "        mask = label_is_car & iou_is_high_enough & classification_is_correct\n",
    "        \n",
    "        kitti_train_X = np.concatenate((kitti_train_X, features), axis=0)\n",
    "        kitti_train_y = np.concatenate((kitti_train_y, mask.astype(np.int)), axis=0)"
   ]
  },
  {
   "cell_type": "code",
   "execution_count": 16,
   "metadata": {},
   "outputs": [
    {
     "name": "stdout",
     "output_type": "stream",
     "text": [
      "Collected 11481 train samples of size 512\n"
     ]
    },
    {
     "name": "stderr",
     "output_type": "stream",
     "text": [
      "/home/tadenoud/anaconda3/envs/nn/lib/python3.7/importlib/_bootstrap.py:219: RuntimeWarning: numpy.ufunc size changed, may indicate binary incompatibility. Expected 192 from C header, got 216 from PyObject\n",
      "  return f(*args, **kwds)\n",
      "/home/tadenoud/anaconda3/envs/nn/lib/python3.7/importlib/_bootstrap.py:219: RuntimeWarning: numpy.ufunc size changed, may indicate binary incompatibility. Expected 192 from C header, got 216 from PyObject\n",
      "  return f(*args, **kwds)\n"
     ]
    }
   ],
   "source": [
    "# Train a one-class SVM networks with those features\n",
    "from sklearn import svm\n",
    "import pickle\n",
    "\n",
    "ONE_CLASS_SAVE_PATH = \"kitti-conv-512-one-class.pickle\"\n",
    "    \n",
    "training_mask = kitti_train_y.astype(np.bool)\n",
    "\n",
    "print(\"Collected %d train samples of size %d\" % kitti_train_X[training_mask].shape)\n",
    "\n",
    "if False:\n",
    "    clf = svm.OneClassSVM(nu=0.1, kernel=\"rbf\", gamma=0.1)\n",
    "\n",
    "    # Use only correct detections for training\n",
    "    clf.fit(kitti_train_X[training_mask])\n",
    "\n",
    "    y_pred_train = clf.predict(kitti_train_X[training_mask])\n",
    "\n",
    "    n_error_train = y_pred_train[y_pred_train == -1].size\n",
    "    print(n_error_train)\n",
    "    \n",
    "    with open(ONE_CLASS_SAVE_PATH, 'wb') as f:\n",
    "        pickle.dump(clf, f)\n",
    "else:\n",
    "    with open(ONE_CLASS_SAVE_PATH, 'rb') as f:\n",
    "        clf = pickle.load(f)"
   ]
  },
  {
   "cell_type": "markdown",
   "metadata": {},
   "source": [
    "## Detecting false positives in the Kitti Training images"
   ]
  },
  {
   "cell_type": "code",
   "execution_count": 17,
   "metadata": {},
   "outputs": [
    {
     "data": {
      "image/png": "[encoded data removed]",
      "text/plain": [
       "<Figure size 432x288 with 1 Axes>"
      ]
     },
     "metadata": {
      "needs_background": "light"
     },
     "output_type": "display_data"
    }
   ],
   "source": [
    "from ood_metrics import auroc, plot_roc\n",
    "\n",
    "kitti_train_novelty_scores = clf.decision_function(kitti_train_X)\n",
    "plot_roc(kitti_train_novelty_scores, kitti_train_y)"
   ]
  },
  {
   "cell_type": "markdown",
   "metadata": {},
   "source": [
    "## Detecting false positives in the IDD Validation images"
   ]
  },
  {
   "cell_type": "code",
   "execution_count": 23,
   "metadata": {},
   "outputs": [],
   "source": [
    "# Create a test dataset from IDD val to see if the SVM can rank TP and FP correctly given one-class novelty score\n",
    "\n",
    "idd_val_X = np.empty((0,512))\n",
    "idd_val_y = np.empty((0,))\n",
    "\n",
    "with h5py.File(\"idd_cars_detections_val.hdf5\", \"r\") as f:\n",
    "    all_labels = f[\"pred_labels\"]\n",
    "    all_num_detections = f[\"pred_num_detections\"]\n",
    "    all_max_ious = f[\"pred_max_ious\"]\n",
    "    all_pred_label_corrects = f[\"pred_label_correct\"]\n",
    "    all_features = f[\"pred_features_0\"]\n",
    "    # all_features = [f[\"pred_features_\" + str(i)] for i in range(len(feature_layer_sizes))]\n",
    "    \n",
    "    for i, num_detections in enumerate(all_num_detections):\n",
    "        labels = all_labels[i][:num_detections]\n",
    "        max_ious = all_max_ious[i][:num_detections]\n",
    "        correct_classification = all_pred_label_corrects[i][:num_detections]\n",
    "        features = all_features[i][:num_detections]\n",
    "        \n",
    "        label_is_car = labels == 0\n",
    "        iou_is_high_enough = max_ious >= MIN_IOU_REQUIRED\n",
    "        classification_is_correct = correct_classification == 1\n",
    "        \n",
    "        # Save the features that meet the high quality criteria\n",
    "        mask = label_is_car & iou_is_high_enough & classification_is_correct\n",
    "        \n",
    "        idd_val_X = np.concatenate((idd_val_X, features), axis=0)\n",
    "        idd_val_y = np.concatenate((idd_val_y, mask.astype(np.int)), axis=0)"
   ]
  },
  {
   "cell_type": "code",
   "execution_count": 24,
   "metadata": {},
   "outputs": [
    {
     "data": {
      "image/png": "[encoded data removed]",
      "text/plain": [
       "<Figure size 432x288 with 1 Axes>"
      ]
     },
     "metadata": {
      "needs_background": "light"
     },
     "output_type": "display_data"
    }
   ],
   "source": [
    "idd_val_novelty_scores = clf.decision_function(idd_val_X)\n",
    "plot_roc(idd_val_novelty_scores, idd_val_y)"
   ]
  },
  {
   "cell_type": "markdown",
   "metadata": {},
   "source": [
    "## Detecting false positives in the IDD Train images"
   ]
  },
  {
   "cell_type": "code",
   "execution_count": null,
   "metadata": {},
   "outputs": [],
   "source": [
    "# Create a test dataset from IDD val to see if the SVM can rank TP and FP correctly given one-class novelty score\n",
    "\n",
    "idd_train_X = np.empty((0,512))\n",
    "idd_train_y = np.empty((0,))\n",
    "\n",
    "with h5py.File(\"idd_cars_detections_train.hdf5\", \"r\") as f:\n",
    "    all_labels = f[\"pred_labels\"]\n",
    "    all_num_detections = f[\"pred_num_detections\"]\n",
    "    all_max_ious = f[\"pred_max_ious\"]\n",
    "    all_pred_label_corrects = f[\"pred_label_correct\"]\n",
    "    all_features = f[\"pred_features_0\"]\n",
    "    # all_features = [f[\"pred_features_\" + str(i)] for i in range(len(feature_layer_sizes))]\n",
    "    \n",
    "    for i, num_detections in enumerate(all_num_detections):\n",
    "        labels = all_labels[i][:num_detections]\n",
    "        max_ious = all_max_ious[i][:num_detections]\n",
    "        correct_classification = all_pred_label_corrects[i][:num_detections]\n",
    "        features = all_features[i][:num_detections]\n",
    "        \n",
    "        label_is_car = labels == 0\n",
    "        iou_is_high_enough = max_ious >= MIN_IOU_REQUIRED\n",
    "        classification_is_correct = correct_classification == 1\n",
    "        \n",
    "        # Save the features that meet the high quality criteria\n",
    "        mask = label_is_car & iou_is_high_enough & classification_is_correct\n",
    "        \n",
    "        idd_train_X = np.concatenate((idd_train_X, features), axis=0)\n",
    "        idd_train_y = np.concatenate((idd_train_y, mask.astype(np.int)), axis=0)"
   ]
  },
  {
   "cell_type": "code",
   "execution_count": null,
   "metadata": {
    "scrolled": true
   },
   "outputs": [],
   "source": [
    "idd_train_novelty_scores = clf.decision_function(idd_train_X)\n",
    "plot_roc(idd_train_novelty_scores, idd_train_y)"
   ]
  },
  {
   "cell_type": "code",
   "execution_count": null,
   "metadata": {},
   "outputs": [],
   "source": []
  },
  {
   "cell_type": "markdown",
   "metadata": {},
   "source": [
    "### TODO:\n",
    "\n",
    "- ~~Make a Pytorch dataset class for IDD~~\n",
    "- ~~Train SVM models with extracted features~~\n",
    "- Improve data structure for saving features\n",
    "    - Less space requirement via hdf5 dataset per image\n",
    "\n",
    "- ~~Resolve bi-modal kitti max IOU (bug? wrong loader? BG class?)~~"
   ]
  },
  {
   "cell_type": "code",
   "execution_count": null,
   "metadata": {},
   "outputs": [],
   "source": []
  },
  {
   "cell_type": "code",
   "execution_count": null,
   "metadata": {},
   "outputs": [],
   "source": []
  },
  {
   "cell_type": "code",
   "execution_count": null,
   "metadata": {},
   "outputs": [],
   "source": []
  },
  {
   "cell_type": "code",
   "execution_count": null,
   "metadata": {},
   "outputs": [],
   "source": []
  },
  {
   "cell_type": "code",
   "execution_count": null,
   "metadata": {},
   "outputs": [],
   "source": []
  },
  {
   "cell_type": "code",
   "execution_count": null,
   "metadata": {},
   "outputs": [],
   "source": []
  },
  {
   "cell_type": "markdown",
   "metadata": {},
   "source": [
    "# Train One-Class SVM on Kitti features (FC-4096 (#1) layer) "
   ]
  },
  {
   "cell_type": "code",
   "execution_count": 15,
   "metadata": {},
   "outputs": [],
   "source": [
    "# Create a test dataset from IDD val to see if the SVM can rank TP and FP correctly given one-class novelty score\n",
    "\n",
    "kitti_train_X = np.empty((0,4096))\n",
    "kitti_train_y = np.empty((0,))\n",
    "\n",
    "with h5py.File(\"kitti_cars_detections_train.hdf5\", \"r\") as f:\n",
    "    all_labels = f[\"pred_labels\"]\n",
    "    all_num_detections = f[\"pred_num_detections\"]\n",
    "    all_max_ious = f[\"pred_max_ious\"]\n",
    "    all_pred_label_corrects = f[\"pred_label_correct\"]\n",
    "    all_features = f[\"pred_features_1\"]\n",
    "    # all_features = [f[\"pred_features_\" + str(i)] for i in range(len(feature_layer_sizes))]\n",
    "    \n",
    "    for i, num_detections in enumerate(all_num_detections):\n",
    "        labels = all_labels[i][:num_detections]\n",
    "        max_ious = all_max_ious[i][:num_detections]\n",
    "        correct_classification = all_pred_label_corrects[i][:num_detections]\n",
    "        features = all_features[i][:num_detections]\n",
    "        \n",
    "        label_is_car = labels == 0\n",
    "        iou_is_high_enough = max_ious >= MIN_IOU_REQUIRED\n",
    "        classification_is_correct = correct_classification == 1\n",
    "        \n",
    "        # Save the features that meet the high quality criteria\n",
    "        mask = label_is_car & iou_is_high_enough & classification_is_correct\n",
    "        \n",
    "        kitti_train_X = np.concatenate((kitti_train_X, features), axis=0)\n",
    "        kitti_train_y = np.concatenate((kitti_train_y, mask.astype(np.int)), axis=0)"
   ]
  },
  {
   "cell_type": "code",
   "execution_count": 17,
   "metadata": {},
   "outputs": [
    {
     "name": "stdout",
     "output_type": "stream",
     "text": [
      "Collected 11481 train samples of size 4096\n",
      "6924\n"
     ]
    }
   ],
   "source": [
    "# Train a one-class SVM networks with those features\n",
    "from sklearn import svm\n",
    "import pickle\n",
    "\n",
    "ONE_CLASS_SAVE_PATH = \"kitti-fc-4096-1-one-class.pickle\"\n",
    "    \n",
    "training_mask = kitti_train_y.astype(np.bool)\n",
    "\n",
    "print(\"Collected %d train samples of size %d\" % kitti_train_X[training_mask].shape)\n",
    "\n",
    "if False:\n",
    "    clf = svm.OneClassSVM(nu=0.1, kernel=\"rbf\", gamma=0.1)\n",
    "\n",
    "    # Use only correct detections for training\n",
    "    clf.fit(kitti_train_X[training_mask])\n",
    "\n",
    "    y_pred_train = clf.predict(kitti_train_X[training_mask])\n",
    "\n",
    "    n_error_train = y_pred_train[y_pred_train == -1].size\n",
    "    print(n_error_train)\n",
    "    \n",
    "    with open(ONE_CLASS_SAVE_PATH, 'wb') as f:\n",
    "        pickle.dump(clf, f)\n",
    "else:\n",
    "    with open(ONE_CLASS_SAVE_PATH, 'rb') as f:\n",
    "        clf = pickle.load(f)"
   ]
  },
  {
   "cell_type": "markdown",
   "metadata": {},
   "source": [
    "## Detecting false positives in the Kitti Training images"
   ]
  },
  {
   "cell_type": "code",
   "execution_count": 18,
   "metadata": {},
   "outputs": [
    {
     "data": {
      "image/png": "[encoded data removed]",
      "text/plain": [
       "<Figure size 432x288 with 1 Axes>"
      ]
     },
     "metadata": {
      "needs_background": "light"
     },
     "output_type": "display_data"
    }
   ],
   "source": [
    "from ood_metrics import auroc, plot_roc\n",
    "\n",
    "kitti_train_novelty_scores = clf.decision_function(kitti_train_X)\n",
    "plot_roc(kitti_train_novelty_scores, kitti_train_y)"
   ]
  },
  {
   "cell_type": "markdown",
   "metadata": {},
   "source": [
    "## Detecting false positives in the IDD Validation images"
   ]
  },
  {
   "cell_type": "code",
   "execution_count": 19,
   "metadata": {},
   "outputs": [],
   "source": [
    "# Create a test dataset from IDD val to see if the SVM can rank TP and FP correctly given one-class novelty score\n",
    "\n",
    "idd_val_X = np.empty((0,4096))\n",
    "idd_val_y = np.empty((0,))\n",
    "\n",
    "with h5py.File(\"idd_cars_detections_val.hdf5\", \"r\") as f:\n",
    "    all_labels = f[\"pred_labels\"]\n",
    "    all_num_detections = f[\"pred_num_detections\"]\n",
    "    all_max_ious = f[\"pred_max_ious\"]\n",
    "    all_pred_label_corrects = f[\"pred_label_correct\"]\n",
    "    all_features = f[\"pred_features_1\"]\n",
    "    # all_features = [f[\"pred_features_\" + str(i)] for i in range(len(feature_layer_sizes))]\n",
    "    \n",
    "    for i, num_detections in enumerate(all_num_detections):\n",
    "        labels = all_labels[i][:num_detections]\n",
    "        max_ious = all_max_ious[i][:num_detections]\n",
    "        correct_classification = all_pred_label_corrects[i][:num_detections]\n",
    "        features = all_features[i][:num_detections]\n",
    "        \n",
    "        label_is_car = labels == 0\n",
    "        iou_is_high_enough = max_ious >= MIN_IOU_REQUIRED\n",
    "        classification_is_correct = correct_classification == 1\n",
    "        \n",
    "        # Save the features that meet the high quality criteria\n",
    "        mask = label_is_car & iou_is_high_enough & classification_is_correct\n",
    "        \n",
    "        idd_val_X = np.concatenate((idd_val_X, features), axis=0)\n",
    "        idd_val_y = np.concatenate((idd_val_y, mask.astype(np.int)), axis=0)"
   ]
  },
  {
   "cell_type": "code",
   "execution_count": 20,
   "metadata": {},
   "outputs": [
    {
     "data": {
      "image/png": "[encoded data removed]",
      "text/plain": [
       "<Figure size 432x288 with 1 Axes>"
      ]
     },
     "metadata": {
      "needs_background": "light"
     },
     "output_type": "display_data"
    }
   ],
   "source": [
    "idd_val_novelty_scores = clf.decision_function(idd_val_X)\n",
    "plot_roc(idd_val_novelty_scores, idd_val_y)"
   ]
  },
  {
   "cell_type": "code",
   "execution_count": null,
   "metadata": {},
   "outputs": [],
   "source": []
  }
 ],
 "metadata": {
  "kernelspec": {
   "display_name": "Python 3",
   "language": "python",
   "name": "python3"
  },
  "language_info": {
   "codemirror_mode": {
    "name": "ipython",
    "version": 3
   },
   "file_extension": ".py",
   "mimetype": "text/x-python",
   "name": "python",
   "nbconvert_exporter": "python",
   "pygments_lexer": "ipython3",
   "version": "3.7.4"
  }
 },
 "nbformat": 4,
 "nbformat_minor": 2
}
