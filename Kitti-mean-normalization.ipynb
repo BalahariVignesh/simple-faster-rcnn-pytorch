{
 "cells": [
  {
   "cell_type": "code",
   "execution_count": 125,
   "metadata": {},
   "outputs": [],
   "source": [
    "from __future__ import  absolute_import\n",
    "from __future__ import  division\n",
    "import torch as t\n",
    "from data.voc_dataset import VOCBboxDataset\n",
    "from skimage import transform as sktsf\n",
    "from torchvision import transforms as tvtsf\n",
    "from data import util\n",
    "import numpy as np\n",
    "from utils.config import opt\n",
    "\n",
    "def normalize(img):\n",
    "    \"\"\"\n",
    "    return appr -125-125 BGR\n",
    "    \"\"\"\n",
    "    img = img[[2, 1, 0], :, :]  # RGB-BGR\n",
    "    mean = np.array([122.7717, 115.9465, 102.9801]).reshape(3, 1, 1)\n",
    "\n",
    "    img = (img - mean).astype(np.float32, copy=True)\n",
    "    return img\n",
    "\n",
    "class Dataset:\n",
    "    def __init__(self, opt, split='train', img_type='png'):\n",
    "        self.opt = opt\n",
    "        self.db = VOCBboxDataset(opt.voc_data_dir, split=split, img_type=img_type)\n",
    "\n",
    "    def __getitem__(self, idx):\n",
    "        ori_img, bbox, label, difficult = self.db.get_example(idx)\n",
    "#         img = normalize(ori_img)\n",
    "        img = ori_img\n",
    "    \n",
    "        return img.copy()\n",
    "\n",
    "    def __len__(self):\n",
    "        return len(self.db)"
   ]
  },
  {
   "cell_type": "code",
   "execution_count": 126,
   "metadata": {},
   "outputs": [],
   "source": [
    "def calc_means_stdev(dataset):\n",
    "    channel_sums = np.zeros((3))\n",
    "    sq_channel_sums = np.zeros((3))\n",
    "    n = 0\n",
    "\n",
    "    for i in range(len(dataset)):\n",
    "        img = dataset[i]\n",
    "        img_sq = img**2\n",
    "        c, w, h = img.shape\n",
    "\n",
    "        n += w * h\n",
    "        channel_sums += np.sum(img, axis=(1,2))\n",
    "        sq_channel_sums += np.sum(img_sq, axis=(1,2))\n",
    "    \n",
    "    means = channel_sums / n\n",
    "    variance = ((n*sq_channel_sums) - (channel_sums**2)) / (n*n)\n",
    "    stdev = np.sqrt(variance)\n",
    "    \n",
    "    return means, stdev"
   ]
  },
  {
   "cell_type": "markdown",
   "metadata": {},
   "source": [
    "## KITTI train"
   ]
  },
  {
   "cell_type": "code",
   "execution_count": 129,
   "metadata": {},
   "outputs": [
    {
     "name": "stdout",
     "output_type": "stream",
     "text": [
      "BGR means [93.58779838 97.81602497 92.86639532]\n",
      "BGR stdev [80.9433865  79.54839174 78.36423657]\n"
     ]
    }
   ],
   "source": [
    "opt.voc_data_dir = '/media/tadenoud/DATADisk/datasets/kitti_2d/VOC2012/'\n",
    "dataset = Dataset(opt, split='train')\n",
    "kitti_means, kitti_stdev = calc_means_stdev(dataset)\n",
    "\n",
    "print(\"BGR means\", kitti_means[::-1])\n",
    "print(\"BGR stdev\", kitti_stdev[::-1])"
   ]
  },
  {
   "cell_type": "markdown",
   "metadata": {},
   "source": [
    "## PascalVOC trainval"
   ]
  },
  {
   "cell_type": "code",
   "execution_count": 130,
   "metadata": {},
   "outputs": [
    {
     "name": "stdout",
     "output_type": "stream",
     "text": [
      "BGR means [ 99.89283101 108.29856793 114.35074658]\n",
      "BGR stdev [72.46183777 69.24872388 70.12118565]\n"
     ]
    }
   ],
   "source": [
    "opt.voc_data_dir = '/home/tadenoud/Git/simple-faster-rcnn-pytorch/VOCdevkit/VOC2007/'\n",
    "dataset = Dataset(opt, split='trainval', img_type='jpg')\n",
    "pascal_means, pascal_stdev = calc_means_stdev(dataset)\n",
    "\n",
    "print(\"BGR means\", pascal_means[::-1])\n",
    "print(\"BGR stdev\", pascal_stdev[::-1])"
   ]
  },
  {
   "cell_type": "code",
   "execution_count": 133,
   "metadata": {},
   "outputs": [
    {
     "data": {
      "text/plain": [
       "array([ -6.30503262, -10.48254296, -21.48435125])"
      ]
     },
     "execution_count": 133,
     "metadata": {},
     "output_type": "execute_result"
    }
   ],
   "source": [
    "(kitti_means - pascal_means)[::-1]"
   ]
  },
  {
   "cell_type": "markdown",
   "metadata": {},
   "source": [
    "## Calculate Kitti correction factor"
   ]
  },
  {
   "cell_type": "code",
   "execution_count": null,
   "metadata": {},
   "outputs": [],
   "source": [
    "old_means = np.array([122.7717, 115.9465, 102.9801])"
   ]
  }
 ],
 "metadata": {
  "kernelspec": {
   "display_name": "Python 3",
   "language": "python",
   "name": "python3"
  },
  "language_info": {
   "codemirror_mode": {
    "name": "ipython",
    "version": 3
   },
   "file_extension": ".py",
   "mimetype": "text/x-python",
   "name": "python",
   "nbconvert_exporter": "python",
   "pygments_lexer": "ipython3",
   "version": "3.5.2"
  }
 },
 "nbformat": 4,
 "nbformat_minor": 2
}
