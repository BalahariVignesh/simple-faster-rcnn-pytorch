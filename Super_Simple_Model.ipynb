{
 "cells": [
  {
   "cell_type": "code",
   "execution_count": 2,
   "metadata": {},
   "outputs": [],
   "source": [
    "%matplotlib inline\n",
    "\n",
    "from torch import nn\n",
    "import torch.nn.functional as F\n",
    "import numpy as np\n",
    "import matplotlib.pyplot as plt"
   ]
  },
  {
   "cell_type": "code",
   "execution_count": 5,
   "metadata": {},
   "outputs": [],
   "source": [
    "class dummy_model(nn.Module):\n",
    "    def __init__(self):\n",
    "        super().__init__()\n",
    "        pass\n",
    "    \n",
    "    def feature_extractor(self):\n",
    "        \"\"\"\n",
    "        Returns a feature space representation of the input image.\n",
    "        \"\"\"\n",
    "    \n",
    "    def rpn(self, n=300):\n",
    "        \"\"\"\n",
    "        Given the feature space representation, return n object proposals.\n",
    "        \"\"\"\n",
    "        pass\n",
    "    \n",
    "    def head(self):\n",
    "        \"\"\"\n",
    "        Given the feature space representation and object proposals, predict\n",
    "            class for each proposal and regress boundaries.\n",
    "        \"\"\"\n",
    "        pass\n",
    "    \n",
    "    def forward(self):\n",
    "        \"\"\"\n",
    "        Given an image, predict FG objects with labels and regressed bounding boxes\n",
    "        \"\"\"\n",
    "        pass\n",
    "    \n",
    "    def save_weights(self):\n",
    "        pass\n",
    "    \n",
    "    def load_weights(self):\n",
    "        pass\n",
    "    \n",
    "    def predict(self, *args, **kwargs):\n",
    "        return self.forward(args, kwargs)"
   ]
  },
  {
   "cell_type": "code",
   "execution_count": null,
   "metadata": {},
   "outputs": [],
   "source": []
  }
 ],
 "metadata": {
  "kernelspec": {
   "display_name": "Python 3",
   "language": "python",
   "name": "python3"
  },
  "language_info": {
   "codemirror_mode": {
    "name": "ipython",
    "version": 3
   },
   "file_extension": ".py",
   "mimetype": "text/x-python",
   "name": "python",
   "nbconvert_exporter": "python",
   "pygments_lexer": "ipython3",
   "version": "3.7.4"
  }
 },
 "nbformat": 4,
 "nbformat_minor": 2
}
